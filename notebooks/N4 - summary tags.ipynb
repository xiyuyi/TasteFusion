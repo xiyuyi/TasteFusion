{
 "cells": [
  {
   "cell_type": "markdown",
   "id": "8e6e75dd",
   "metadata": {},
   "source": [
    "# Summary Tags\n",
    "We've assigned tags to 295 restaurants centered at Reno (N1 to N3), Now try to explore and see methods to generate a collection of summary tags for those restaurants. Because these tags will be generated weight preferences and weights, so we call it the unweighted summary tags.\n",
    "\n",
    "\n",
    "In this exploration, try to find a \"transformer\" to transfrom a (collection of restaurants) into a (collection of tags) for people to vote."
   ]
  },
  {
   "cell_type": "code",
   "execution_count": 1,
   "id": "469f23c8",
   "metadata": {},
   "outputs": [],
   "source": [
    "import pickle\n",
    "import pandas as pd\n",
    "import gensim.downloader as api\n",
    "import re"
   ]
  },
  {
   "cell_type": "code",
   "execution_count": 2,
   "id": "05b2ade2",
   "metadata": {},
   "outputs": [
    {
     "data": {
      "text/plain": [
       "295"
      ]
     },
     "execution_count": 2,
     "metadata": {},
     "output_type": "execute_result"
    }
   ],
   "source": [
    "# load the shortlist restaurants from Reno as our inital pool of restaurant\n",
    "with open('df_restaurants_Reno_shortlist,pkl','rb') as f:\n",
    "    df_Reno_restaurants_shortlist = pickle.load(f)\n",
    "bids = list(df_Reno_restaurants_shortlist['business_id'])\n",
    "len(bids)"
   ]
  },
  {
   "cell_type": "markdown",
   "id": "6feadea1",
   "metadata": {},
   "source": [
    "### 1. Process the summary tags, and add them to the pandas dataframe"
   ]
  },
  {
   "cell_type": "markdown",
   "id": "b2144ca9",
   "metadata": {},
   "source": [
    "### 1.1 parse total summary paragraph into lines for each quesiton"
   ]
  },
  {
   "cell_type": "code",
   "execution_count": 3,
   "id": "a0dbc19a",
   "metadata": {},
   "outputs": [],
   "source": [
    "# get a parser\n",
    "def parse_summary_perbid(bid, pattern):\n",
    "    fname = './restaurant_summaries/res_'+bid+'.pkl'\n",
    "    with open(fname, 'rb') as f:\n",
    "        s = pickle.load(f)  \n",
    "    parsed_s = re.findall(pattern, s['summary'])\n",
    "    return parsed_s"
   ]
  },
  {
   "cell_type": "code",
   "execution_count": 4,
   "id": "66ae2b3a",
   "metadata": {},
   "outputs": [
    {
     "name": "stdout",
     "output_type": "stream",
     "text": [
      "CPU times: user 12.1 ms, sys: 24.6 ms, total: 36.7 ms\n",
      "Wall time: 108 ms\n"
     ]
    }
   ],
   "source": [
    "%%time\n",
    "# check the format of the summary texts, see if it is always parsed into 10 lines that corresponds to 10 questions.\n",
    "difficult_s = []\n",
    "pattern = re.compile(r'\\d+\\.[^\\n]*')\n",
    "for bid in bids:\n",
    "    parsed_s = parse_summary_perbid(bid, pattern)\n",
    "    if len(parsed_s) == 10:\n",
    "        pass\n",
    "    else:\n",
    "        difficult_bids.append(bid)\n",
    "        print('\\n')"
   ]
  },
  {
   "cell_type": "code",
   "execution_count": 5,
   "id": "2dd5baa6",
   "metadata": {},
   "outputs": [
    {
     "data": {
      "text/plain": [
       "['1. [Brewed beer on site], [Variety of food options]',\n",
       " '2. [not mentioned]',\n",
       " '3. [yes]',\n",
       " '4. [yes]',\n",
       " '5. [yes]',\n",
       " '6. [Brewery], [Pizza], [Onion Rings], [Wings], [Burgers], [BBQ], [Salads], [Sandwiches], [Meatloaf], [French Dip]',\n",
       " '7. [Average], [Roasted], [Balsamic], [Tender], [Juicy], [Dry], [Crispy], [Lean], [Subtle Kick], [Seasoned]',\n",
       " \"8. [Appetizer of roasted brussels sprouts], [Meatloaf], [French dip with a side of cole slaw], [Bison Burger], [Hot Pastrami Pretzel Roll], [French fries], [Buffalo wings], [Pizza], [Fish 'N Chips], [Taco Salad]\",\n",
       " '9. [Mac & Cheese], [Fish had no flavor]',\n",
       " '10. [not mentioned]']"
      ]
     },
     "execution_count": 5,
     "metadata": {},
     "output_type": "execute_result"
    }
   ],
   "source": [
    "parsed_s = parse_summary_perbid(bids[0], pattern)\n",
    "parsed_s"
   ]
  },
  {
   "cell_type": "markdown",
   "id": "763a1da1",
   "metadata": {},
   "source": [
    "#### 2. for each question, parse out the tags.\n",
    "here are the questions used in the prompt get the summary:\n",
    "1. tell me 2 things about this restaurant that people like about it the most.\n",
    "2. good for breakfast/brunch? answer [yes] or [not mentioend]\n",
    "3. good for lunch? answer [yes] or [not mentioend]\n",
    "4. good for dinner? answer [yes] or [not mentioend]\n",
    "5. Based on people's reviews, is it good for group of friends? answer [yes] or [not mentioend]\n",
    "6. use 10 words to describe what categories of foods are offered at the restaurant that is not characterized by the previouse questions.\n",
    "7. use 10 words to describe the taste categories of the foods offered att he restaurant.\n",
    "8. give top 10 recommended foods.\n",
    "9. top 2 not recommended foods.\n",
    "10. use 3 words to describe the accomoations for food resstrictions. If not clearly indicated, say [not mentioned]."
   ]
  },
  {
   "cell_type": "code",
   "execution_count": 6,
   "id": "d3f98843",
   "metadata": {},
   "outputs": [],
   "source": [
    "question_names =['good aspects (2)', \n",
    "                 'good for breakfast or brunch', \n",
    "                 'good for lunch',\n",
    "                 'good for dinner',\n",
    "                 'good for group',\n",
    "                 '10 tags for food categories',\n",
    "                 '10 tags for taste categories',\n",
    "                 '10 recommended items',\n",
    "                 '2 not recommended items',\n",
    "                 'accomodations']\n",
    "tags_pattern = re.compile(r'\\[(.*?)\\]')\n",
    "def parse_tags_for_all_questions(parsed_s, question_names, tags_pattern):\n",
    "    tags_dict = {}\n",
    "    for i in range(10):\n",
    "        s = parsed_s[i]\n",
    "        o = re.findall(tags_pattern, s)\n",
    "        tags_dict[question_names[i]] = o\n",
    "    return tags_dict"
   ]
  },
  {
   "cell_type": "code",
   "execution_count": 8,
   "id": "c23e6ecc",
   "metadata": {},
   "outputs": [
    {
     "name": "stdout",
     "output_type": "stream",
     "text": [
      "CPU times: user 20.6 ms, sys: 17.6 ms, total: 38.2 ms\n",
      "Wall time: 91.4 ms\n"
     ]
    }
   ],
   "source": [
    "%%time\n",
    "tags_dict_all = []\n",
    "for ind in range(len(bids)):\n",
    "    bid = bids[ind]\n",
    "    parsed_s = parse_summary_perbid(bid, pattern)\n",
    "    tags_dict = parse_tags_for_all_questions(parsed_s, question_names, tags_pattern)\n",
    "    tags_dict['business_id'] = bid\n",
    "    tags_dict_all.append(tags_dict)\n",
    "# seem to work pretty well!"
   ]
  },
  {
   "cell_type": "code",
   "execution_count": 9,
   "id": "ad63e19d",
   "metadata": {},
   "outputs": [],
   "source": [
    "# merge the dictionaries of tags to the dataframe for the filtere restaurant list\n",
    "tags_df = pd.DataFrame(tags_dict_all)\n",
    "merged_df = pd.merge(df_Reno_restaurants_shortlist, tags_df, on='business_id')\n",
    "# save the shortlist restaurants from Reno with tags\n",
    "with open('df_restaurants_Reno_shortlist_wtags.pkl','wb') as f:\n",
    "    pickle.dump(merged_df, f)"
   ]
  },
  {
   "cell_type": "code",
   "execution_count": 10,
   "id": "1b303683",
   "metadata": {},
   "outputs": [
    {
     "data": {
      "text/plain": [
       "(295, 28)"
      ]
     },
     "execution_count": 10,
     "metadata": {},
     "output_type": "execute_result"
    }
   ],
   "source": [
    "merged_df.shape"
   ]
  },
  {
   "cell_type": "markdown",
   "id": "5ec70e2c",
   "metadata": {},
   "source": [
    "### 1.2. add the categories tags for each restaurant to the dataframe"
   ]
  },
  {
   "cell_type": "code",
   "execution_count": 11,
   "id": "92fac8a9",
   "metadata": {},
   "outputs": [],
   "source": [
    "category_tags_pattern = re.compile(r'\"(?:[A-Za-z &-])*\"')\n",
    "category_tags = [\n",
    "                \"Asian Fusion\", \"Mediterranean\", \"Italian\", \"American\", \"Indian\", \n",
    "                \"Mexican\", \"Japanese\", \"Chinese\", \"Thai\", \"French\", \"Korean\", \n",
    "                \"Seafood\", \"Vegetarian\", \"Middle Eastern\", \"Latin American\", \n",
    "                \"Spanish\", \"German\", \"Caribbean\", \"Vietnamese\", \"Burmese\", \n",
    "                \"Fast Food\", \"Fine Dining\", \"Casual Dining\", \"Family Style\", \n",
    "                \"Breakfast & Brunch\", \"Sandwiches & Wraps\", \"Bakery & Pastry\", \n",
    "                \"Coffee & Tea\", \"Bar & Pub\", \"Grill & Steakhouse\", \n",
    "                \"Street Food & Food Truck\", \"Buffet\", \"Sweets & Desserts\", \n",
    "                \"Gluten-Free & Health Food\", \"Fusion\", \"Eastern European\", \n",
    "                \"Kosher\", \"Irish & British\", \"BBQ & Grill\", \"Steak house\", \n",
    "                \"Belgian & Dutch\", \"Hawaiian\", \"Wine Bar & Lounge\"\n",
    "                ]\n",
    "    \n",
    "# get a parser\n",
    "def parse_category_tags_per_bid(bid, pattern, collections=None):\n",
    "    fname = './restaurant_category_tags/res_'+bid+'.pkl'\n",
    "    with open(fname, 'rb') as f:\n",
    "        s = pickle.load(f)  \n",
    "    o = re.findall(pattern, s['summary'])\n",
    "    o = [a[1:-1] for a in o]\n",
    "    o = [a for a in o if (a in collections)]\n",
    "    return o\n",
    "\n",
    "\n",
    "category_tags_dict_all = []\n",
    "for ind in range(len(bids)):\n",
    "    tags_dict={}\n",
    "    bid = bids[ind]\n",
    "    o = parse_category_tags_per_bid(bid, pattern = category_tags_pattern, collections = category_tags)\n",
    "    tags_dict['business_id'] = bid\n",
    "    tags_dict['category tags'] = o\n",
    "    category_tags_dict_all.append(tags_dict)\n",
    "# seem to work pretty well!\n",
    "\n",
    "df_category_tags = pd.DataFrame(category_tags_dict_all)"
   ]
  },
  {
   "cell_type": "code",
   "execution_count": 12,
   "id": "4b9858e4",
   "metadata": {},
   "outputs": [],
   "source": [
    "merged_df2 = pd.merge(merged_df, df_category_tags, on='business_id')\n",
    "# save the shortlist restaurants from Reno with tags\n",
    "with open('df_restaurants_Reno_shortlist_wtags_n_categorytags.pkl','wb') as f:\n",
    "    pickle.dump(merged_df2, f)"
   ]
  },
  {
   "cell_type": "markdown",
   "id": "d0507685",
   "metadata": {},
   "source": [
    "### 1.3 think about refining the restaurant pool based on the category tags and votes"
   ]
  },
  {
   "cell_type": "code",
   "execution_count": 7,
   "id": "5099f4ff",
   "metadata": {},
   "outputs": [
    {
     "ename": "FileNotFoundError",
     "evalue": "[Errno 2] No such file or directory: 'df_restaurants_Reno_shortlist_wtags_n_categorytags.pkl'",
     "output_type": "error",
     "traceback": [
      "\u001b[0;31m---------------------------------------------------------------------------\u001b[0m",
      "\u001b[0;31mFileNotFoundError\u001b[0m                         Traceback (most recent call last)",
      "Cell \u001b[0;32mIn[7], line 2\u001b[0m\n\u001b[1;32m      1\u001b[0m \u001b[38;5;66;03m# save the shortlist restaurants from Reno with tags\u001b[39;00m\n\u001b[0;32m----> 2\u001b[0m \u001b[38;5;28;01mwith\u001b[39;00m \u001b[38;5;28;43mopen\u001b[39;49m\u001b[43m(\u001b[49m\u001b[38;5;124;43m'\u001b[39;49m\u001b[38;5;124;43mdf_restaurants_Reno_shortlist_wtags_n_categorytags.pkl\u001b[39;49m\u001b[38;5;124;43m'\u001b[39;49m\u001b[43m,\u001b[49m\u001b[38;5;124;43m'\u001b[39;49m\u001b[38;5;124;43mrb\u001b[39;49m\u001b[38;5;124;43m'\u001b[39;49m\u001b[43m)\u001b[49m \u001b[38;5;28;01mas\u001b[39;00m f:\n\u001b[1;32m      3\u001b[0m     merged_df2 \u001b[38;5;241m=\u001b[39m pickle\u001b[38;5;241m.\u001b[39mload(f)\n\u001b[1;32m      4\u001b[0m x \u001b[38;5;241m=\u001b[39m \u001b[38;5;28mlist\u001b[39m(merged_df2[\u001b[38;5;124m'\u001b[39m\u001b[38;5;124mcategory tags\u001b[39m\u001b[38;5;124m'\u001b[39m])\n",
      "File \u001b[0;32m~/anaconda3/envs/ds/lib/python3.10/site-packages/IPython/core/interactiveshell.py:284\u001b[0m, in \u001b[0;36m_modified_open\u001b[0;34m(file, *args, **kwargs)\u001b[0m\n\u001b[1;32m    277\u001b[0m \u001b[38;5;28;01mif\u001b[39;00m file \u001b[38;5;129;01min\u001b[39;00m {\u001b[38;5;241m0\u001b[39m, \u001b[38;5;241m1\u001b[39m, \u001b[38;5;241m2\u001b[39m}:\n\u001b[1;32m    278\u001b[0m     \u001b[38;5;28;01mraise\u001b[39;00m \u001b[38;5;167;01mValueError\u001b[39;00m(\n\u001b[1;32m    279\u001b[0m         \u001b[38;5;124mf\u001b[39m\u001b[38;5;124m\"\u001b[39m\u001b[38;5;124mIPython won\u001b[39m\u001b[38;5;124m'\u001b[39m\u001b[38;5;124mt let you open fd=\u001b[39m\u001b[38;5;132;01m{\u001b[39;00mfile\u001b[38;5;132;01m}\u001b[39;00m\u001b[38;5;124m by default \u001b[39m\u001b[38;5;124m\"\u001b[39m\n\u001b[1;32m    280\u001b[0m         \u001b[38;5;124m\"\u001b[39m\u001b[38;5;124mas it is likely to crash IPython. If you know what you are doing, \u001b[39m\u001b[38;5;124m\"\u001b[39m\n\u001b[1;32m    281\u001b[0m         \u001b[38;5;124m\"\u001b[39m\u001b[38;5;124myou can use builtins\u001b[39m\u001b[38;5;124m'\u001b[39m\u001b[38;5;124m open.\u001b[39m\u001b[38;5;124m\"\u001b[39m\n\u001b[1;32m    282\u001b[0m     )\n\u001b[0;32m--> 284\u001b[0m \u001b[38;5;28;01mreturn\u001b[39;00m \u001b[43mio_open\u001b[49m\u001b[43m(\u001b[49m\u001b[43mfile\u001b[49m\u001b[43m,\u001b[49m\u001b[43m \u001b[49m\u001b[38;5;241;43m*\u001b[39;49m\u001b[43margs\u001b[49m\u001b[43m,\u001b[49m\u001b[43m \u001b[49m\u001b[38;5;241;43m*\u001b[39;49m\u001b[38;5;241;43m*\u001b[39;49m\u001b[43mkwargs\u001b[49m\u001b[43m)\u001b[49m\n",
      "\u001b[0;31mFileNotFoundError\u001b[0m: [Errno 2] No such file or directory: 'df_restaurants_Reno_shortlist_wtags_n_categorytags.pkl'"
     ]
    }
   ],
   "source": [
    "# save the shortlist restaurants from Reno with tags\n",
    "with open('df_restaurants_Reno_shortlist_wtags_n_categorytags.pkl','rb') as f:\n",
    "    merged_df2 = pickle.load(f)\n",
    "x = list(merged_df2['category tags'])\n",
    "y = [a for sublist in x for a in sublist]\n",
    "print('length of total tags for all restaurants is '+str(len(y)))\n",
    "uniquey = list(set(y))\n",
    "print('length of unique tags for all restaurants is '+str(len(uniquey)))\n"
   ]
  },
  {
   "cell_type": "code",
   "execution_count": 5,
   "id": "8225291c",
   "metadata": {},
   "outputs": [
    {
     "ename": "NameError",
     "evalue": "name 'y' is not defined",
     "output_type": "error",
     "traceback": [
      "\u001b[0;31m---------------------------------------------------------------------------\u001b[0m",
      "\u001b[0;31mNameError\u001b[0m                                 Traceback (most recent call last)",
      "Cell \u001b[0;32mIn[5], line 3\u001b[0m\n\u001b[1;32m      1\u001b[0m \u001b[38;5;66;03m# OK, now look at the occurance of these category tags\u001b[39;00m\n\u001b[1;32m      2\u001b[0m \u001b[38;5;28;01mfrom\u001b[39;00m \u001b[38;5;21;01mcollections\u001b[39;00m \u001b[38;5;28;01mimport\u001b[39;00m Counter\n\u001b[0;32m----> 3\u001b[0m word_counts \u001b[38;5;241m=\u001b[39m Counter(\u001b[43my\u001b[49m)\n\u001b[1;32m      4\u001b[0m ranked_words \u001b[38;5;241m=\u001b[39m word_counts\u001b[38;5;241m.\u001b[39mmost_common()\n\u001b[1;32m      5\u001b[0m ranked_words\n",
      "\u001b[0;31mNameError\u001b[0m: name 'y' is not defined"
     ]
    }
   ],
   "source": [
    "# OK, now look at the occurance of these category tags\n",
    "from collections import Counter\n",
    "word_counts = Counter(y)\n",
    "ranked_words = word_counts.most_common()\n",
    "ranked_words\n"
   ]
  },
  {
   "cell_type": "markdown",
   "id": "0941a631",
   "metadata": {},
   "source": [
    "# Now we are supposed to use the voting results to generate a new pool of restaurants"
   ]
  },
  {
   "cell_type": "markdown",
   "id": "b7349680",
   "metadata": {},
   "source": [
    "so, go through all the categorical tags for all restaurant, and filter only the voted tags, give it a voting score.\n",
    "the score is calculated by:\n",
    "\n",
    "    - presence of tag (0 or 1) * multiplier\n",
    "    multiplier = # of votes"
   ]
  },
  {
   "cell_type": "code",
   "execution_count": 24,
   "id": "5b38ea14",
   "metadata": {},
   "outputs": [],
   "source": [
    "# now simulate some votes\n",
    "votes = \\\n",
    "{'Casual Dining': 2,\n",
    " 'American': 6,\n",
    " 'Family Style': 5,\n",
    " 'Bar & Pub': 0,\n",
    " 'Breakfast & Brunch': 0,\n",
    " 'Sandwiches & Wraps': 0,\n",
    " 'Seafood': 0,\n",
    " 'Fast Food': 0,\n",
    " 'Vegetarian': 3,\n",
    " 'Coffee & Tea': 0,\n",
    " 'Fine Dining': 8,\n",
    " 'Bakery & Pastry': 0,\n",
    " 'Mexican': 2,\n",
    " 'Italian': 7,\n",
    " 'Wine Bar & Lounge': 0,\n",
    " 'Sweets & Desserts': 0,\n",
    " 'Street Food & Food Truck': 0,\n",
    " 'Buffet': 0,\n",
    " 'Gluten-Free & Health Food': 10,\n",
    " 'Steak house': 2\n",
    "}"
   ]
  },
  {
   "cell_type": "code",
   "execution_count": 26,
   "id": "7dbc204b",
   "metadata": {},
   "outputs": [],
   "source": [
    "def calculate_score(votes, tags_list):\n",
    "    score = 0\n",
    "    for tag in tags_list:\n",
    "        score += votes.get(tag, 0)  # Add the vote value if tag is in votes, otherwise add 0\n",
    "    return score"
   ]
  },
  {
   "cell_type": "code",
   "execution_count": 27,
   "id": "04cbac58",
   "metadata": {},
   "outputs": [],
   "source": [
    "df_category_tags['votes']=df_category_tags['category tags'].apply(lambda x: calculate_score(votes, tags_list=x))"
   ]
  },
  {
   "cell_type": "code",
   "execution_count": 5,
   "id": "d3701e0d",
   "metadata": {},
   "outputs": [],
   "source": [
    "with open('./df_restaurants_Reno_shortlist_wtags_n_categorytags.pkl','rb') as f:\n",
    "    df = pickle.load(f)"
   ]
  },
  {
   "cell_type": "code",
   "execution_count": 9,
   "id": "d94a0cb4",
   "metadata": {},
   "outputs": [
    {
     "data": {
      "text/plain": [
       "['Brewery',\n",
       " 'Pizza',\n",
       " 'Onion Rings',\n",
       " 'Wings',\n",
       " 'Burgers',\n",
       " 'BBQ',\n",
       " 'Salads',\n",
       " 'Sandwiches',\n",
       " 'Meatloaf',\n",
       " 'French Dip']"
      ]
     },
     "execution_count": 9,
     "metadata": {},
     "output_type": "execute_result"
    }
   ],
   "source": [
    "df['10 tags for food categories'].iloc[0]"
   ]
  },
  {
   "cell_type": "code",
   "execution_count": 4,
   "id": "86f595a7",
   "metadata": {},
   "outputs": [
    {
     "ename": "FileNotFoundError",
     "evalue": "[Errno 2] No such file or directory: 'df_restaurants_Reno_shortlist_wtags_n_categorytags.pkl'",
     "output_type": "error",
     "traceback": [
      "\u001b[0;31m---------------------------------------------------------------------------\u001b[0m",
      "\u001b[0;31mFileNotFoundError\u001b[0m                         Traceback (most recent call last)",
      "Cell \u001b[0;32mIn[4], line 1\u001b[0m\n\u001b[0;32m----> 1\u001b[0m \u001b[38;5;28;01mwith\u001b[39;00m \u001b[38;5;28;43mopen\u001b[39;49m\u001b[43m(\u001b[49m\u001b[38;5;124;43m'\u001b[39;49m\u001b[38;5;124;43mdf_restaurants_Reno_shortlist_wtags_n_categorytags.pkl\u001b[39;49m\u001b[38;5;124;43m'\u001b[39;49m\u001b[43m,\u001b[49m\u001b[38;5;124;43m'\u001b[39;49m\u001b[38;5;124;43mrb\u001b[39;49m\u001b[38;5;124;43m'\u001b[39;49m\u001b[43m)\u001b[49m \u001b[38;5;28;01mas\u001b[39;00m f:\n\u001b[1;32m      2\u001b[0m     df \u001b[38;5;241m=\u001b[39m pickle\u001b[38;5;241m.\u001b[39mload(f)\n\u001b[1;32m      3\u001b[0m t1 \u001b[38;5;241m=\u001b[39m \u001b[38;5;124m'\u001b[39m\u001b[38;5;124m10 tags for food categories\u001b[39m\u001b[38;5;124m'\u001b[39m\n",
      "File \u001b[0;32m~/anaconda3/envs/ds/lib/python3.10/site-packages/IPython/core/interactiveshell.py:284\u001b[0m, in \u001b[0;36m_modified_open\u001b[0;34m(file, *args, **kwargs)\u001b[0m\n\u001b[1;32m    277\u001b[0m \u001b[38;5;28;01mif\u001b[39;00m file \u001b[38;5;129;01min\u001b[39;00m {\u001b[38;5;241m0\u001b[39m, \u001b[38;5;241m1\u001b[39m, \u001b[38;5;241m2\u001b[39m}:\n\u001b[1;32m    278\u001b[0m     \u001b[38;5;28;01mraise\u001b[39;00m \u001b[38;5;167;01mValueError\u001b[39;00m(\n\u001b[1;32m    279\u001b[0m         \u001b[38;5;124mf\u001b[39m\u001b[38;5;124m\"\u001b[39m\u001b[38;5;124mIPython won\u001b[39m\u001b[38;5;124m'\u001b[39m\u001b[38;5;124mt let you open fd=\u001b[39m\u001b[38;5;132;01m{\u001b[39;00mfile\u001b[38;5;132;01m}\u001b[39;00m\u001b[38;5;124m by default \u001b[39m\u001b[38;5;124m\"\u001b[39m\n\u001b[1;32m    280\u001b[0m         \u001b[38;5;124m\"\u001b[39m\u001b[38;5;124mas it is likely to crash IPython. If you know what you are doing, \u001b[39m\u001b[38;5;124m\"\u001b[39m\n\u001b[1;32m    281\u001b[0m         \u001b[38;5;124m\"\u001b[39m\u001b[38;5;124myou can use builtins\u001b[39m\u001b[38;5;124m'\u001b[39m\u001b[38;5;124m open.\u001b[39m\u001b[38;5;124m\"\u001b[39m\n\u001b[1;32m    282\u001b[0m     )\n\u001b[0;32m--> 284\u001b[0m \u001b[38;5;28;01mreturn\u001b[39;00m \u001b[43mio_open\u001b[49m\u001b[43m(\u001b[49m\u001b[43mfile\u001b[49m\u001b[43m,\u001b[49m\u001b[43m \u001b[49m\u001b[38;5;241;43m*\u001b[39;49m\u001b[43margs\u001b[49m\u001b[43m,\u001b[49m\u001b[43m \u001b[49m\u001b[38;5;241;43m*\u001b[39;49m\u001b[38;5;241;43m*\u001b[39;49m\u001b[43mkwargs\u001b[49m\u001b[43m)\u001b[49m\n",
      "\u001b[0;31mFileNotFoundError\u001b[0m: [Errno 2] No such file or directory: 'df_restaurants_Reno_shortlist_wtags_n_categorytags.pkl'"
     ]
    }
   ],
   "source": [
    "with open('df_restaurants_Reno_shortlist_wtags_n_categorytags.pkl','rb') as f:\n",
    "    df = pickle.load(f)\n",
    "t1 = '10 tags for food categories'\n",
    "t2 = '10 tags for taste categories'\n",
    "df['votes'] = df['category tags'].apply(lambda x: calculate_score(votes, tags_list=x))\n",
    "df = df.sort_values(by = 'votes', ascending = False)\n",
    "print(df[['votes', 'business_id', t1, t2, 'stars', 'categories']].head(5))\n"
   ]
  },
  {
   "cell_type": "code",
   "execution_count": 40,
   "id": "12c8f99f",
   "metadata": {},
   "outputs": [
    {
     "data": {
      "text/plain": [
       "Index(['business_id', 'name', 'address', 'city', 'state', 'postal_code',\n",
       "       'latitude', 'longitude', 'stars', 'review_count', 'is_open',\n",
       "       'attributes', 'categories', 'hours', 'group', 'latitude_rad',\n",
       "       'longitude_rad', 'distance', 'good aspects (2)',\n",
       "       'good for breakfast or brunch', 'good for lunch', 'good for dinner',\n",
       "       'good for group', '10 tags for food categories',\n",
       "       '10 tags for taste categories', '10 recommended items',\n",
       "       '2 not recommended items', 'accomodations', 'category tags', 'votes'],\n",
       "      dtype='object')"
      ]
     },
     "execution_count": 40,
     "metadata": {},
     "output_type": "execute_result"
    }
   ],
   "source": [
    "df.keys()"
   ]
  },
  {
   "cell_type": "code",
   "execution_count": 12,
   "id": "893a4ad1",
   "metadata": {},
   "outputs": [
    {
     "data": {
      "text/plain": [
       "{'BusinessAcceptsCreditCards': 'True',\n",
       " 'GoodForKids': 'False',\n",
       " 'RestaurantsPriceRange2': '2',\n",
       " 'Alcohol': \"u'full_bar'\",\n",
       " 'BusinessAcceptsBitcoin': 'False',\n",
       " 'RestaurantsGoodForGroups': 'True',\n",
       " 'BikeParking': 'False',\n",
       " 'BusinessParking': \"{'garage': True, 'street': True, 'validated': True, 'lot': True, 'valet': True}\",\n",
       " 'OutdoorSeating': 'False',\n",
       " 'Caters': 'False',\n",
       " 'WiFi': \"'free'\",\n",
       " 'RestaurantsAttire': \"'casual'\",\n",
       " 'BestNights': \"{'monday': False, 'tuesday': False, 'friday': True, 'wednesday': False, 'thursday': True, 'sunday': False, 'saturday': True}\",\n",
       " 'GoodForMeal': \"{'dessert': False, 'latenight': False, 'lunch': True, 'dinner': True, 'brunch': False, 'breakfast': False}\",\n",
       " 'NoiseLevel': \"'average'\",\n",
       " 'HasTV': 'True',\n",
       " 'RestaurantsReservations': 'False',\n",
       " 'RestaurantsTakeOut': 'True',\n",
       " 'RestaurantsTableService': 'True',\n",
       " 'Ambience': \"{'touristy': False, 'hipster': False, 'romantic': False, 'divey': False, 'intimate': False, 'trendy': False, 'upscale': False, 'classy': True, 'casual': True}\",\n",
       " 'ByAppointmentOnly': 'False',\n",
       " 'Music': \"{'dj': False, 'background_music': False, 'no_music': False, 'jukebox': False, 'live': True, 'video': False, 'karaoke': False}\",\n",
       " 'DogsAllowed': 'False',\n",
       " 'GoodForDancing': 'False',\n",
       " 'RestaurantsDelivery': 'True'}"
      ]
     },
     "execution_count": 12,
     "metadata": {},
     "output_type": "execute_result"
    }
   ],
   "source": [
    "df['attributes'][0]"
   ]
  },
  {
   "cell_type": "code",
   "execution_count": 29,
   "id": "4a502adf",
   "metadata": {},
   "outputs": [],
   "source": [
    "pool2 = df_sorted.head(50) # take top N restaurants for the next round of tags"
   ]
  },
  {
   "cell_type": "markdown",
   "id": "ea84eee2",
   "metadata": {},
   "source": [
    "### 1.4 try to generate the summary tags from the bags of tags over the new groups of restaurants (on hold)"
   ]
  },
  {
   "cell_type": "code",
   "execution_count": 21,
   "id": "015964c0",
   "metadata": {},
   "outputs": [],
   "source": [
    "## Explore - take out all the tags for both catetories, and see how many unique categories are there"
   ]
  },
  {
   "cell_type": "code",
   "execution_count": null,
   "id": "9dd87456",
   "metadata": {},
   "outputs": [],
   "source": [
    "t1 = '10 tags for food categories'\n",
    "t2 = '10 tags for taste categories'\n"
   ]
  },
  {
   "cell_type": "code",
   "execution_count": 37,
   "id": "4d20c08b",
   "metadata": {},
   "outputs": [
    {
     "name": "stdout",
     "output_type": "stream",
     "text": [
      "total foods tags: 1973, unique tags number 985\n",
      "total taste tags: 1985, unique tags number 557\n"
     ]
    }
   ],
   "source": [
    "foods_tags = list(merged_df['10 tags for food categories'])\n",
    "taste_tags = list(merged_df['10 tags for taste categories'])\n",
    "flattend_foods_tags = [item.lower() for sublist in foods_tags for item in sublist]\n",
    "flattend_taste_tags = [item.lower() for sublist in taste_tags for item in sublist]\n",
    "unique_foods = list(set(flattend_foods_tags))\n",
    "unique_taste = list(set(flattend_taste_tags))\n",
    "print('total foods tags: ' + str(len(flattend_foods_tags)) + ', unique tags number ' + str(len(set(flattend_foods_tags))))\n",
    "print('total taste tags: ' + str(len(flattend_taste_tags)) + ', unique tags number ' + str(len(set(flattend_taste_tags))))\n"
   ]
  },
  {
   "cell_type": "code",
   "execution_count": null,
   "id": "616d20c0",
   "metadata": {},
   "outputs": [],
   "source": []
  },
  {
   "cell_type": "code",
   "execution_count": null,
   "id": "1d6e27d1",
   "metadata": {},
   "outputs": [],
   "source": []
  },
  {
   "cell_type": "code",
   "execution_count": null,
   "id": "ba90abb8",
   "metadata": {},
   "outputs": [],
   "source": []
  },
  {
   "cell_type": "code",
   "execution_count": null,
   "id": "50185038",
   "metadata": {},
   "outputs": [],
   "source": []
  },
  {
   "cell_type": "code",
   "execution_count": null,
   "id": "fd643680",
   "metadata": {},
   "outputs": [],
   "source": []
  },
  {
   "cell_type": "code",
   "execution_count": null,
   "id": "ded02cf4",
   "metadata": {},
   "outputs": [],
   "source": []
  },
  {
   "cell_type": "code",
   "execution_count": null,
   "id": "a1c17e94",
   "metadata": {},
   "outputs": [],
   "source": []
  },
  {
   "cell_type": "code",
   "execution_count": null,
   "id": "565bcff2",
   "metadata": {},
   "outputs": [],
   "source": []
  },
  {
   "cell_type": "code",
   "execution_count": null,
   "id": "dcfedd41",
   "metadata": {},
   "outputs": [],
   "source": []
  },
  {
   "cell_type": "code",
   "execution_count": null,
   "id": "2fac8bd0",
   "metadata": {},
   "outputs": [],
   "source": []
  },
  {
   "cell_type": "code",
   "execution_count": null,
   "id": "e5c13ef0",
   "metadata": {},
   "outputs": [],
   "source": []
  },
  {
   "cell_type": "code",
   "execution_count": null,
   "id": "8a2fcedf",
   "metadata": {},
   "outputs": [],
   "source": []
  },
  {
   "cell_type": "code",
   "execution_count": null,
   "id": "dc9321d4",
   "metadata": {},
   "outputs": [],
   "source": []
  }
 ],
 "metadata": {
  "kernelspec": {
   "display_name": "ds",
   "language": "python",
   "name": "ds"
  },
  "language_info": {
   "codemirror_mode": {
    "name": "ipython",
    "version": 3
   },
   "file_extension": ".py",
   "mimetype": "text/x-python",
   "name": "python",
   "nbconvert_exporter": "python",
   "pygments_lexer": "ipython3",
   "version": "3.10.11"
  }
 },
 "nbformat": 4,
 "nbformat_minor": 5
}
