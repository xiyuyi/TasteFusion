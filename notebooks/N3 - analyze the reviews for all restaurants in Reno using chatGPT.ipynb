{
 "cells": [
  {
   "cell_type": "code",
   "execution_count": 1,
   "id": "e2c7b858",
   "metadata": {},
   "outputs": [
    {
     "name": "stderr",
     "output_type": "stream",
     "text": [
      "/Users/xiyuyi/anaconda3/envs/ds/lib/python3.10/site-packages/tqdm/auto.py:21: TqdmWarning: IProgress not found. Please update jupyter and ipywidgets. See https://ipywidgets.readthedocs.io/en/stable/user_install.html\n",
      "  from .autonotebook import tqdm as notebook_tqdm\n",
      "None of PyTorch, TensorFlow >= 2.0, or Flax have been found. Models won't be available and only tokenizers, configuration and file/data utilities can be used.\n"
     ]
    }
   ],
   "source": [
    "# load packages\n",
    "from tastefusion.utils.gpt_agent import OpenAIAPI\n",
    "import pickle\n",
    "import yaml\n",
    "import numpy as np\n",
    "import os"
   ]
  },
  {
   "cell_type": "code",
   "execution_count": 2,
   "id": "ae736f7c",
   "metadata": {},
   "outputs": [],
   "source": [
    "path = \"/Users/xiyuyi/configs/configs.yaml\"\n",
    "with open(path, 'r') as f:\n",
    "    configs = yaml.safe_load(f)\n",
    "gpt = OpenAIAPI(configs)"
   ]
  },
  {
   "cell_type": "code",
   "execution_count": 3,
   "id": "7e14ad68",
   "metadata": {},
   "outputs": [],
   "source": [
    "# configure chatGPT client\n"
   ]
  },
  {
   "cell_type": "code",
   "execution_count": 4,
   "id": "c5fbc8c0",
   "metadata": {},
   "outputs": [],
   "source": [
    "# load the restaurant and reviews for all restaurants in Reno\n",
    "with open('df_Reno_restaurants.pkl','rb') as f:\n",
    "    df_Reno_restaurants = pickle.load(f)\n",
    "with open('df_Reno_reviews.pkl','rb') as f:\n",
    "    df_Reno_reviews = pickle.load(f)"
   ]
  },
  {
   "cell_type": "markdown",
   "id": "1e1c5172",
   "metadata": {},
   "source": [
    "check total number of unique restaurants in Reno"
   ]
  },
  {
   "cell_type": "code",
   "execution_count": 5,
   "id": "1dcbd61b",
   "metadata": {},
   "outputs": [
    {
     "data": {
      "text/plain": [
       "(1673, 17)"
      ]
     },
     "execution_count": 5,
     "metadata": {},
     "output_type": "execute_result"
    }
   ],
   "source": [
    "# estimate total number of tokens required for doing all the work.\n",
    "df_Reno_restaurants.shape"
   ]
  },
  {
   "cell_type": "code",
   "execution_count": 6,
   "id": "967fef57",
   "metadata": {},
   "outputs": [
    {
     "name": "stdout",
     "output_type": "stream",
     "text": [
      "the total number of unique business ids is 1673\n"
     ]
    }
   ],
   "source": [
    "business_ids = list(df_Reno_restaurants['business_id'])\n",
    "print('the total number of unique business ids is ' + str(len(business_ids)))\n"
   ]
  },
  {
   "cell_type": "markdown",
   "id": "ac3ed864",
   "metadata": {},
   "source": [
    "### cost estimation"
   ]
  },
  {
   "cell_type": "code",
   "execution_count": 16,
   "id": "e4b5dc31",
   "metadata": {
    "collapsed": true
   },
   "outputs": [
    {
     "name": "stderr",
     "output_type": "stream",
     "text": [
      "Token indices sequence length is longer than the specified maximum sequence length for this model (3938 > 1024). Running this sequence through the model will result in indexing errors\n",
      "Token indices sequence length is longer than the specified maximum sequence length for this model (1327 > 1024). Running this sequence through the model will result in indexing errors\n",
      "Token indices sequence length is longer than the specified maximum sequence length for this model (2299 > 1024). Running this sequence through the model will result in indexing errors\n",
      "Token indices sequence length is longer than the specified maximum sequence length for this model (2874 > 1024). Running this sequence through the model will result in indexing errors\n",
      "Token indices sequence length is longer than the specified maximum sequence length for this model (3174 > 1024). Running this sequence through the model will result in indexing errors\n",
      "Token indices sequence length is longer than the specified maximum sequence length for this model (3522 > 1024). Running this sequence through the model will result in indexing errors\n",
      "Token indices sequence length is longer than the specified maximum sequence length for this model (3919 > 1024). Running this sequence through the model will result in indexing errors\n",
      "Token indices sequence length is longer than the specified maximum sequence length for this model (2671 > 1024). Running this sequence through the model will result in indexing errors\n",
      "Token indices sequence length is longer than the specified maximum sequence length for this model (1451 > 1024). Running this sequence through the model will result in indexing errors\n",
      "Token indices sequence length is longer than the specified maximum sequence length for this model (2055 > 1024). Running this sequence through the model will result in indexing errors\n",
      "Token indices sequence length is longer than the specified maximum sequence length for this model (2329 > 1024). Running this sequence through the model will result in indexing errors\n",
      "Token indices sequence length is longer than the specified maximum sequence length for this model (2783 > 1024). Running this sequence through the model will result in indexing errors\n",
      "Token indices sequence length is longer than the specified maximum sequence length for this model (3624 > 1024). Running this sequence through the model will result in indexing errors\n",
      "Token indices sequence length is longer than the specified maximum sequence length for this model (4286 > 1024). Running this sequence through the model will result in indexing errors\n",
      "Token indices sequence length is longer than the specified maximum sequence length for this model (4116 > 1024). Running this sequence through the model will result in indexing errors\n",
      "Token indices sequence length is longer than the specified maximum sequence length for this model (3950 > 1024). Running this sequence through the model will result in indexing errors\n",
      "Token indices sequence length is longer than the specified maximum sequence length for this model (2505 > 1024). Running this sequence through the model will result in indexing errors\n",
      "Token indices sequence length is longer than the specified maximum sequence length for this model (2370 > 1024). Running this sequence through the model will result in indexing errors\n",
      "Token indices sequence length is longer than the specified maximum sequence length for this model (4411 > 1024). Running this sequence through the model will result in indexing errors\n",
      "Token indices sequence length is longer than the specified maximum sequence length for this model (2053 > 1024). Running this sequence through the model will result in indexing errors\n",
      "Token indices sequence length is longer than the specified maximum sequence length for this model (5087 > 1024). Running this sequence through the model will result in indexing errors\n",
      "Token indices sequence length is longer than the specified maximum sequence length for this model (1202 > 1024). Running this sequence through the model will result in indexing errors\n",
      "Token indices sequence length is longer than the specified maximum sequence length for this model (3162 > 1024). Running this sequence through the model will result in indexing errors\n",
      "Token indices sequence length is longer than the specified maximum sequence length for this model (1213 > 1024). Running this sequence through the model will result in indexing errors\n",
      "Token indices sequence length is longer than the specified maximum sequence length for this model (1104 > 1024). Running this sequence through the model will result in indexing errors\n",
      "Token indices sequence length is longer than the specified maximum sequence length for this model (3015 > 1024). Running this sequence through the model will result in indexing errors\n",
      "Token indices sequence length is longer than the specified maximum sequence length for this model (1552 > 1024). Running this sequence through the model will result in indexing errors\n",
      "Token indices sequence length is longer than the specified maximum sequence length for this model (1224 > 1024). Running this sequence through the model will result in indexing errors\n",
      "Token indices sequence length is longer than the specified maximum sequence length for this model (2971 > 1024). Running this sequence through the model will result in indexing errors\n",
      "Token indices sequence length is longer than the specified maximum sequence length for this model (3342 > 1024). Running this sequence through the model will result in indexing errors\n",
      "Token indices sequence length is longer than the specified maximum sequence length for this model (2063 > 1024). Running this sequence through the model will result in indexing errors\n",
      "Token indices sequence length is longer than the specified maximum sequence length for this model (3305 > 1024). Running this sequence through the model will result in indexing errors\n",
      "Token indices sequence length is longer than the specified maximum sequence length for this model (2547 > 1024). Running this sequence through the model will result in indexing errors\n",
      "Token indices sequence length is longer than the specified maximum sequence length for this model (2383 > 1024). Running this sequence through the model will result in indexing errors\n",
      "Token indices sequence length is longer than the specified maximum sequence length for this model (2829 > 1024). Running this sequence through the model will result in indexing errors\n",
      "Token indices sequence length is longer than the specified maximum sequence length for this model (4126 > 1024). Running this sequence through the model will result in indexing errors\n",
      "Token indices sequence length is longer than the specified maximum sequence length for this model (2476 > 1024). Running this sequence through the model will result in indexing errors\n",
      "Token indices sequence length is longer than the specified maximum sequence length for this model (3372 > 1024). Running this sequence through the model will result in indexing errors\n",
      "Token indices sequence length is longer than the specified maximum sequence length for this model (1762 > 1024). Running this sequence through the model will result in indexing errors\n",
      "Token indices sequence length is longer than the specified maximum sequence length for this model (4606 > 1024). Running this sequence through the model will result in indexing errors\n",
      "Token indices sequence length is longer than the specified maximum sequence length for this model (2290 > 1024). Running this sequence through the model will result in indexing errors\n",
      "Token indices sequence length is longer than the specified maximum sequence length for this model (3258 > 1024). Running this sequence through the model will result in indexing errors\n",
      "Token indices sequence length is longer than the specified maximum sequence length for this model (2729 > 1024). Running this sequence through the model will result in indexing errors\n",
      "Token indices sequence length is longer than the specified maximum sequence length for this model (4301 > 1024). Running this sequence through the model will result in indexing errors\n",
      "Token indices sequence length is longer than the specified maximum sequence length for this model (4058 > 1024). Running this sequence through the model will result in indexing errors\n"
     ]
    },
    {
     "name": "stderr",
     "output_type": "stream",
     "text": [
      "Token indices sequence length is longer than the specified maximum sequence length for this model (3516 > 1024). Running this sequence through the model will result in indexing errors\n",
      "Token indices sequence length is longer than the specified maximum sequence length for this model (2265 > 1024). Running this sequence through the model will result in indexing errors\n",
      "Token indices sequence length is longer than the specified maximum sequence length for this model (2483 > 1024). Running this sequence through the model will result in indexing errors\n",
      "Token indices sequence length is longer than the specified maximum sequence length for this model (2308 > 1024). Running this sequence through the model will result in indexing errors\n",
      "Token indices sequence length is longer than the specified maximum sequence length for this model (4243 > 1024). Running this sequence through the model will result in indexing errors\n",
      "Token indices sequence length is longer than the specified maximum sequence length for this model (3470 > 1024). Running this sequence through the model will result in indexing errors\n",
      "Token indices sequence length is longer than the specified maximum sequence length for this model (3120 > 1024). Running this sequence through the model will result in indexing errors\n",
      "Token indices sequence length is longer than the specified maximum sequence length for this model (5462 > 1024). Running this sequence through the model will result in indexing errors\n",
      "Token indices sequence length is longer than the specified maximum sequence length for this model (3956 > 1024). Running this sequence through the model will result in indexing errors\n",
      "Token indices sequence length is longer than the specified maximum sequence length for this model (3378 > 1024). Running this sequence through the model will result in indexing errors\n",
      "Token indices sequence length is longer than the specified maximum sequence length for this model (3890 > 1024). Running this sequence through the model will result in indexing errors\n",
      "Token indices sequence length is longer than the specified maximum sequence length for this model (3411 > 1024). Running this sequence through the model will result in indexing errors\n",
      "Token indices sequence length is longer than the specified maximum sequence length for this model (3012 > 1024). Running this sequence through the model will result in indexing errors\n",
      "Token indices sequence length is longer than the specified maximum sequence length for this model (1857 > 1024). Running this sequence through the model will result in indexing errors\n",
      "Token indices sequence length is longer than the specified maximum sequence length for this model (2295 > 1024). Running this sequence through the model will result in indexing errors\n",
      "Token indices sequence length is longer than the specified maximum sequence length for this model (1988 > 1024). Running this sequence through the model will result in indexing errors\n",
      "Token indices sequence length is longer than the specified maximum sequence length for this model (1581 > 1024). Running this sequence through the model will result in indexing errors\n",
      "Token indices sequence length is longer than the specified maximum sequence length for this model (2014 > 1024). Running this sequence through the model will result in indexing errors\n",
      "Token indices sequence length is longer than the specified maximum sequence length for this model (3802 > 1024). Running this sequence through the model will result in indexing errors\n",
      "Token indices sequence length is longer than the specified maximum sequence length for this model (2651 > 1024). Running this sequence through the model will result in indexing errors\n",
      "Token indices sequence length is longer than the specified maximum sequence length for this model (4096 > 1024). Running this sequence through the model will result in indexing errors\n",
      "Token indices sequence length is longer than the specified maximum sequence length for this model (2459 > 1024). Running this sequence through the model will result in indexing errors\n",
      "Token indices sequence length is longer than the specified maximum sequence length for this model (3605 > 1024). Running this sequence through the model will result in indexing errors\n",
      "Token indices sequence length is longer than the specified maximum sequence length for this model (3051 > 1024). Running this sequence through the model will result in indexing errors\n",
      "Token indices sequence length is longer than the specified maximum sequence length for this model (4820 > 1024). Running this sequence through the model will result in indexing errors\n",
      "Token indices sequence length is longer than the specified maximum sequence length for this model (2425 > 1024). Running this sequence through the model will result in indexing errors\n",
      "Token indices sequence length is longer than the specified maximum sequence length for this model (2661 > 1024). Running this sequence through the model will result in indexing errors\n",
      "Token indices sequence length is longer than the specified maximum sequence length for this model (2542 > 1024). Running this sequence through the model will result in indexing errors\n",
      "Token indices sequence length is longer than the specified maximum sequence length for this model (1470 > 1024). Running this sequence through the model will result in indexing errors\n",
      "Token indices sequence length is longer than the specified maximum sequence length for this model (2831 > 1024). Running this sequence through the model will result in indexing errors\n",
      "Token indices sequence length is longer than the specified maximum sequence length for this model (3976 > 1024). Running this sequence through the model will result in indexing errors\n",
      "Token indices sequence length is longer than the specified maximum sequence length for this model (1583 > 1024). Running this sequence through the model will result in indexing errors\n",
      "Token indices sequence length is longer than the specified maximum sequence length for this model (2045 > 1024). Running this sequence through the model will result in indexing errors\n",
      "Token indices sequence length is longer than the specified maximum sequence length for this model (2519 > 1024). Running this sequence through the model will result in indexing errors\n",
      "Token indices sequence length is longer than the specified maximum sequence length for this model (3282 > 1024). Running this sequence through the model will result in indexing errors\n",
      "Token indices sequence length is longer than the specified maximum sequence length for this model (2962 > 1024). Running this sequence through the model will result in indexing errors\n",
      "Token indices sequence length is longer than the specified maximum sequence length for this model (3534 > 1024). Running this sequence through the model will result in indexing errors\n",
      "Token indices sequence length is longer than the specified maximum sequence length for this model (2260 > 1024). Running this sequence through the model will result in indexing errors\n",
      "Token indices sequence length is longer than the specified maximum sequence length for this model (4350 > 1024). Running this sequence through the model will result in indexing errors\n",
      "Token indices sequence length is longer than the specified maximum sequence length for this model (2781 > 1024). Running this sequence through the model will result in indexing errors\n",
      "Token indices sequence length is longer than the specified maximum sequence length for this model (2690 > 1024). Running this sequence through the model will result in indexing errors\n",
      "Token indices sequence length is longer than the specified maximum sequence length for this model (3822 > 1024). Running this sequence through the model will result in indexing errors\n",
      "Token indices sequence length is longer than the specified maximum sequence length for this model (4889 > 1024). Running this sequence through the model will result in indexing errors\n",
      "Token indices sequence length is longer than the specified maximum sequence length for this model (3296 > 1024). Running this sequence through the model will result in indexing errors\n",
      "Token indices sequence length is longer than the specified maximum sequence length for this model (3381 > 1024). Running this sequence through the model will result in indexing errors\n"
     ]
    },
    {
     "name": "stderr",
     "output_type": "stream",
     "text": [
      "Token indices sequence length is longer than the specified maximum sequence length for this model (4783 > 1024). Running this sequence through the model will result in indexing errors\n",
      "Token indices sequence length is longer than the specified maximum sequence length for this model (3295 > 1024). Running this sequence through the model will result in indexing errors\n",
      "Token indices sequence length is longer than the specified maximum sequence length for this model (1793 > 1024). Running this sequence through the model will result in indexing errors\n",
      "Token indices sequence length is longer than the specified maximum sequence length for this model (3217 > 1024). Running this sequence through the model will result in indexing errors\n",
      "Token indices sequence length is longer than the specified maximum sequence length for this model (2454 > 1024). Running this sequence through the model will result in indexing errors\n",
      "Token indices sequence length is longer than the specified maximum sequence length for this model (2702 > 1024). Running this sequence through the model will result in indexing errors\n",
      "Token indices sequence length is longer than the specified maximum sequence length for this model (1872 > 1024). Running this sequence through the model will result in indexing errors\n",
      "Token indices sequence length is longer than the specified maximum sequence length for this model (3864 > 1024). Running this sequence through the model will result in indexing errors\n",
      "Token indices sequence length is longer than the specified maximum sequence length for this model (2656 > 1024). Running this sequence through the model will result in indexing errors\n",
      "Token indices sequence length is longer than the specified maximum sequence length for this model (4378 > 1024). Running this sequence through the model will result in indexing errors\n",
      "Token indices sequence length is longer than the specified maximum sequence length for this model (3801 > 1024). Running this sequence through the model will result in indexing errors\n",
      "Token indices sequence length is longer than the specified maximum sequence length for this model (1783 > 1024). Running this sequence through the model will result in indexing errors\n",
      "Token indices sequence length is longer than the specified maximum sequence length for this model (2902 > 1024). Running this sequence through the model will result in indexing errors\n",
      "Token indices sequence length is longer than the specified maximum sequence length for this model (4392 > 1024). Running this sequence through the model will result in indexing errors\n",
      "Token indices sequence length is longer than the specified maximum sequence length for this model (2430 > 1024). Running this sequence through the model will result in indexing errors\n",
      "Token indices sequence length is longer than the specified maximum sequence length for this model (2423 > 1024). Running this sequence through the model will result in indexing errors\n",
      "Token indices sequence length is longer than the specified maximum sequence length for this model (3093 > 1024). Running this sequence through the model will result in indexing errors\n",
      "Token indices sequence length is longer than the specified maximum sequence length for this model (4899 > 1024). Running this sequence through the model will result in indexing errors\n",
      "Token indices sequence length is longer than the specified maximum sequence length for this model (3163 > 1024). Running this sequence through the model will result in indexing errors\n",
      "Token indices sequence length is longer than the specified maximum sequence length for this model (2003 > 1024). Running this sequence through the model will result in indexing errors\n",
      "Token indices sequence length is longer than the specified maximum sequence length for this model (4556 > 1024). Running this sequence through the model will result in indexing errors\n",
      "Token indices sequence length is longer than the specified maximum sequence length for this model (1360 > 1024). Running this sequence through the model will result in indexing errors\n",
      "Token indices sequence length is longer than the specified maximum sequence length for this model (3283 > 1024). Running this sequence through the model will result in indexing errors\n",
      "Token indices sequence length is longer than the specified maximum sequence length for this model (2125 > 1024). Running this sequence through the model will result in indexing errors\n",
      "Token indices sequence length is longer than the specified maximum sequence length for this model (1327 > 1024). Running this sequence through the model will result in indexing errors\n",
      "Token indices sequence length is longer than the specified maximum sequence length for this model (2366 > 1024). Running this sequence through the model will result in indexing errors\n",
      "Token indices sequence length is longer than the specified maximum sequence length for this model (1814 > 1024). Running this sequence through the model will result in indexing errors\n",
      "Token indices sequence length is longer than the specified maximum sequence length for this model (2317 > 1024). Running this sequence through the model will result in indexing errors\n",
      "Token indices sequence length is longer than the specified maximum sequence length for this model (2836 > 1024). Running this sequence through the model will result in indexing errors\n",
      "Token indices sequence length is longer than the specified maximum sequence length for this model (2034 > 1024). Running this sequence through the model will result in indexing errors\n",
      "Token indices sequence length is longer than the specified maximum sequence length for this model (2104 > 1024). Running this sequence through the model will result in indexing errors\n",
      "Token indices sequence length is longer than the specified maximum sequence length for this model (2915 > 1024). Running this sequence through the model will result in indexing errors\n",
      "Token indices sequence length is longer than the specified maximum sequence length for this model (3069 > 1024). Running this sequence through the model will result in indexing errors\n",
      "Token indices sequence length is longer than the specified maximum sequence length for this model (4399 > 1024). Running this sequence through the model will result in indexing errors\n",
      "Token indices sequence length is longer than the specified maximum sequence length for this model (2624 > 1024). Running this sequence through the model will result in indexing errors\n",
      "Token indices sequence length is longer than the specified maximum sequence length for this model (3020 > 1024). Running this sequence through the model will result in indexing errors\n",
      "Token indices sequence length is longer than the specified maximum sequence length for this model (2515 > 1024). Running this sequence through the model will result in indexing errors\n",
      "Token indices sequence length is longer than the specified maximum sequence length for this model (1933 > 1024). Running this sequence through the model will result in indexing errors\n",
      "Token indices sequence length is longer than the specified maximum sequence length for this model (4594 > 1024). Running this sequence through the model will result in indexing errors\n",
      "Token indices sequence length is longer than the specified maximum sequence length for this model (4208 > 1024). Running this sequence through the model will result in indexing errors\n",
      "Token indices sequence length is longer than the specified maximum sequence length for this model (3066 > 1024). Running this sequence through the model will result in indexing errors\n",
      "Token indices sequence length is longer than the specified maximum sequence length for this model (3230 > 1024). Running this sequence through the model will result in indexing errors\n",
      "Token indices sequence length is longer than the specified maximum sequence length for this model (4403 > 1024). Running this sequence through the model will result in indexing errors\n",
      "Token indices sequence length is longer than the specified maximum sequence length for this model (2394 > 1024). Running this sequence through the model will result in indexing errors\n",
      "Token indices sequence length is longer than the specified maximum sequence length for this model (3857 > 1024). Running this sequence through the model will result in indexing errors\n"
     ]
    },
    {
     "name": "stderr",
     "output_type": "stream",
     "text": [
      "Token indices sequence length is longer than the specified maximum sequence length for this model (2464 > 1024). Running this sequence through the model will result in indexing errors\n",
      "Token indices sequence length is longer than the specified maximum sequence length for this model (3943 > 1024). Running this sequence through the model will result in indexing errors\n",
      "Token indices sequence length is longer than the specified maximum sequence length for this model (2154 > 1024). Running this sequence through the model will result in indexing errors\n",
      "Token indices sequence length is longer than the specified maximum sequence length for this model (2003 > 1024). Running this sequence through the model will result in indexing errors\n",
      "Token indices sequence length is longer than the specified maximum sequence length for this model (2886 > 1024). Running this sequence through the model will result in indexing errors\n",
      "Token indices sequence length is longer than the specified maximum sequence length for this model (1977 > 1024). Running this sequence through the model will result in indexing errors\n",
      "Token indices sequence length is longer than the specified maximum sequence length for this model (3617 > 1024). Running this sequence through the model will result in indexing errors\n",
      "Token indices sequence length is longer than the specified maximum sequence length for this model (2805 > 1024). Running this sequence through the model will result in indexing errors\n",
      "Token indices sequence length is longer than the specified maximum sequence length for this model (2485 > 1024). Running this sequence through the model will result in indexing errors\n",
      "Token indices sequence length is longer than the specified maximum sequence length for this model (3698 > 1024). Running this sequence through the model will result in indexing errors\n",
      "Token indices sequence length is longer than the specified maximum sequence length for this model (3657 > 1024). Running this sequence through the model will result in indexing errors\n",
      "Token indices sequence length is longer than the specified maximum sequence length for this model (3315 > 1024). Running this sequence through the model will result in indexing errors\n",
      "Token indices sequence length is longer than the specified maximum sequence length for this model (2186 > 1024). Running this sequence through the model will result in indexing errors\n",
      "Token indices sequence length is longer than the specified maximum sequence length for this model (1958 > 1024). Running this sequence through the model will result in indexing errors\n",
      "Token indices sequence length is longer than the specified maximum sequence length for this model (3801 > 1024). Running this sequence through the model will result in indexing errors\n",
      "Token indices sequence length is longer than the specified maximum sequence length for this model (2184 > 1024). Running this sequence through the model will result in indexing errors\n",
      "Token indices sequence length is longer than the specified maximum sequence length for this model (3571 > 1024). Running this sequence through the model will result in indexing errors\n",
      "Token indices sequence length is longer than the specified maximum sequence length for this model (2906 > 1024). Running this sequence through the model will result in indexing errors\n",
      "Token indices sequence length is longer than the specified maximum sequence length for this model (3206 > 1024). Running this sequence through the model will result in indexing errors\n",
      "Token indices sequence length is longer than the specified maximum sequence length for this model (2884 > 1024). Running this sequence through the model will result in indexing errors\n",
      "Token indices sequence length is longer than the specified maximum sequence length for this model (3489 > 1024). Running this sequence through the model will result in indexing errors\n",
      "Token indices sequence length is longer than the specified maximum sequence length for this model (4164 > 1024). Running this sequence through the model will result in indexing errors\n",
      "Token indices sequence length is longer than the specified maximum sequence length for this model (2912 > 1024). Running this sequence through the model will result in indexing errors\n",
      "Token indices sequence length is longer than the specified maximum sequence length for this model (4078 > 1024). Running this sequence through the model will result in indexing errors\n",
      "Token indices sequence length is longer than the specified maximum sequence length for this model (2641 > 1024). Running this sequence through the model will result in indexing errors\n",
      "Token indices sequence length is longer than the specified maximum sequence length for this model (1793 > 1024). Running this sequence through the model will result in indexing errors\n",
      "Token indices sequence length is longer than the specified maximum sequence length for this model (1764 > 1024). Running this sequence through the model will result in indexing errors\n",
      "Token indices sequence length is longer than the specified maximum sequence length for this model (1952 > 1024). Running this sequence through the model will result in indexing errors\n",
      "Token indices sequence length is longer than the specified maximum sequence length for this model (1594 > 1024). Running this sequence through the model will result in indexing errors\n",
      "Token indices sequence length is longer than the specified maximum sequence length for this model (1596 > 1024). Running this sequence through the model will result in indexing errors\n",
      "Token indices sequence length is longer than the specified maximum sequence length for this model (3732 > 1024). Running this sequence through the model will result in indexing errors\n",
      "Token indices sequence length is longer than the specified maximum sequence length for this model (5536 > 1024). Running this sequence through the model will result in indexing errors\n",
      "Token indices sequence length is longer than the specified maximum sequence length for this model (2497 > 1024). Running this sequence through the model will result in indexing errors\n",
      "Token indices sequence length is longer than the specified maximum sequence length for this model (2954 > 1024). Running this sequence through the model will result in indexing errors\n",
      "Token indices sequence length is longer than the specified maximum sequence length for this model (2456 > 1024). Running this sequence through the model will result in indexing errors\n",
      "Token indices sequence length is longer than the specified maximum sequence length for this model (2430 > 1024). Running this sequence through the model will result in indexing errors\n",
      "Token indices sequence length is longer than the specified maximum sequence length for this model (1238 > 1024). Running this sequence through the model will result in indexing errors\n",
      "Token indices sequence length is longer than the specified maximum sequence length for this model (2178 > 1024). Running this sequence through the model will result in indexing errors\n",
      "Token indices sequence length is longer than the specified maximum sequence length for this model (3078 > 1024). Running this sequence through the model will result in indexing errors\n",
      "Token indices sequence length is longer than the specified maximum sequence length for this model (5345 > 1024). Running this sequence through the model will result in indexing errors\n",
      "Token indices sequence length is longer than the specified maximum sequence length for this model (3080 > 1024). Running this sequence through the model will result in indexing errors\n",
      "Token indices sequence length is longer than the specified maximum sequence length for this model (1698 > 1024). Running this sequence through the model will result in indexing errors\n",
      "Token indices sequence length is longer than the specified maximum sequence length for this model (2766 > 1024). Running this sequence through the model will result in indexing errors\n",
      "Token indices sequence length is longer than the specified maximum sequence length for this model (2498 > 1024). Running this sequence through the model will result in indexing errors\n",
      "Token indices sequence length is longer than the specified maximum sequence length for this model (1524 > 1024). Running this sequence through the model will result in indexing errors\n"
     ]
    },
    {
     "name": "stderr",
     "output_type": "stream",
     "text": [
      "Token indices sequence length is longer than the specified maximum sequence length for this model (3975 > 1024). Running this sequence through the model will result in indexing errors\n",
      "Token indices sequence length is longer than the specified maximum sequence length for this model (1777 > 1024). Running this sequence through the model will result in indexing errors\n",
      "Token indices sequence length is longer than the specified maximum sequence length for this model (4499 > 1024). Running this sequence through the model will result in indexing errors\n",
      "Token indices sequence length is longer than the specified maximum sequence length for this model (3454 > 1024). Running this sequence through the model will result in indexing errors\n",
      "Token indices sequence length is longer than the specified maximum sequence length for this model (2343 > 1024). Running this sequence through the model will result in indexing errors\n",
      "Token indices sequence length is longer than the specified maximum sequence length for this model (1870 > 1024). Running this sequence through the model will result in indexing errors\n",
      "Token indices sequence length is longer than the specified maximum sequence length for this model (1325 > 1024). Running this sequence through the model will result in indexing errors\n",
      "Token indices sequence length is longer than the specified maximum sequence length for this model (3656 > 1024). Running this sequence through the model will result in indexing errors\n",
      "Token indices sequence length is longer than the specified maximum sequence length for this model (2434 > 1024). Running this sequence through the model will result in indexing errors\n",
      "Token indices sequence length is longer than the specified maximum sequence length for this model (2695 > 1024). Running this sequence through the model will result in indexing errors\n",
      "Token indices sequence length is longer than the specified maximum sequence length for this model (2300 > 1024). Running this sequence through the model will result in indexing errors\n",
      "Token indices sequence length is longer than the specified maximum sequence length for this model (5249 > 1024). Running this sequence through the model will result in indexing errors\n",
      "Token indices sequence length is longer than the specified maximum sequence length for this model (2470 > 1024). Running this sequence through the model will result in indexing errors\n",
      "Token indices sequence length is longer than the specified maximum sequence length for this model (3692 > 1024). Running this sequence through the model will result in indexing errors\n",
      "Token indices sequence length is longer than the specified maximum sequence length for this model (3799 > 1024). Running this sequence through the model will result in indexing errors\n",
      "Token indices sequence length is longer than the specified maximum sequence length for this model (2865 > 1024). Running this sequence through the model will result in indexing errors\n",
      "Token indices sequence length is longer than the specified maximum sequence length for this model (3757 > 1024). Running this sequence through the model will result in indexing errors\n",
      "Token indices sequence length is longer than the specified maximum sequence length for this model (3482 > 1024). Running this sequence through the model will result in indexing errors\n",
      "Token indices sequence length is longer than the specified maximum sequence length for this model (1652 > 1024). Running this sequence through the model will result in indexing errors\n",
      "Token indices sequence length is longer than the specified maximum sequence length for this model (3221 > 1024). Running this sequence through the model will result in indexing errors\n",
      "Token indices sequence length is longer than the specified maximum sequence length for this model (1620 > 1024). Running this sequence through the model will result in indexing errors\n",
      "Token indices sequence length is longer than the specified maximum sequence length for this model (4360 > 1024). Running this sequence through the model will result in indexing errors\n",
      "Token indices sequence length is longer than the specified maximum sequence length for this model (1439 > 1024). Running this sequence through the model will result in indexing errors\n",
      "Token indices sequence length is longer than the specified maximum sequence length for this model (3667 > 1024). Running this sequence through the model will result in indexing errors\n",
      "Token indices sequence length is longer than the specified maximum sequence length for this model (2115 > 1024). Running this sequence through the model will result in indexing errors\n",
      "Token indices sequence length is longer than the specified maximum sequence length for this model (1780 > 1024). Running this sequence through the model will result in indexing errors\n",
      "Token indices sequence length is longer than the specified maximum sequence length for this model (2312 > 1024). Running this sequence through the model will result in indexing errors\n",
      "Token indices sequence length is longer than the specified maximum sequence length for this model (4080 > 1024). Running this sequence through the model will result in indexing errors\n",
      "Token indices sequence length is longer than the specified maximum sequence length for this model (1767 > 1024). Running this sequence through the model will result in indexing errors\n",
      "Token indices sequence length is longer than the specified maximum sequence length for this model (1926 > 1024). Running this sequence through the model will result in indexing errors\n",
      "Token indices sequence length is longer than the specified maximum sequence length for this model (2636 > 1024). Running this sequence through the model will result in indexing errors\n",
      "Token indices sequence length is longer than the specified maximum sequence length for this model (3047 > 1024). Running this sequence through the model will result in indexing errors\n",
      "Token indices sequence length is longer than the specified maximum sequence length for this model (2748 > 1024). Running this sequence through the model will result in indexing errors\n",
      "Token indices sequence length is longer than the specified maximum sequence length for this model (2814 > 1024). Running this sequence through the model will result in indexing errors\n",
      "Token indices sequence length is longer than the specified maximum sequence length for this model (4043 > 1024). Running this sequence through the model will result in indexing errors\n",
      "Token indices sequence length is longer than the specified maximum sequence length for this model (2220 > 1024). Running this sequence through the model will result in indexing errors\n",
      "Token indices sequence length is longer than the specified maximum sequence length for this model (3890 > 1024). Running this sequence through the model will result in indexing errors\n",
      "Token indices sequence length is longer than the specified maximum sequence length for this model (4133 > 1024). Running this sequence through the model will result in indexing errors\n",
      "Token indices sequence length is longer than the specified maximum sequence length for this model (2235 > 1024). Running this sequence through the model will result in indexing errors\n",
      "Token indices sequence length is longer than the specified maximum sequence length for this model (3376 > 1024). Running this sequence through the model will result in indexing errors\n",
      "Token indices sequence length is longer than the specified maximum sequence length for this model (3252 > 1024). Running this sequence through the model will result in indexing errors\n",
      "Token indices sequence length is longer than the specified maximum sequence length for this model (1240 > 1024). Running this sequence through the model will result in indexing errors\n",
      "Token indices sequence length is longer than the specified maximum sequence length for this model (2838 > 1024). Running this sequence through the model will result in indexing errors\n",
      "Token indices sequence length is longer than the specified maximum sequence length for this model (3699 > 1024). Running this sequence through the model will result in indexing errors\n",
      "Token indices sequence length is longer than the specified maximum sequence length for this model (2622 > 1024). Running this sequence through the model will result in indexing errors\n"
     ]
    },
    {
     "name": "stderr",
     "output_type": "stream",
     "text": [
      "Token indices sequence length is longer than the specified maximum sequence length for this model (3638 > 1024). Running this sequence through the model will result in indexing errors\n",
      "Token indices sequence length is longer than the specified maximum sequence length for this model (1881 > 1024). Running this sequence through the model will result in indexing errors\n",
      "Token indices sequence length is longer than the specified maximum sequence length for this model (2098 > 1024). Running this sequence through the model will result in indexing errors\n",
      "Token indices sequence length is longer than the specified maximum sequence length for this model (3487 > 1024). Running this sequence through the model will result in indexing errors\n",
      "Token indices sequence length is longer than the specified maximum sequence length for this model (1969 > 1024). Running this sequence through the model will result in indexing errors\n",
      "Token indices sequence length is longer than the specified maximum sequence length for this model (2845 > 1024). Running this sequence through the model will result in indexing errors\n",
      "Token indices sequence length is longer than the specified maximum sequence length for this model (3775 > 1024). Running this sequence through the model will result in indexing errors\n",
      "Token indices sequence length is longer than the specified maximum sequence length for this model (2438 > 1024). Running this sequence through the model will result in indexing errors\n",
      "Token indices sequence length is longer than the specified maximum sequence length for this model (4531 > 1024). Running this sequence through the model will result in indexing errors\n",
      "Token indices sequence length is longer than the specified maximum sequence length for this model (3081 > 1024). Running this sequence through the model will result in indexing errors\n",
      "Token indices sequence length is longer than the specified maximum sequence length for this model (1179 > 1024). Running this sequence through the model will result in indexing errors\n",
      "Token indices sequence length is longer than the specified maximum sequence length for this model (3325 > 1024). Running this sequence through the model will result in indexing errors\n",
      "Token indices sequence length is longer than the specified maximum sequence length for this model (2589 > 1024). Running this sequence through the model will result in indexing errors\n",
      "Token indices sequence length is longer than the specified maximum sequence length for this model (2624 > 1024). Running this sequence through the model will result in indexing errors\n",
      "Token indices sequence length is longer than the specified maximum sequence length for this model (2126 > 1024). Running this sequence through the model will result in indexing errors\n",
      "Token indices sequence length is longer than the specified maximum sequence length for this model (3878 > 1024). Running this sequence through the model will result in indexing errors\n",
      "Token indices sequence length is longer than the specified maximum sequence length for this model (3008 > 1024). Running this sequence through the model will result in indexing errors\n",
      "Token indices sequence length is longer than the specified maximum sequence length for this model (3656 > 1024). Running this sequence through the model will result in indexing errors\n",
      "Token indices sequence length is longer than the specified maximum sequence length for this model (3167 > 1024). Running this sequence through the model will result in indexing errors\n",
      "Token indices sequence length is longer than the specified maximum sequence length for this model (3192 > 1024). Running this sequence through the model will result in indexing errors\n",
      "Token indices sequence length is longer than the specified maximum sequence length for this model (3703 > 1024). Running this sequence through the model will result in indexing errors\n",
      "Token indices sequence length is longer than the specified maximum sequence length for this model (4102 > 1024). Running this sequence through the model will result in indexing errors\n",
      "Token indices sequence length is longer than the specified maximum sequence length for this model (3304 > 1024). Running this sequence through the model will result in indexing errors\n",
      "Token indices sequence length is longer than the specified maximum sequence length for this model (3162 > 1024). Running this sequence through the model will result in indexing errors\n",
      "Token indices sequence length is longer than the specified maximum sequence length for this model (4008 > 1024). Running this sequence through the model will result in indexing errors\n",
      "Token indices sequence length is longer than the specified maximum sequence length for this model (2409 > 1024). Running this sequence through the model will result in indexing errors\n",
      "Token indices sequence length is longer than the specified maximum sequence length for this model (4925 > 1024). Running this sequence through the model will result in indexing errors\n",
      "Token indices sequence length is longer than the specified maximum sequence length for this model (2784 > 1024). Running this sequence through the model will result in indexing errors\n",
      "Token indices sequence length is longer than the specified maximum sequence length for this model (3507 > 1024). Running this sequence through the model will result in indexing errors\n",
      "Token indices sequence length is longer than the specified maximum sequence length for this model (4257 > 1024). Running this sequence through the model will result in indexing errors\n",
      "Token indices sequence length is longer than the specified maximum sequence length for this model (2473 > 1024). Running this sequence through the model will result in indexing errors\n",
      "Token indices sequence length is longer than the specified maximum sequence length for this model (3804 > 1024). Running this sequence through the model will result in indexing errors\n",
      "Token indices sequence length is longer than the specified maximum sequence length for this model (2731 > 1024). Running this sequence through the model will result in indexing errors\n",
      "Token indices sequence length is longer than the specified maximum sequence length for this model (3914 > 1024). Running this sequence through the model will result in indexing errors\n",
      "Token indices sequence length is longer than the specified maximum sequence length for this model (2397 > 1024). Running this sequence through the model will result in indexing errors\n",
      "Token indices sequence length is longer than the specified maximum sequence length for this model (4535 > 1024). Running this sequence through the model will result in indexing errors\n",
      "Token indices sequence length is longer than the specified maximum sequence length for this model (4181 > 1024). Running this sequence through the model will result in indexing errors\n",
      "Token indices sequence length is longer than the specified maximum sequence length for this model (4656 > 1024). Running this sequence through the model will result in indexing errors\n",
      "Token indices sequence length is longer than the specified maximum sequence length for this model (2937 > 1024). Running this sequence through the model will result in indexing errors\n",
      "Token indices sequence length is longer than the specified maximum sequence length for this model (1916 > 1024). Running this sequence through the model will result in indexing errors\n",
      "Token indices sequence length is longer than the specified maximum sequence length for this model (3255 > 1024). Running this sequence through the model will result in indexing errors\n",
      "Token indices sequence length is longer than the specified maximum sequence length for this model (2200 > 1024). Running this sequence through the model will result in indexing errors\n",
      "Token indices sequence length is longer than the specified maximum sequence length for this model (2514 > 1024). Running this sequence through the model will result in indexing errors\n",
      "Token indices sequence length is longer than the specified maximum sequence length for this model (2053 > 1024). Running this sequence through the model will result in indexing errors\n",
      "Token indices sequence length is longer than the specified maximum sequence length for this model (5006 > 1024). Running this sequence through the model will result in indexing errors\n"
     ]
    },
    {
     "name": "stderr",
     "output_type": "stream",
     "text": [
      "Token indices sequence length is longer than the specified maximum sequence length for this model (3474 > 1024). Running this sequence through the model will result in indexing errors\n",
      "Token indices sequence length is longer than the specified maximum sequence length for this model (2992 > 1024). Running this sequence through the model will result in indexing errors\n",
      "Token indices sequence length is longer than the specified maximum sequence length for this model (2538 > 1024). Running this sequence through the model will result in indexing errors\n",
      "Token indices sequence length is longer than the specified maximum sequence length for this model (4223 > 1024). Running this sequence through the model will result in indexing errors\n",
      "Token indices sequence length is longer than the specified maximum sequence length for this model (2439 > 1024). Running this sequence through the model will result in indexing errors\n",
      "Token indices sequence length is longer than the specified maximum sequence length for this model (4046 > 1024). Running this sequence through the model will result in indexing errors\n",
      "Token indices sequence length is longer than the specified maximum sequence length for this model (1919 > 1024). Running this sequence through the model will result in indexing errors\n",
      "Token indices sequence length is longer than the specified maximum sequence length for this model (2568 > 1024). Running this sequence through the model will result in indexing errors\n",
      "Token indices sequence length is longer than the specified maximum sequence length for this model (1370 > 1024). Running this sequence through the model will result in indexing errors\n",
      "Token indices sequence length is longer than the specified maximum sequence length for this model (2007 > 1024). Running this sequence through the model will result in indexing errors\n",
      "Token indices sequence length is longer than the specified maximum sequence length for this model (1509 > 1024). Running this sequence through the model will result in indexing errors\n",
      "Token indices sequence length is longer than the specified maximum sequence length for this model (3704 > 1024). Running this sequence through the model will result in indexing errors\n",
      "Token indices sequence length is longer than the specified maximum sequence length for this model (1392 > 1024). Running this sequence through the model will result in indexing errors\n",
      "Token indices sequence length is longer than the specified maximum sequence length for this model (2063 > 1024). Running this sequence through the model will result in indexing errors\n",
      "Token indices sequence length is longer than the specified maximum sequence length for this model (3882 > 1024). Running this sequence through the model will result in indexing errors\n",
      "Token indices sequence length is longer than the specified maximum sequence length for this model (2393 > 1024). Running this sequence through the model will result in indexing errors\n",
      "Token indices sequence length is longer than the specified maximum sequence length for this model (3898 > 1024). Running this sequence through the model will result in indexing errors\n",
      "Token indices sequence length is longer than the specified maximum sequence length for this model (3447 > 1024). Running this sequence through the model will result in indexing errors\n",
      "Token indices sequence length is longer than the specified maximum sequence length for this model (3320 > 1024). Running this sequence through the model will result in indexing errors\n",
      "Token indices sequence length is longer than the specified maximum sequence length for this model (2112 > 1024). Running this sequence through the model will result in indexing errors\n",
      "Token indices sequence length is longer than the specified maximum sequence length for this model (2011 > 1024). Running this sequence through the model will result in indexing errors\n",
      "Token indices sequence length is longer than the specified maximum sequence length for this model (4325 > 1024). Running this sequence through the model will result in indexing errors\n",
      "Token indices sequence length is longer than the specified maximum sequence length for this model (4147 > 1024). Running this sequence through the model will result in indexing errors\n",
      "Token indices sequence length is longer than the specified maximum sequence length for this model (3671 > 1024). Running this sequence through the model will result in indexing errors\n",
      "Token indices sequence length is longer than the specified maximum sequence length for this model (3377 > 1024). Running this sequence through the model will result in indexing errors\n",
      "Token indices sequence length is longer than the specified maximum sequence length for this model (2473 > 1024). Running this sequence through the model will result in indexing errors\n",
      "Token indices sequence length is longer than the specified maximum sequence length for this model (2953 > 1024). Running this sequence through the model will result in indexing errors\n",
      "Token indices sequence length is longer than the specified maximum sequence length for this model (2323 > 1024). Running this sequence through the model will result in indexing errors\n",
      "Token indices sequence length is longer than the specified maximum sequence length for this model (3396 > 1024). Running this sequence through the model will result in indexing errors\n",
      "Token indices sequence length is longer than the specified maximum sequence length for this model (3545 > 1024). Running this sequence through the model will result in indexing errors\n",
      "Token indices sequence length is longer than the specified maximum sequence length for this model (4925 > 1024). Running this sequence through the model will result in indexing errors\n",
      "Token indices sequence length is longer than the specified maximum sequence length for this model (2085 > 1024). Running this sequence through the model will result in indexing errors\n",
      "Token indices sequence length is longer than the specified maximum sequence length for this model (2498 > 1024). Running this sequence through the model will result in indexing errors\n",
      "Token indices sequence length is longer than the specified maximum sequence length for this model (2940 > 1024). Running this sequence through the model will result in indexing errors\n",
      "Token indices sequence length is longer than the specified maximum sequence length for this model (3331 > 1024). Running this sequence through the model will result in indexing errors\n",
      "Token indices sequence length is longer than the specified maximum sequence length for this model (2495 > 1024). Running this sequence through the model will result in indexing errors\n",
      "Token indices sequence length is longer than the specified maximum sequence length for this model (3237 > 1024). Running this sequence through the model will result in indexing errors\n",
      "Token indices sequence length is longer than the specified maximum sequence length for this model (2267 > 1024). Running this sequence through the model will result in indexing errors\n",
      "Token indices sequence length is longer than the specified maximum sequence length for this model (2054 > 1024). Running this sequence through the model will result in indexing errors\n",
      "Token indices sequence length is longer than the specified maximum sequence length for this model (3499 > 1024). Running this sequence through the model will result in indexing errors\n",
      "Token indices sequence length is longer than the specified maximum sequence length for this model (2908 > 1024). Running this sequence through the model will result in indexing errors\n",
      "Token indices sequence length is longer than the specified maximum sequence length for this model (3937 > 1024). Running this sequence through the model will result in indexing errors\n",
      "Token indices sequence length is longer than the specified maximum sequence length for this model (2311 > 1024). Running this sequence through the model will result in indexing errors\n",
      "Token indices sequence length is longer than the specified maximum sequence length for this model (3239 > 1024). Running this sequence through the model will result in indexing errors\n",
      "Token indices sequence length is longer than the specified maximum sequence length for this model (2045 > 1024). Running this sequence through the model will result in indexing errors\n"
     ]
    },
    {
     "name": "stderr",
     "output_type": "stream",
     "text": [
      "Token indices sequence length is longer than the specified maximum sequence length for this model (4099 > 1024). Running this sequence through the model will result in indexing errors\n",
      "Token indices sequence length is longer than the specified maximum sequence length for this model (3928 > 1024). Running this sequence through the model will result in indexing errors\n",
      "Token indices sequence length is longer than the specified maximum sequence length for this model (2957 > 1024). Running this sequence through the model will result in indexing errors\n",
      "Token indices sequence length is longer than the specified maximum sequence length for this model (1873 > 1024). Running this sequence through the model will result in indexing errors\n",
      "Token indices sequence length is longer than the specified maximum sequence length for this model (3316 > 1024). Running this sequence through the model will result in indexing errors\n",
      "Token indices sequence length is longer than the specified maximum sequence length for this model (1852 > 1024). Running this sequence through the model will result in indexing errors\n",
      "Token indices sequence length is longer than the specified maximum sequence length for this model (3205 > 1024). Running this sequence through the model will result in indexing errors\n",
      "Token indices sequence length is longer than the specified maximum sequence length for this model (2302 > 1024). Running this sequence through the model will result in indexing errors\n",
      "Token indices sequence length is longer than the specified maximum sequence length for this model (3181 > 1024). Running this sequence through the model will result in indexing errors\n",
      "Token indices sequence length is longer than the specified maximum sequence length for this model (3755 > 1024). Running this sequence through the model will result in indexing errors\n",
      "Token indices sequence length is longer than the specified maximum sequence length for this model (2888 > 1024). Running this sequence through the model will result in indexing errors\n",
      "Token indices sequence length is longer than the specified maximum sequence length for this model (1384 > 1024). Running this sequence through the model will result in indexing errors\n",
      "Token indices sequence length is longer than the specified maximum sequence length for this model (2390 > 1024). Running this sequence through the model will result in indexing errors\n",
      "Token indices sequence length is longer than the specified maximum sequence length for this model (1922 > 1024). Running this sequence through the model will result in indexing errors\n",
      "Token indices sequence length is longer than the specified maximum sequence length for this model (2731 > 1024). Running this sequence through the model will result in indexing errors\n",
      "Token indices sequence length is longer than the specified maximum sequence length for this model (2374 > 1024). Running this sequence through the model will result in indexing errors\n",
      "Token indices sequence length is longer than the specified maximum sequence length for this model (3499 > 1024). Running this sequence through the model will result in indexing errors\n",
      "Token indices sequence length is longer than the specified maximum sequence length for this model (4431 > 1024). Running this sequence through the model will result in indexing errors\n",
      "Token indices sequence length is longer than the specified maximum sequence length for this model (4019 > 1024). Running this sequence through the model will result in indexing errors\n",
      "Token indices sequence length is longer than the specified maximum sequence length for this model (1472 > 1024). Running this sequence through the model will result in indexing errors\n",
      "Token indices sequence length is longer than the specified maximum sequence length for this model (5101 > 1024). Running this sequence through the model will result in indexing errors\n",
      "Token indices sequence length is longer than the specified maximum sequence length for this model (2456 > 1024). Running this sequence through the model will result in indexing errors\n",
      "Token indices sequence length is longer than the specified maximum sequence length for this model (2286 > 1024). Running this sequence through the model will result in indexing errors\n",
      "Token indices sequence length is longer than the specified maximum sequence length for this model (4123 > 1024). Running this sequence through the model will result in indexing errors\n",
      "Token indices sequence length is longer than the specified maximum sequence length for this model (2477 > 1024). Running this sequence through the model will result in indexing errors\n",
      "Token indices sequence length is longer than the specified maximum sequence length for this model (2331 > 1024). Running this sequence through the model will result in indexing errors\n",
      "Token indices sequence length is longer than the specified maximum sequence length for this model (4278 > 1024). Running this sequence through the model will result in indexing errors\n",
      "Token indices sequence length is longer than the specified maximum sequence length for this model (3448 > 1024). Running this sequence through the model will result in indexing errors\n",
      "Token indices sequence length is longer than the specified maximum sequence length for this model (2132 > 1024). Running this sequence through the model will result in indexing errors\n",
      "Token indices sequence length is longer than the specified maximum sequence length for this model (1442 > 1024). Running this sequence through the model will result in indexing errors\n",
      "Token indices sequence length is longer than the specified maximum sequence length for this model (2654 > 1024). Running this sequence through the model will result in indexing errors\n",
      "Token indices sequence length is longer than the specified maximum sequence length for this model (3514 > 1024). Running this sequence through the model will result in indexing errors\n",
      "Token indices sequence length is longer than the specified maximum sequence length for this model (3160 > 1024). Running this sequence through the model will result in indexing errors\n",
      "Token indices sequence length is longer than the specified maximum sequence length for this model (3961 > 1024). Running this sequence through the model will result in indexing errors\n",
      "Token indices sequence length is longer than the specified maximum sequence length for this model (1681 > 1024). Running this sequence through the model will result in indexing errors\n",
      "Token indices sequence length is longer than the specified maximum sequence length for this model (4996 > 1024). Running this sequence through the model will result in indexing errors\n",
      "Token indices sequence length is longer than the specified maximum sequence length for this model (2618 > 1024). Running this sequence through the model will result in indexing errors\n",
      "Token indices sequence length is longer than the specified maximum sequence length for this model (1518 > 1024). Running this sequence through the model will result in indexing errors\n",
      "Token indices sequence length is longer than the specified maximum sequence length for this model (2930 > 1024). Running this sequence through the model will result in indexing errors\n",
      "Token indices sequence length is longer than the specified maximum sequence length for this model (4409 > 1024). Running this sequence through the model will result in indexing errors\n",
      "Token indices sequence length is longer than the specified maximum sequence length for this model (1576 > 1024). Running this sequence through the model will result in indexing errors\n",
      "Token indices sequence length is longer than the specified maximum sequence length for this model (3596 > 1024). Running this sequence through the model will result in indexing errors\n",
      "Token indices sequence length is longer than the specified maximum sequence length for this model (1914 > 1024). Running this sequence through the model will result in indexing errors\n",
      "Token indices sequence length is longer than the specified maximum sequence length for this model (3500 > 1024). Running this sequence through the model will result in indexing errors\n",
      "Token indices sequence length is longer than the specified maximum sequence length for this model (2927 > 1024). Running this sequence through the model will result in indexing errors\n"
     ]
    },
    {
     "name": "stderr",
     "output_type": "stream",
     "text": [
      "Token indices sequence length is longer than the specified maximum sequence length for this model (3273 > 1024). Running this sequence through the model will result in indexing errors\n",
      "Token indices sequence length is longer than the specified maximum sequence length for this model (3098 > 1024). Running this sequence through the model will result in indexing errors\n",
      "Token indices sequence length is longer than the specified maximum sequence length for this model (1173 > 1024). Running this sequence through the model will result in indexing errors\n",
      "Token indices sequence length is longer than the specified maximum sequence length for this model (2671 > 1024). Running this sequence through the model will result in indexing errors\n",
      "Token indices sequence length is longer than the specified maximum sequence length for this model (3506 > 1024). Running this sequence through the model will result in indexing errors\n",
      "Token indices sequence length is longer than the specified maximum sequence length for this model (4859 > 1024). Running this sequence through the model will result in indexing errors\n",
      "Token indices sequence length is longer than the specified maximum sequence length for this model (3480 > 1024). Running this sequence through the model will result in indexing errors\n",
      "Token indices sequence length is longer than the specified maximum sequence length for this model (2352 > 1024). Running this sequence through the model will result in indexing errors\n",
      "Token indices sequence length is longer than the specified maximum sequence length for this model (2383 > 1024). Running this sequence through the model will result in indexing errors\n",
      "Token indices sequence length is longer than the specified maximum sequence length for this model (4197 > 1024). Running this sequence through the model will result in indexing errors\n",
      "Token indices sequence length is longer than the specified maximum sequence length for this model (4141 > 1024). Running this sequence through the model will result in indexing errors\n",
      "Token indices sequence length is longer than the specified maximum sequence length for this model (1859 > 1024). Running this sequence through the model will result in indexing errors\n",
      "Token indices sequence length is longer than the specified maximum sequence length for this model (2671 > 1024). Running this sequence through the model will result in indexing errors\n",
      "Token indices sequence length is longer than the specified maximum sequence length for this model (2067 > 1024). Running this sequence through the model will result in indexing errors\n",
      "Token indices sequence length is longer than the specified maximum sequence length for this model (4748 > 1024). Running this sequence through the model will result in indexing errors\n",
      "Token indices sequence length is longer than the specified maximum sequence length for this model (2425 > 1024). Running this sequence through the model will result in indexing errors\n",
      "Token indices sequence length is longer than the specified maximum sequence length for this model (3407 > 1024). Running this sequence through the model will result in indexing errors\n",
      "Token indices sequence length is longer than the specified maximum sequence length for this model (2440 > 1024). Running this sequence through the model will result in indexing errors\n",
      "Token indices sequence length is longer than the specified maximum sequence length for this model (3882 > 1024). Running this sequence through the model will result in indexing errors\n",
      "Token indices sequence length is longer than the specified maximum sequence length for this model (2233 > 1024). Running this sequence through the model will result in indexing errors\n",
      "Token indices sequence length is longer than the specified maximum sequence length for this model (3138 > 1024). Running this sequence through the model will result in indexing errors\n",
      "Token indices sequence length is longer than the specified maximum sequence length for this model (3634 > 1024). Running this sequence through the model will result in indexing errors\n",
      "Token indices sequence length is longer than the specified maximum sequence length for this model (2664 > 1024). Running this sequence through the model will result in indexing errors\n",
      "Token indices sequence length is longer than the specified maximum sequence length for this model (2841 > 1024). Running this sequence through the model will result in indexing errors\n",
      "Token indices sequence length is longer than the specified maximum sequence length for this model (3686 > 1024). Running this sequence through the model will result in indexing errors\n",
      "Token indices sequence length is longer than the specified maximum sequence length for this model (1931 > 1024). Running this sequence through the model will result in indexing errors\n",
      "Token indices sequence length is longer than the specified maximum sequence length for this model (2357 > 1024). Running this sequence through the model will result in indexing errors\n",
      "Token indices sequence length is longer than the specified maximum sequence length for this model (3280 > 1024). Running this sequence through the model will result in indexing errors\n",
      "Token indices sequence length is longer than the specified maximum sequence length for this model (4377 > 1024). Running this sequence through the model will result in indexing errors\n",
      "Token indices sequence length is longer than the specified maximum sequence length for this model (3315 > 1024). Running this sequence through the model will result in indexing errors\n",
      "Token indices sequence length is longer than the specified maximum sequence length for this model (1552 > 1024). Running this sequence through the model will result in indexing errors\n",
      "Token indices sequence length is longer than the specified maximum sequence length for this model (3112 > 1024). Running this sequence through the model will result in indexing errors\n",
      "Token indices sequence length is longer than the specified maximum sequence length for this model (2586 > 1024). Running this sequence through the model will result in indexing errors\n",
      "Token indices sequence length is longer than the specified maximum sequence length for this model (2411 > 1024). Running this sequence through the model will result in indexing errors\n",
      "Token indices sequence length is longer than the specified maximum sequence length for this model (3029 > 1024). Running this sequence through the model will result in indexing errors\n",
      "Token indices sequence length is longer than the specified maximum sequence length for this model (2316 > 1024). Running this sequence through the model will result in indexing errors\n",
      "Token indices sequence length is longer than the specified maximum sequence length for this model (2590 > 1024). Running this sequence through the model will result in indexing errors\n",
      "Token indices sequence length is longer than the specified maximum sequence length for this model (1938 > 1024). Running this sequence through the model will result in indexing errors\n",
      "Token indices sequence length is longer than the specified maximum sequence length for this model (1828 > 1024). Running this sequence through the model will result in indexing errors\n",
      "Token indices sequence length is longer than the specified maximum sequence length for this model (5969 > 1024). Running this sequence through the model will result in indexing errors\n",
      "Token indices sequence length is longer than the specified maximum sequence length for this model (1196 > 1024). Running this sequence through the model will result in indexing errors\n",
      "Token indices sequence length is longer than the specified maximum sequence length for this model (2147 > 1024). Running this sequence through the model will result in indexing errors\n",
      "Token indices sequence length is longer than the specified maximum sequence length for this model (2920 > 1024). Running this sequence through the model will result in indexing errors\n",
      "Token indices sequence length is longer than the specified maximum sequence length for this model (2203 > 1024). Running this sequence through the model will result in indexing errors\n",
      "Token indices sequence length is longer than the specified maximum sequence length for this model (1253 > 1024). Running this sequence through the model will result in indexing errors\n"
     ]
    },
    {
     "name": "stderr",
     "output_type": "stream",
     "text": [
      "Token indices sequence length is longer than the specified maximum sequence length for this model (3535 > 1024). Running this sequence through the model will result in indexing errors\n",
      "Token indices sequence length is longer than the specified maximum sequence length for this model (1575 > 1024). Running this sequence through the model will result in indexing errors\n",
      "Token indices sequence length is longer than the specified maximum sequence length for this model (3509 > 1024). Running this sequence through the model will result in indexing errors\n",
      "Token indices sequence length is longer than the specified maximum sequence length for this model (3098 > 1024). Running this sequence through the model will result in indexing errors\n",
      "Token indices sequence length is longer than the specified maximum sequence length for this model (3436 > 1024). Running this sequence through the model will result in indexing errors\n",
      "Token indices sequence length is longer than the specified maximum sequence length for this model (3154 > 1024). Running this sequence through the model will result in indexing errors\n",
      "Token indices sequence length is longer than the specified maximum sequence length for this model (3456 > 1024). Running this sequence through the model will result in indexing errors\n",
      "Token indices sequence length is longer than the specified maximum sequence length for this model (3605 > 1024). Running this sequence through the model will result in indexing errors\n",
      "Token indices sequence length is longer than the specified maximum sequence length for this model (3654 > 1024). Running this sequence through the model will result in indexing errors\n",
      "Token indices sequence length is longer than the specified maximum sequence length for this model (3975 > 1024). Running this sequence through the model will result in indexing errors\n",
      "Token indices sequence length is longer than the specified maximum sequence length for this model (1789 > 1024). Running this sequence through the model will result in indexing errors\n",
      "Token indices sequence length is longer than the specified maximum sequence length for this model (2632 > 1024). Running this sequence through the model will result in indexing errors\n",
      "Token indices sequence length is longer than the specified maximum sequence length for this model (1628 > 1024). Running this sequence through the model will result in indexing errors\n",
      "Token indices sequence length is longer than the specified maximum sequence length for this model (3073 > 1024). Running this sequence through the model will result in indexing errors\n",
      "Token indices sequence length is longer than the specified maximum sequence length for this model (3057 > 1024). Running this sequence through the model will result in indexing errors\n",
      "Token indices sequence length is longer than the specified maximum sequence length for this model (2258 > 1024). Running this sequence through the model will result in indexing errors\n",
      "Token indices sequence length is longer than the specified maximum sequence length for this model (2721 > 1024). Running this sequence through the model will result in indexing errors\n",
      "Token indices sequence length is longer than the specified maximum sequence length for this model (2377 > 1024). Running this sequence through the model will result in indexing errors\n",
      "Token indices sequence length is longer than the specified maximum sequence length for this model (2430 > 1024). Running this sequence through the model will result in indexing errors\n",
      "Token indices sequence length is longer than the specified maximum sequence length for this model (3040 > 1024). Running this sequence through the model will result in indexing errors\n",
      "Token indices sequence length is longer than the specified maximum sequence length for this model (4601 > 1024). Running this sequence through the model will result in indexing errors\n",
      "Token indices sequence length is longer than the specified maximum sequence length for this model (2395 > 1024). Running this sequence through the model will result in indexing errors\n",
      "Token indices sequence length is longer than the specified maximum sequence length for this model (4664 > 1024). Running this sequence through the model will result in indexing errors\n",
      "Token indices sequence length is longer than the specified maximum sequence length for this model (2677 > 1024). Running this sequence through the model will result in indexing errors\n",
      "Token indices sequence length is longer than the specified maximum sequence length for this model (1378 > 1024). Running this sequence through the model will result in indexing errors\n",
      "Token indices sequence length is longer than the specified maximum sequence length for this model (3860 > 1024). Running this sequence through the model will result in indexing errors\n",
      "Token indices sequence length is longer than the specified maximum sequence length for this model (3357 > 1024). Running this sequence through the model will result in indexing errors\n",
      "Token indices sequence length is longer than the specified maximum sequence length for this model (2821 > 1024). Running this sequence through the model will result in indexing errors\n",
      "Token indices sequence length is longer than the specified maximum sequence length for this model (3275 > 1024). Running this sequence through the model will result in indexing errors\n",
      "Token indices sequence length is longer than the specified maximum sequence length for this model (3878 > 1024). Running this sequence through the model will result in indexing errors\n",
      "Token indices sequence length is longer than the specified maximum sequence length for this model (1774 > 1024). Running this sequence through the model will result in indexing errors\n",
      "Token indices sequence length is longer than the specified maximum sequence length for this model (1657 > 1024). Running this sequence through the model will result in indexing errors\n",
      "Token indices sequence length is longer than the specified maximum sequence length for this model (2574 > 1024). Running this sequence through the model will result in indexing errors\n",
      "Token indices sequence length is longer than the specified maximum sequence length for this model (2266 > 1024). Running this sequence through the model will result in indexing errors\n",
      "Token indices sequence length is longer than the specified maximum sequence length for this model (3559 > 1024). Running this sequence through the model will result in indexing errors\n",
      "Token indices sequence length is longer than the specified maximum sequence length for this model (2749 > 1024). Running this sequence through the model will result in indexing errors\n",
      "Token indices sequence length is longer than the specified maximum sequence length for this model (2603 > 1024). Running this sequence through the model will result in indexing errors\n",
      "Token indices sequence length is longer than the specified maximum sequence length for this model (5807 > 1024). Running this sequence through the model will result in indexing errors\n",
      "Token indices sequence length is longer than the specified maximum sequence length for this model (3989 > 1024). Running this sequence through the model will result in indexing errors\n",
      "Token indices sequence length is longer than the specified maximum sequence length for this model (3080 > 1024). Running this sequence through the model will result in indexing errors\n",
      "Token indices sequence length is longer than the specified maximum sequence length for this model (1796 > 1024). Running this sequence through the model will result in indexing errors\n",
      "Token indices sequence length is longer than the specified maximum sequence length for this model (3346 > 1024). Running this sequence through the model will result in indexing errors\n",
      "Token indices sequence length is longer than the specified maximum sequence length for this model (2776 > 1024). Running this sequence through the model will result in indexing errors\n",
      "Token indices sequence length is longer than the specified maximum sequence length for this model (3049 > 1024). Running this sequence through the model will result in indexing errors\n",
      "Token indices sequence length is longer than the specified maximum sequence length for this model (2631 > 1024). Running this sequence through the model will result in indexing errors\n"
     ]
    },
    {
     "name": "stderr",
     "output_type": "stream",
     "text": [
      "Token indices sequence length is longer than the specified maximum sequence length for this model (4672 > 1024). Running this sequence through the model will result in indexing errors\n",
      "Token indices sequence length is longer than the specified maximum sequence length for this model (3566 > 1024). Running this sequence through the model will result in indexing errors\n",
      "Token indices sequence length is longer than the specified maximum sequence length for this model (2503 > 1024). Running this sequence through the model will result in indexing errors\n",
      "Token indices sequence length is longer than the specified maximum sequence length for this model (2364 > 1024). Running this sequence through the model will result in indexing errors\n",
      "Token indices sequence length is longer than the specified maximum sequence length for this model (2104 > 1024). Running this sequence through the model will result in indexing errors\n",
      "Token indices sequence length is longer than the specified maximum sequence length for this model (2783 > 1024). Running this sequence through the model will result in indexing errors\n",
      "Token indices sequence length is longer than the specified maximum sequence length for this model (3802 > 1024). Running this sequence through the model will result in indexing errors\n",
      "Token indices sequence length is longer than the specified maximum sequence length for this model (3114 > 1024). Running this sequence through the model will result in indexing errors\n",
      "Token indices sequence length is longer than the specified maximum sequence length for this model (2064 > 1024). Running this sequence through the model will result in indexing errors\n",
      "Token indices sequence length is longer than the specified maximum sequence length for this model (3852 > 1024). Running this sequence through the model will result in indexing errors\n",
      "Token indices sequence length is longer than the specified maximum sequence length for this model (3032 > 1024). Running this sequence through the model will result in indexing errors\n",
      "Token indices sequence length is longer than the specified maximum sequence length for this model (3576 > 1024). Running this sequence through the model will result in indexing errors\n",
      "Token indices sequence length is longer than the specified maximum sequence length for this model (1473 > 1024). Running this sequence through the model will result in indexing errors\n",
      "Token indices sequence length is longer than the specified maximum sequence length for this model (1768 > 1024). Running this sequence through the model will result in indexing errors\n",
      "Token indices sequence length is longer than the specified maximum sequence length for this model (2456 > 1024). Running this sequence through the model will result in indexing errors\n",
      "Token indices sequence length is longer than the specified maximum sequence length for this model (4549 > 1024). Running this sequence through the model will result in indexing errors\n",
      "Token indices sequence length is longer than the specified maximum sequence length for this model (2500 > 1024). Running this sequence through the model will result in indexing errors\n",
      "Token indices sequence length is longer than the specified maximum sequence length for this model (1898 > 1024). Running this sequence through the model will result in indexing errors\n",
      "Token indices sequence length is longer than the specified maximum sequence length for this model (2304 > 1024). Running this sequence through the model will result in indexing errors\n",
      "Token indices sequence length is longer than the specified maximum sequence length for this model (3485 > 1024). Running this sequence through the model will result in indexing errors\n",
      "Token indices sequence length is longer than the specified maximum sequence length for this model (3143 > 1024). Running this sequence through the model will result in indexing errors\n",
      "Token indices sequence length is longer than the specified maximum sequence length for this model (3709 > 1024). Running this sequence through the model will result in indexing errors\n",
      "Token indices sequence length is longer than the specified maximum sequence length for this model (3116 > 1024). Running this sequence through the model will result in indexing errors\n",
      "Token indices sequence length is longer than the specified maximum sequence length for this model (2607 > 1024). Running this sequence through the model will result in indexing errors\n",
      "Token indices sequence length is longer than the specified maximum sequence length for this model (2296 > 1024). Running this sequence through the model will result in indexing errors\n",
      "Token indices sequence length is longer than the specified maximum sequence length for this model (1921 > 1024). Running this sequence through the model will result in indexing errors\n",
      "Token indices sequence length is longer than the specified maximum sequence length for this model (2916 > 1024). Running this sequence through the model will result in indexing errors\n",
      "Token indices sequence length is longer than the specified maximum sequence length for this model (2491 > 1024). Running this sequence through the model will result in indexing errors\n",
      "Token indices sequence length is longer than the specified maximum sequence length for this model (2886 > 1024). Running this sequence through the model will result in indexing errors\n",
      "Token indices sequence length is longer than the specified maximum sequence length for this model (2250 > 1024). Running this sequence through the model will result in indexing errors\n",
      "Token indices sequence length is longer than the specified maximum sequence length for this model (4823 > 1024). Running this sequence through the model will result in indexing errors\n",
      "Token indices sequence length is longer than the specified maximum sequence length for this model (4035 > 1024). Running this sequence through the model will result in indexing errors\n",
      "Token indices sequence length is longer than the specified maximum sequence length for this model (3075 > 1024). Running this sequence through the model will result in indexing errors\n",
      "Token indices sequence length is longer than the specified maximum sequence length for this model (2818 > 1024). Running this sequence through the model will result in indexing errors\n",
      "Token indices sequence length is longer than the specified maximum sequence length for this model (1834 > 1024). Running this sequence through the model will result in indexing errors\n",
      "Token indices sequence length is longer than the specified maximum sequence length for this model (2393 > 1024). Running this sequence through the model will result in indexing errors\n",
      "Token indices sequence length is longer than the specified maximum sequence length for this model (2445 > 1024). Running this sequence through the model will result in indexing errors\n",
      "Token indices sequence length is longer than the specified maximum sequence length for this model (1675 > 1024). Running this sequence through the model will result in indexing errors\n",
      "Token indices sequence length is longer than the specified maximum sequence length for this model (2576 > 1024). Running this sequence through the model will result in indexing errors\n",
      "Token indices sequence length is longer than the specified maximum sequence length for this model (3844 > 1024). Running this sequence through the model will result in indexing errors\n",
      "Token indices sequence length is longer than the specified maximum sequence length for this model (1686 > 1024). Running this sequence through the model will result in indexing errors\n",
      "Token indices sequence length is longer than the specified maximum sequence length for this model (2755 > 1024). Running this sequence through the model will result in indexing errors\n",
      "Token indices sequence length is longer than the specified maximum sequence length for this model (2622 > 1024). Running this sequence through the model will result in indexing errors\n",
      "Token indices sequence length is longer than the specified maximum sequence length for this model (2949 > 1024). Running this sequence through the model will result in indexing errors\n",
      "Token indices sequence length is longer than the specified maximum sequence length for this model (1234 > 1024). Running this sequence through the model will result in indexing errors\n"
     ]
    },
    {
     "name": "stderr",
     "output_type": "stream",
     "text": [
      "Token indices sequence length is longer than the specified maximum sequence length for this model (1527 > 1024). Running this sequence through the model will result in indexing errors\n",
      "Token indices sequence length is longer than the specified maximum sequence length for this model (4885 > 1024). Running this sequence through the model will result in indexing errors\n",
      "Token indices sequence length is longer than the specified maximum sequence length for this model (2394 > 1024). Running this sequence through the model will result in indexing errors\n",
      "Token indices sequence length is longer than the specified maximum sequence length for this model (1922 > 1024). Running this sequence through the model will result in indexing errors\n",
      "Token indices sequence length is longer than the specified maximum sequence length for this model (4096 > 1024). Running this sequence through the model will result in indexing errors\n",
      "Token indices sequence length is longer than the specified maximum sequence length for this model (2530 > 1024). Running this sequence through the model will result in indexing errors\n",
      "Token indices sequence length is longer than the specified maximum sequence length for this model (2847 > 1024). Running this sequence through the model will result in indexing errors\n",
      "Token indices sequence length is longer than the specified maximum sequence length for this model (4093 > 1024). Running this sequence through the model will result in indexing errors\n",
      "Token indices sequence length is longer than the specified maximum sequence length for this model (2780 > 1024). Running this sequence through the model will result in indexing errors\n",
      "Token indices sequence length is longer than the specified maximum sequence length for this model (3320 > 1024). Running this sequence through the model will result in indexing errors\n",
      "Token indices sequence length is longer than the specified maximum sequence length for this model (3417 > 1024). Running this sequence through the model will result in indexing errors\n",
      "Token indices sequence length is longer than the specified maximum sequence length for this model (3141 > 1024). Running this sequence through the model will result in indexing errors\n",
      "Token indices sequence length is longer than the specified maximum sequence length for this model (3112 > 1024). Running this sequence through the model will result in indexing errors\n",
      "Token indices sequence length is longer than the specified maximum sequence length for this model (3523 > 1024). Running this sequence through the model will result in indexing errors\n",
      "Token indices sequence length is longer than the specified maximum sequence length for this model (2920 > 1024). Running this sequence through the model will result in indexing errors\n",
      "Token indices sequence length is longer than the specified maximum sequence length for this model (1528 > 1024). Running this sequence through the model will result in indexing errors\n",
      "Token indices sequence length is longer than the specified maximum sequence length for this model (2721 > 1024). Running this sequence through the model will result in indexing errors\n",
      "Token indices sequence length is longer than the specified maximum sequence length for this model (2923 > 1024). Running this sequence through the model will result in indexing errors\n",
      "Token indices sequence length is longer than the specified maximum sequence length for this model (2669 > 1024). Running this sequence through the model will result in indexing errors\n",
      "Token indices sequence length is longer than the specified maximum sequence length for this model (1518 > 1024). Running this sequence through the model will result in indexing errors\n",
      "Token indices sequence length is longer than the specified maximum sequence length for this model (1756 > 1024). Running this sequence through the model will result in indexing errors\n",
      "Token indices sequence length is longer than the specified maximum sequence length for this model (2065 > 1024). Running this sequence through the model will result in indexing errors\n",
      "Token indices sequence length is longer than the specified maximum sequence length for this model (3871 > 1024). Running this sequence through the model will result in indexing errors\n",
      "Token indices sequence length is longer than the specified maximum sequence length for this model (3591 > 1024). Running this sequence through the model will result in indexing errors\n",
      "Token indices sequence length is longer than the specified maximum sequence length for this model (2570 > 1024). Running this sequence through the model will result in indexing errors\n",
      "Token indices sequence length is longer than the specified maximum sequence length for this model (3273 > 1024). Running this sequence through the model will result in indexing errors\n",
      "Token indices sequence length is longer than the specified maximum sequence length for this model (3199 > 1024). Running this sequence through the model will result in indexing errors\n",
      "Token indices sequence length is longer than the specified maximum sequence length for this model (2048 > 1024). Running this sequence through the model will result in indexing errors\n",
      "Token indices sequence length is longer than the specified maximum sequence length for this model (2009 > 1024). Running this sequence through the model will result in indexing errors\n",
      "Token indices sequence length is longer than the specified maximum sequence length for this model (1871 > 1024). Running this sequence through the model will result in indexing errors\n",
      "Token indices sequence length is longer than the specified maximum sequence length for this model (2105 > 1024). Running this sequence through the model will result in indexing errors\n",
      "Token indices sequence length is longer than the specified maximum sequence length for this model (3390 > 1024). Running this sequence through the model will result in indexing errors\n",
      "Token indices sequence length is longer than the specified maximum sequence length for this model (1589 > 1024). Running this sequence through the model will result in indexing errors\n",
      "Token indices sequence length is longer than the specified maximum sequence length for this model (2652 > 1024). Running this sequence through the model will result in indexing errors\n",
      "Token indices sequence length is longer than the specified maximum sequence length for this model (1826 > 1024). Running this sequence through the model will result in indexing errors\n",
      "Token indices sequence length is longer than the specified maximum sequence length for this model (2403 > 1024). Running this sequence through the model will result in indexing errors\n",
      "Token indices sequence length is longer than the specified maximum sequence length for this model (3350 > 1024). Running this sequence through the model will result in indexing errors\n",
      "Token indices sequence length is longer than the specified maximum sequence length for this model (2699 > 1024). Running this sequence through the model will result in indexing errors\n",
      "Token indices sequence length is longer than the specified maximum sequence length for this model (4337 > 1024). Running this sequence through the model will result in indexing errors\n",
      "Token indices sequence length is longer than the specified maximum sequence length for this model (2043 > 1024). Running this sequence through the model will result in indexing errors\n",
      "Token indices sequence length is longer than the specified maximum sequence length for this model (3051 > 1024). Running this sequence through the model will result in indexing errors\n",
      "Token indices sequence length is longer than the specified maximum sequence length for this model (1415 > 1024). Running this sequence through the model will result in indexing errors\n",
      "Token indices sequence length is longer than the specified maximum sequence length for this model (2626 > 1024). Running this sequence through the model will result in indexing errors\n",
      "Token indices sequence length is longer than the specified maximum sequence length for this model (1839 > 1024). Running this sequence through the model will result in indexing errors\n",
      "Token indices sequence length is longer than the specified maximum sequence length for this model (3548 > 1024). Running this sequence through the model will result in indexing errors\n"
     ]
    },
    {
     "name": "stderr",
     "output_type": "stream",
     "text": [
      "Token indices sequence length is longer than the specified maximum sequence length for this model (5725 > 1024). Running this sequence through the model will result in indexing errors\n",
      "Token indices sequence length is longer than the specified maximum sequence length for this model (3330 > 1024). Running this sequence through the model will result in indexing errors\n",
      "Token indices sequence length is longer than the specified maximum sequence length for this model (2198 > 1024). Running this sequence through the model will result in indexing errors\n",
      "Token indices sequence length is longer than the specified maximum sequence length for this model (2946 > 1024). Running this sequence through the model will result in indexing errors\n",
      "Token indices sequence length is longer than the specified maximum sequence length for this model (3701 > 1024). Running this sequence through the model will result in indexing errors\n",
      "Token indices sequence length is longer than the specified maximum sequence length for this model (1919 > 1024). Running this sequence through the model will result in indexing errors\n",
      "Token indices sequence length is longer than the specified maximum sequence length for this model (3252 > 1024). Running this sequence through the model will result in indexing errors\n",
      "Token indices sequence length is longer than the specified maximum sequence length for this model (2298 > 1024). Running this sequence through the model will result in indexing errors\n",
      "Token indices sequence length is longer than the specified maximum sequence length for this model (2605 > 1024). Running this sequence through the model will result in indexing errors\n",
      "Token indices sequence length is longer than the specified maximum sequence length for this model (1624 > 1024). Running this sequence through the model will result in indexing errors\n",
      "Token indices sequence length is longer than the specified maximum sequence length for this model (2943 > 1024). Running this sequence through the model will result in indexing errors\n",
      "Token indices sequence length is longer than the specified maximum sequence length for this model (3129 > 1024). Running this sequence through the model will result in indexing errors\n",
      "Token indices sequence length is longer than the specified maximum sequence length for this model (3255 > 1024). Running this sequence through the model will result in indexing errors\n",
      "Token indices sequence length is longer than the specified maximum sequence length for this model (2361 > 1024). Running this sequence through the model will result in indexing errors\n",
      "Token indices sequence length is longer than the specified maximum sequence length for this model (4897 > 1024). Running this sequence through the model will result in indexing errors\n",
      "Token indices sequence length is longer than the specified maximum sequence length for this model (1139 > 1024). Running this sequence through the model will result in indexing errors\n",
      "Token indices sequence length is longer than the specified maximum sequence length for this model (1444 > 1024). Running this sequence through the model will result in indexing errors\n",
      "Token indices sequence length is longer than the specified maximum sequence length for this model (3418 > 1024). Running this sequence through the model will result in indexing errors\n",
      "Token indices sequence length is longer than the specified maximum sequence length for this model (4628 > 1024). Running this sequence through the model will result in indexing errors\n",
      "Token indices sequence length is longer than the specified maximum sequence length for this model (1661 > 1024). Running this sequence through the model will result in indexing errors\n",
      "Token indices sequence length is longer than the specified maximum sequence length for this model (3145 > 1024). Running this sequence through the model will result in indexing errors\n",
      "Token indices sequence length is longer than the specified maximum sequence length for this model (2692 > 1024). Running this sequence through the model will result in indexing errors\n",
      "Token indices sequence length is longer than the specified maximum sequence length for this model (1911 > 1024). Running this sequence through the model will result in indexing errors\n",
      "Token indices sequence length is longer than the specified maximum sequence length for this model (3477 > 1024). Running this sequence through the model will result in indexing errors\n",
      "Token indices sequence length is longer than the specified maximum sequence length for this model (2400 > 1024). Running this sequence through the model will result in indexing errors\n",
      "Token indices sequence length is longer than the specified maximum sequence length for this model (3157 > 1024). Running this sequence through the model will result in indexing errors\n",
      "Token indices sequence length is longer than the specified maximum sequence length for this model (2846 > 1024). Running this sequence through the model will result in indexing errors\n",
      "Token indices sequence length is longer than the specified maximum sequence length for this model (3489 > 1024). Running this sequence through the model will result in indexing errors\n",
      "Token indices sequence length is longer than the specified maximum sequence length for this model (2690 > 1024). Running this sequence through the model will result in indexing errors\n",
      "Token indices sequence length is longer than the specified maximum sequence length for this model (3166 > 1024). Running this sequence through the model will result in indexing errors\n",
      "Token indices sequence length is longer than the specified maximum sequence length for this model (4524 > 1024). Running this sequence through the model will result in indexing errors\n",
      "Token indices sequence length is longer than the specified maximum sequence length for this model (2861 > 1024). Running this sequence through the model will result in indexing errors\n",
      "Token indices sequence length is longer than the specified maximum sequence length for this model (3911 > 1024). Running this sequence through the model will result in indexing errors\n",
      "Token indices sequence length is longer than the specified maximum sequence length for this model (3100 > 1024). Running this sequence through the model will result in indexing errors\n",
      "Token indices sequence length is longer than the specified maximum sequence length for this model (3098 > 1024). Running this sequence through the model will result in indexing errors\n",
      "Token indices sequence length is longer than the specified maximum sequence length for this model (1812 > 1024). Running this sequence through the model will result in indexing errors\n",
      "Token indices sequence length is longer than the specified maximum sequence length for this model (3499 > 1024). Running this sequence through the model will result in indexing errors\n",
      "Token indices sequence length is longer than the specified maximum sequence length for this model (2784 > 1024). Running this sequence through the model will result in indexing errors\n",
      "Token indices sequence length is longer than the specified maximum sequence length for this model (2610 > 1024). Running this sequence through the model will result in indexing errors\n",
      "Token indices sequence length is longer than the specified maximum sequence length for this model (4828 > 1024). Running this sequence through the model will result in indexing errors\n",
      "Token indices sequence length is longer than the specified maximum sequence length for this model (4705 > 1024). Running this sequence through the model will result in indexing errors\n",
      "Token indices sequence length is longer than the specified maximum sequence length for this model (3353 > 1024). Running this sequence through the model will result in indexing errors\n",
      "Token indices sequence length is longer than the specified maximum sequence length for this model (3688 > 1024). Running this sequence through the model will result in indexing errors\n",
      "Token indices sequence length is longer than the specified maximum sequence length for this model (3085 > 1024). Running this sequence through the model will result in indexing errors\n",
      "Token indices sequence length is longer than the specified maximum sequence length for this model (2205 > 1024). Running this sequence through the model will result in indexing errors\n"
     ]
    },
    {
     "name": "stderr",
     "output_type": "stream",
     "text": [
      "Token indices sequence length is longer than the specified maximum sequence length for this model (3076 > 1024). Running this sequence through the model will result in indexing errors\n",
      "Token indices sequence length is longer than the specified maximum sequence length for this model (2405 > 1024). Running this sequence through the model will result in indexing errors\n",
      "Token indices sequence length is longer than the specified maximum sequence length for this model (2081 > 1024). Running this sequence through the model will result in indexing errors\n",
      "Token indices sequence length is longer than the specified maximum sequence length for this model (3514 > 1024). Running this sequence through the model will result in indexing errors\n",
      "Token indices sequence length is longer than the specified maximum sequence length for this model (2895 > 1024). Running this sequence through the model will result in indexing errors\n",
      "Token indices sequence length is longer than the specified maximum sequence length for this model (2049 > 1024). Running this sequence through the model will result in indexing errors\n",
      "Token indices sequence length is longer than the specified maximum sequence length for this model (1969 > 1024). Running this sequence through the model will result in indexing errors\n",
      "Token indices sequence length is longer than the specified maximum sequence length for this model (3895 > 1024). Running this sequence through the model will result in indexing errors\n",
      "Token indices sequence length is longer than the specified maximum sequence length for this model (4670 > 1024). Running this sequence through the model will result in indexing errors\n",
      "Token indices sequence length is longer than the specified maximum sequence length for this model (2171 > 1024). Running this sequence through the model will result in indexing errors\n",
      "Token indices sequence length is longer than the specified maximum sequence length for this model (2635 > 1024). Running this sequence through the model will result in indexing errors\n",
      "Token indices sequence length is longer than the specified maximum sequence length for this model (3344 > 1024). Running this sequence through the model will result in indexing errors\n",
      "Token indices sequence length is longer than the specified maximum sequence length for this model (2930 > 1024). Running this sequence through the model will result in indexing errors\n",
      "Token indices sequence length is longer than the specified maximum sequence length for this model (3178 > 1024). Running this sequence through the model will result in indexing errors\n",
      "Token indices sequence length is longer than the specified maximum sequence length for this model (2088 > 1024). Running this sequence through the model will result in indexing errors\n",
      "Token indices sequence length is longer than the specified maximum sequence length for this model (2038 > 1024). Running this sequence through the model will result in indexing errors\n",
      "Token indices sequence length is longer than the specified maximum sequence length for this model (2776 > 1024). Running this sequence through the model will result in indexing errors\n",
      "Token indices sequence length is longer than the specified maximum sequence length for this model (2871 > 1024). Running this sequence through the model will result in indexing errors\n",
      "Token indices sequence length is longer than the specified maximum sequence length for this model (3801 > 1024). Running this sequence through the model will result in indexing errors\n",
      "Token indices sequence length is longer than the specified maximum sequence length for this model (2539 > 1024). Running this sequence through the model will result in indexing errors\n",
      "Token indices sequence length is longer than the specified maximum sequence length for this model (4056 > 1024). Running this sequence through the model will result in indexing errors\n",
      "Token indices sequence length is longer than the specified maximum sequence length for this model (1858 > 1024). Running this sequence through the model will result in indexing errors\n",
      "Token indices sequence length is longer than the specified maximum sequence length for this model (2445 > 1024). Running this sequence through the model will result in indexing errors\n",
      "Token indices sequence length is longer than the specified maximum sequence length for this model (3609 > 1024). Running this sequence through the model will result in indexing errors\n",
      "Token indices sequence length is longer than the specified maximum sequence length for this model (4367 > 1024). Running this sequence through the model will result in indexing errors\n",
      "Token indices sequence length is longer than the specified maximum sequence length for this model (3394 > 1024). Running this sequence through the model will result in indexing errors\n",
      "Token indices sequence length is longer than the specified maximum sequence length for this model (2977 > 1024). Running this sequence through the model will result in indexing errors\n",
      "Token indices sequence length is longer than the specified maximum sequence length for this model (1838 > 1024). Running this sequence through the model will result in indexing errors\n",
      "Token indices sequence length is longer than the specified maximum sequence length for this model (3686 > 1024). Running this sequence through the model will result in indexing errors\n",
      "Token indices sequence length is longer than the specified maximum sequence length for this model (2838 > 1024). Running this sequence through the model will result in indexing errors\n",
      "Token indices sequence length is longer than the specified maximum sequence length for this model (2930 > 1024). Running this sequence through the model will result in indexing errors\n",
      "Token indices sequence length is longer than the specified maximum sequence length for this model (3973 > 1024). Running this sequence through the model will result in indexing errors\n",
      "Token indices sequence length is longer than the specified maximum sequence length for this model (5191 > 1024). Running this sequence through the model will result in indexing errors\n",
      "Token indices sequence length is longer than the specified maximum sequence length for this model (1844 > 1024). Running this sequence through the model will result in indexing errors\n",
      "Token indices sequence length is longer than the specified maximum sequence length for this model (3708 > 1024). Running this sequence through the model will result in indexing errors\n",
      "Token indices sequence length is longer than the specified maximum sequence length for this model (2640 > 1024). Running this sequence through the model will result in indexing errors\n",
      "Token indices sequence length is longer than the specified maximum sequence length for this model (2263 > 1024). Running this sequence through the model will result in indexing errors\n",
      "Token indices sequence length is longer than the specified maximum sequence length for this model (2930 > 1024). Running this sequence through the model will result in indexing errors\n",
      "Token indices sequence length is longer than the specified maximum sequence length for this model (2997 > 1024). Running this sequence through the model will result in indexing errors\n",
      "Token indices sequence length is longer than the specified maximum sequence length for this model (2309 > 1024). Running this sequence through the model will result in indexing errors\n",
      "Token indices sequence length is longer than the specified maximum sequence length for this model (2467 > 1024). Running this sequence through the model will result in indexing errors\n",
      "Token indices sequence length is longer than the specified maximum sequence length for this model (1216 > 1024). Running this sequence through the model will result in indexing errors\n",
      "Token indices sequence length is longer than the specified maximum sequence length for this model (3155 > 1024). Running this sequence through the model will result in indexing errors\n",
      "Token indices sequence length is longer than the specified maximum sequence length for this model (1502 > 1024). Running this sequence through the model will result in indexing errors\n",
      "Token indices sequence length is longer than the specified maximum sequence length for this model (2972 > 1024). Running this sequence through the model will result in indexing errors\n"
     ]
    },
    {
     "name": "stderr",
     "output_type": "stream",
     "text": [
      "Token indices sequence length is longer than the specified maximum sequence length for this model (2561 > 1024). Running this sequence through the model will result in indexing errors\n",
      "Token indices sequence length is longer than the specified maximum sequence length for this model (2231 > 1024). Running this sequence through the model will result in indexing errors\n",
      "Token indices sequence length is longer than the specified maximum sequence length for this model (2643 > 1024). Running this sequence through the model will result in indexing errors\n",
      "Token indices sequence length is longer than the specified maximum sequence length for this model (3250 > 1024). Running this sequence through the model will result in indexing errors\n",
      "Token indices sequence length is longer than the specified maximum sequence length for this model (1764 > 1024). Running this sequence through the model will result in indexing errors\n",
      "Token indices sequence length is longer than the specified maximum sequence length for this model (1817 > 1024). Running this sequence through the model will result in indexing errors\n",
      "Token indices sequence length is longer than the specified maximum sequence length for this model (3087 > 1024). Running this sequence through the model will result in indexing errors\n",
      "Token indices sequence length is longer than the specified maximum sequence length for this model (2763 > 1024). Running this sequence through the model will result in indexing errors\n",
      "Token indices sequence length is longer than the specified maximum sequence length for this model (3487 > 1024). Running this sequence through the model will result in indexing errors\n",
      "Token indices sequence length is longer than the specified maximum sequence length for this model (2873 > 1024). Running this sequence through the model will result in indexing errors\n",
      "Token indices sequence length is longer than the specified maximum sequence length for this model (1051 > 1024). Running this sequence through the model will result in indexing errors\n",
      "Token indices sequence length is longer than the specified maximum sequence length for this model (3672 > 1024). Running this sequence through the model will result in indexing errors\n",
      "Token indices sequence length is longer than the specified maximum sequence length for this model (3616 > 1024). Running this sequence through the model will result in indexing errors\n",
      "Token indices sequence length is longer than the specified maximum sequence length for this model (1972 > 1024). Running this sequence through the model will result in indexing errors\n",
      "Token indices sequence length is longer than the specified maximum sequence length for this model (2696 > 1024). Running this sequence through the model will result in indexing errors\n",
      "Token indices sequence length is longer than the specified maximum sequence length for this model (2556 > 1024). Running this sequence through the model will result in indexing errors\n",
      "Token indices sequence length is longer than the specified maximum sequence length for this model (2792 > 1024). Running this sequence through the model will result in indexing errors\n",
      "Token indices sequence length is longer than the specified maximum sequence length for this model (3470 > 1024). Running this sequence through the model will result in indexing errors\n",
      "Token indices sequence length is longer than the specified maximum sequence length for this model (4514 > 1024). Running this sequence through the model will result in indexing errors\n",
      "Token indices sequence length is longer than the specified maximum sequence length for this model (2518 > 1024). Running this sequence through the model will result in indexing errors\n",
      "Token indices sequence length is longer than the specified maximum sequence length for this model (3895 > 1024). Running this sequence through the model will result in indexing errors\n",
      "Token indices sequence length is longer than the specified maximum sequence length for this model (4498 > 1024). Running this sequence through the model will result in indexing errors\n",
      "Token indices sequence length is longer than the specified maximum sequence length for this model (3848 > 1024). Running this sequence through the model will result in indexing errors\n",
      "Token indices sequence length is longer than the specified maximum sequence length for this model (2394 > 1024). Running this sequence through the model will result in indexing errors\n",
      "Token indices sequence length is longer than the specified maximum sequence length for this model (2577 > 1024). Running this sequence through the model will result in indexing errors\n",
      "Token indices sequence length is longer than the specified maximum sequence length for this model (4127 > 1024). Running this sequence through the model will result in indexing errors\n",
      "Token indices sequence length is longer than the specified maximum sequence length for this model (3169 > 1024). Running this sequence through the model will result in indexing errors\n",
      "Token indices sequence length is longer than the specified maximum sequence length for this model (4863 > 1024). Running this sequence through the model will result in indexing errors\n",
      "Token indices sequence length is longer than the specified maximum sequence length for this model (3781 > 1024). Running this sequence through the model will result in indexing errors\n",
      "Token indices sequence length is longer than the specified maximum sequence length for this model (2068 > 1024). Running this sequence through the model will result in indexing errors\n",
      "Token indices sequence length is longer than the specified maximum sequence length for this model (1652 > 1024). Running this sequence through the model will result in indexing errors\n",
      "Token indices sequence length is longer than the specified maximum sequence length for this model (3076 > 1024). Running this sequence through the model will result in indexing errors\n",
      "Token indices sequence length is longer than the specified maximum sequence length for this model (3192 > 1024). Running this sequence through the model will result in indexing errors\n",
      "Token indices sequence length is longer than the specified maximum sequence length for this model (2236 > 1024). Running this sequence through the model will result in indexing errors\n",
      "Token indices sequence length is longer than the specified maximum sequence length for this model (3314 > 1024). Running this sequence through the model will result in indexing errors\n",
      "Token indices sequence length is longer than the specified maximum sequence length for this model (2684 > 1024). Running this sequence through the model will result in indexing errors\n",
      "Token indices sequence length is longer than the specified maximum sequence length for this model (3695 > 1024). Running this sequence through the model will result in indexing errors\n",
      "Token indices sequence length is longer than the specified maximum sequence length for this model (2406 > 1024). Running this sequence through the model will result in indexing errors\n",
      "Token indices sequence length is longer than the specified maximum sequence length for this model (2844 > 1024). Running this sequence through the model will result in indexing errors\n",
      "Token indices sequence length is longer than the specified maximum sequence length for this model (4131 > 1024). Running this sequence through the model will result in indexing errors\n",
      "Token indices sequence length is longer than the specified maximum sequence length for this model (2918 > 1024). Running this sequence through the model will result in indexing errors\n",
      "Token indices sequence length is longer than the specified maximum sequence length for this model (1552 > 1024). Running this sequence through the model will result in indexing errors\n",
      "Token indices sequence length is longer than the specified maximum sequence length for this model (1968 > 1024). Running this sequence through the model will result in indexing errors\n",
      "Token indices sequence length is longer than the specified maximum sequence length for this model (4609 > 1024). Running this sequence through the model will result in indexing errors\n",
      "Token indices sequence length is longer than the specified maximum sequence length for this model (5445 > 1024). Running this sequence through the model will result in indexing errors\n"
     ]
    },
    {
     "name": "stderr",
     "output_type": "stream",
     "text": [
      "Token indices sequence length is longer than the specified maximum sequence length for this model (3005 > 1024). Running this sequence through the model will result in indexing errors\n",
      "Token indices sequence length is longer than the specified maximum sequence length for this model (5616 > 1024). Running this sequence through the model will result in indexing errors\n",
      "Token indices sequence length is longer than the specified maximum sequence length for this model (2115 > 1024). Running this sequence through the model will result in indexing errors\n",
      "Token indices sequence length is longer than the specified maximum sequence length for this model (4059 > 1024). Running this sequence through the model will result in indexing errors\n",
      "Token indices sequence length is longer than the specified maximum sequence length for this model (2741 > 1024). Running this sequence through the model will result in indexing errors\n",
      "Token indices sequence length is longer than the specified maximum sequence length for this model (4707 > 1024). Running this sequence through the model will result in indexing errors\n",
      "Token indices sequence length is longer than the specified maximum sequence length for this model (1843 > 1024). Running this sequence through the model will result in indexing errors\n",
      "Token indices sequence length is longer than the specified maximum sequence length for this model (2979 > 1024). Running this sequence through the model will result in indexing errors\n",
      "Token indices sequence length is longer than the specified maximum sequence length for this model (4033 > 1024). Running this sequence through the model will result in indexing errors\n",
      "Token indices sequence length is longer than the specified maximum sequence length for this model (1514 > 1024). Running this sequence through the model will result in indexing errors\n",
      "Token indices sequence length is longer than the specified maximum sequence length for this model (2349 > 1024). Running this sequence through the model will result in indexing errors\n",
      "Token indices sequence length is longer than the specified maximum sequence length for this model (2939 > 1024). Running this sequence through the model will result in indexing errors\n",
      "Token indices sequence length is longer than the specified maximum sequence length for this model (4696 > 1024). Running this sequence through the model will result in indexing errors\n",
      "Token indices sequence length is longer than the specified maximum sequence length for this model (1544 > 1024). Running this sequence through the model will result in indexing errors\n",
      "Token indices sequence length is longer than the specified maximum sequence length for this model (2743 > 1024). Running this sequence through the model will result in indexing errors\n",
      "Token indices sequence length is longer than the specified maximum sequence length for this model (5173 > 1024). Running this sequence through the model will result in indexing errors\n",
      "Token indices sequence length is longer than the specified maximum sequence length for this model (2242 > 1024). Running this sequence through the model will result in indexing errors\n",
      "Token indices sequence length is longer than the specified maximum sequence length for this model (1908 > 1024). Running this sequence through the model will result in indexing errors\n",
      "Token indices sequence length is longer than the specified maximum sequence length for this model (1712 > 1024). Running this sequence through the model will result in indexing errors\n",
      "Token indices sequence length is longer than the specified maximum sequence length for this model (2592 > 1024). Running this sequence through the model will result in indexing errors\n",
      "Token indices sequence length is longer than the specified maximum sequence length for this model (2509 > 1024). Running this sequence through the model will result in indexing errors\n",
      "Token indices sequence length is longer than the specified maximum sequence length for this model (2473 > 1024). Running this sequence through the model will result in indexing errors\n",
      "Token indices sequence length is longer than the specified maximum sequence length for this model (2354 > 1024). Running this sequence through the model will result in indexing errors\n",
      "Token indices sequence length is longer than the specified maximum sequence length for this model (2946 > 1024). Running this sequence through the model will result in indexing errors\n",
      "Token indices sequence length is longer than the specified maximum sequence length for this model (1596 > 1024). Running this sequence through the model will result in indexing errors\n",
      "Token indices sequence length is longer than the specified maximum sequence length for this model (3674 > 1024). Running this sequence through the model will result in indexing errors\n",
      "Token indices sequence length is longer than the specified maximum sequence length for this model (5188 > 1024). Running this sequence through the model will result in indexing errors\n",
      "Token indices sequence length is longer than the specified maximum sequence length for this model (4498 > 1024). Running this sequence through the model will result in indexing errors\n",
      "Token indices sequence length is longer than the specified maximum sequence length for this model (2210 > 1024). Running this sequence through the model will result in indexing errors\n",
      "Token indices sequence length is longer than the specified maximum sequence length for this model (2272 > 1024). Running this sequence through the model will result in indexing errors\n",
      "Token indices sequence length is longer than the specified maximum sequence length for this model (2295 > 1024). Running this sequence through the model will result in indexing errors\n",
      "Token indices sequence length is longer than the specified maximum sequence length for this model (1871 > 1024). Running this sequence through the model will result in indexing errors\n",
      "Token indices sequence length is longer than the specified maximum sequence length for this model (3675 > 1024). Running this sequence through the model will result in indexing errors\n",
      "Token indices sequence length is longer than the specified maximum sequence length for this model (2781 > 1024). Running this sequence through the model will result in indexing errors\n",
      "Token indices sequence length is longer than the specified maximum sequence length for this model (4969 > 1024). Running this sequence through the model will result in indexing errors\n",
      "Token indices sequence length is longer than the specified maximum sequence length for this model (3716 > 1024). Running this sequence through the model will result in indexing errors\n",
      "Token indices sequence length is longer than the specified maximum sequence length for this model (2576 > 1024). Running this sequence through the model will result in indexing errors\n",
      "Token indices sequence length is longer than the specified maximum sequence length for this model (4896 > 1024). Running this sequence through the model will result in indexing errors\n",
      "Token indices sequence length is longer than the specified maximum sequence length for this model (3654 > 1024). Running this sequence through the model will result in indexing errors\n",
      "Token indices sequence length is longer than the specified maximum sequence length for this model (2895 > 1024). Running this sequence through the model will result in indexing errors\n",
      "Token indices sequence length is longer than the specified maximum sequence length for this model (1633 > 1024). Running this sequence through the model will result in indexing errors\n",
      "Token indices sequence length is longer than the specified maximum sequence length for this model (3041 > 1024). Running this sequence through the model will result in indexing errors\n",
      "Token indices sequence length is longer than the specified maximum sequence length for this model (1730 > 1024). Running this sequence through the model will result in indexing errors\n",
      "Token indices sequence length is longer than the specified maximum sequence length for this model (2383 > 1024). Running this sequence through the model will result in indexing errors\n",
      "Token indices sequence length is longer than the specified maximum sequence length for this model (2283 > 1024). Running this sequence through the model will result in indexing errors\n"
     ]
    },
    {
     "name": "stderr",
     "output_type": "stream",
     "text": [
      "Token indices sequence length is longer than the specified maximum sequence length for this model (3197 > 1024). Running this sequence through the model will result in indexing errors\n",
      "Token indices sequence length is longer than the specified maximum sequence length for this model (3362 > 1024). Running this sequence through the model will result in indexing errors\n",
      "Token indices sequence length is longer than the specified maximum sequence length for this model (4754 > 1024). Running this sequence through the model will result in indexing errors\n",
      "Token indices sequence length is longer than the specified maximum sequence length for this model (3322 > 1024). Running this sequence through the model will result in indexing errors\n",
      "Token indices sequence length is longer than the specified maximum sequence length for this model (3293 > 1024). Running this sequence through the model will result in indexing errors\n",
      "Token indices sequence length is longer than the specified maximum sequence length for this model (2148 > 1024). Running this sequence through the model will result in indexing errors\n",
      "Token indices sequence length is longer than the specified maximum sequence length for this model (3485 > 1024). Running this sequence through the model will result in indexing errors\n",
      "Token indices sequence length is longer than the specified maximum sequence length for this model (2916 > 1024). Running this sequence through the model will result in indexing errors\n",
      "Token indices sequence length is longer than the specified maximum sequence length for this model (3567 > 1024). Running this sequence through the model will result in indexing errors\n",
      "Token indices sequence length is longer than the specified maximum sequence length for this model (3141 > 1024). Running this sequence through the model will result in indexing errors\n",
      "Token indices sequence length is longer than the specified maximum sequence length for this model (4027 > 1024). Running this sequence through the model will result in indexing errors\n",
      "Token indices sequence length is longer than the specified maximum sequence length for this model (4601 > 1024). Running this sequence through the model will result in indexing errors\n",
      "Token indices sequence length is longer than the specified maximum sequence length for this model (3990 > 1024). Running this sequence through the model will result in indexing errors\n",
      "Token indices sequence length is longer than the specified maximum sequence length for this model (3057 > 1024). Running this sequence through the model will result in indexing errors\n",
      "Token indices sequence length is longer than the specified maximum sequence length for this model (2501 > 1024). Running this sequence through the model will result in indexing errors\n",
      "Token indices sequence length is longer than the specified maximum sequence length for this model (4406 > 1024). Running this sequence through the model will result in indexing errors\n",
      "Token indices sequence length is longer than the specified maximum sequence length for this model (2025 > 1024). Running this sequence through the model will result in indexing errors\n",
      "Token indices sequence length is longer than the specified maximum sequence length for this model (3328 > 1024). Running this sequence through the model will result in indexing errors\n",
      "Token indices sequence length is longer than the specified maximum sequence length for this model (1802 > 1024). Running this sequence through the model will result in indexing errors\n",
      "Token indices sequence length is longer than the specified maximum sequence length for this model (5050 > 1024). Running this sequence through the model will result in indexing errors\n",
      "Token indices sequence length is longer than the specified maximum sequence length for this model (2869 > 1024). Running this sequence through the model will result in indexing errors\n",
      "Token indices sequence length is longer than the specified maximum sequence length for this model (3172 > 1024). Running this sequence through the model will result in indexing errors\n",
      "Token indices sequence length is longer than the specified maximum sequence length for this model (3262 > 1024). Running this sequence through the model will result in indexing errors\n",
      "Token indices sequence length is longer than the specified maximum sequence length for this model (4646 > 1024). Running this sequence through the model will result in indexing errors\n",
      "Token indices sequence length is longer than the specified maximum sequence length for this model (3056 > 1024). Running this sequence through the model will result in indexing errors\n",
      "Token indices sequence length is longer than the specified maximum sequence length for this model (3321 > 1024). Running this sequence through the model will result in indexing errors\n",
      "Token indices sequence length is longer than the specified maximum sequence length for this model (3423 > 1024). Running this sequence through the model will result in indexing errors\n",
      "Token indices sequence length is longer than the specified maximum sequence length for this model (3167 > 1024). Running this sequence through the model will result in indexing errors\n",
      "Token indices sequence length is longer than the specified maximum sequence length for this model (4258 > 1024). Running this sequence through the model will result in indexing errors\n",
      "Token indices sequence length is longer than the specified maximum sequence length for this model (3125 > 1024). Running this sequence through the model will result in indexing errors\n",
      "Token indices sequence length is longer than the specified maximum sequence length for this model (4466 > 1024). Running this sequence through the model will result in indexing errors\n",
      "Token indices sequence length is longer than the specified maximum sequence length for this model (3917 > 1024). Running this sequence through the model will result in indexing errors\n",
      "Token indices sequence length is longer than the specified maximum sequence length for this model (2024 > 1024). Running this sequence through the model will result in indexing errors\n",
      "Token indices sequence length is longer than the specified maximum sequence length for this model (2845 > 1024). Running this sequence through the model will result in indexing errors\n",
      "Token indices sequence length is longer than the specified maximum sequence length for this model (3273 > 1024). Running this sequence through the model will result in indexing errors\n",
      "Token indices sequence length is longer than the specified maximum sequence length for this model (3862 > 1024). Running this sequence through the model will result in indexing errors\n",
      "Token indices sequence length is longer than the specified maximum sequence length for this model (3175 > 1024). Running this sequence through the model will result in indexing errors\n",
      "Token indices sequence length is longer than the specified maximum sequence length for this model (2331 > 1024). Running this sequence through the model will result in indexing errors\n",
      "Token indices sequence length is longer than the specified maximum sequence length for this model (2491 > 1024). Running this sequence through the model will result in indexing errors\n",
      "Token indices sequence length is longer than the specified maximum sequence length for this model (3734 > 1024). Running this sequence through the model will result in indexing errors\n",
      "Token indices sequence length is longer than the specified maximum sequence length for this model (3939 > 1024). Running this sequence through the model will result in indexing errors\n",
      "Token indices sequence length is longer than the specified maximum sequence length for this model (1351 > 1024). Running this sequence through the model will result in indexing errors\n",
      "Token indices sequence length is longer than the specified maximum sequence length for this model (2133 > 1024). Running this sequence through the model will result in indexing errors\n",
      "Token indices sequence length is longer than the specified maximum sequence length for this model (2364 > 1024). Running this sequence through the model will result in indexing errors\n",
      "Token indices sequence length is longer than the specified maximum sequence length for this model (4411 > 1024). Running this sequence through the model will result in indexing errors\n"
     ]
    },
    {
     "name": "stderr",
     "output_type": "stream",
     "text": [
      "Token indices sequence length is longer than the specified maximum sequence length for this model (2254 > 1024). Running this sequence through the model will result in indexing errors\n",
      "Token indices sequence length is longer than the specified maximum sequence length for this model (3537 > 1024). Running this sequence through the model will result in indexing errors\n",
      "Token indices sequence length is longer than the specified maximum sequence length for this model (2636 > 1024). Running this sequence through the model will result in indexing errors\n",
      "Token indices sequence length is longer than the specified maximum sequence length for this model (3109 > 1024). Running this sequence through the model will result in indexing errors\n",
      "Token indices sequence length is longer than the specified maximum sequence length for this model (3299 > 1024). Running this sequence through the model will result in indexing errors\n",
      "Token indices sequence length is longer than the specified maximum sequence length for this model (4722 > 1024). Running this sequence through the model will result in indexing errors\n",
      "Token indices sequence length is longer than the specified maximum sequence length for this model (1984 > 1024). Running this sequence through the model will result in indexing errors\n",
      "Token indices sequence length is longer than the specified maximum sequence length for this model (1362 > 1024). Running this sequence through the model will result in indexing errors\n",
      "Token indices sequence length is longer than the specified maximum sequence length for this model (1798 > 1024). Running this sequence through the model will result in indexing errors\n",
      "Token indices sequence length is longer than the specified maximum sequence length for this model (1824 > 1024). Running this sequence through the model will result in indexing errors\n",
      "Token indices sequence length is longer than the specified maximum sequence length for this model (2082 > 1024). Running this sequence through the model will result in indexing errors\n",
      "Token indices sequence length is longer than the specified maximum sequence length for this model (2583 > 1024). Running this sequence through the model will result in indexing errors\n",
      "Token indices sequence length is longer than the specified maximum sequence length for this model (4519 > 1024). Running this sequence through the model will result in indexing errors\n",
      "Token indices sequence length is longer than the specified maximum sequence length for this model (2613 > 1024). Running this sequence through the model will result in indexing errors\n",
      "Token indices sequence length is longer than the specified maximum sequence length for this model (2004 > 1024). Running this sequence through the model will result in indexing errors\n",
      "Token indices sequence length is longer than the specified maximum sequence length for this model (3597 > 1024). Running this sequence through the model will result in indexing errors\n",
      "Token indices sequence length is longer than the specified maximum sequence length for this model (1953 > 1024). Running this sequence through the model will result in indexing errors\n",
      "Token indices sequence length is longer than the specified maximum sequence length for this model (4060 > 1024). Running this sequence through the model will result in indexing errors\n",
      "Token indices sequence length is longer than the specified maximum sequence length for this model (1636 > 1024). Running this sequence through the model will result in indexing errors\n",
      "Token indices sequence length is longer than the specified maximum sequence length for this model (5381 > 1024). Running this sequence through the model will result in indexing errors\n",
      "Token indices sequence length is longer than the specified maximum sequence length for this model (1985 > 1024). Running this sequence through the model will result in indexing errors\n",
      "Token indices sequence length is longer than the specified maximum sequence length for this model (2113 > 1024). Running this sequence through the model will result in indexing errors\n",
      "Token indices sequence length is longer than the specified maximum sequence length for this model (3505 > 1024). Running this sequence through the model will result in indexing errors\n",
      "Token indices sequence length is longer than the specified maximum sequence length for this model (4184 > 1024). Running this sequence through the model will result in indexing errors\n",
      "Token indices sequence length is longer than the specified maximum sequence length for this model (1842 > 1024). Running this sequence through the model will result in indexing errors\n",
      "Token indices sequence length is longer than the specified maximum sequence length for this model (1803 > 1024). Running this sequence through the model will result in indexing errors\n",
      "Token indices sequence length is longer than the specified maximum sequence length for this model (3028 > 1024). Running this sequence through the model will result in indexing errors\n",
      "Token indices sequence length is longer than the specified maximum sequence length for this model (3663 > 1024). Running this sequence through the model will result in indexing errors\n",
      "Token indices sequence length is longer than the specified maximum sequence length for this model (6012 > 1024). Running this sequence through the model will result in indexing errors\n",
      "Token indices sequence length is longer than the specified maximum sequence length for this model (1985 > 1024). Running this sequence through the model will result in indexing errors\n",
      "Token indices sequence length is longer than the specified maximum sequence length for this model (2082 > 1024). Running this sequence through the model will result in indexing errors\n",
      "Token indices sequence length is longer than the specified maximum sequence length for this model (1977 > 1024). Running this sequence through the model will result in indexing errors\n",
      "Token indices sequence length is longer than the specified maximum sequence length for this model (2828 > 1024). Running this sequence through the model will result in indexing errors\n",
      "Token indices sequence length is longer than the specified maximum sequence length for this model (2510 > 1024). Running this sequence through the model will result in indexing errors\n",
      "Token indices sequence length is longer than the specified maximum sequence length for this model (2373 > 1024). Running this sequence through the model will result in indexing errors\n",
      "Token indices sequence length is longer than the specified maximum sequence length for this model (2369 > 1024). Running this sequence through the model will result in indexing errors\n",
      "Token indices sequence length is longer than the specified maximum sequence length for this model (4093 > 1024). Running this sequence through the model will result in indexing errors\n",
      "Token indices sequence length is longer than the specified maximum sequence length for this model (2734 > 1024). Running this sequence through the model will result in indexing errors\n",
      "Token indices sequence length is longer than the specified maximum sequence length for this model (1265 > 1024). Running this sequence through the model will result in indexing errors\n",
      "Token indices sequence length is longer than the specified maximum sequence length for this model (3114 > 1024). Running this sequence through the model will result in indexing errors\n",
      "Token indices sequence length is longer than the specified maximum sequence length for this model (2857 > 1024). Running this sequence through the model will result in indexing errors\n",
      "Token indices sequence length is longer than the specified maximum sequence length for this model (2284 > 1024). Running this sequence through the model will result in indexing errors\n",
      "Token indices sequence length is longer than the specified maximum sequence length for this model (4825 > 1024). Running this sequence through the model will result in indexing errors\n",
      "Token indices sequence length is longer than the specified maximum sequence length for this model (1176 > 1024). Running this sequence through the model will result in indexing errors\n",
      "Token indices sequence length is longer than the specified maximum sequence length for this model (2844 > 1024). Running this sequence through the model will result in indexing errors\n"
     ]
    },
    {
     "name": "stderr",
     "output_type": "stream",
     "text": [
      "Token indices sequence length is longer than the specified maximum sequence length for this model (2973 > 1024). Running this sequence through the model will result in indexing errors\n",
      "Token indices sequence length is longer than the specified maximum sequence length for this model (4132 > 1024). Running this sequence through the model will result in indexing errors\n",
      "Token indices sequence length is longer than the specified maximum sequence length for this model (3570 > 1024). Running this sequence through the model will result in indexing errors\n",
      "Token indices sequence length is longer than the specified maximum sequence length for this model (2651 > 1024). Running this sequence through the model will result in indexing errors\n",
      "Token indices sequence length is longer than the specified maximum sequence length for this model (2029 > 1024). Running this sequence through the model will result in indexing errors\n",
      "Token indices sequence length is longer than the specified maximum sequence length for this model (2376 > 1024). Running this sequence through the model will result in indexing errors\n",
      "Token indices sequence length is longer than the specified maximum sequence length for this model (2486 > 1024). Running this sequence through the model will result in indexing errors\n",
      "Token indices sequence length is longer than the specified maximum sequence length for this model (2099 > 1024). Running this sequence through the model will result in indexing errors\n",
      "Token indices sequence length is longer than the specified maximum sequence length for this model (2073 > 1024). Running this sequence through the model will result in indexing errors\n",
      "Token indices sequence length is longer than the specified maximum sequence length for this model (2450 > 1024). Running this sequence through the model will result in indexing errors\n",
      "Token indices sequence length is longer than the specified maximum sequence length for this model (2563 > 1024). Running this sequence through the model will result in indexing errors\n",
      "Token indices sequence length is longer than the specified maximum sequence length for this model (3346 > 1024). Running this sequence through the model will result in indexing errors\n",
      "Token indices sequence length is longer than the specified maximum sequence length for this model (4444 > 1024). Running this sequence through the model will result in indexing errors\n",
      "Token indices sequence length is longer than the specified maximum sequence length for this model (1205 > 1024). Running this sequence through the model will result in indexing errors\n",
      "Token indices sequence length is longer than the specified maximum sequence length for this model (4698 > 1024). Running this sequence through the model will result in indexing errors\n",
      "Token indices sequence length is longer than the specified maximum sequence length for this model (2922 > 1024). Running this sequence through the model will result in indexing errors\n",
      "Token indices sequence length is longer than the specified maximum sequence length for this model (2043 > 1024). Running this sequence through the model will result in indexing errors\n",
      "Token indices sequence length is longer than the specified maximum sequence length for this model (2106 > 1024). Running this sequence through the model will result in indexing errors\n",
      "Token indices sequence length is longer than the specified maximum sequence length for this model (3427 > 1024). Running this sequence through the model will result in indexing errors\n",
      "Token indices sequence length is longer than the specified maximum sequence length for this model (3848 > 1024). Running this sequence through the model will result in indexing errors\n",
      "Token indices sequence length is longer than the specified maximum sequence length for this model (2445 > 1024). Running this sequence through the model will result in indexing errors\n",
      "Token indices sequence length is longer than the specified maximum sequence length for this model (3976 > 1024). Running this sequence through the model will result in indexing errors\n",
      "Token indices sequence length is longer than the specified maximum sequence length for this model (2777 > 1024). Running this sequence through the model will result in indexing errors\n",
      "Token indices sequence length is longer than the specified maximum sequence length for this model (3251 > 1024). Running this sequence through the model will result in indexing errors\n",
      "Token indices sequence length is longer than the specified maximum sequence length for this model (2698 > 1024). Running this sequence through the model will result in indexing errors\n",
      "Token indices sequence length is longer than the specified maximum sequence length for this model (2593 > 1024). Running this sequence through the model will result in indexing errors\n",
      "Token indices sequence length is longer than the specified maximum sequence length for this model (1838 > 1024). Running this sequence through the model will result in indexing errors\n",
      "Token indices sequence length is longer than the specified maximum sequence length for this model (2087 > 1024). Running this sequence through the model will result in indexing errors\n",
      "Token indices sequence length is longer than the specified maximum sequence length for this model (2771 > 1024). Running this sequence through the model will result in indexing errors\n",
      "Token indices sequence length is longer than the specified maximum sequence length for this model (2216 > 1024). Running this sequence through the model will result in indexing errors\n",
      "Token indices sequence length is longer than the specified maximum sequence length for this model (2805 > 1024). Running this sequence through the model will result in indexing errors\n",
      "Token indices sequence length is longer than the specified maximum sequence length for this model (3967 > 1024). Running this sequence through the model will result in indexing errors\n",
      "Token indices sequence length is longer than the specified maximum sequence length for this model (2670 > 1024). Running this sequence through the model will result in indexing errors\n",
      "Token indices sequence length is longer than the specified maximum sequence length for this model (1723 > 1024). Running this sequence through the model will result in indexing errors\n",
      "Token indices sequence length is longer than the specified maximum sequence length for this model (2724 > 1024). Running this sequence through the model will result in indexing errors\n",
      "Token indices sequence length is longer than the specified maximum sequence length for this model (1900 > 1024). Running this sequence through the model will result in indexing errors\n",
      "Token indices sequence length is longer than the specified maximum sequence length for this model (2981 > 1024). Running this sequence through the model will result in indexing errors\n",
      "Token indices sequence length is longer than the specified maximum sequence length for this model (3338 > 1024). Running this sequence through the model will result in indexing errors\n",
      "Token indices sequence length is longer than the specified maximum sequence length for this model (4712 > 1024). Running this sequence through the model will result in indexing errors\n",
      "Token indices sequence length is longer than the specified maximum sequence length for this model (1649 > 1024). Running this sequence through the model will result in indexing errors\n",
      "Token indices sequence length is longer than the specified maximum sequence length for this model (4038 > 1024). Running this sequence through the model will result in indexing errors\n",
      "Token indices sequence length is longer than the specified maximum sequence length for this model (2008 > 1024). Running this sequence through the model will result in indexing errors\n",
      "Token indices sequence length is longer than the specified maximum sequence length for this model (2889 > 1024). Running this sequence through the model will result in indexing errors\n",
      "Token indices sequence length is longer than the specified maximum sequence length for this model (1688 > 1024). Running this sequence through the model will result in indexing errors\n",
      "Token indices sequence length is longer than the specified maximum sequence length for this model (1331 > 1024). Running this sequence through the model will result in indexing errors\n"
     ]
    },
    {
     "name": "stderr",
     "output_type": "stream",
     "text": [
      "Token indices sequence length is longer than the specified maximum sequence length for this model (2423 > 1024). Running this sequence through the model will result in indexing errors\n",
      "Token indices sequence length is longer than the specified maximum sequence length for this model (3175 > 1024). Running this sequence through the model will result in indexing errors\n",
      "Token indices sequence length is longer than the specified maximum sequence length for this model (2072 > 1024). Running this sequence through the model will result in indexing errors\n",
      "Token indices sequence length is longer than the specified maximum sequence length for this model (1137 > 1024). Running this sequence through the model will result in indexing errors\n",
      "Token indices sequence length is longer than the specified maximum sequence length for this model (3077 > 1024). Running this sequence through the model will result in indexing errors\n",
      "Token indices sequence length is longer than the specified maximum sequence length for this model (4735 > 1024). Running this sequence through the model will result in indexing errors\n",
      "Token indices sequence length is longer than the specified maximum sequence length for this model (2535 > 1024). Running this sequence through the model will result in indexing errors\n",
      "Token indices sequence length is longer than the specified maximum sequence length for this model (2550 > 1024). Running this sequence through the model will result in indexing errors\n",
      "Token indices sequence length is longer than the specified maximum sequence length for this model (5134 > 1024). Running this sequence through the model will result in indexing errors\n",
      "Token indices sequence length is longer than the specified maximum sequence length for this model (2013 > 1024). Running this sequence through the model will result in indexing errors\n",
      "Token indices sequence length is longer than the specified maximum sequence length for this model (1893 > 1024). Running this sequence through the model will result in indexing errors\n",
      "Token indices sequence length is longer than the specified maximum sequence length for this model (2077 > 1024). Running this sequence through the model will result in indexing errors\n",
      "Token indices sequence length is longer than the specified maximum sequence length for this model (1567 > 1024). Running this sequence through the model will result in indexing errors\n",
      "Token indices sequence length is longer than the specified maximum sequence length for this model (5194 > 1024). Running this sequence through the model will result in indexing errors\n",
      "Token indices sequence length is longer than the specified maximum sequence length for this model (2914 > 1024). Running this sequence through the model will result in indexing errors\n",
      "Token indices sequence length is longer than the specified maximum sequence length for this model (1527 > 1024). Running this sequence through the model will result in indexing errors\n",
      "Token indices sequence length is longer than the specified maximum sequence length for this model (1796 > 1024). Running this sequence through the model will result in indexing errors\n",
      "Token indices sequence length is longer than the specified maximum sequence length for this model (3232 > 1024). Running this sequence through the model will result in indexing errors\n",
      "Token indices sequence length is longer than the specified maximum sequence length for this model (2590 > 1024). Running this sequence through the model will result in indexing errors\n",
      "Token indices sequence length is longer than the specified maximum sequence length for this model (2021 > 1024). Running this sequence through the model will result in indexing errors\n",
      "Token indices sequence length is longer than the specified maximum sequence length for this model (4387 > 1024). Running this sequence through the model will result in indexing errors\n"
     ]
    },
    {
     "ename": "KeyboardInterrupt",
     "evalue": "",
     "output_type": "error",
     "traceback": [
      "\u001b[0;31m---------------------------------------------------------------------------\u001b[0m",
      "\u001b[0;31mKeyboardInterrupt\u001b[0m                         Traceback (most recent call last)",
      "File \u001b[0;32m<timed exec>:15\u001b[0m\n",
      "File \u001b[0;32m~/Desktop/TDI_capstone/TasteFusion/tastefusion/utils/gpt_agent.py:124\u001b[0m, in \u001b[0;36mestimate_tokens\u001b[0;34m(self)\u001b[0m\n\u001b[1;32m    120\u001b[0m \u001b[38;5;28;01mif\u001b[39;00m content_type \u001b[38;5;241m==\u001b[39m \u001b[38;5;124m'\u001b[39m\u001b[38;5;124mcategory tags\u001b[39m\u001b[38;5;124m'\u001b[39m:\n\u001b[1;32m    121\u001b[0m     content \u001b[38;5;241m=\u001b[39m \u001b[38;5;28mself\u001b[39m\u001b[38;5;241m.\u001b[39mcurr_prompt_get_category_tags\n\u001b[1;32m    123\u001b[0m response \u001b[38;5;241m=\u001b[39m \u001b[38;5;28mself\u001b[39m\u001b[38;5;241m.\u001b[39mopenai_client\u001b[38;5;241m.\u001b[39mchat\u001b[38;5;241m.\u001b[39mcompletions\u001b[38;5;241m.\u001b[39mcreate(\n\u001b[0;32m--> 124\u001b[0m     model\u001b[38;5;241m=\u001b[39m\u001b[38;5;124m\"\u001b[39m\u001b[38;5;124mgpt-4-1106-preview\u001b[39m\u001b[38;5;124m\"\u001b[39m,\n\u001b[1;32m    125\u001b[0m     messages\u001b[38;5;241m=\u001b[39m[{\u001b[38;5;124m\"\u001b[39m\u001b[38;5;124mrole\u001b[39m\u001b[38;5;124m\"\u001b[39m: \u001b[38;5;124m\"\u001b[39m\u001b[38;5;124muser\u001b[39m\u001b[38;5;124m\"\u001b[39m, \u001b[38;5;124m\"\u001b[39m\u001b[38;5;124mcontent\u001b[39m\u001b[38;5;124m\"\u001b[39m: content}],\n\u001b[1;32m    126\u001b[0m     stream\u001b[38;5;241m=\u001b[39m\u001b[38;5;28;01mFalse\u001b[39;00m,\n\u001b[1;32m    127\u001b[0m )\n\u001b[1;32m    128\u001b[0m \u001b[38;5;28mself\u001b[39m\u001b[38;5;241m.\u001b[39msummary \u001b[38;5;241m=\u001b[39m response\u001b[38;5;241m.\u001b[39mchoices[\u001b[38;5;241m0\u001b[39m]\u001b[38;5;241m.\u001b[39mmessage\u001b[38;5;241m.\u001b[39mcontent\n\u001b[1;32m    129\u001b[0m \u001b[38;5;28;01mreturn\u001b[39;00m \u001b[38;5;28mself\u001b[39m\u001b[38;5;241m.\u001b[39msummary\n",
      "File \u001b[0;32m~/anaconda3/envs/ds/lib/python3.10/site-packages/transformers/tokenization_utils_base.py:2373\u001b[0m, in \u001b[0;36mPreTrainedTokenizerBase.encode\u001b[0;34m(self, text, text_pair, add_special_tokens, padding, truncation, max_length, stride, return_tensors, **kwargs)\u001b[0m\n\u001b[1;32m   2336\u001b[0m \u001b[38;5;129m@add_end_docstrings\u001b[39m(\n\u001b[1;32m   2337\u001b[0m     ENCODE_KWARGS_DOCSTRING,\n\u001b[1;32m   2338\u001b[0m \u001b[38;5;250m    \u001b[39m\u001b[38;5;124;03m\"\"\"\u001b[39;00m\n\u001b[0;32m   (...)\u001b[0m\n\u001b[1;32m   2356\u001b[0m     \u001b[38;5;241m*\u001b[39m\u001b[38;5;241m*\u001b[39mkwargs,\n\u001b[1;32m   2357\u001b[0m ) \u001b[38;5;241m-\u001b[39m\u001b[38;5;241m>\u001b[39m List[\u001b[38;5;28mint\u001b[39m]:\n\u001b[1;32m   2358\u001b[0m \u001b[38;5;250m    \u001b[39m\u001b[38;5;124;03m\"\"\"\u001b[39;00m\n\u001b[1;32m   2359\u001b[0m \u001b[38;5;124;03m    Converts a string to a sequence of ids (integer), using the tokenizer and vocabulary.\u001b[39;00m\n\u001b[1;32m   2360\u001b[0m \n\u001b[0;32m   (...)\u001b[0m\n\u001b[1;32m   2371\u001b[0m \u001b[38;5;124;03m            method).\u001b[39;00m\n\u001b[1;32m   2372\u001b[0m \u001b[38;5;124;03m    \"\"\"\u001b[39;00m\n\u001b[0;32m-> 2373\u001b[0m     encoded_inputs \u001b[38;5;241m=\u001b[39m \u001b[38;5;28;43mself\u001b[39;49m\u001b[38;5;241;43m.\u001b[39;49m\u001b[43mencode_plus\u001b[49m\u001b[43m(\u001b[49m\n\u001b[1;32m   2374\u001b[0m \u001b[43m        \u001b[49m\u001b[43mtext\u001b[49m\u001b[43m,\u001b[49m\n\u001b[1;32m   2375\u001b[0m \u001b[43m        \u001b[49m\u001b[43mtext_pair\u001b[49m\u001b[38;5;241;43m=\u001b[39;49m\u001b[43mtext_pair\u001b[49m\u001b[43m,\u001b[49m\n\u001b[1;32m   2376\u001b[0m \u001b[43m        \u001b[49m\u001b[43madd_special_tokens\u001b[49m\u001b[38;5;241;43m=\u001b[39;49m\u001b[43madd_special_tokens\u001b[49m\u001b[43m,\u001b[49m\n\u001b[1;32m   2377\u001b[0m \u001b[43m        \u001b[49m\u001b[43mpadding\u001b[49m\u001b[38;5;241;43m=\u001b[39;49m\u001b[43mpadding\u001b[49m\u001b[43m,\u001b[49m\n\u001b[1;32m   2378\u001b[0m \u001b[43m        \u001b[49m\u001b[43mtruncation\u001b[49m\u001b[38;5;241;43m=\u001b[39;49m\u001b[43mtruncation\u001b[49m\u001b[43m,\u001b[49m\n\u001b[1;32m   2379\u001b[0m \u001b[43m        \u001b[49m\u001b[43mmax_length\u001b[49m\u001b[38;5;241;43m=\u001b[39;49m\u001b[43mmax_length\u001b[49m\u001b[43m,\u001b[49m\n\u001b[1;32m   2380\u001b[0m \u001b[43m        \u001b[49m\u001b[43mstride\u001b[49m\u001b[38;5;241;43m=\u001b[39;49m\u001b[43mstride\u001b[49m\u001b[43m,\u001b[49m\n\u001b[1;32m   2381\u001b[0m \u001b[43m        \u001b[49m\u001b[43mreturn_tensors\u001b[49m\u001b[38;5;241;43m=\u001b[39;49m\u001b[43mreturn_tensors\u001b[49m\u001b[43m,\u001b[49m\n\u001b[1;32m   2382\u001b[0m \u001b[43m        \u001b[49m\u001b[38;5;241;43m*\u001b[39;49m\u001b[38;5;241;43m*\u001b[39;49m\u001b[43mkwargs\u001b[49m\u001b[43m,\u001b[49m\n\u001b[1;32m   2383\u001b[0m \u001b[43m    \u001b[49m\u001b[43m)\u001b[49m\n\u001b[1;32m   2385\u001b[0m     \u001b[38;5;28;01mreturn\u001b[39;00m encoded_inputs[\u001b[38;5;124m\"\u001b[39m\u001b[38;5;124minput_ids\u001b[39m\u001b[38;5;124m\"\u001b[39m]\n",
      "File \u001b[0;32m~/anaconda3/envs/ds/lib/python3.10/site-packages/transformers/tokenization_utils_base.py:2781\u001b[0m, in \u001b[0;36mPreTrainedTokenizerBase.encode_plus\u001b[0;34m(self, text, text_pair, add_special_tokens, padding, truncation, max_length, stride, is_split_into_words, pad_to_multiple_of, return_tensors, return_token_type_ids, return_attention_mask, return_overflowing_tokens, return_special_tokens_mask, return_offsets_mapping, return_length, verbose, **kwargs)\u001b[0m\n\u001b[1;32m   2771\u001b[0m \u001b[38;5;66;03m# Backward compatibility for 'truncation_strategy', 'pad_to_max_length'\u001b[39;00m\n\u001b[1;32m   2772\u001b[0m padding_strategy, truncation_strategy, max_length, kwargs \u001b[38;5;241m=\u001b[39m \u001b[38;5;28mself\u001b[39m\u001b[38;5;241m.\u001b[39m_get_padding_truncation_strategies(\n\u001b[1;32m   2773\u001b[0m     padding\u001b[38;5;241m=\u001b[39mpadding,\n\u001b[1;32m   2774\u001b[0m     truncation\u001b[38;5;241m=\u001b[39mtruncation,\n\u001b[0;32m   (...)\u001b[0m\n\u001b[1;32m   2778\u001b[0m     \u001b[38;5;241m*\u001b[39m\u001b[38;5;241m*\u001b[39mkwargs,\n\u001b[1;32m   2779\u001b[0m )\n\u001b[0;32m-> 2781\u001b[0m \u001b[38;5;28;01mreturn\u001b[39;00m \u001b[38;5;28;43mself\u001b[39;49m\u001b[38;5;241;43m.\u001b[39;49m\u001b[43m_encode_plus\u001b[49m\u001b[43m(\u001b[49m\n\u001b[1;32m   2782\u001b[0m \u001b[43m    \u001b[49m\u001b[43mtext\u001b[49m\u001b[38;5;241;43m=\u001b[39;49m\u001b[43mtext\u001b[49m\u001b[43m,\u001b[49m\n\u001b[1;32m   2783\u001b[0m \u001b[43m    \u001b[49m\u001b[43mtext_pair\u001b[49m\u001b[38;5;241;43m=\u001b[39;49m\u001b[43mtext_pair\u001b[49m\u001b[43m,\u001b[49m\n\u001b[1;32m   2784\u001b[0m \u001b[43m    \u001b[49m\u001b[43madd_special_tokens\u001b[49m\u001b[38;5;241;43m=\u001b[39;49m\u001b[43madd_special_tokens\u001b[49m\u001b[43m,\u001b[49m\n\u001b[1;32m   2785\u001b[0m \u001b[43m    \u001b[49m\u001b[43mpadding_strategy\u001b[49m\u001b[38;5;241;43m=\u001b[39;49m\u001b[43mpadding_strategy\u001b[49m\u001b[43m,\u001b[49m\n\u001b[1;32m   2786\u001b[0m \u001b[43m    \u001b[49m\u001b[43mtruncation_strategy\u001b[49m\u001b[38;5;241;43m=\u001b[39;49m\u001b[43mtruncation_strategy\u001b[49m\u001b[43m,\u001b[49m\n\u001b[1;32m   2787\u001b[0m \u001b[43m    \u001b[49m\u001b[43mmax_length\u001b[49m\u001b[38;5;241;43m=\u001b[39;49m\u001b[43mmax_length\u001b[49m\u001b[43m,\u001b[49m\n\u001b[1;32m   2788\u001b[0m \u001b[43m    \u001b[49m\u001b[43mstride\u001b[49m\u001b[38;5;241;43m=\u001b[39;49m\u001b[43mstride\u001b[49m\u001b[43m,\u001b[49m\n\u001b[1;32m   2789\u001b[0m \u001b[43m    \u001b[49m\u001b[43mis_split_into_words\u001b[49m\u001b[38;5;241;43m=\u001b[39;49m\u001b[43mis_split_into_words\u001b[49m\u001b[43m,\u001b[49m\n\u001b[1;32m   2790\u001b[0m \u001b[43m    \u001b[49m\u001b[43mpad_to_multiple_of\u001b[49m\u001b[38;5;241;43m=\u001b[39;49m\u001b[43mpad_to_multiple_of\u001b[49m\u001b[43m,\u001b[49m\n\u001b[1;32m   2791\u001b[0m \u001b[43m    \u001b[49m\u001b[43mreturn_tensors\u001b[49m\u001b[38;5;241;43m=\u001b[39;49m\u001b[43mreturn_tensors\u001b[49m\u001b[43m,\u001b[49m\n\u001b[1;32m   2792\u001b[0m \u001b[43m    \u001b[49m\u001b[43mreturn_token_type_ids\u001b[49m\u001b[38;5;241;43m=\u001b[39;49m\u001b[43mreturn_token_type_ids\u001b[49m\u001b[43m,\u001b[49m\n\u001b[1;32m   2793\u001b[0m \u001b[43m    \u001b[49m\u001b[43mreturn_attention_mask\u001b[49m\u001b[38;5;241;43m=\u001b[39;49m\u001b[43mreturn_attention_mask\u001b[49m\u001b[43m,\u001b[49m\n\u001b[1;32m   2794\u001b[0m \u001b[43m    \u001b[49m\u001b[43mreturn_overflowing_tokens\u001b[49m\u001b[38;5;241;43m=\u001b[39;49m\u001b[43mreturn_overflowing_tokens\u001b[49m\u001b[43m,\u001b[49m\n\u001b[1;32m   2795\u001b[0m \u001b[43m    \u001b[49m\u001b[43mreturn_special_tokens_mask\u001b[49m\u001b[38;5;241;43m=\u001b[39;49m\u001b[43mreturn_special_tokens_mask\u001b[49m\u001b[43m,\u001b[49m\n\u001b[1;32m   2796\u001b[0m \u001b[43m    \u001b[49m\u001b[43mreturn_offsets_mapping\u001b[49m\u001b[38;5;241;43m=\u001b[39;49m\u001b[43mreturn_offsets_mapping\u001b[49m\u001b[43m,\u001b[49m\n\u001b[1;32m   2797\u001b[0m \u001b[43m    \u001b[49m\u001b[43mreturn_length\u001b[49m\u001b[38;5;241;43m=\u001b[39;49m\u001b[43mreturn_length\u001b[49m\u001b[43m,\u001b[49m\n\u001b[1;32m   2798\u001b[0m \u001b[43m    \u001b[49m\u001b[43mverbose\u001b[49m\u001b[38;5;241;43m=\u001b[39;49m\u001b[43mverbose\u001b[49m\u001b[43m,\u001b[49m\n\u001b[1;32m   2799\u001b[0m \u001b[43m    \u001b[49m\u001b[38;5;241;43m*\u001b[39;49m\u001b[38;5;241;43m*\u001b[39;49m\u001b[43mkwargs\u001b[49m\u001b[43m,\u001b[49m\n\u001b[1;32m   2800\u001b[0m \u001b[43m\u001b[49m\u001b[43m)\u001b[49m\n",
      "File \u001b[0;32m~/anaconda3/envs/ds/lib/python3.10/site-packages/transformers/tokenization_utils.py:656\u001b[0m, in \u001b[0;36mPreTrainedTokenizer._encode_plus\u001b[0;34m(self, text, text_pair, add_special_tokens, padding_strategy, truncation_strategy, max_length, stride, is_split_into_words, pad_to_multiple_of, return_tensors, return_token_type_ids, return_attention_mask, return_overflowing_tokens, return_special_tokens_mask, return_offsets_mapping, return_length, verbose, **kwargs)\u001b[0m\n\u001b[1;32m    647\u001b[0m \u001b[38;5;28;01mif\u001b[39;00m return_offsets_mapping:\n\u001b[1;32m    648\u001b[0m     \u001b[38;5;28;01mraise\u001b[39;00m \u001b[38;5;167;01mNotImplementedError\u001b[39;00m(\n\u001b[1;32m    649\u001b[0m         \u001b[38;5;124m\"\u001b[39m\u001b[38;5;124mreturn_offset_mapping is not available when using Python tokenizers. \u001b[39m\u001b[38;5;124m\"\u001b[39m\n\u001b[1;32m    650\u001b[0m         \u001b[38;5;124m\"\u001b[39m\u001b[38;5;124mTo use this feature, change your tokenizer to one deriving from \u001b[39m\u001b[38;5;124m\"\u001b[39m\n\u001b[0;32m   (...)\u001b[0m\n\u001b[1;32m    653\u001b[0m         \u001b[38;5;124m\"\u001b[39m\u001b[38;5;124mhttps://github.com/huggingface/transformers/pull/2674\u001b[39m\u001b[38;5;124m\"\u001b[39m\n\u001b[1;32m    654\u001b[0m     )\n\u001b[0;32m--> 656\u001b[0m first_ids \u001b[38;5;241m=\u001b[39m \u001b[43mget_input_ids\u001b[49m\u001b[43m(\u001b[49m\u001b[43mtext\u001b[49m\u001b[43m)\u001b[49m\n\u001b[1;32m    657\u001b[0m second_ids \u001b[38;5;241m=\u001b[39m get_input_ids(text_pair) \u001b[38;5;28;01mif\u001b[39;00m text_pair \u001b[38;5;129;01mis\u001b[39;00m \u001b[38;5;129;01mnot\u001b[39;00m \u001b[38;5;28;01mNone\u001b[39;00m \u001b[38;5;28;01melse\u001b[39;00m \u001b[38;5;28;01mNone\u001b[39;00m\n\u001b[1;32m    659\u001b[0m \u001b[38;5;28;01mreturn\u001b[39;00m \u001b[38;5;28mself\u001b[39m\u001b[38;5;241m.\u001b[39mprepare_for_model(\n\u001b[1;32m    660\u001b[0m     first_ids,\n\u001b[1;32m    661\u001b[0m     pair_ids\u001b[38;5;241m=\u001b[39msecond_ids,\n\u001b[0;32m   (...)\u001b[0m\n\u001b[1;32m    675\u001b[0m     verbose\u001b[38;5;241m=\u001b[39mverbose,\n\u001b[1;32m    676\u001b[0m )\n",
      "File \u001b[0;32m~/anaconda3/envs/ds/lib/python3.10/site-packages/transformers/tokenization_utils.py:624\u001b[0m, in \u001b[0;36mPreTrainedTokenizer._encode_plus.<locals>.get_input_ids\u001b[0;34m(text)\u001b[0m\n\u001b[1;32m    622\u001b[0m \u001b[38;5;28;01mif\u001b[39;00m \u001b[38;5;28misinstance\u001b[39m(text, \u001b[38;5;28mstr\u001b[39m):\n\u001b[1;32m    623\u001b[0m     tokens \u001b[38;5;241m=\u001b[39m \u001b[38;5;28mself\u001b[39m\u001b[38;5;241m.\u001b[39mtokenize(text, \u001b[38;5;241m*\u001b[39m\u001b[38;5;241m*\u001b[39mkwargs)\n\u001b[0;32m--> 624\u001b[0m     \u001b[38;5;28;01mreturn\u001b[39;00m \u001b[38;5;28;43mself\u001b[39;49m\u001b[38;5;241;43m.\u001b[39;49m\u001b[43mconvert_tokens_to_ids\u001b[49m\u001b[43m(\u001b[49m\u001b[43mtokens\u001b[49m\u001b[43m)\u001b[49m\n\u001b[1;32m    625\u001b[0m \u001b[38;5;28;01melif\u001b[39;00m \u001b[38;5;28misinstance\u001b[39m(text, (\u001b[38;5;28mlist\u001b[39m, \u001b[38;5;28mtuple\u001b[39m)) \u001b[38;5;129;01mand\u001b[39;00m \u001b[38;5;28mlen\u001b[39m(text) \u001b[38;5;241m>\u001b[39m \u001b[38;5;241m0\u001b[39m \u001b[38;5;129;01mand\u001b[39;00m \u001b[38;5;28misinstance\u001b[39m(text[\u001b[38;5;241m0\u001b[39m], \u001b[38;5;28mstr\u001b[39m):\n\u001b[1;32m    626\u001b[0m     \u001b[38;5;28;01mif\u001b[39;00m is_split_into_words:\n",
      "File \u001b[0;32m~/anaconda3/envs/ds/lib/python3.10/site-packages/transformers/tokenization_utils.py:586\u001b[0m, in \u001b[0;36mPreTrainedTokenizer.convert_tokens_to_ids\u001b[0;34m(self, tokens)\u001b[0m\n\u001b[1;32m    584\u001b[0m ids \u001b[38;5;241m=\u001b[39m []\n\u001b[1;32m    585\u001b[0m \u001b[38;5;28;01mfor\u001b[39;00m token \u001b[38;5;129;01min\u001b[39;00m tokens:\n\u001b[0;32m--> 586\u001b[0m     ids\u001b[38;5;241m.\u001b[39mappend(\u001b[38;5;28;43mself\u001b[39;49m\u001b[38;5;241;43m.\u001b[39;49m\u001b[43m_convert_token_to_id_with_added_voc\u001b[49m\u001b[43m(\u001b[49m\u001b[43mtoken\u001b[49m\u001b[43m)\u001b[49m)\n\u001b[1;32m    587\u001b[0m \u001b[38;5;28;01mreturn\u001b[39;00m ids\n",
      "File \u001b[0;32m~/anaconda3/envs/ds/lib/python3.10/site-packages/transformers/tokenization_utils.py:595\u001b[0m, in \u001b[0;36mPreTrainedTokenizer._convert_token_to_id_with_added_voc\u001b[0;34m(self, token)\u001b[0m\n\u001b[1;32m    593\u001b[0m \u001b[38;5;28;01mif\u001b[39;00m token \u001b[38;5;129;01min\u001b[39;00m \u001b[38;5;28mself\u001b[39m\u001b[38;5;241m.\u001b[39madded_tokens_encoder:\n\u001b[1;32m    594\u001b[0m     \u001b[38;5;28;01mreturn\u001b[39;00m \u001b[38;5;28mself\u001b[39m\u001b[38;5;241m.\u001b[39madded_tokens_encoder[token]\n\u001b[0;32m--> 595\u001b[0m \u001b[38;5;28;01mreturn\u001b[39;00m \u001b[38;5;28;43mself\u001b[39;49m\u001b[38;5;241;43m.\u001b[39;49m\u001b[43m_convert_token_to_id\u001b[49m\u001b[43m(\u001b[49m\u001b[43mtoken\u001b[49m\u001b[43m)\u001b[49m\n",
      "File \u001b[0;32m~/anaconda3/envs/ds/lib/python3.10/site-packages/transformers/models/gpt2/tokenization_gpt2.py:310\u001b[0m, in \u001b[0;36mGPT2Tokenizer._convert_token_to_id\u001b[0;34m(self, token)\u001b[0m\n\u001b[1;32m    308\u001b[0m \u001b[38;5;28;01mdef\u001b[39;00m \u001b[38;5;21m_convert_token_to_id\u001b[39m(\u001b[38;5;28mself\u001b[39m, token):\n\u001b[1;32m    309\u001b[0m \u001b[38;5;250m    \u001b[39m\u001b[38;5;124;03m\"\"\"Converts a token (str) in an id using the vocab.\"\"\"\u001b[39;00m\n\u001b[0;32m--> 310\u001b[0m     \u001b[38;5;28;01mreturn\u001b[39;00m \u001b[38;5;28mself\u001b[39m\u001b[38;5;241m.\u001b[39mencoder\u001b[38;5;241m.\u001b[39mget(token, \u001b[38;5;28mself\u001b[39m\u001b[38;5;241m.\u001b[39mencoder\u001b[38;5;241m.\u001b[39mget(\u001b[38;5;28;43mself\u001b[39;49m\u001b[38;5;241;43m.\u001b[39;49m\u001b[43munk_token\u001b[49m))\n",
      "File \u001b[0;32m~/anaconda3/envs/ds/lib/python3.10/site-packages/transformers/tokenization_utils_base.py:1040\u001b[0m, in \u001b[0;36mSpecialTokensMixin.unk_token\u001b[0;34m(self)\u001b[0m\n\u001b[1;32m   1038\u001b[0m         logger\u001b[38;5;241m.\u001b[39merror(\u001b[38;5;124m\"\u001b[39m\u001b[38;5;124mUsing unk_token, but it is not set yet.\u001b[39m\u001b[38;5;124m\"\u001b[39m)\n\u001b[1;32m   1039\u001b[0m     \u001b[38;5;28;01mreturn\u001b[39;00m \u001b[38;5;28;01mNone\u001b[39;00m\n\u001b[0;32m-> 1040\u001b[0m \u001b[38;5;28;01mreturn\u001b[39;00m \u001b[38;5;28;43mstr\u001b[39;49m\u001b[43m(\u001b[49m\u001b[38;5;28;43mself\u001b[39;49m\u001b[38;5;241;43m.\u001b[39;49m\u001b[43m_unk_token\u001b[49m\u001b[43m)\u001b[49m\n",
      "\u001b[0;31mKeyboardInterrupt\u001b[0m: "
     ]
    }
   ],
   "source": [
    "%%time\n",
    "estimate_tokens_list=[]\n",
    "# loop over all the unique business ids:\n",
    "for bid in business_ids:\n",
    "    \n",
    "    # extract all the reviews for this business\n",
    "    reviews = df_Reno_reviews[df_Reno_reviews['business_id']==bid]\n",
    "    \n",
    "    # extract the top 20 reviews or all reviews for this business\n",
    "    relevant_reviews = list(reviews.sort_values(by='useful',ascending=False)[:min(10, len(reviews))]['text'])\n",
    "    \n",
    "    # get chatGPT prompt message for these reviews\n",
    "    _ = gpt.get_prompt_parsing_reviews(relevant_reviews)\n",
    "    \n",
    "    # estimate total number of tokens\n",
    "    estimate_tokens = gpt.estimate_tokens()\n",
    "    estimate_tokens_list.append(estimate_tokens)"
   ]
  },
  {
   "cell_type": "code",
   "execution_count": 21,
   "id": "d295ffb3",
   "metadata": {},
   "outputs": [
    {
     "name": "stdout",
     "output_type": "stream",
     "text": [
      "may cost 49.01898 dollars\n"
     ]
    }
   ],
   "source": [
    "cost_estimate = sum(estimate_tokens_list)/1000*0.01 #gpt-4-1106-preview\t$0.01 / 1K tokens. rough estimation.\n",
    "print('may cost ' + str(cost_estimate) + ' dollars')"
   ]
  },
  {
   "cell_type": "markdown",
   "id": "99904649",
   "metadata": {},
   "source": [
    "### try to reduce the cost"
   ]
  },
  {
   "cell_type": "code",
   "execution_count": 59,
   "id": "d346ccf1",
   "metadata": {},
   "outputs": [],
   "source": [
    "# narrow down the search range\n",
    "def haversine(lon1, lat1, lon2, lat2):\n",
    "    \"\"\"\n",
    "    Calculate the great circle distance in miles between two points \n",
    "    on the earth (specified in decimal degrees)\n",
    "    \"\"\"\n",
    "    # Convert decimal degrees to radians \n",
    "    lon1, lat1, lon2, lat2 = map(np.radians, [lon1, lat1, lon2, lat2])\n",
    "\n",
    "    # Haversine formula \n",
    "    dlon = lon2 - lon1 \n",
    "    dlat = lat2 - lat1 \n",
    "    a = np.sin(dlat/2)**2 + np.cos(lat1) * np.cos(lat2) * np.sin(dlon/2)**2\n",
    "    c = 2 * np.arcsin(np.sqrt(a)) \n",
    "\n",
    "    # Radius of earth in miles is 3958.8\n",
    "    miles = 3958.8 * c\n",
    "    return miles\n",
    "\n",
    "# Provided center coordinate\n",
    "center_lon, center_lat = -119.8138, 39.5296  # this is center for Reno\n",
    "range_in_miles = 0.8  # desired search range in miles\n",
    "\n",
    "\n",
    "# Calculate distance for each restaurant\n",
    "df_Reno_restaurants['distance'] = df_Reno_restaurants.apply(\n",
    "    lambda row: haversine(center_lon, center_lat, row['longitude'], row['latitude']), axis=1)\n",
    "\n",
    "\n",
    "# Filter rows where distance is within the specified range\n",
    "df_currentpool_b = df_Reno_restaurants[ df_Reno_restaurants['distance'] <= range_in_miles ]\n",
    "\n",
    "\n",
    "# df_filtered now contains restaurants within the specified range of the given center coordinate"
   ]
  },
  {
   "cell_type": "code",
   "execution_count": 69,
   "id": "bbea3906",
   "metadata": {},
   "outputs": [],
   "source": [
    "with open('df_restaurants_Reno_shortlist,pkl','wb') as f:\n",
    "    pickle.dump(df_currentpool_b, f)"
   ]
  },
  {
   "cell_type": "code",
   "execution_count": 18,
   "id": "5c25d9cf",
   "metadata": {},
   "outputs": [],
   "source": [
    "with open('df_restaurants_Reno_shortlist,pkl','rb') as f:\n",
    "    df_currentpool_b = pickle.load(f)"
   ]
  },
  {
   "cell_type": "code",
   "execution_count": 19,
   "id": "3ef5e59c",
   "metadata": {},
   "outputs": [
    {
     "data": {
      "text/plain": [
       "(295, 18)"
      ]
     },
     "execution_count": 19,
     "metadata": {},
     "output_type": "execute_result"
    }
   ],
   "source": [
    "df_currentpool_b.shape"
   ]
  },
  {
   "cell_type": "code",
   "execution_count": 60,
   "id": "0a8718f0",
   "metadata": {},
   "outputs": [
    {
     "data": {
      "text/plain": [
       "(295, 18)"
      ]
     },
     "execution_count": 60,
     "metadata": {},
     "output_type": "execute_result"
    }
   ],
   "source": [
    "df_currentpool_b.shape"
   ]
  },
  {
   "cell_type": "code",
   "execution_count": 61,
   "id": "8617ef17",
   "metadata": {
    "collapsed": true
   },
   "outputs": [
    {
     "name": "stderr",
     "output_type": "stream",
     "text": [
      "Token indices sequence length is longer than the specified maximum sequence length for this model (3522 > 1024). Running this sequence through the model will result in indexing errors\n",
      "Token indices sequence length is longer than the specified maximum sequence length for this model (4116 > 1024). Running this sequence through the model will result in indexing errors\n",
      "Token indices sequence length is longer than the specified maximum sequence length for this model (5087 > 1024). Running this sequence through the model will result in indexing errors\n",
      "Token indices sequence length is longer than the specified maximum sequence length for this model (1202 > 1024). Running this sequence through the model will result in indexing errors\n",
      "Token indices sequence length is longer than the specified maximum sequence length for this model (1104 > 1024). Running this sequence through the model will result in indexing errors\n",
      "Token indices sequence length is longer than the specified maximum sequence length for this model (1224 > 1024). Running this sequence through the model will result in indexing errors\n",
      "Token indices sequence length is longer than the specified maximum sequence length for this model (3342 > 1024). Running this sequence through the model will result in indexing errors\n",
      "Token indices sequence length is longer than the specified maximum sequence length for this model (3305 > 1024). Running this sequence through the model will result in indexing errors\n",
      "Token indices sequence length is longer than the specified maximum sequence length for this model (3258 > 1024). Running this sequence through the model will result in indexing errors\n",
      "Token indices sequence length is longer than the specified maximum sequence length for this model (4243 > 1024). Running this sequence through the model will result in indexing errors\n",
      "Token indices sequence length is longer than the specified maximum sequence length for this model (5462 > 1024). Running this sequence through the model will result in indexing errors\n",
      "Token indices sequence length is longer than the specified maximum sequence length for this model (3051 > 1024). Running this sequence through the model will result in indexing errors\n",
      "Token indices sequence length is longer than the specified maximum sequence length for this model (3976 > 1024). Running this sequence through the model will result in indexing errors\n",
      "Token indices sequence length is longer than the specified maximum sequence length for this model (2781 > 1024). Running this sequence through the model will result in indexing errors\n",
      "Token indices sequence length is longer than the specified maximum sequence length for this model (1793 > 1024). Running this sequence through the model will result in indexing errors\n",
      "Token indices sequence length is longer than the specified maximum sequence length for this model (2104 > 1024). Running this sequence through the model will result in indexing errors\n",
      "Token indices sequence length is longer than the specified maximum sequence length for this model (2915 > 1024). Running this sequence through the model will result in indexing errors\n",
      "Token indices sequence length is longer than the specified maximum sequence length for this model (4208 > 1024). Running this sequence through the model will result in indexing errors\n",
      "Token indices sequence length is longer than the specified maximum sequence length for this model (2886 > 1024). Running this sequence through the model will result in indexing errors\n",
      "Token indices sequence length is longer than the specified maximum sequence length for this model (3698 > 1024). Running this sequence through the model will result in indexing errors\n",
      "Token indices sequence length is longer than the specified maximum sequence length for this model (1958 > 1024). Running this sequence through the model will result in indexing errors\n",
      "Token indices sequence length is longer than the specified maximum sequence length for this model (3206 > 1024). Running this sequence through the model will result in indexing errors\n",
      "Token indices sequence length is longer than the specified maximum sequence length for this model (2884 > 1024). Running this sequence through the model will result in indexing errors\n",
      "Token indices sequence length is longer than the specified maximum sequence length for this model (4078 > 1024). Running this sequence through the model will result in indexing errors\n",
      "Token indices sequence length is longer than the specified maximum sequence length for this model (5536 > 1024). Running this sequence through the model will result in indexing errors\n",
      "Token indices sequence length is longer than the specified maximum sequence length for this model (2497 > 1024). Running this sequence through the model will result in indexing errors\n",
      "Token indices sequence length is longer than the specified maximum sequence length for this model (2430 > 1024). Running this sequence through the model will result in indexing errors\n",
      "Token indices sequence length is longer than the specified maximum sequence length for this model (2766 > 1024). Running this sequence through the model will result in indexing errors\n",
      "Token indices sequence length is longer than the specified maximum sequence length for this model (3656 > 1024). Running this sequence through the model will result in indexing errors\n",
      "Token indices sequence length is longer than the specified maximum sequence length for this model (4360 > 1024). Running this sequence through the model will result in indexing errors\n",
      "Token indices sequence length is longer than the specified maximum sequence length for this model (1439 > 1024). Running this sequence through the model will result in indexing errors\n",
      "Token indices sequence length is longer than the specified maximum sequence length for this model (4080 > 1024). Running this sequence through the model will result in indexing errors\n",
      "Token indices sequence length is longer than the specified maximum sequence length for this model (4133 > 1024). Running this sequence through the model will result in indexing errors\n",
      "Token indices sequence length is longer than the specified maximum sequence length for this model (2235 > 1024). Running this sequence through the model will result in indexing errors\n",
      "Token indices sequence length is longer than the specified maximum sequence length for this model (2438 > 1024). Running this sequence through the model will result in indexing errors\n",
      "Token indices sequence length is longer than the specified maximum sequence length for this model (1179 > 1024). Running this sequence through the model will result in indexing errors\n",
      "Token indices sequence length is longer than the specified maximum sequence length for this model (2624 > 1024). Running this sequence through the model will result in indexing errors\n",
      "Token indices sequence length is longer than the specified maximum sequence length for this model (3656 > 1024). Running this sequence through the model will result in indexing errors\n",
      "Token indices sequence length is longer than the specified maximum sequence length for this model (3167 > 1024). Running this sequence through the model will result in indexing errors\n",
      "Token indices sequence length is longer than the specified maximum sequence length for this model (3192 > 1024). Running this sequence through the model will result in indexing errors\n",
      "Token indices sequence length is longer than the specified maximum sequence length for this model (3162 > 1024). Running this sequence through the model will result in indexing errors\n",
      "Token indices sequence length is longer than the specified maximum sequence length for this model (4008 > 1024). Running this sequence through the model will result in indexing errors\n",
      "Token indices sequence length is longer than the specified maximum sequence length for this model (3804 > 1024). Running this sequence through the model will result in indexing errors\n",
      "Token indices sequence length is longer than the specified maximum sequence length for this model (2538 > 1024). Running this sequence through the model will result in indexing errors\n",
      "Token indices sequence length is longer than the specified maximum sequence length for this model (4223 > 1024). Running this sequence through the model will result in indexing errors\n"
     ]
    },
    {
     "name": "stderr",
     "output_type": "stream",
     "text": [
      "Token indices sequence length is longer than the specified maximum sequence length for this model (3704 > 1024). Running this sequence through the model will result in indexing errors\n",
      "Token indices sequence length is longer than the specified maximum sequence length for this model (3447 > 1024). Running this sequence through the model will result in indexing errors\n",
      "Token indices sequence length is longer than the specified maximum sequence length for this model (3671 > 1024). Running this sequence through the model will result in indexing errors\n",
      "Token indices sequence length is longer than the specified maximum sequence length for this model (2953 > 1024). Running this sequence through the model will result in indexing errors\n",
      "Token indices sequence length is longer than the specified maximum sequence length for this model (2311 > 1024). Running this sequence through the model will result in indexing errors\n",
      "Token indices sequence length is longer than the specified maximum sequence length for this model (4099 > 1024). Running this sequence through the model will result in indexing errors\n",
      "Token indices sequence length is longer than the specified maximum sequence length for this model (3316 > 1024). Running this sequence through the model will result in indexing errors\n",
      "Token indices sequence length is longer than the specified maximum sequence length for this model (4431 > 1024). Running this sequence through the model will result in indexing errors\n",
      "Token indices sequence length is longer than the specified maximum sequence length for this model (2456 > 1024). Running this sequence through the model will result in indexing errors\n",
      "Token indices sequence length is longer than the specified maximum sequence length for this model (4123 > 1024). Running this sequence through the model will result in indexing errors\n",
      "Token indices sequence length is longer than the specified maximum sequence length for this model (4278 > 1024). Running this sequence through the model will result in indexing errors\n",
      "Token indices sequence length is longer than the specified maximum sequence length for this model (3448 > 1024). Running this sequence through the model will result in indexing errors\n",
      "Token indices sequence length is longer than the specified maximum sequence length for this model (4996 > 1024). Running this sequence through the model will result in indexing errors\n",
      "Token indices sequence length is longer than the specified maximum sequence length for this model (2440 > 1024). Running this sequence through the model will result in indexing errors\n",
      "Token indices sequence length is longer than the specified maximum sequence length for this model (3634 > 1024). Running this sequence through the model will result in indexing errors\n",
      "Token indices sequence length is longer than the specified maximum sequence length for this model (3686 > 1024). Running this sequence through the model will result in indexing errors\n",
      "Token indices sequence length is longer than the specified maximum sequence length for this model (3315 > 1024). Running this sequence through the model will result in indexing errors\n",
      "Token indices sequence length is longer than the specified maximum sequence length for this model (3112 > 1024). Running this sequence through the model will result in indexing errors\n",
      "Token indices sequence length is longer than the specified maximum sequence length for this model (2411 > 1024). Running this sequence through the model will result in indexing errors\n",
      "Token indices sequence length is longer than the specified maximum sequence length for this model (3535 > 1024). Running this sequence through the model will result in indexing errors\n",
      "Token indices sequence length is longer than the specified maximum sequence length for this model (1575 > 1024). Running this sequence through the model will result in indexing errors\n",
      "Token indices sequence length is longer than the specified maximum sequence length for this model (3654 > 1024). Running this sequence through the model will result in indexing errors\n",
      "Token indices sequence length is longer than the specified maximum sequence length for this model (3975 > 1024). Running this sequence through the model will result in indexing errors\n",
      "Token indices sequence length is longer than the specified maximum sequence length for this model (4601 > 1024). Running this sequence through the model will result in indexing errors\n",
      "Token indices sequence length is longer than the specified maximum sequence length for this model (3878 > 1024). Running this sequence through the model will result in indexing errors\n",
      "Token indices sequence length is longer than the specified maximum sequence length for this model (1657 > 1024). Running this sequence through the model will result in indexing errors\n",
      "Token indices sequence length is longer than the specified maximum sequence length for this model (3559 > 1024). Running this sequence through the model will result in indexing errors\n",
      "Token indices sequence length is longer than the specified maximum sequence length for this model (5807 > 1024). Running this sequence through the model will result in indexing errors\n",
      "Token indices sequence length is longer than the specified maximum sequence length for this model (2503 > 1024). Running this sequence through the model will result in indexing errors\n",
      "Token indices sequence length is longer than the specified maximum sequence length for this model (3576 > 1024). Running this sequence through the model will result in indexing errors\n",
      "Token indices sequence length is longer than the specified maximum sequence length for this model (1768 > 1024). Running this sequence through the model will result in indexing errors\n",
      "Token indices sequence length is longer than the specified maximum sequence length for this model (4035 > 1024). Running this sequence through the model will result in indexing errors\n",
      "Token indices sequence length is longer than the specified maximum sequence length for this model (2622 > 1024). Running this sequence through the model will result in indexing errors\n",
      "Token indices sequence length is longer than the specified maximum sequence length for this model (4093 > 1024). Running this sequence through the model will result in indexing errors\n",
      "Token indices sequence length is longer than the specified maximum sequence length for this model (1518 > 1024). Running this sequence through the model will result in indexing errors\n",
      "Token indices sequence length is longer than the specified maximum sequence length for this model (1756 > 1024). Running this sequence through the model will result in indexing errors\n",
      "Token indices sequence length is longer than the specified maximum sequence length for this model (2065 > 1024). Running this sequence through the model will result in indexing errors\n",
      "Token indices sequence length is longer than the specified maximum sequence length for this model (3871 > 1024). Running this sequence through the model will result in indexing errors\n",
      "Token indices sequence length is longer than the specified maximum sequence length for this model (3591 > 1024). Running this sequence through the model will result in indexing errors\n",
      "Token indices sequence length is longer than the specified maximum sequence length for this model (2105 > 1024). Running this sequence through the model will result in indexing errors\n",
      "Token indices sequence length is longer than the specified maximum sequence length for this model (2652 > 1024). Running this sequence through the model will result in indexing errors\n",
      "Token indices sequence length is longer than the specified maximum sequence length for this model (3350 > 1024). Running this sequence through the model will result in indexing errors\n",
      "Token indices sequence length is longer than the specified maximum sequence length for this model (4337 > 1024). Running this sequence through the model will result in indexing errors\n",
      "Token indices sequence length is longer than the specified maximum sequence length for this model (2626 > 1024). Running this sequence through the model will result in indexing errors\n",
      "Token indices sequence length is longer than the specified maximum sequence length for this model (3129 > 1024). Running this sequence through the model will result in indexing errors\n"
     ]
    },
    {
     "name": "stderr",
     "output_type": "stream",
     "text": [
      "Token indices sequence length is longer than the specified maximum sequence length for this model (3255 > 1024). Running this sequence through the model will result in indexing errors\n",
      "Token indices sequence length is longer than the specified maximum sequence length for this model (1139 > 1024). Running this sequence through the model will result in indexing errors\n",
      "Token indices sequence length is longer than the specified maximum sequence length for this model (4628 > 1024). Running this sequence through the model will result in indexing errors\n",
      "Token indices sequence length is longer than the specified maximum sequence length for this model (3157 > 1024). Running this sequence through the model will result in indexing errors\n",
      "Token indices sequence length is longer than the specified maximum sequence length for this model (2049 > 1024). Running this sequence through the model will result in indexing errors\n",
      "Token indices sequence length is longer than the specified maximum sequence length for this model (3895 > 1024). Running this sequence through the model will result in indexing errors\n",
      "Token indices sequence length is longer than the specified maximum sequence length for this model (2635 > 1024). Running this sequence through the model will result in indexing errors\n",
      "Token indices sequence length is longer than the specified maximum sequence length for this model (2930 > 1024). Running this sequence through the model will result in indexing errors\n",
      "Token indices sequence length is longer than the specified maximum sequence length for this model (3801 > 1024). Running this sequence through the model will result in indexing errors\n",
      "Token indices sequence length is longer than the specified maximum sequence length for this model (4056 > 1024). Running this sequence through the model will result in indexing errors\n",
      "Token indices sequence length is longer than the specified maximum sequence length for this model (4367 > 1024). Running this sequence through the model will result in indexing errors\n",
      "Token indices sequence length is longer than the specified maximum sequence length for this model (3708 > 1024). Running this sequence through the model will result in indexing errors\n",
      "Token indices sequence length is longer than the specified maximum sequence length for this model (2997 > 1024). Running this sequence through the model will result in indexing errors\n",
      "Token indices sequence length is longer than the specified maximum sequence length for this model (2231 > 1024). Running this sequence through the model will result in indexing errors\n",
      "Token indices sequence length is longer than the specified maximum sequence length for this model (1817 > 1024). Running this sequence through the model will result in indexing errors\n",
      "Token indices sequence length is longer than the specified maximum sequence length for this model (4514 > 1024). Running this sequence through the model will result in indexing errors\n",
      "Token indices sequence length is longer than the specified maximum sequence length for this model (3895 > 1024). Running this sequence through the model will result in indexing errors\n",
      "Token indices sequence length is longer than the specified maximum sequence length for this model (4498 > 1024). Running this sequence through the model will result in indexing errors\n",
      "Token indices sequence length is longer than the specified maximum sequence length for this model (4863 > 1024). Running this sequence through the model will result in indexing errors\n",
      "Token indices sequence length is longer than the specified maximum sequence length for this model (3781 > 1024). Running this sequence through the model will result in indexing errors\n",
      "Token indices sequence length is longer than the specified maximum sequence length for this model (3076 > 1024). Running this sequence through the model will result in indexing errors\n",
      "Token indices sequence length is longer than the specified maximum sequence length for this model (3314 > 1024). Running this sequence through the model will result in indexing errors\n",
      "Token indices sequence length is longer than the specified maximum sequence length for this model (3695 > 1024). Running this sequence through the model will result in indexing errors\n",
      "Token indices sequence length is longer than the specified maximum sequence length for this model (5445 > 1024). Running this sequence through the model will result in indexing errors\n",
      "Token indices sequence length is longer than the specified maximum sequence length for this model (5616 > 1024). Running this sequence through the model will result in indexing errors\n",
      "Token indices sequence length is longer than the specified maximum sequence length for this model (4059 > 1024). Running this sequence through the model will result in indexing errors\n",
      "Token indices sequence length is longer than the specified maximum sequence length for this model (4696 > 1024). Running this sequence through the model will result in indexing errors\n",
      "Token indices sequence length is longer than the specified maximum sequence length for this model (5173 > 1024). Running this sequence through the model will result in indexing errors\n",
      "Token indices sequence length is longer than the specified maximum sequence length for this model (2509 > 1024). Running this sequence through the model will result in indexing errors\n",
      "Token indices sequence length is longer than the specified maximum sequence length for this model (2354 > 1024). Running this sequence through the model will result in indexing errors\n",
      "Token indices sequence length is longer than the specified maximum sequence length for this model (3675 > 1024). Running this sequence through the model will result in indexing errors\n",
      "Token indices sequence length is longer than the specified maximum sequence length for this model (4754 > 1024). Running this sequence through the model will result in indexing errors\n",
      "Token indices sequence length is longer than the specified maximum sequence length for this model (3567 > 1024). Running this sequence through the model will result in indexing errors\n",
      "Token indices sequence length is longer than the specified maximum sequence length for this model (4406 > 1024). Running this sequence through the model will result in indexing errors\n",
      "Token indices sequence length is longer than the specified maximum sequence length for this model (3328 > 1024). Running this sequence through the model will result in indexing errors\n",
      "Token indices sequence length is longer than the specified maximum sequence length for this model (2869 > 1024). Running this sequence through the model will result in indexing errors\n",
      "Token indices sequence length is longer than the specified maximum sequence length for this model (3262 > 1024). Running this sequence through the model will result in indexing errors\n",
      "Token indices sequence length is longer than the specified maximum sequence length for this model (4646 > 1024). Running this sequence through the model will result in indexing errors\n",
      "Token indices sequence length is longer than the specified maximum sequence length for this model (3056 > 1024). Running this sequence through the model will result in indexing errors\n",
      "Token indices sequence length is longer than the specified maximum sequence length for this model (2845 > 1024). Running this sequence through the model will result in indexing errors\n",
      "Token indices sequence length is longer than the specified maximum sequence length for this model (3734 > 1024). Running this sequence through the model will result in indexing errors\n",
      "Token indices sequence length is longer than the specified maximum sequence length for this model (3537 > 1024). Running this sequence through the model will result in indexing errors\n",
      "Token indices sequence length is longer than the specified maximum sequence length for this model (3299 > 1024). Running this sequence through the model will result in indexing errors\n",
      "Token indices sequence length is longer than the specified maximum sequence length for this model (1984 > 1024). Running this sequence through the model will result in indexing errors\n",
      "Token indices sequence length is longer than the specified maximum sequence length for this model (1824 > 1024). Running this sequence through the model will result in indexing errors\n"
     ]
    },
    {
     "name": "stderr",
     "output_type": "stream",
     "text": [
      "Token indices sequence length is longer than the specified maximum sequence length for this model (4060 > 1024). Running this sequence through the model will result in indexing errors\n",
      "Token indices sequence length is longer than the specified maximum sequence length for this model (1803 > 1024). Running this sequence through the model will result in indexing errors\n",
      "Token indices sequence length is longer than the specified maximum sequence length for this model (6012 > 1024). Running this sequence through the model will result in indexing errors\n",
      "Token indices sequence length is longer than the specified maximum sequence length for this model (2510 > 1024). Running this sequence through the model will result in indexing errors\n",
      "Token indices sequence length is longer than the specified maximum sequence length for this model (4093 > 1024). Running this sequence through the model will result in indexing errors\n",
      "Token indices sequence length is longer than the specified maximum sequence length for this model (4132 > 1024). Running this sequence through the model will result in indexing errors\n",
      "Token indices sequence length is longer than the specified maximum sequence length for this model (3338 > 1024). Running this sequence through the model will result in indexing errors\n",
      "Token indices sequence length is longer than the specified maximum sequence length for this model (2423 > 1024). Running this sequence through the model will result in indexing errors\n",
      "Token indices sequence length is longer than the specified maximum sequence length for this model (2550 > 1024). Running this sequence through the model will result in indexing errors\n",
      "Token indices sequence length is longer than the specified maximum sequence length for this model (5194 > 1024). Running this sequence through the model will result in indexing errors\n",
      "Token indices sequence length is longer than the specified maximum sequence length for this model (2914 > 1024). Running this sequence through the model will result in indexing errors\n",
      "Token indices sequence length is longer than the specified maximum sequence length for this model (2590 > 1024). Running this sequence through the model will result in indexing errors\n",
      "Token indices sequence length is longer than the specified maximum sequence length for this model (5608 > 1024). Running this sequence through the model will result in indexing errors\n",
      "Token indices sequence length is longer than the specified maximum sequence length for this model (4253 > 1024). Running this sequence through the model will result in indexing errors\n",
      "Token indices sequence length is longer than the specified maximum sequence length for this model (3522 > 1024). Running this sequence through the model will result in indexing errors\n",
      "Token indices sequence length is longer than the specified maximum sequence length for this model (2521 > 1024). Running this sequence through the model will result in indexing errors\n",
      "Token indices sequence length is longer than the specified maximum sequence length for this model (2116 > 1024). Running this sequence through the model will result in indexing errors\n",
      "Token indices sequence length is longer than the specified maximum sequence length for this model (3886 > 1024). Running this sequence through the model will result in indexing errors\n",
      "Token indices sequence length is longer than the specified maximum sequence length for this model (4730 > 1024). Running this sequence through the model will result in indexing errors\n",
      "Token indices sequence length is longer than the specified maximum sequence length for this model (3530 > 1024). Running this sequence through the model will result in indexing errors\n",
      "Token indices sequence length is longer than the specified maximum sequence length for this model (3072 > 1024). Running this sequence through the model will result in indexing errors\n",
      "Token indices sequence length is longer than the specified maximum sequence length for this model (2644 > 1024). Running this sequence through the model will result in indexing errors\n",
      "Token indices sequence length is longer than the specified maximum sequence length for this model (4414 > 1024). Running this sequence through the model will result in indexing errors\n",
      "Token indices sequence length is longer than the specified maximum sequence length for this model (2740 > 1024). Running this sequence through the model will result in indexing errors\n",
      "Token indices sequence length is longer than the specified maximum sequence length for this model (2213 > 1024). Running this sequence through the model will result in indexing errors\n",
      "Token indices sequence length is longer than the specified maximum sequence length for this model (3817 > 1024). Running this sequence through the model will result in indexing errors\n",
      "Token indices sequence length is longer than the specified maximum sequence length for this model (3128 > 1024). Running this sequence through the model will result in indexing errors\n",
      "Token indices sequence length is longer than the specified maximum sequence length for this model (3148 > 1024). Running this sequence through the model will result in indexing errors\n",
      "Token indices sequence length is longer than the specified maximum sequence length for this model (2910 > 1024). Running this sequence through the model will result in indexing errors\n",
      "Token indices sequence length is longer than the specified maximum sequence length for this model (3337 > 1024). Running this sequence through the model will result in indexing errors\n",
      "Token indices sequence length is longer than the specified maximum sequence length for this model (2444 > 1024). Running this sequence through the model will result in indexing errors\n",
      "Token indices sequence length is longer than the specified maximum sequence length for this model (3281 > 1024). Running this sequence through the model will result in indexing errors\n",
      "Token indices sequence length is longer than the specified maximum sequence length for this model (3094 > 1024). Running this sequence through the model will result in indexing errors\n",
      "Token indices sequence length is longer than the specified maximum sequence length for this model (3387 > 1024). Running this sequence through the model will result in indexing errors\n",
      "Token indices sequence length is longer than the specified maximum sequence length for this model (2401 > 1024). Running this sequence through the model will result in indexing errors\n",
      "Token indices sequence length is longer than the specified maximum sequence length for this model (2069 > 1024). Running this sequence through the model will result in indexing errors\n",
      "Token indices sequence length is longer than the specified maximum sequence length for this model (4267 > 1024). Running this sequence through the model will result in indexing errors\n",
      "Token indices sequence length is longer than the specified maximum sequence length for this model (1430 > 1024). Running this sequence through the model will result in indexing errors\n",
      "Token indices sequence length is longer than the specified maximum sequence length for this model (5375 > 1024). Running this sequence through the model will result in indexing errors\n",
      "Token indices sequence length is longer than the specified maximum sequence length for this model (1351 > 1024). Running this sequence through the model will result in indexing errors\n",
      "Token indices sequence length is longer than the specified maximum sequence length for this model (1633 > 1024). Running this sequence through the model will result in indexing errors\n",
      "Token indices sequence length is longer than the specified maximum sequence length for this model (4139 > 1024). Running this sequence through the model will result in indexing errors\n",
      "Token indices sequence length is longer than the specified maximum sequence length for this model (1058 > 1024). Running this sequence through the model will result in indexing errors\n",
      "Token indices sequence length is longer than the specified maximum sequence length for this model (3824 > 1024). Running this sequence through the model will result in indexing errors\n",
      "Token indices sequence length is longer than the specified maximum sequence length for this model (2101 > 1024). Running this sequence through the model will result in indexing errors\n"
     ]
    },
    {
     "name": "stderr",
     "output_type": "stream",
     "text": [
      "Token indices sequence length is longer than the specified maximum sequence length for this model (3232 > 1024). Running this sequence through the model will result in indexing errors\n",
      "Token indices sequence length is longer than the specified maximum sequence length for this model (4435 > 1024). Running this sequence through the model will result in indexing errors\n",
      "Token indices sequence length is longer than the specified maximum sequence length for this model (1885 > 1024). Running this sequence through the model will result in indexing errors\n",
      "Token indices sequence length is longer than the specified maximum sequence length for this model (4323 > 1024). Running this sequence through the model will result in indexing errors\n",
      "Token indices sequence length is longer than the specified maximum sequence length for this model (3488 > 1024). Running this sequence through the model will result in indexing errors\n",
      "Token indices sequence length is longer than the specified maximum sequence length for this model (2607 > 1024). Running this sequence through the model will result in indexing errors\n",
      "Token indices sequence length is longer than the specified maximum sequence length for this model (3230 > 1024). Running this sequence through the model will result in indexing errors\n",
      "Token indices sequence length is longer than the specified maximum sequence length for this model (3714 > 1024). Running this sequence through the model will result in indexing errors\n",
      "Token indices sequence length is longer than the specified maximum sequence length for this model (5072 > 1024). Running this sequence through the model will result in indexing errors\n",
      "Token indices sequence length is longer than the specified maximum sequence length for this model (3252 > 1024). Running this sequence through the model will result in indexing errors\n",
      "Token indices sequence length is longer than the specified maximum sequence length for this model (5245 > 1024). Running this sequence through the model will result in indexing errors\n",
      "Token indices sequence length is longer than the specified maximum sequence length for this model (4386 > 1024). Running this sequence through the model will result in indexing errors\n",
      "Token indices sequence length is longer than the specified maximum sequence length for this model (1172 > 1024). Running this sequence through the model will result in indexing errors\n",
      "Token indices sequence length is longer than the specified maximum sequence length for this model (2184 > 1024). Running this sequence through the model will result in indexing errors\n",
      "Token indices sequence length is longer than the specified maximum sequence length for this model (2629 > 1024). Running this sequence through the model will result in indexing errors\n",
      "Token indices sequence length is longer than the specified maximum sequence length for this model (3250 > 1024). Running this sequence through the model will result in indexing errors\n",
      "Token indices sequence length is longer than the specified maximum sequence length for this model (3753 > 1024). Running this sequence through the model will result in indexing errors\n",
      "Token indices sequence length is longer than the specified maximum sequence length for this model (3870 > 1024). Running this sequence through the model will result in indexing errors\n",
      "Token indices sequence length is longer than the specified maximum sequence length for this model (3830 > 1024). Running this sequence through the model will result in indexing errors\n",
      "Token indices sequence length is longer than the specified maximum sequence length for this model (4962 > 1024). Running this sequence through the model will result in indexing errors\n",
      "Token indices sequence length is longer than the specified maximum sequence length for this model (2566 > 1024). Running this sequence through the model will result in indexing errors\n",
      "Token indices sequence length is longer than the specified maximum sequence length for this model (2320 > 1024). Running this sequence through the model will result in indexing errors\n",
      "Token indices sequence length is longer than the specified maximum sequence length for this model (2470 > 1024). Running this sequence through the model will result in indexing errors\n",
      "Token indices sequence length is longer than the specified maximum sequence length for this model (5281 > 1024). Running this sequence through the model will result in indexing errors\n",
      "Token indices sequence length is longer than the specified maximum sequence length for this model (5717 > 1024). Running this sequence through the model will result in indexing errors\n",
      "Token indices sequence length is longer than the specified maximum sequence length for this model (3397 > 1024). Running this sequence through the model will result in indexing errors\n",
      "Token indices sequence length is longer than the specified maximum sequence length for this model (3318 > 1024). Running this sequence through the model will result in indexing errors\n",
      "Token indices sequence length is longer than the specified maximum sequence length for this model (3754 > 1024). Running this sequence through the model will result in indexing errors\n",
      "Token indices sequence length is longer than the specified maximum sequence length for this model (1984 > 1024). Running this sequence through the model will result in indexing errors\n",
      "Token indices sequence length is longer than the specified maximum sequence length for this model (2336 > 1024). Running this sequence through the model will result in indexing errors\n",
      "Token indices sequence length is longer than the specified maximum sequence length for this model (3529 > 1024). Running this sequence through the model will result in indexing errors\n",
      "Token indices sequence length is longer than the specified maximum sequence length for this model (3741 > 1024). Running this sequence through the model will result in indexing errors\n",
      "Token indices sequence length is longer than the specified maximum sequence length for this model (4449 > 1024). Running this sequence through the model will result in indexing errors\n",
      "Token indices sequence length is longer than the specified maximum sequence length for this model (1677 > 1024). Running this sequence through the model will result in indexing errors\n",
      "Token indices sequence length is longer than the specified maximum sequence length for this model (5236 > 1024). Running this sequence through the model will result in indexing errors\n",
      "Token indices sequence length is longer than the specified maximum sequence length for this model (1118 > 1024). Running this sequence through the model will result in indexing errors\n",
      "Token indices sequence length is longer than the specified maximum sequence length for this model (2085 > 1024). Running this sequence through the model will result in indexing errors\n",
      "Token indices sequence length is longer than the specified maximum sequence length for this model (2952 > 1024). Running this sequence through the model will result in indexing errors\n",
      "Token indices sequence length is longer than the specified maximum sequence length for this model (3510 > 1024). Running this sequence through the model will result in indexing errors\n",
      "Token indices sequence length is longer than the specified maximum sequence length for this model (2683 > 1024). Running this sequence through the model will result in indexing errors\n",
      "Token indices sequence length is longer than the specified maximum sequence length for this model (5042 > 1024). Running this sequence through the model will result in indexing errors\n",
      "Token indices sequence length is longer than the specified maximum sequence length for this model (3413 > 1024). Running this sequence through the model will result in indexing errors\n",
      "Token indices sequence length is longer than the specified maximum sequence length for this model (3235 > 1024). Running this sequence through the model will result in indexing errors\n",
      "Token indices sequence length is longer than the specified maximum sequence length for this model (2200 > 1024). Running this sequence through the model will result in indexing errors\n",
      "Token indices sequence length is longer than the specified maximum sequence length for this model (1726 > 1024). Running this sequence through the model will result in indexing errors\n"
     ]
    },
    {
     "name": "stderr",
     "output_type": "stream",
     "text": [
      "Token indices sequence length is longer than the specified maximum sequence length for this model (4426 > 1024). Running this sequence through the model will result in indexing errors\n",
      "Token indices sequence length is longer than the specified maximum sequence length for this model (2884 > 1024). Running this sequence through the model will result in indexing errors\n",
      "Token indices sequence length is longer than the specified maximum sequence length for this model (2263 > 1024). Running this sequence through the model will result in indexing errors\n",
      "Token indices sequence length is longer than the specified maximum sequence length for this model (2499 > 1024). Running this sequence through the model will result in indexing errors\n",
      "Token indices sequence length is longer than the specified maximum sequence length for this model (1836 > 1024). Running this sequence through the model will result in indexing errors\n",
      "Token indices sequence length is longer than the specified maximum sequence length for this model (1966 > 1024). Running this sequence through the model will result in indexing errors\n",
      "Token indices sequence length is longer than the specified maximum sequence length for this model (3409 > 1024). Running this sequence through the model will result in indexing errors\n",
      "Token indices sequence length is longer than the specified maximum sequence length for this model (2747 > 1024). Running this sequence through the model will result in indexing errors\n",
      "Token indices sequence length is longer than the specified maximum sequence length for this model (2532 > 1024). Running this sequence through the model will result in indexing errors\n",
      "Token indices sequence length is longer than the specified maximum sequence length for this model (4500 > 1024). Running this sequence through the model will result in indexing errors\n",
      "Token indices sequence length is longer than the specified maximum sequence length for this model (4212 > 1024). Running this sequence through the model will result in indexing errors\n",
      "Token indices sequence length is longer than the specified maximum sequence length for this model (3166 > 1024). Running this sequence through the model will result in indexing errors\n",
      "Token indices sequence length is longer than the specified maximum sequence length for this model (3667 > 1024). Running this sequence through the model will result in indexing errors\n",
      "Token indices sequence length is longer than the specified maximum sequence length for this model (3122 > 1024). Running this sequence through the model will result in indexing errors\n",
      "Token indices sequence length is longer than the specified maximum sequence length for this model (2698 > 1024). Running this sequence through the model will result in indexing errors\n",
      "Token indices sequence length is longer than the specified maximum sequence length for this model (1895 > 1024). Running this sequence through the model will result in indexing errors\n",
      "Token indices sequence length is longer than the specified maximum sequence length for this model (5049 > 1024). Running this sequence through the model will result in indexing errors\n",
      "Token indices sequence length is longer than the specified maximum sequence length for this model (4151 > 1024). Running this sequence through the model will result in indexing errors\n",
      "Token indices sequence length is longer than the specified maximum sequence length for this model (4323 > 1024). Running this sequence through the model will result in indexing errors\n",
      "Token indices sequence length is longer than the specified maximum sequence length for this model (4169 > 1024). Running this sequence through the model will result in indexing errors\n",
      "Token indices sequence length is longer than the specified maximum sequence length for this model (3400 > 1024). Running this sequence through the model will result in indexing errors\n",
      "Token indices sequence length is longer than the specified maximum sequence length for this model (5272 > 1024). Running this sequence through the model will result in indexing errors\n",
      "Token indices sequence length is longer than the specified maximum sequence length for this model (2189 > 1024). Running this sequence through the model will result in indexing errors\n",
      "Token indices sequence length is longer than the specified maximum sequence length for this model (2355 > 1024). Running this sequence through the model will result in indexing errors\n",
      "Token indices sequence length is longer than the specified maximum sequence length for this model (3179 > 1024). Running this sequence through the model will result in indexing errors\n",
      "Token indices sequence length is longer than the specified maximum sequence length for this model (1863 > 1024). Running this sequence through the model will result in indexing errors\n",
      "Token indices sequence length is longer than the specified maximum sequence length for this model (2868 > 1024). Running this sequence through the model will result in indexing errors\n",
      "Token indices sequence length is longer than the specified maximum sequence length for this model (4708 > 1024). Running this sequence through the model will result in indexing errors\n",
      "Token indices sequence length is longer than the specified maximum sequence length for this model (2805 > 1024). Running this sequence through the model will result in indexing errors\n",
      "Token indices sequence length is longer than the specified maximum sequence length for this model (3219 > 1024). Running this sequence through the model will result in indexing errors\n",
      "Token indices sequence length is longer than the specified maximum sequence length for this model (4606 > 1024). Running this sequence through the model will result in indexing errors\n",
      "Token indices sequence length is longer than the specified maximum sequence length for this model (1946 > 1024). Running this sequence through the model will result in indexing errors\n",
      "Token indices sequence length is longer than the specified maximum sequence length for this model (2001 > 1024). Running this sequence through the model will result in indexing errors\n",
      "Token indices sequence length is longer than the specified maximum sequence length for this model (1744 > 1024). Running this sequence through the model will result in indexing errors\n",
      "Token indices sequence length is longer than the specified maximum sequence length for this model (3225 > 1024). Running this sequence through the model will result in indexing errors\n",
      "Token indices sequence length is longer than the specified maximum sequence length for this model (6532 > 1024). Running this sequence through the model will result in indexing errors\n",
      "Token indices sequence length is longer than the specified maximum sequence length for this model (2977 > 1024). Running this sequence through the model will result in indexing errors\n",
      "Token indices sequence length is longer than the specified maximum sequence length for this model (2208 > 1024). Running this sequence through the model will result in indexing errors\n",
      "Token indices sequence length is longer than the specified maximum sequence length for this model (3223 > 1024). Running this sequence through the model will result in indexing errors\n",
      "Token indices sequence length is longer than the specified maximum sequence length for this model (4369 > 1024). Running this sequence through the model will result in indexing errors\n",
      "Token indices sequence length is longer than the specified maximum sequence length for this model (2949 > 1024). Running this sequence through the model will result in indexing errors\n",
      "Token indices sequence length is longer than the specified maximum sequence length for this model (3099 > 1024). Running this sequence through the model will result in indexing errors\n",
      "Token indices sequence length is longer than the specified maximum sequence length for this model (3651 > 1024). Running this sequence through the model will result in indexing errors\n",
      "Token indices sequence length is longer than the specified maximum sequence length for this model (2910 > 1024). Running this sequence through the model will result in indexing errors\n",
      "Token indices sequence length is longer than the specified maximum sequence length for this model (3545 > 1024). Running this sequence through the model will result in indexing errors\n"
     ]
    },
    {
     "name": "stderr",
     "output_type": "stream",
     "text": [
      "Token indices sequence length is longer than the specified maximum sequence length for this model (2692 > 1024). Running this sequence through the model will result in indexing errors\n",
      "Token indices sequence length is longer than the specified maximum sequence length for this model (3659 > 1024). Running this sequence through the model will result in indexing errors\n",
      "Token indices sequence length is longer than the specified maximum sequence length for this model (2519 > 1024). Running this sequence through the model will result in indexing errors\n",
      "Token indices sequence length is longer than the specified maximum sequence length for this model (2968 > 1024). Running this sequence through the model will result in indexing errors\n",
      "Token indices sequence length is longer than the specified maximum sequence length for this model (3699 > 1024). Running this sequence through the model will result in indexing errors\n",
      "Token indices sequence length is longer than the specified maximum sequence length for this model (3184 > 1024). Running this sequence through the model will result in indexing errors\n",
      "Token indices sequence length is longer than the specified maximum sequence length for this model (4847 > 1024). Running this sequence through the model will result in indexing errors\n",
      "Token indices sequence length is longer than the specified maximum sequence length for this model (5733 > 1024). Running this sequence through the model will result in indexing errors\n",
      "Token indices sequence length is longer than the specified maximum sequence length for this model (1737 > 1024). Running this sequence through the model will result in indexing errors\n",
      "Token indices sequence length is longer than the specified maximum sequence length for this model (1566 > 1024). Running this sequence through the model will result in indexing errors\n",
      "Token indices sequence length is longer than the specified maximum sequence length for this model (4904 > 1024). Running this sequence through the model will result in indexing errors\n",
      "Token indices sequence length is longer than the specified maximum sequence length for this model (4114 > 1024). Running this sequence through the model will result in indexing errors\n",
      "Token indices sequence length is longer than the specified maximum sequence length for this model (4388 > 1024). Running this sequence through the model will result in indexing errors\n",
      "Token indices sequence length is longer than the specified maximum sequence length for this model (3873 > 1024). Running this sequence through the model will result in indexing errors\n",
      "Token indices sequence length is longer than the specified maximum sequence length for this model (1780 > 1024). Running this sequence through the model will result in indexing errors\n",
      "Token indices sequence length is longer than the specified maximum sequence length for this model (4141 > 1024). Running this sequence through the model will result in indexing errors\n",
      "Token indices sequence length is longer than the specified maximum sequence length for this model (1728 > 1024). Running this sequence through the model will result in indexing errors\n",
      "Token indices sequence length is longer than the specified maximum sequence length for this model (3777 > 1024). Running this sequence through the model will result in indexing errors\n",
      "Token indices sequence length is longer than the specified maximum sequence length for this model (2114 > 1024). Running this sequence through the model will result in indexing errors\n",
      "Token indices sequence length is longer than the specified maximum sequence length for this model (3002 > 1024). Running this sequence through the model will result in indexing errors\n",
      "Token indices sequence length is longer than the specified maximum sequence length for this model (1428 > 1024). Running this sequence through the model will result in indexing errors\n",
      "Token indices sequence length is longer than the specified maximum sequence length for this model (6234 > 1024). Running this sequence through the model will result in indexing errors\n",
      "Token indices sequence length is longer than the specified maximum sequence length for this model (3929 > 1024). Running this sequence through the model will result in indexing errors\n",
      "Token indices sequence length is longer than the specified maximum sequence length for this model (3374 > 1024). Running this sequence through the model will result in indexing errors\n"
     ]
    },
    {
     "name": "stdout",
     "output_type": "stream",
     "text": [
      "CPU times: user 34 s, sys: 1.81 s, total: 35.8 s\n",
      "Wall time: 1min 2s\n"
     ]
    }
   ],
   "source": [
    "%%time\n",
    "estimate_tokens_list=[]\n",
    "business_ids=list(df_currentpool_b['business_id'])\n",
    "# loop over all the unique business ids:\n",
    "for bid in business_ids:\n",
    "    \n",
    "    # extract all the reviews for this business\n",
    "    reviews = df_Reno_reviews[df_Reno_reviews['business_id']==bid]\n",
    "    \n",
    "    # extract the top 20 reviews or all reviews for this business\n",
    "    relevant_reviews = list(reviews.sort_values(by='useful',ascending=False)[:min(10, len(reviews))]['text'])\n",
    "    \n",
    "    # get chatGPT prompt message for these reviews\n",
    "    _ = gpt.get_prompt_parsing_reviews(relevant_reviews)\n",
    "    \n",
    "    # estimate total number of tokens\n",
    "    estimate_tokens = gpt.estimate_tokens()\n",
    "    estimate_tokens_list.append(estimate_tokens)"
   ]
  },
  {
   "cell_type": "code",
   "execution_count": 63,
   "id": "a623a142",
   "metadata": {},
   "outputs": [
    {
     "name": "stdout",
     "output_type": "stream",
     "text": [
      "may cost 9.73115 dollars\n"
     ]
    }
   ],
   "source": [
    "cost_estimate = sum(estimate_tokens_list)/1000*0.01 #gpt-4-1106-preview\t$0.01 / 1K tokens. rough estimation.\n",
    "print('may cost ' + str(cost_estimate) + ' dollars')"
   ]
  },
  {
   "cell_type": "markdown",
   "id": "e84c4f84",
   "metadata": {},
   "source": [
    "# OK, try it first."
   ]
  },
  {
   "cell_type": "code",
   "execution_count": 71,
   "id": "97459d27",
   "metadata": {
    "collapsed": true
   },
   "outputs": [
    {
     "name": "stdout",
     "output_type": "stream",
     "text": [
      "0/296\n",
      "1/296\n",
      "2/296\n",
      "3/296\n",
      "4/296\n",
      "5/296\n",
      "6/296\n",
      "7/296\n",
      "8/296\n",
      "9/296\n",
      "10/296\n",
      "11/296\n",
      "12/296\n",
      "13/296\n",
      "14/296\n",
      "15/296\n",
      "16/296\n",
      "17/296\n",
      "18/296\n",
      "19/296\n",
      "20/296\n",
      "21/296\n",
      "22/296\n",
      "23/296\n",
      "24/296\n",
      "25/296\n",
      "26/296\n",
      "27/296\n",
      "28/296\n",
      "29/296\n",
      "30/296\n",
      "31/296\n",
      "32/296\n",
      "33/296\n",
      "34/296\n",
      "35/296\n",
      "36/296\n",
      "37/296\n",
      "38/296\n",
      "39/296\n",
      "40/296\n",
      "41/296\n",
      "42/296\n",
      "43/296\n",
      "44/296\n",
      "45/296\n",
      "46/296\n",
      "47/296\n",
      "48/296\n",
      "49/296\n",
      "50/296\n",
      "51/296\n",
      "52/296\n",
      "53/296\n",
      "54/296\n",
      "55/296\n",
      "56/296\n",
      "57/296\n",
      "58/296\n",
      "59/296\n",
      "60/296\n",
      "61/296\n",
      "62/296\n",
      "63/296\n",
      "64/296\n",
      "65/296\n",
      "66/296\n",
      "67/296\n",
      "68/296\n",
      "69/296\n",
      "70/296\n",
      "71/296\n",
      "72/296\n",
      "73/296\n",
      "74/296\n",
      "75/296\n",
      "76/296\n",
      "77/296\n",
      "78/296\n",
      "79/296\n",
      "80/296\n",
      "81/296\n",
      "82/296\n",
      "83/296\n",
      "84/296\n",
      "85/296\n",
      "86/296\n",
      "87/296\n",
      "88/296\n",
      "89/296\n",
      "90/296\n",
      "91/296\n",
      "92/296\n",
      "93/296\n",
      "94/296\n",
      "95/296\n",
      "96/296\n",
      "97/296\n",
      "98/296\n",
      "99/296\n",
      "100/296\n",
      "101/296\n",
      "102/296\n",
      "103/296\n",
      "104/296\n",
      "105/296\n",
      "106/296\n",
      "107/296\n",
      "108/296\n",
      "109/296\n",
      "110/296\n",
      "111/296\n",
      "112/296\n",
      "113/296\n",
      "114/296\n",
      "115/296\n",
      "116/296\n",
      "117/296\n",
      "118/296\n",
      "119/296\n",
      "120/296\n",
      "121/296\n",
      "122/296\n",
      "123/296\n",
      "124/296\n",
      "125/296\n",
      "126/296\n",
      "127/296\n",
      "128/296\n",
      "129/296\n",
      "130/296\n",
      "131/296\n",
      "132/296\n",
      "133/296\n",
      "134/296\n",
      "135/296\n",
      "136/296\n",
      "137/296\n",
      "138/296\n",
      "139/296\n",
      "140/296\n",
      "141/296\n",
      "142/296\n",
      "143/296\n",
      "144/296\n",
      "145/296\n",
      "146/296\n",
      "147/296\n",
      "148/296\n",
      "149/296\n",
      "150/296\n",
      "151/296\n",
      "152/296\n",
      "153/296\n",
      "154/296\n",
      "155/296\n",
      "156/296\n",
      "157/296\n",
      "158/296\n",
      "159/296\n",
      "160/296\n",
      "161/296\n",
      "162/296\n",
      "163/296\n",
      "164/296\n",
      "165/296\n",
      "166/296\n",
      "167/296\n",
      "168/296\n",
      "169/296\n",
      "170/296\n",
      "171/296\n",
      "172/296\n",
      "173/296\n",
      "174/296\n",
      "175/296\n",
      "176/296\n",
      "177/296\n",
      "178/296\n",
      "179/296\n",
      "180/296\n",
      "181/296\n",
      "182/296\n",
      "183/296\n",
      "184/296\n",
      "185/296\n",
      "186/296\n",
      "187/296\n",
      "188/296\n",
      "189/296\n",
      "190/296\n",
      "191/296\n",
      "192/296\n",
      "193/296\n",
      "194/296\n",
      "195/296\n",
      "196/296\n",
      "197/296\n",
      "198/296\n",
      "199/296\n",
      "200/296\n",
      "201/296\n",
      "202/296\n",
      "203/296\n",
      "204/296\n",
      "205/296\n",
      "206/296\n",
      "207/296\n",
      "208/296\n",
      "209/296\n",
      "210/296\n",
      "211/296\n",
      "212/296\n",
      "213/296\n",
      "214/296\n",
      "215/296\n",
      "216/296\n",
      "217/296\n",
      "218/296\n",
      "219/296\n",
      "220/296\n",
      "221/296\n",
      "222/296\n",
      "223/296\n",
      "224/296\n",
      "225/296\n",
      "226/296\n",
      "227/296\n",
      "228/296\n",
      "229/296\n",
      "230/296\n",
      "231/296\n",
      "232/296\n",
      "233/296\n",
      "234/296\n",
      "235/296\n",
      "236/296\n",
      "237/296\n",
      "238/296\n",
      "239/296\n",
      "240/296\n",
      "241/296\n",
      "242/296\n",
      "243/296\n",
      "244/296\n",
      "245/296\n",
      "246/296\n",
      "247/296\n",
      "248/296\n",
      "249/296\n",
      "250/296\n",
      "251/296\n",
      "252/296\n",
      "253/296\n",
      "254/296\n",
      "255/296\n",
      "256/296\n",
      "257/296\n",
      "258/296\n",
      "259/296\n",
      "260/296\n",
      "1. [Parmesan crusted tacos], [fast and friendly service]\n",
      "2. [yes]\n",
      "3. [yes]\n",
      "4. [not mentioned]\n",
      "5. [yes]\n",
      "6. [Tacos], [Burritos], [Quesadillas], [Spanish Rice], [Breakfast Burritos], [Street Tacos], [Shrimp Dishes], [Carnitas], [Vegetarian Options], [Chicken Dishes]\n",
      "7. [Cheesy], [Greasy], [Fried], [Americanized], [Unique], [Comforting], [Crispy], [Spicy], [Hearty], [Savory]\n",
      "8. [Chicken tacos], [Street tacos], [Shrimp quesadillas], [Spanish rice with extra sauce and extra cheese], [Fiesta breakfast burrito], [Burritos], [Torta], [Beef tacos without lettuce], [Beef Super Burrito], [Shredded beef tacos]\n",
      "9. [Original tacos with little meat], [Beef burrito with chewy meat]\n",
      "10. [not mentioned]\n",
      "\n",
      "\n",
      "261/296\n",
      "1. [Variety and quality of special food events], [having a large number of participating restaurants]\n",
      "2. [not mentioned]\n",
      "3. [yes]\n",
      "4. [yes]\n",
      "5. [yes]\n",
      "6. [Italian], [Moroccan], [Asian], [Israeli], [American], [Mexican], [German], [French], [Thai], [Greek]\n",
      "7. [Savory], [Spicy], [Sweet], [Herbal], [Bitter], [Sour], [Rich], [Creamy], [Crunchy], [Tender]\n",
      "8. [Bison sausage and pint], [Stuffed burger and beer], [Meatballs and crispy polenta], [Israeli family style dinner], [5 course Italian dinner], [Asian food and drink samples], [Lamb sandwich], [Trio of soups], [Drunken Noodles], [Kobe Burger]\n",
      "9. [Chili Relleno with beans and rice], [Sweet desserts at Chihuahua's]\n",
      "10. [not mentioned]\n",
      "\n",
      "\n",
      "262/296\n",
      "1. [Consistent quality], [prime rib special]\n",
      "2. [yes]\n",
      "3. [yes]\n",
      "4. [yes]\n",
      "5. [not mentioned]\n",
      "6. [Burgers], [General Tso's chicken], [Sandwiches], [Paninis], [Ham steak], [Eggs], [French rolls], [American], [Asian fusion], [Prime rib]\n",
      "7. [Spicy], [Sweet], [Tender], [Charred], [Rare], [Lean], [Hot], [Fried], [Ordinary], [Edible]\n",
      "8. [Prime rib special], [Wonton Soup], [Crispy buns], [Portobello sandwich], [Gold Coast panini], [Sweet potato fries], [Ham steak with eggs], [Steak dinner with shrimp scampi], [Chicken pad Thai], [Fried rice]\n",
      "9. [Black bean sauce chow fun], [Fried rice (not fully cooked)]\n",
      "10. [Not mentioned]\n",
      "\n",
      "\n",
      "263/296\n",
      "1. [Coffee quality], [Breakfast options]\n",
      "2. [yes]\n",
      "3. [yes]\n",
      "4. [not mentioned]\n",
      "5. [yes]\n",
      "6. [Pastries], [Baked goods], [Sandwiches], [Burritos], [Draft beer], [Wine], [Scones], [Chai], [Smoothies], [Specialty drinks]\n",
      "7. [Rich], [Hearty], [Filling], [Cheesy], [Fresh], [Homey], [Savory], [Vegetarian options], [Sweet], [Homemade]\n",
      "8. [Breakfast sandwich], [Nutella Scone], [Iced vanilla latte], [Breakfast burrito], [Birdie sandwich], [MacWaldens], [Smothered sausage breakfast burrito], [Sausage breakfast burrito], [McWalden], [Huge burrito]\n",
      "9. [Coffee with grounds], [Coffee tastes burnt]\n",
      "10. [Accommodating], [Varied options], [Vegetarian]\n",
      "\n",
      "\n",
      "264/296\n",
      "1. [Delicious, smoky meats], [Friendly service]\n",
      "2. [not mentioned]\n",
      "3. [yes]\n",
      "4. [not mentioned]\n",
      "5. [yes]\n",
      "6. [BBQ], [Ribs], [Chicken], [Pulled pork], [Brisket], [Mac and cheese], [Cornbread], [Baked beans], [Sausage], [Potato salad]\n",
      "7. [Smoky], [Tender], [Juicy], [Spicy], [Sweet], [Bold], [Savory], [Seasoned], [Flavorful], [Creamy]\n",
      "8. [Brisket], [Ribs], [Pulled pork], [Smoked chicken plate], [2 Meat BBQ Plate], [Beef ribs], [St Louis Style Ribs], [Mac and cheese], [Cornbread], [Black bean and corn salad]\n",
      "9. [BBQ beans], [Regular coleslaw]\n",
      "10. [not mentioned]\n",
      "\n",
      "\n",
      "265/296\n",
      "1. [Attentive service], [Value for money]\n",
      "2. [not mentioned]\n",
      "3. [yes]\n",
      "4. [yes]\n",
      "5. [yes]\n",
      "6. [Tacos], [Burritos], [Fajitas], [Enchiladas], [Guacamole], [Chips], [Salsa], [Chorizo], [Poke], [Agave wings]\n",
      "7. [Spicy], [Smoky], [Savory], [Sweet], [Fresh], [Crispy], [Tender], [Flavorful], [Creamy], [Tangy]\n",
      "8. [Carne Asada Taco], [Tequila Chicken Fajitas], [Guacamole], [Baja Poke], [Agave chicken wings], [Shrimp Diablo], [Mole enchiladas], [Burritos], [Churros], [Margaritas]\n",
      "9. [South of the border rice], [Mexican Pot Beans]\n",
      "10. [not mentioned]\n",
      "\n",
      "\n",
      "266/296\n",
      "1. [Customer service], [Variety of flavors]\n",
      "2. [yes]\n",
      "3. [yes]\n",
      "4. [not mentioned]\n",
      "5. [not mentioned]\n",
      "6. [Muffins], [Bagels], [Coffee], [Scones], [Sandwiches], [Egg Mites], [Mini Muffins], [Breakfast], [Cream Cheese], [Turkey Sausage]\n",
      "7. [Fresh], [Flavorful], [Soft], [Airy], [Moist], [Spicy], [Sweet], [Savory], [Herbal], [Mild]\n",
      "8. [French toast bagel], [Asiago cheese bagels], [Pumpkin muffin], [Blueberry muffin], [Ranchero sandwich], [Southern Tradition], [Northern Omelet], [Egg white Turkey sausage provolone bagel], [Whole wheat everything bagel], [Veggie omelette bagel]\n",
      "9. [Grocery store muffin], [Coffee drinks]\n",
      "10. [Locally sourced], [Vegetarian options], [not mentioned]\n",
      "\n",
      "\n",
      "267/296\n",
      "1. [Large portion sizes], [Variety of menu options]\n",
      "2. [yes]\n",
      "3. [yes]\n",
      "4. [not mentioned]\n",
      "5. [not mentioned]\n",
      "6. [Sandwiches], [Burritos], [Salads], [House-made Breads], [Gluten-Free Options], [Wraps], [Children's Menu], [Steak], [Cuban], [Cheesesteak]\n",
      "7. [Spicy], [Savory], [Hearty], [Fried], [Melted Cheese], [House-made], [Fresh], [Dry (based on some reviews)], [Salty], [Tasteless (based on some reviews)]\n",
      "8. [Spanish Gnar Burrito], [Cheesesteak], [Meatball Sandwich], [Cuban], [Reuben with Turkey], [Gnar Burrito], [Breakfast Scramble with Sausage], [Biscuits and Gravy Burrito], [Not So Gnar Burrito], [Breakfast Burritos]\n",
      "9. [Tomato Basil Bisque], [Dry and tasteless meat dishes (as per \"I've tried the Gnar Burrito, Cuban, and Dirka Dirka\" review)]\n",
      "10. [Gluten-Free Options], [Vegetarian Options], [not mentioned]\n",
      "\n",
      "\n",
      "268/296\n",
      "1. [Friendly service], [Quality of food]\n",
      "2. [yes]\n",
      "3. [yes]\n",
      "4. [yes]\n",
      "5. [yes]\n",
      "6. [Vegan options], [Gluten-free options], [Paleo options], [Organic offerings], [Locally sourced items], [Vegetarian dishes], [Seafood], [Beverages], [Soups], [Sandwiches]\n",
      "7. [Seasoned well], [Fresh], [Homemade], [Spicy], [Sweet], [Savory], [Tangy], [Creamy], [Pickled], [Flavorful]\n",
      "8. [Julie's breakfast tacos], [Huevos pupusa], [Breakfast saute], [Avocado toast], [Tinga tacos], [Vegan Reuben], [Pesto tofu scramble], [Teriyaki bowl with salmon], [Cheesy bruschetta], [Turkey pesto sandwich]\n",
      "9. [Liege waffles], [not mentioned]\n",
      "10. [not mentioned]\n",
      "\n",
      "\n",
      "269/296\n",
      "1. [Fabulous lunches], [creativity from the kitchen]\n",
      "2. [not mentioned]\n",
      "3. [yes]\n",
      "4. [yes]\n",
      "5. [yes]\n",
      "6. [Sandwiches], [Salads], [Entrees], [Cheeses], [Wines], [Desserts], [Soup], [Quiche], [Pastas], [Burgers]\n",
      "7. [Fresh], [Savory], [Buttery], [Creamy], [Crunchy], [Warm], [Flavorful], [Bright fruit], [Cheese forward], [Delicate]\n",
      "8. [Crab cake], [Artichoke soup], [Arugula salad], [Short ribs], [Strawberry rhubarb cake], [Ham melt], [Tuna melt], [Lamb sandwich], [Lemon bar], [Grilled chicken sandwich]\n",
      "9. [not mentioned], [not mentioned]\n",
      "10. [not mentioned]\n",
      "\n",
      "\n",
      "270/296\n"
     ]
    },
    {
     "name": "stdout",
     "output_type": "stream",
     "text": [
      "1. [The beer selection], [The variety of games available]\n",
      "2. [not mentioned]\n",
      "3. [not mentioned]\n",
      "4. [not mentioned]\n",
      "5. [yes]\n",
      "6. [Craft brews], [Homemade soda], [Blonde beer], [Porter], [Seasonal selections], [British-style ales], [Saison sour], [French-styled saison], [Cocoa flavors], [Ginger beer]\n",
      "7. [Drinkable], [Sessionable], [Flavorful], [Light], [Drier], [Sweeter], [Aromatic], [Crisp], [Tolerably hoppy], [Refreshing]\n",
      "8. [Saison Sour], [British Beer], [French-styled saison], [Porter], [Cocoa-flavored beer], [Ginger beer], [Citrus beer], [Battle Born tri-tip sandwich], [Berry cobbler with ice cream], [Homemade soda with lemongrass]\n",
      "9. [Blonde Beer], [not mentioned]\n",
      "10. [not mentioned]\n",
      "\n",
      "\n",
      "271/296\n",
      "1. [Friendly service], [Juicy burgers]\n",
      "2. [not mentioned]\n",
      "3. [yes]\n",
      "4. [not mentioned]\n",
      "5. [yes]\n",
      "6. [Hamburgers], [BLT], [Fries], [Milkshakes], [Chili cheese fries], [Chili], [Cheeseburger], [Condiments], [Soft drinks], [Pickle]\n",
      "7. [Juicy], [Fresh], [Crisp], [Greasy], [Bland], [Melty cheese], [Thick patties], [Salty], [Fried], [Home-cooked]\n",
      "8. [Cheeseburger], [Junior cheeseburger], [Double cheeseburger], [Chili fries], [BLT], [Fries], [Milkshake], [Burgers to go], [Chili cheese fries], [Strawberry shake]\n",
      "9. [not mentioned], [not mentioned]\n",
      "10. [Veteran-friendly], [Accommodating], [ADA compliant]\n",
      "\n",
      "\n",
      "272/296\n",
      "1. [Authentic German food], [European ambiance]\n",
      "2. [not mentioned]\n",
      "3. [yes]\n",
      "4. [yes]\n",
      "5. [not mentioned]\n",
      "6. [Pastries], [Sandwiches], [Deviled eggs], [Sausages], [Breads], [European drinks], [Cannoli], [Strudel], [Cheese], [Caviar]\n",
      "7. [Comforting], [Delicious], [Hearty], [Rich], [Oily], [Tasty], [Sweet], [Authentic], [Overcooked], [Microwaved]\n",
      "8. [German sausage platter], [Red cabbage], [Sauerkraut], [Spaetzle], [Wiener Schnitzel], [Potato pancakes], [Jaegerschnitzel], [Sauerbraten], [Cherry strudel], [Sweets from bakery]\n",
      "9. [Beef Rouladen], [Coffee]\n",
      "10. [not mentioned]\n",
      "\n",
      "\n",
      "273/296\n",
      "1. [Diverse food service options], [Variety of amenities (spa, gym, pools, proximity to transport)]\n",
      "2. [yes]\n",
      "3. [yes]\n",
      "4. [yes]\n",
      "5. [not mentioned]\n",
      "6. [Ice cream], [Cafe], [Fast food], [Coffee], [Deli], [Fro-yo], [Snacks], [Buffet], [Steakhouse], [Baked goods]\n",
      "7. [Sweet], [Savory], [Bitter], [Spicy], [Rich], [Creamy], [Salty], [Hearty], [Warm], [Fresh]\n",
      "8. [Casino resort ice cream], [Cafe Central breakfast], [Cafe Central lunch], [Cafe Central dinner], [El Jefe limited hours], [Pre-made sandwiches], [Coffee k-cups], [Cereal], [Snack packs], [Almonds]\n",
      "9. [Casino ATM change policy], [Limited restaurant service during events]\n",
      "10. [Not mentioned]\n",
      "\n",
      "\n",
      "274/296\n",
      "1. [Service], [Quantity of Food]\n",
      "2. [not mentioned]\n",
      "3. [yes]\n",
      "4. [yes]\n",
      "5. [yes]\n",
      "6. [Mexican], [Sushi], [Salads], [Burritos], [Chimichangas], [Nachos], [Carnitas], [Asada], [Taco Salad], [Family Platters]\n",
      "7. [Creamy], [Juicy], [Tender], [Fresh], [Crispy], [Loaded], [Bland], [Dry], [Over Salted], [Authentic]\n",
      "8. [Guacamole], [Carne Asada Chimichanga], [Taco Salad], [Carne Asada], [Margaritas], [Nachos with Chicken], [Pork Chile Verde], [Rotisserie Chicken], [Chips and Salsa], [Modelo Especial Beer]\n",
      "9. [Tortilla Soup], [Quesadilla Shrimp]\n",
      "10. [not mentioned]\n",
      "\n",
      "\n",
      "275/296\n",
      "1. [Homemade feel of food], [Friendly atmosphere]\n",
      "2. [yes]\n",
      "3. [yes]\n",
      "4. [yes]\n",
      "5. [yes]\n",
      "6. [Subs], [Pizza], [Wings], [Garlic Fries], [Cold Beverages], [Hot Sandwiches], [Salami], [Fried Pub Favorites], [Prosciutto], [Beer]\n",
      "7. [Fresh], [Crispy], [Savory], [Spicy], [Home-style], [Rich], [Hearty], [Tangy], [Crunchy], [Warm]\n",
      "8. [#1 Sub], [Turkey Sandwich], [Garlic Fries], [Pepperoncinis & Swiss Cheese Add-on], [Hot Chicken Sub], [Medium Combo Pizza], [Chicken Wings], [Happy Hour Personal Pizza], [Burgers and Fries], [Chicken Strips]\n",
      "9. [Turkey & Salami Sandwich], [Treehugger Pizza]\n",
      "10. [Varied Accomodations], [not mentioned], [not mentioned]\n",
      "\n",
      "\n",
      "276/296\n",
      "1. [Patio ambiance], [Live music]\n",
      "2. [not mentioned]\n",
      "3. [yes]\n",
      "4. [yes]\n",
      "5. [yes]\n",
      "6. [Seafood], [Sandwiches], [Steak], [Pasta], [Salads], [Appetizers], [Desserts], [Poultry], [Vegetarian options], [House-made beverages]\n",
      "7. [Savory], [Fresh], [Crisp], [Tart], [Balanced], [Creamy], [Fluffy], [Expertly prepared], [Juicy], [Tender]\n",
      "8. [Crab and Salmon Cakes], [Pan roasted halibut], [Meatloaf with portabella mushrooms], [Ribeye steak], [Flourless Chocolate Torte], [Truckee River Mud], [Braised short ribs], [Duck breast], [Turkey cranberry sandwich], [Gruyere croquettes]\n",
      "9. [Brie and Pear Flatbread], [Zucchini side]\n",
      "10. [Not mentioned]\n",
      "\n",
      "\n",
      "277/296\n",
      "1. [Exceptional service], [Quality of Prime Rib]\n",
      "2. [not mentioned]\n",
      "3. [not mentioned]\n",
      "4. [yes]\n",
      "5. [yes]\n",
      "6. [Steaks], [Seafood], [Salads], [Appetizers], [Desserts], [Soups], [Lamb], [Chicken Strips], [Escargot], [Chocolate Mousse]\n",
      "7. [Tender], [Rich], [Overcooked], [Greasy], [Fresh], [Affordable], [Satisfactory], [Lobster-flavored], [Raw], [Chewy]\n",
      "8. [Prime Rib], [Filet Mignon], [Escargot], [Chocolate Mousse Cake], [Bacon-wrapped Filet], [Seafood Chowder], [Clam Chowder], [Early Bird Menu items], [Artichoke Dip], [Andes Mints]\n",
      "9. [Artichoke Crab Dip], [Onion Rings]\n",
      "10. [not mentioned]\n",
      "\n",
      "\n",
      "278/296\n",
      "1. [Customer service], [Variety on the menu]\n",
      "2. [not mentioned]\n",
      "3. [yes]\n",
      "4. [yes]\n",
      "5. [yes]\n",
      "6. [Basque cuisine], [American], [Gastropub], [Seafood], [Salads], [Burgers], [Sliders], [Mac and Cheese], [Chili], [Paella]\n",
      "7. [Hearty], [Diverse], [Famous], [Homey], [Intimidating], [Sweet], [Bold flavors], [Smoked], [Tart], [Creamy]\n",
      "8. [Blue Chips], [Basque Chorizo Burger], [Basque vegetable soup], [Bison chili], [Chicken Sliders], [Mac and cheese], [Reuben sandwich], [Special sandwich of the day], [Nevada Beef Burger], [American Bison Chili]\n",
      "9. [Chocolate Pecan Pie], [Seafood entrée]\n",
      "10. [Not mentioned]\n",
      "\n",
      "\n",
      "279/296\n",
      "1. [Atmosphere], [Quality of pizza]\n",
      "2. [not mentioned]\n",
      "3. [yes]\n",
      "4. [not mentioned]\n",
      "5. [yes]\n",
      "6. [Wood-fired pizza], [Gluten-free options], [Individual size], [Prosciutto], [Pear], [Gorgonzola], [BBQ chicken], [Four cheese], [Marinara sauce], [Salads]\n",
      "7. [Savory], [Sweet], [Crispy], [Cheesy], [Mild pepperoni], [Dry], [Goat cheese], [Fresh ingredients], [Authentic Italian], [Thin crust]\n",
      "8. [Prosciutto, pear and Gorgonzola pizza], [BBQ chicken pizza], [Four cheese pizza], [Classic pepperoni pizza], [Margherita pizza], [Pie Napolitano], [Gluten-free pizza], [Authentic Italian style pizza]\n",
      "9. [No negative reviews specified]\n",
      "10. [Gluten-free], [Vegetarian options], [not mentioned]\n",
      "\n",
      "\n",
      "280/296\n",
      "1. [attentive service], [interior design]\n",
      "2. [not mentioned]\n",
      "3. [not mentioned]\n",
      "4. [yes]\n",
      "5. [not mentioned]\n",
      "6. [Mexican], [tacos], [guacamole], [soup], [steak], [margaritas], [jalapeño poppers], [fish tacos], [shrimp], [chile verde]\n",
      "7. [bland], [flavorless], [fresh], [no kick], [no taste], [average], [clean], [sweetened], [botanical], [fruity]\n",
      "8. [Sauza margaritas], [jalapeño poppers], [steak tacos], [2 item combo plate], [Partida Margarita], [Supremo Platter], [albondiga soup], [guacamole], [fish tacos], [rice and beans]\n",
      "9. [chips], [camarones de diablo]\n",
      "10. [not mentioned]\n",
      "\n",
      "\n",
      "281/296\n",
      "1. [Cool decor], [Perfectly cooked breakfast items]\n",
      "2. [yes]\n",
      "3. [yes]\n",
      "4. [yes]\n",
      "5. [yes]\n",
      "6. [Italian], [Burgers], [Pizzas], [Pasta], [Small plates], [Salads], [Sandwiches], [Seafood], [Appetizers], [Desserts]\n",
      "7. [Rich], [Velvety], [Savory], [Sweet], [Fresh], [Unctuous], [Crispy], [Buttery], [Garlicky], [Balanced]\n",
      "8. [Eggs Benedict], [French toast], [Club Benedict], [Brie & Strawberry stuffed french toast], [Ravioli Carbonara], [Grilled Peach Salad], [Garlic Bread], [Pork Belly Appetizer], [Braised Short Ribs], [Hawaiian Pizza]\n",
      "9. [Grapefruit infused beer], [Lamb belly tacos]\n",
      "10. [not mentioned]\n",
      "\n",
      "\n",
      "282/296\n",
      "1. [attentive service], [hearty portions]\n",
      "2. [not mentioned]\n",
      "3. [yes]\n",
      "4. [yes]\n",
      "5. [not mentioned]\n",
      "6. [BBQ], [Tri-tip], [Brisket], [Ribs], [Pulled Pork], [Burgers], [Sandwiches], [Fries], [Cornbread], [Desserts]\n",
      "7. [Tangy], [Smoky], [Tender], [Spicy], [Flavourful], [Dry], [Sweet], [Moist], [Hearty], [Bland]\n",
      "8. [tri tip sandwich], [baby back ribs with chipotle BBQ sauce], [18 hour brisket with sweet bbq sauce], [pulled pork with house-made bbq sauce], [pulled pork wrap], [carrot cake], [polenta with mushroom sauce], [double beef burger add pastrami], [ahi with two sides], [grilled corn (when added to the menu)]\n",
      "9. [cornbread], [tri-tip (when overcooked and fatty)]\n",
      "10. [not mentioned]\n",
      "\n",
      "\n",
      "283/296\n"
     ]
    },
    {
     "name": "stdout",
     "output_type": "stream",
     "text": [
      "1. [Huge portions], [Friendly service]\n",
      "2. [yes]\n",
      "3. [yes]\n",
      "4. [yes]\n",
      "5. [yes]\n",
      "6. [Burgers], [Sandwiches], [Fries], [Eggs], [Hash browns], [French toast], [Chili], [Wings], [Coleslaw], [Clam chowder]\n",
      "7. [Sweet], [Savory], [Hearty], [Crispy], [Overcooked], [Seasoned], [Smoky], [Oily], [Spicy], [Bland]\n",
      "8. [Awful Awful burger], [Diced ham and eggs], [French toast], [Chili cheese fries], [Clam chowder], [Hot dog], [Fried calamari sandwich], [Basket of wings], [Coleslaw], [The Original Awful-Awful with extra patty or bacon]\n",
      "9. [Basket of wings], [Generic burger from recent changes]\n",
      "10. [Not mentioned]\n",
      "\n",
      "\n",
      "284/296\n",
      "1. [Variety of entertainment options], [Tasty pizzas and burgers]\n",
      "2. [not mentioned]\n",
      "3. [yes]\n",
      "4. [yes]\n",
      "5. [yes]\n",
      "6. [Bar bites], [Pizzas], [Deep-fried appetizers], [Salads], [Burgers], [Sandwiches], [Chicken wings], [Sliders], [Nachos], [Family platters]\n",
      "7. [Crispy], [Cheesy], [Zesty], [Garlicky], [Seasoned], [Spicy], [Bland], [Creamy], [Tender], [Fresh]\n",
      "8. [Freshie pizza], [Housemade meatball sliders], [Garlic parmesan wings], [Firehouse burger], [Big Lebowski burger], [Chicken strips], [300 club sandwich], [Buffalo Chicken Pizza], [Family appetizer platter], [Chicken Sandwich]\n",
      "9. [Gutter ball nachos], [Meatball sliders]\n",
      "10. [not mentioned]\n",
      "\n",
      "\n",
      "285/296\n",
      "1. [Staff friendliness], [Cleanliness]\n",
      "2. [yes]\n",
      "3. [not mentioned]\n",
      "4. [not mentioned]\n",
      "5. [not mentioned]\n",
      "6. [Fast food], [Burgers], [Chicken Nuggets], [Egg McMuffin], [Happy Meals], [Hash Browns], [Ice Cream Cones], [Breakfast Sandwich], [French Fries], [Drinks]\n",
      "7. [Cold], [Stale], [Slow], [Not Fresh], [McDonald's], [Fast Casual], [Convenient], [American], [Popular], [Unsatisfactory]\n",
      "8. [Egg McMuffin meal], [Happy Meals], [Iced tea], [extra sauces], [burger], [French Fries], [Chicken McNuggets], [Breakfast Sandwich], [Hash Browns], [Ice Cream Cone]\n",
      "9. [Happy Meal Chicken Nuggets], [Hash Brown (missing)]\n",
      "10. [not mentioned]\n",
      "\n",
      "\n",
      "286/296\n",
      "1. [Quality of seasoned sushi rice], [Variety of unique rolls and ingredients]\n",
      "2. [not mentioned]\n",
      "3. [not mentioned]\n",
      "4. [yes]\n",
      "5. [not mentioned]\n",
      "6. [Sashimi], [California roll], [Nigiri], [Dynamite roll], [Eldo roll], [Salmon skin handroll], [Tempura], [Poke salad], [Tobiko], [Miso soup]\n",
      "7. [Fresh], [Sweet], [Savory], [Tangy], [Spicy], [Crispy], [Smoky], [Authentic], [Rich], [Cooling]\n",
      "8. [Sashimi and cal roll plate], [Dynamite roll], [Eldo roll], [Nigiri], [Salmon skin handroll], [Poke salad], [Lobster Roll], [Stuffed crab appetizers], [Mountain roll], [Ex-Girlfriend roll]\n",
      "9. [Shrimp and seared tuna], [Veggie roll]\n",
      "10. [Not mentioned]\n",
      "\n",
      "\n",
      "287/296\n",
      "1. [Dessert selection], [Good value for price]\n",
      "2. [not mentioned]\n",
      "3. [yes]\n",
      "4. [yes]\n",
      "5. [not mentioned]\n",
      "6. [Prime rib], [Seafood], [Crab legs], [Dim sum], [Dessert bar], [Ice cream], [Pesto mashed potatoes], [Oven roasted chicken], [Cakes], [Pastries]\n",
      "7. [Tasty], [Overcooked], [Salty], [Moist], [Variety], [Mediocre], [Good], [Ordinary], [Decent], [Fresh]\n",
      "8. [Desserts], [Bananas foster], [Ice cream], [Bread pudding], [Caramel flan], [Chocolate cake], [Prime Rib], [Crab legs], [Pesto mashed potatoes], [Oven roasted chicken]\n",
      "9. [Roast beef], [Shrimp unpeeled]\n",
      "10. [not mentioned]\n",
      "\n",
      "\n",
      "288/296\n",
      "1. [Great atmosphere], [Friendly service]\n",
      "2. [not mentioned]\n",
      "3. [yes]\n",
      "4. [yes]\n",
      "5. [yes]\n",
      "6. [Modern American], [Tri tip], [Pulled pork], [Pork belly], [Beef tacos], [Calamari], [BLT], [Burgers], [Chicken Sandwich], [Seafood]\n",
      "7. [Mild heat], [Tangy], [Greasy], [Crusted], [Garlicky], [Creamy], [Smoky], [Spicy], [Fresh], [Seasoned]\n",
      "8. [Calamari steak], [BLT], [SoDo Burger], [Fries], [Fajita wrap], [White BBQ Chicken Sandwich], [Thai Coconut Curry soup], [Peppercorn Crusted Ahi Tuna], [Seared Duck Breast], [Pumpkin cheesecake]\n",
      "9. [French dip], [Fish and chips]\n",
      "10. [not mentioned]\n",
      "\n",
      "\n",
      "289/296\n",
      "1. [Friendly staff], [Support for first responders]\n",
      "2. [not mentioned]\n",
      "3. [not mentioned]\n",
      "4. [not mentioned]\n",
      "5. [not mentioned]\n",
      "6. [Coffee], [Baked Goods], [Burritos], [Muffins], [Croissants], [Sandwiches], [Milk Options], [Discount Offers], [Military Decor], [Police Decor]\n",
      "7. [Bitter], [Burnt], [Simple], [Meh], [Buttery], [Flavorful], [Yummy], [Personable Service], [Limited Selection], [Pricey]\n",
      "8. [Black coffee], [Butter croissant], [Croissants from Doughboys], [Breakfast sandwiches], [Lunch sandwiches], [Simple coffee], [Specialty drinks], [Drip coffee build-your-own], [Diverse milk options], [Customer service experience]\n",
      "9. [Burrito], [Themed decor/stance on masks]\n",
      "10. [not mentioned]\n",
      "\n",
      "\n",
      "290/296\n",
      "1. [Friendly service], [Fresh and tasty Mexican food]\n",
      "2. [not mentioned]\n",
      "3. [yes]\n",
      "4. [yes]\n",
      "5. [yes]\n",
      "6. [Mexican], [Burritos], [Tacos], [Salads], [Tortas], [Fajitas], [Gorditas], [Chimichangas], [Alambres], [Enchiladas]\n",
      "7. [Spicy], [Sweet], [Savory], [Herbaceous], [Smoky], [Cheesy], [Fried], [Tender], [Flavorful], [Fresh]\n",
      "8. [Burrito al Pastor], [Carne Asada Torta], [Chicken Alambres], [Shredded Beef Chimichanga], [Corn Gordita Plate], [Carne Asada Fajitas], [Chile Relleno], [Shrimp Burrito], [Roja's Veggie Gorditas], [Micheladas]\n",
      "9. [not mentioned], [not mentioned]\n",
      "10. [not mentioned]\n",
      "\n",
      "\n",
      "291/296\n",
      "1. [Fresh salads], [great sandwiches]\n",
      "2. [not mentioned]\n",
      "3. [yes]\n",
      "4. [yes]\n",
      "5. [yes]\n",
      "6. [Salads], [Sandwiches], [Burgers], [Asian Chicken Salad], [Pastries], [Chicken Fingers], [Quiche], [Orzo], [Fries], [Beverages]\n",
      "7. [Flavorful], [Crunchy], [Tart], [Fresh], [Light], [Variety], [Hearty], [Artisanal], [Crusty], [Juicy]\n",
      "8. [Club sandwich], [Asian Chicken Salad], [Turkey Havarti Sandwich], [Quiche of the Day], [Soup of the Day], [Chicken Fingers], [Burger], [Beer Battered Fries], [Light Desserts], [Sandwich and Salad Combo]\n",
      "9. [not mentioned], [not mentioned]\n",
      "10. [not mentioned]\n",
      "\n",
      "\n",
      "292/296\n",
      "1. [Attentive and friendly service], [Creative and flavorful menu items]\n",
      "2. [yes]\n",
      "3. [yes]\n",
      "4. [yes]\n",
      "5. [yes]\n",
      "6. [Risotto], [Won Ton], [Sea Bass], [Surf and Turf], [Beef Wellington], [Mac and Cheese], [Burgers], [Ribeye], [Venison], [Chicken and Waffles]\n",
      "7. [Rich], [Earthy], [Creamy], [Smoky], [Fresh], [Savory], [Sweet], [Spicy], [Crispy], [Tender]\n",
      "8. [Smoked salmon won ton], [Mushroom risotto], [Lobster risotto], [Beef Wellington], [Pistachio crusted sea bass], [Surf and turf ribeye and lobster tail], [Chocolate fondue], [Pink chocolate-dipped fortune cookie], [Pig wings], [Chicken and Waffles]\n",
      "9. [Garlic butter dinner rolls], [Burger]\n",
      "10. [Not mentioned]\n",
      "\n",
      "\n",
      "293/296\n",
      "1. [Classic vibe and menu], [Breakfast sandwich and home fries]\n",
      "2. [yes]\n",
      "3. [not mentioned]\n",
      "4. [not mentioned]\n",
      "5. [yes]\n",
      "6. [Burgers], [American food], [Omelettes], [Avocado], [Chicken fried steak], [Breakfast burrito], [Bloody mary], [French fries], [Halibut], [Gravy]\n",
      "7. [Simple], [Fresh], [Flavorful], [Cheesy], [Crispy], [Seasoned], [Tender], [Meaty], [Sweet], [Satisfying]\n",
      "8. [Breakfast sandwich], [Sausage and eggs breakfast], [Chicken fried steak and eggs], [California Omelette], [Breakfast burrito], [Hamburger patty and eggs], [Bloody mary], [Eggs Benedict], [French toast], [Chicken burrito]\n",
      "9. [not mentioned], [not mentioned]\n",
      "10. [not mentioned]\n",
      "\n",
      "\n",
      "294/296\n",
      "1. [Comfortable seating arrangement], [Fresh and tasty food]\n",
      "2. [not mentioned]\n",
      "3. [yes]\n",
      "4. [yes]\n",
      "5. [yes]\n",
      "6. [Sushi], [Nigiri], [Rolls], [AYCE menu], [Salmon skin], [Ikura], [Ceviche], [Seared Ahi], [Tempura], [Oysters]\n",
      "7. [Fresh], [Flavorful], [Briny], [Peppery], [Refreshing], [Dense], [Clear seafood notes], [Creamy], [Moist], [Crisp]\n",
      "8. [Ceviche roll], [Salmon skin hand roll], [Ikura], [Black Pepper-crusted Ahi], [Salmon Nigiri], [Tuna Nigiri with lemon rinds], [Rainbow roll], [Moyako], [Hamachi], [Seared ahi tuna]\n",
      "9. [Fried roll with too much batter], [Dragon roll]\n",
      "10. [not mentioned]\n",
      "\n",
      "\n",
      "295/296\n"
     ]
    },
    {
     "ename": "IndexError",
     "evalue": "list index out of range",
     "output_type": "error",
     "traceback": [
      "\u001b[0;31m---------------------------------------------------------------------------\u001b[0m",
      "\u001b[0;31mIndexError\u001b[0m                                Traceback (most recent call last)",
      "File \u001b[0;32m<timed exec>:7\u001b[0m\n",
      "\u001b[0;31mIndexError\u001b[0m: list index out of range"
     ]
    }
   ],
   "source": [
    "%%time\n",
    "#analyze all restaurants\n",
    "estimate_tokens_list=[]\n",
    "# loop over all the unique business ids:\n",
    "for tag in range(295):\n",
    "    print(str(tag)+'/295')\n",
    "    bid = business_ids[tag]\n",
    "    \n",
    "    # extract all the reviews for this business\n",
    "    reviews = df_Reno_reviews[df_Reno_reviews['business_id']==bid]\n",
    "    \n",
    "    # extract the top 10 reviews or all reviews for this business\n",
    "    relevant_reviews = list(reviews.sort_values(by='useful',ascending=False)[:min(10, len(reviews))]['text'])\n",
    "    \n",
    "    # get chatGPT prompt message for these reviews\n",
    "    _ = gpt.get_prompt_parsing_reviews(relevant_reviews)\n",
    "    \n",
    "    # estimate total number of tokens if the reult do not already exist\n",
    "    if os.path.exists('./restaurant_summaries/res_'+bid+'.pkl') is False:\n",
    "        r = gpt.send()\n",
    "        print(r)\n",
    "        print('\\n')\n",
    "        result={}\n",
    "        result['business_id'] = bid\n",
    "        result['summary'] = r\n",
    "        with open('./restaurant_summaries/res_'+bid+'.pkl','wb') as f:\n",
    "            pickle.dump(result, f)"
   ]
  },
  {
   "cell_type": "markdown",
   "id": "5d011a45",
   "metadata": {},
   "source": [
    "## Add category tags"
   ]
  },
  {
   "cell_type": "code",
   "execution_count": 7,
   "id": "3f3cbdb9",
   "metadata": {
    "collapsed": true
   },
   "outputs": [
    {
     "name": "stdout",
     "output_type": "stream",
     "text": [
      "0\n"
     ]
    },
    {
     "name": "stderr",
     "output_type": "stream",
     "text": [
      "Token indices sequence length is longer than the specified maximum sequence length for this model (3729 > 1024). Running this sequence through the model will result in indexing errors\n",
      "Token indices sequence length is longer than the specified maximum sequence length for this model (4323 > 1024). Running this sequence through the model will result in indexing errors\n"
     ]
    },
    {
     "name": "stdout",
     "output_type": "stream",
     "text": [
      "1\n",
      "2\n"
     ]
    },
    {
     "name": "stderr",
     "output_type": "stream",
     "text": [
      "Token indices sequence length is longer than the specified maximum sequence length for this model (5294 > 1024). Running this sequence through the model will result in indexing errors\n",
      "Token indices sequence length is longer than the specified maximum sequence length for this model (1409 > 1024). Running this sequence through the model will result in indexing errors\n"
     ]
    },
    {
     "name": "stdout",
     "output_type": "stream",
     "text": [
      "3\n",
      "4\n"
     ]
    },
    {
     "name": "stderr",
     "output_type": "stream",
     "text": [
      "Token indices sequence length is longer than the specified maximum sequence length for this model (1311 > 1024). Running this sequence through the model will result in indexing errors\n",
      "Token indices sequence length is longer than the specified maximum sequence length for this model (1431 > 1024). Running this sequence through the model will result in indexing errors\n"
     ]
    },
    {
     "name": "stdout",
     "output_type": "stream",
     "text": [
      "5\n",
      "6\n"
     ]
    },
    {
     "name": "stderr",
     "output_type": "stream",
     "text": [
      "Token indices sequence length is longer than the specified maximum sequence length for this model (3549 > 1024). Running this sequence through the model will result in indexing errors\n",
      "Token indices sequence length is longer than the specified maximum sequence length for this model (3512 > 1024). Running this sequence through the model will result in indexing errors\n"
     ]
    },
    {
     "name": "stdout",
     "output_type": "stream",
     "text": [
      "7\n",
      "8\n"
     ]
    },
    {
     "name": "stderr",
     "output_type": "stream",
     "text": [
      "Token indices sequence length is longer than the specified maximum sequence length for this model (3465 > 1024). Running this sequence through the model will result in indexing errors\n",
      "Token indices sequence length is longer than the specified maximum sequence length for this model (4450 > 1024). Running this sequence through the model will result in indexing errors\n"
     ]
    },
    {
     "name": "stdout",
     "output_type": "stream",
     "text": [
      "9\n",
      "10\n"
     ]
    },
    {
     "name": "stderr",
     "output_type": "stream",
     "text": [
      "Token indices sequence length is longer than the specified maximum sequence length for this model (5669 > 1024). Running this sequence through the model will result in indexing errors\n",
      "Token indices sequence length is longer than the specified maximum sequence length for this model (3258 > 1024). Running this sequence through the model will result in indexing errors\n"
     ]
    },
    {
     "name": "stdout",
     "output_type": "stream",
     "text": [
      "11\n",
      "12\n"
     ]
    },
    {
     "name": "stderr",
     "output_type": "stream",
     "text": [
      "Token indices sequence length is longer than the specified maximum sequence length for this model (4183 > 1024). Running this sequence through the model will result in indexing errors\n",
      "Token indices sequence length is longer than the specified maximum sequence length for this model (2988 > 1024). Running this sequence through the model will result in indexing errors\n"
     ]
    },
    {
     "name": "stdout",
     "output_type": "stream",
     "text": [
      "13\n",
      "14\n"
     ]
    },
    {
     "name": "stderr",
     "output_type": "stream",
     "text": [
      "Token indices sequence length is longer than the specified maximum sequence length for this model (2000 > 1024). Running this sequence through the model will result in indexing errors\n",
      "Token indices sequence length is longer than the specified maximum sequence length for this model (2311 > 1024). Running this sequence through the model will result in indexing errors\n"
     ]
    },
    {
     "name": "stdout",
     "output_type": "stream",
     "text": [
      "15\n",
      "16\n"
     ]
    },
    {
     "name": "stderr",
     "output_type": "stream",
     "text": [
      "Token indices sequence length is longer than the specified maximum sequence length for this model (3122 > 1024). Running this sequence through the model will result in indexing errors\n",
      "Token indices sequence length is longer than the specified maximum sequence length for this model (4415 > 1024). Running this sequence through the model will result in indexing errors\n"
     ]
    },
    {
     "name": "stdout",
     "output_type": "stream",
     "text": [
      "17\n",
      "18\n"
     ]
    },
    {
     "name": "stderr",
     "output_type": "stream",
     "text": [
      "Token indices sequence length is longer than the specified maximum sequence length for this model (3093 > 1024). Running this sequence through the model will result in indexing errors\n"
     ]
    },
    {
     "name": "stdout",
     "output_type": "stream",
     "text": [
      "19\n"
     ]
    },
    {
     "name": "stderr",
     "output_type": "stream",
     "text": [
      "Token indices sequence length is longer than the specified maximum sequence length for this model (3905 > 1024). Running this sequence through the model will result in indexing errors\n",
      "Token indices sequence length is longer than the specified maximum sequence length for this model (2165 > 1024). Running this sequence through the model will result in indexing errors\n"
     ]
    },
    {
     "name": "stdout",
     "output_type": "stream",
     "text": [
      "20\n",
      "21\n"
     ]
    },
    {
     "name": "stderr",
     "output_type": "stream",
     "text": [
      "Token indices sequence length is longer than the specified maximum sequence length for this model (3413 > 1024). Running this sequence through the model will result in indexing errors\n",
      "Token indices sequence length is longer than the specified maximum sequence length for this model (3091 > 1024). Running this sequence through the model will result in indexing errors\n"
     ]
    },
    {
     "name": "stdout",
     "output_type": "stream",
     "text": [
      "22\n",
      "23"
     ]
    },
    {
     "name": "stderr",
     "output_type": "stream",
     "text": [
      "Token indices sequence length is longer than the specified maximum sequence length for this model (4285 > 1024). Running this sequence through the model will result in indexing errors\n"
     ]
    },
    {
     "name": "stdout",
     "output_type": "stream",
     "text": [
      "\n",
      "24\n"
     ]
    },
    {
     "name": "stderr",
     "output_type": "stream",
     "text": [
      "Token indices sequence length is longer than the specified maximum sequence length for this model (5743 > 1024). Running this sequence through the model will result in indexing errors\n",
      "Token indices sequence length is longer than the specified maximum sequence length for this model (2704 > 1024). Running this sequence through the model will result in indexing errors\n"
     ]
    },
    {
     "name": "stdout",
     "output_type": "stream",
     "text": [
      "25\n",
      "26\n"
     ]
    },
    {
     "name": "stderr",
     "output_type": "stream",
     "text": [
      "Token indices sequence length is longer than the specified maximum sequence length for this model (2637 > 1024). Running this sequence through the model will result in indexing errors\n"
     ]
    },
    {
     "name": "stdout",
     "output_type": "stream",
     "text": [
      "27\n"
     ]
    },
    {
     "name": "stderr",
     "output_type": "stream",
     "text": [
      "Token indices sequence length is longer than the specified maximum sequence length for this model (2973 > 1024). Running this sequence through the model will result in indexing errors\n",
      "Token indices sequence length is longer than the specified maximum sequence length for this model (3863 > 1024). Running this sequence through the model will result in indexing errors\n"
     ]
    },
    {
     "name": "stdout",
     "output_type": "stream",
     "text": [
      "28\n",
      "29\n"
     ]
    },
    {
     "name": "stderr",
     "output_type": "stream",
     "text": [
      "Token indices sequence length is longer than the specified maximum sequence length for this model (4567 > 1024). Running this sequence through the model will result in indexing errors\n"
     ]
    },
    {
     "name": "stdout",
     "output_type": "stream",
     "text": [
      "30\n"
     ]
    },
    {
     "name": "stderr",
     "output_type": "stream",
     "text": [
      "Token indices sequence length is longer than the specified maximum sequence length for this model (1646 > 1024). Running this sequence through the model will result in indexing errors\n",
      "Token indices sequence length is longer than the specified maximum sequence length for this model (4287 > 1024). Running this sequence through the model will result in indexing errors\n"
     ]
    },
    {
     "name": "stdout",
     "output_type": "stream",
     "text": [
      "31\n",
      "32\n"
     ]
    },
    {
     "name": "stderr",
     "output_type": "stream",
     "text": [
      "Token indices sequence length is longer than the specified maximum sequence length for this model (4340 > 1024). Running this sequence through the model will result in indexing errors\n",
      "Token indices sequence length is longer than the specified maximum sequence length for this model (2442 > 1024). Running this sequence through the model will result in indexing errors\n"
     ]
    },
    {
     "name": "stdout",
     "output_type": "stream",
     "text": [
      "33\n",
      "34\n"
     ]
    },
    {
     "name": "stderr",
     "output_type": "stream",
     "text": [
      "Token indices sequence length is longer than the specified maximum sequence length for this model (2645 > 1024). Running this sequence through the model will result in indexing errors\n",
      "Token indices sequence length is longer than the specified maximum sequence length for this model (1386 > 1024). Running this sequence through the model will result in indexing errors\n"
     ]
    },
    {
     "name": "stdout",
     "output_type": "stream",
     "text": [
      "35\n",
      "36\n"
     ]
    },
    {
     "name": "stderr",
     "output_type": "stream",
     "text": [
      "Token indices sequence length is longer than the specified maximum sequence length for this model (2831 > 1024). Running this sequence through the model will result in indexing errors\n",
      "Token indices sequence length is longer than the specified maximum sequence length for this model (3863 > 1024). Running this sequence through the model will result in indexing errors\n"
     ]
    },
    {
     "name": "stdout",
     "output_type": "stream",
     "text": [
      "37\n",
      "38\n"
     ]
    },
    {
     "name": "stderr",
     "output_type": "stream",
     "text": [
      "Token indices sequence length is longer than the specified maximum sequence length for this model (3374 > 1024). Running this sequence through the model will result in indexing errors\n",
      "Token indices sequence length is longer than the specified maximum sequence length for this model (3399 > 1024). Running this sequence through the model will result in indexing errors\n"
     ]
    },
    {
     "name": "stdout",
     "output_type": "stream",
     "text": [
      "39\n",
      "40\n"
     ]
    },
    {
     "name": "stderr",
     "output_type": "stream",
     "text": [
      "Token indices sequence length is longer than the specified maximum sequence length for this model (3369 > 1024). Running this sequence through the model will result in indexing errors\n"
     ]
    },
    {
     "name": "stdout",
     "output_type": "stream",
     "text": [
      "41\n"
     ]
    },
    {
     "name": "stderr",
     "output_type": "stream",
     "text": [
      "Token indices sequence length is longer than the specified maximum sequence length for this model (4215 > 1024). Running this sequence through the model will result in indexing errors\n"
     ]
    },
    {
     "name": "stdout",
     "output_type": "stream",
     "text": [
      "42\n"
     ]
    },
    {
     "name": "stderr",
     "output_type": "stream",
     "text": [
      "Token indices sequence length is longer than the specified maximum sequence length for this model (4011 > 1024). Running this sequence through the model will result in indexing errors\n",
      "Token indices sequence length is longer than the specified maximum sequence length for this model (2745 > 1024). Running this sequence through the model will result in indexing errors\n"
     ]
    },
    {
     "name": "stdout",
     "output_type": "stream",
     "text": [
      "43\n",
      "44\n"
     ]
    },
    {
     "name": "stderr",
     "output_type": "stream",
     "text": [
      "Token indices sequence length is longer than the specified maximum sequence length for this model (4430 > 1024). Running this sequence through the model will result in indexing errors\n"
     ]
    },
    {
     "name": "stdout",
     "output_type": "stream",
     "text": [
      "45\n"
     ]
    },
    {
     "name": "stderr",
     "output_type": "stream",
     "text": [
      "Token indices sequence length is longer than the specified maximum sequence length for this model (3911 > 1024). Running this sequence through the model will result in indexing errors\n"
     ]
    },
    {
     "name": "stdout",
     "output_type": "stream",
     "text": [
      "46\n"
     ]
    },
    {
     "name": "stderr",
     "output_type": "stream",
     "text": [
      "Token indices sequence length is longer than the specified maximum sequence length for this model (3654 > 1024). Running this sequence through the model will result in indexing errors\n",
      "Token indices sequence length is longer than the specified maximum sequence length for this model (3878 > 1024). Running this sequence through the model will result in indexing errors\n"
     ]
    },
    {
     "name": "stdout",
     "output_type": "stream",
     "text": [
      "47\n",
      "48\n"
     ]
    },
    {
     "name": "stderr",
     "output_type": "stream",
     "text": [
      "Token indices sequence length is longer than the specified maximum sequence length for this model (3160 > 1024). Running this sequence through the model will result in indexing errors\n",
      "Token indices sequence length is longer than the specified maximum sequence length for this model (2518 > 1024). Running this sequence through the model will result in indexing errors\n"
     ]
    },
    {
     "name": "stdout",
     "output_type": "stream",
     "text": [
      "49\n",
      "50\n"
     ]
    },
    {
     "name": "stderr",
     "output_type": "stream",
     "text": [
      "Token indices sequence length is longer than the specified maximum sequence length for this model (4306 > 1024). Running this sequence through the model will result in indexing errors\n",
      "Token indices sequence length is longer than the specified maximum sequence length for this model (3523 > 1024). Running this sequence through the model will result in indexing errors\n"
     ]
    },
    {
     "name": "stdout",
     "output_type": "stream",
     "text": [
      "51\n",
      "52\n"
     ]
    },
    {
     "name": "stderr",
     "output_type": "stream",
     "text": [
      "Token indices sequence length is longer than the specified maximum sequence length for this model (4638 > 1024). Running this sequence through the model will result in indexing errors\n",
      "Token indices sequence length is longer than the specified maximum sequence length for this model (2663 > 1024). Running this sequence through the model will result in indexing errors\n"
     ]
    },
    {
     "name": "stdout",
     "output_type": "stream",
     "text": [
      "53\n",
      "54\n"
     ]
    },
    {
     "name": "stderr",
     "output_type": "stream",
     "text": [
      "Token indices sequence length is longer than the specified maximum sequence length for this model (4330 > 1024). Running this sequence through the model will result in indexing errors\n",
      "Token indices sequence length is longer than the specified maximum sequence length for this model (4485 > 1024). Running this sequence through the model will result in indexing errors\n"
     ]
    },
    {
     "name": "stdout",
     "output_type": "stream",
     "text": [
      "55\n",
      "56\n"
     ]
    },
    {
     "name": "stderr",
     "output_type": "stream",
     "text": [
      "Token indices sequence length is longer than the specified maximum sequence length for this model (3655 > 1024). Running this sequence through the model will result in indexing errors\n",
      "Token indices sequence length is longer than the specified maximum sequence length for this model (5203 > 1024). Running this sequence through the model will result in indexing errors\n"
     ]
    },
    {
     "name": "stdout",
     "output_type": "stream",
     "text": [
      "57\n",
      "58\n"
     ]
    },
    {
     "name": "stderr",
     "output_type": "stream",
     "text": [
      "Token indices sequence length is longer than the specified maximum sequence length for this model (2647 > 1024). Running this sequence through the model will result in indexing errors\n",
      "Token indices sequence length is longer than the specified maximum sequence length for this model (3841 > 1024). Running this sequence through the model will result in indexing errors\n"
     ]
    },
    {
     "name": "stdout",
     "output_type": "stream",
     "text": [
      "59\n",
      "60\n"
     ]
    },
    {
     "name": "stderr",
     "output_type": "stream",
     "text": [
      "Token indices sequence length is longer than the specified maximum sequence length for this model (3893 > 1024). Running this sequence through the model will result in indexing errors\n",
      "Token indices sequence length is longer than the specified maximum sequence length for this model (3522 > 1024). Running this sequence through the model will result in indexing errors\n"
     ]
    },
    {
     "name": "stdout",
     "output_type": "stream",
     "text": [
      "61\n",
      "62\n"
     ]
    },
    {
     "name": "stderr",
     "output_type": "stream",
     "text": [
      "Token indices sequence length is longer than the specified maximum sequence length for this model (3319 > 1024). Running this sequence through the model will result in indexing errors\n",
      "Token indices sequence length is longer than the specified maximum sequence length for this model (2618 > 1024). Running this sequence through the model will result in indexing errors\n"
     ]
    },
    {
     "name": "stdout",
     "output_type": "stream",
     "text": [
      "63\n",
      "64\n"
     ]
    },
    {
     "name": "stderr",
     "output_type": "stream",
     "text": [
      "Token indices sequence length is longer than the specified maximum sequence length for this model (3742 > 1024). Running this sequence through the model will result in indexing errors\n",
      "Token indices sequence length is longer than the specified maximum sequence length for this model (1782 > 1024). Running this sequence through the model will result in indexing errors\n"
     ]
    },
    {
     "name": "stdout",
     "output_type": "stream",
     "text": [
      "65\n",
      "66\n"
     ]
    },
    {
     "name": "stderr",
     "output_type": "stream",
     "text": [
      "Token indices sequence length is longer than the specified maximum sequence length for this model (3861 > 1024). Running this sequence through the model will result in indexing errors\n",
      "Token indices sequence length is longer than the specified maximum sequence length for this model (4182 > 1024). Running this sequence through the model will result in indexing errors\n"
     ]
    },
    {
     "name": "stdout",
     "output_type": "stream",
     "text": [
      "67\n",
      "68\n"
     ]
    },
    {
     "name": "stderr",
     "output_type": "stream",
     "text": [
      "Token indices sequence length is longer than the specified maximum sequence length for this model (4808 > 1024). Running this sequence through the model will result in indexing errors\n",
      "Token indices sequence length is longer than the specified maximum sequence length for this model (4085 > 1024). Running this sequence through the model will result in indexing errors\n"
     ]
    },
    {
     "name": "stdout",
     "output_type": "stream",
     "text": [
      "69\n",
      "70\n"
     ]
    },
    {
     "name": "stderr",
     "output_type": "stream",
     "text": [
      "Token indices sequence length is longer than the specified maximum sequence length for this model (1864 > 1024). Running this sequence through the model will result in indexing errors\n",
      "Token indices sequence length is longer than the specified maximum sequence length for this model (3766 > 1024). Running this sequence through the model will result in indexing errors\n"
     ]
    },
    {
     "name": "stdout",
     "output_type": "stream",
     "text": [
      "71\n",
      "72\n"
     ]
    },
    {
     "name": "stderr",
     "output_type": "stream",
     "text": [
      "Token indices sequence length is longer than the specified maximum sequence length for this model (6014 > 1024). Running this sequence through the model will result in indexing errors\n",
      "Token indices sequence length is longer than the specified maximum sequence length for this model (2710 > 1024). Running this sequence through the model will result in indexing errors\n"
     ]
    },
    {
     "name": "stdout",
     "output_type": "stream",
     "text": [
      "73\n",
      "74\n"
     ]
    },
    {
     "name": "stderr",
     "output_type": "stream",
     "text": [
      "Token indices sequence length is longer than the specified maximum sequence length for this model (3783 > 1024). Running this sequence through the model will result in indexing errors\n",
      "Token indices sequence length is longer than the specified maximum sequence length for this model (1975 > 1024). Running this sequence through the model will result in indexing errors\n"
     ]
    },
    {
     "name": "stdout",
     "output_type": "stream",
     "text": [
      "75\n",
      "76\n"
     ]
    },
    {
     "name": "stderr",
     "output_type": "stream",
     "text": [
      "Token indices sequence length is longer than the specified maximum sequence length for this model (4242 > 1024). Running this sequence through the model will result in indexing errors\n",
      "Token indices sequence length is longer than the specified maximum sequence length for this model (2829 > 1024). Running this sequence through the model will result in indexing errors\n"
     ]
    },
    {
     "name": "stdout",
     "output_type": "stream",
     "text": [
      "77\n",
      "78\n"
     ]
    },
    {
     "name": "stderr",
     "output_type": "stream",
     "text": [
      "Token indices sequence length is longer than the specified maximum sequence length for this model (4300 > 1024). Running this sequence through the model will result in indexing errors\n",
      "Token indices sequence length is longer than the specified maximum sequence length for this model (1725 > 1024). Running this sequence through the model will result in indexing errors\n"
     ]
    },
    {
     "name": "stdout",
     "output_type": "stream",
     "text": [
      "79\n",
      "80\n"
     ]
    },
    {
     "name": "stderr",
     "output_type": "stream",
     "text": [
      "Token indices sequence length is longer than the specified maximum sequence length for this model (1963 > 1024). Running this sequence through the model will result in indexing errors\n",
      "Token indices sequence length is longer than the specified maximum sequence length for this model (2272 > 1024). Running this sequence through the model will result in indexing errors\n"
     ]
    },
    {
     "name": "stdout",
     "output_type": "stream",
     "text": [
      "81\n",
      "82\n"
     ]
    },
    {
     "name": "stderr",
     "output_type": "stream",
     "text": [
      "Token indices sequence length is longer than the specified maximum sequence length for this model (4078 > 1024). Running this sequence through the model will result in indexing errors\n",
      "Token indices sequence length is longer than the specified maximum sequence length for this model (3798 > 1024). Running this sequence through the model will result in indexing errors\n"
     ]
    },
    {
     "name": "stdout",
     "output_type": "stream",
     "text": [
      "83\n",
      "84\n"
     ]
    },
    {
     "name": "stderr",
     "output_type": "stream",
     "text": [
      "Token indices sequence length is longer than the specified maximum sequence length for this model (2312 > 1024). Running this sequence through the model will result in indexing errors\n",
      "Token indices sequence length is longer than the specified maximum sequence length for this model (2859 > 1024). Running this sequence through the model will result in indexing errors\n"
     ]
    },
    {
     "name": "stdout",
     "output_type": "stream",
     "text": [
      "85\n",
      "86\n"
     ]
    },
    {
     "name": "stderr",
     "output_type": "stream",
     "text": [
      "Token indices sequence length is longer than the specified maximum sequence length for this model (3557 > 1024). Running this sequence through the model will result in indexing errors\n",
      "Token indices sequence length is longer than the specified maximum sequence length for this model (4544 > 1024). Running this sequence through the model will result in indexing errors\n"
     ]
    },
    {
     "name": "stdout",
     "output_type": "stream",
     "text": [
      "87\n",
      "88\n"
     ]
    },
    {
     "name": "stderr",
     "output_type": "stream",
     "text": [
      "Token indices sequence length is longer than the specified maximum sequence length for this model (2833 > 1024). Running this sequence through the model will result in indexing errors\n"
     ]
    },
    {
     "name": "stdout",
     "output_type": "stream",
     "text": [
      "89\n"
     ]
    },
    {
     "name": "stderr",
     "output_type": "stream",
     "text": [
      "Token indices sequence length is longer than the specified maximum sequence length for this model (3336 > 1024). Running this sequence through the model will result in indexing errors\n",
      "Token indices sequence length is longer than the specified maximum sequence length for this model (3462 > 1024). Running this sequence through the model will result in indexing errors\n"
     ]
    },
    {
     "name": "stdout",
     "output_type": "stream",
     "text": [
      "90\n",
      "91\n"
     ]
    },
    {
     "name": "stderr",
     "output_type": "stream",
     "text": [
      "Token indices sequence length is longer than the specified maximum sequence length for this model (1346 > 1024). Running this sequence through the model will result in indexing errors\n",
      "Token indices sequence length is longer than the specified maximum sequence length for this model (4835 > 1024). Running this sequence through the model will result in indexing errors\n"
     ]
    },
    {
     "name": "stdout",
     "output_type": "stream",
     "text": [
      "92\n",
      "93\n"
     ]
    },
    {
     "name": "stderr",
     "output_type": "stream",
     "text": [
      "Token indices sequence length is longer than the specified maximum sequence length for this model (3364 > 1024). Running this sequence through the model will result in indexing errors\n",
      "Token indices sequence length is longer than the specified maximum sequence length for this model (2256 > 1024). Running this sequence through the model will result in indexing errors\n"
     ]
    },
    {
     "name": "stdout",
     "output_type": "stream",
     "text": [
      "94\n",
      "95\n"
     ]
    },
    {
     "name": "stderr",
     "output_type": "stream",
     "text": [
      "Token indices sequence length is longer than the specified maximum sequence length for this model (4102 > 1024). Running this sequence through the model will result in indexing errors\n",
      "Token indices sequence length is longer than the specified maximum sequence length for this model (2842 > 1024). Running this sequence through the model will result in indexing errors\n"
     ]
    },
    {
     "name": "stdout",
     "output_type": "stream",
     "text": [
      "96\n",
      "97\n"
     ]
    },
    {
     "name": "stderr",
     "output_type": "stream",
     "text": [
      "Token indices sequence length is longer than the specified maximum sequence length for this model (3137 > 1024). Running this sequence through the model will result in indexing errors\n",
      "Token indices sequence length is longer than the specified maximum sequence length for this model (4008 > 1024). Running this sequence through the model will result in indexing errors\n"
     ]
    },
    {
     "name": "stdout",
     "output_type": "stream",
     "text": [
      "98\n",
      "99\n"
     ]
    },
    {
     "name": "stderr",
     "output_type": "stream",
     "text": [
      "Token indices sequence length is longer than the specified maximum sequence length for this model (4263 > 1024). Running this sequence through the model will result in indexing errors\n"
     ]
    },
    {
     "name": "stdout",
     "output_type": "stream",
     "text": [
      "100\n"
     ]
    },
    {
     "name": "stderr",
     "output_type": "stream",
     "text": [
      "Token indices sequence length is longer than the specified maximum sequence length for this model (4574 > 1024). Running this sequence through the model will result in indexing errors\n"
     ]
    },
    {
     "name": "stdout",
     "output_type": "stream",
     "text": [
      "101\n"
     ]
    },
    {
     "name": "stderr",
     "output_type": "stream",
     "text": [
      "Token indices sequence length is longer than the specified maximum sequence length for this model (3915 > 1024). Running this sequence through the model will result in indexing errors\n",
      "Token indices sequence length is longer than the specified maximum sequence length for this model (3204 > 1024). Running this sequence through the model will result in indexing errors\n"
     ]
    },
    {
     "name": "stdout",
     "output_type": "stream",
     "text": [
      "102\n",
      "103\n"
     ]
    },
    {
     "name": "stderr",
     "output_type": "stream",
     "text": [
      "Token indices sequence length is longer than the specified maximum sequence length for this model (2438 > 1024). Running this sequence through the model will result in indexing errors\n",
      "Token indices sequence length is longer than the specified maximum sequence length for this model (2024 > 1024). Running this sequence through the model will result in indexing errors\n"
     ]
    },
    {
     "name": "stdout",
     "output_type": "stream",
     "text": [
      "104\n",
      "105\n"
     ]
    },
    {
     "name": "stderr",
     "output_type": "stream",
     "text": [
      "Token indices sequence length is longer than the specified maximum sequence length for this model (4721 > 1024). Running this sequence through the model will result in indexing errors\n",
      "Token indices sequence length is longer than the specified maximum sequence length for this model (4102 > 1024). Running this sequence through the model will result in indexing errors\n"
     ]
    },
    {
     "name": "stdout",
     "output_type": "stream",
     "text": [
      "106\n",
      "107\n"
     ]
    },
    {
     "name": "stderr",
     "output_type": "stream",
     "text": [
      "Token indices sequence length is longer than the specified maximum sequence length for this model (4705 > 1024). Running this sequence through the model will result in indexing errors\n"
     ]
    },
    {
     "name": "stdout",
     "output_type": "stream",
     "text": [
      "108\n"
     ]
    },
    {
     "name": "stderr",
     "output_type": "stream",
     "text": [
      "Token indices sequence length is longer than the specified maximum sequence length for this model (5070 > 1024). Running this sequence through the model will result in indexing errors\n",
      "Token indices sequence length is longer than the specified maximum sequence length for this model (3988 > 1024). Running this sequence through the model will result in indexing errors\n"
     ]
    },
    {
     "name": "stdout",
     "output_type": "stream",
     "text": [
      "109\n",
      "110\n"
     ]
    },
    {
     "name": "stderr",
     "output_type": "stream",
     "text": [
      "Token indices sequence length is longer than the specified maximum sequence length for this model (3283 > 1024). Running this sequence through the model will result in indexing errors\n",
      "Token indices sequence length is longer than the specified maximum sequence length for this model (3521 > 1024). Running this sequence through the model will result in indexing errors\n"
     ]
    },
    {
     "name": "stdout",
     "output_type": "stream",
     "text": [
      "111\n",
      "112\n"
     ]
    },
    {
     "name": "stderr",
     "output_type": "stream",
     "text": [
      "Token indices sequence length is longer than the specified maximum sequence length for this model (3902 > 1024). Running this sequence through the model will result in indexing errors\n"
     ]
    },
    {
     "name": "stdout",
     "output_type": "stream",
     "text": [
      "113\n"
     ]
    },
    {
     "name": "stderr",
     "output_type": "stream",
     "text": [
      "Token indices sequence length is longer than the specified maximum sequence length for this model (5652 > 1024). Running this sequence through the model will result in indexing errors\n"
     ]
    },
    {
     "name": "stdout",
     "output_type": "stream",
     "text": [
      "114\n"
     ]
    },
    {
     "name": "stderr",
     "output_type": "stream",
     "text": [
      "Token indices sequence length is longer than the specified maximum sequence length for this model (5823 > 1024). Running this sequence through the model will result in indexing errors\n",
      "Token indices sequence length is longer than the specified maximum sequence length for this model (4266 > 1024). Running this sequence through the model will result in indexing errors\n"
     ]
    },
    {
     "name": "stdout",
     "output_type": "stream",
     "text": [
      "115\n",
      "116\n"
     ]
    },
    {
     "name": "stderr",
     "output_type": "stream",
     "text": [
      "Token indices sequence length is longer than the specified maximum sequence length for this model (4903 > 1024). Running this sequence through the model will result in indexing errors\n",
      "Token indices sequence length is longer than the specified maximum sequence length for this model (5380 > 1024). Running this sequence through the model will result in indexing errors\n"
     ]
    },
    {
     "name": "stdout",
     "output_type": "stream",
     "text": [
      "117\n",
      "118\n"
     ]
    },
    {
     "name": "stderr",
     "output_type": "stream",
     "text": [
      "Token indices sequence length is longer than the specified maximum sequence length for this model (2716 > 1024). Running this sequence through the model will result in indexing errors\n",
      "Token indices sequence length is longer than the specified maximum sequence length for this model (2561 > 1024). Running this sequence through the model will result in indexing errors\n"
     ]
    },
    {
     "name": "stdout",
     "output_type": "stream",
     "text": [
      "119\n",
      "120\n"
     ]
    },
    {
     "name": "stderr",
     "output_type": "stream",
     "text": [
      "Token indices sequence length is longer than the specified maximum sequence length for this model (3882 > 1024). Running this sequence through the model will result in indexing errors\n",
      "Token indices sequence length is longer than the specified maximum sequence length for this model (4961 > 1024). Running this sequence through the model will result in indexing errors\n"
     ]
    },
    {
     "name": "stdout",
     "output_type": "stream",
     "text": [
      "121\n",
      "122\n"
     ]
    },
    {
     "name": "stderr",
     "output_type": "stream",
     "text": [
      "Token indices sequence length is longer than the specified maximum sequence length for this model (3774 > 1024). Running this sequence through the model will result in indexing errors\n"
     ]
    },
    {
     "name": "stdout",
     "output_type": "stream",
     "text": [
      "123\n"
     ]
    },
    {
     "name": "stderr",
     "output_type": "stream",
     "text": [
      "Token indices sequence length is longer than the specified maximum sequence length for this model (4613 > 1024). Running this sequence through the model will result in indexing errors\n",
      "Token indices sequence length is longer than the specified maximum sequence length for this model (3535 > 1024). Running this sequence through the model will result in indexing errors\n"
     ]
    },
    {
     "name": "stdout",
     "output_type": "stream",
     "text": [
      "124\n",
      "125\n"
     ]
    },
    {
     "name": "stderr",
     "output_type": "stream",
     "text": [
      "Token indices sequence length is longer than the specified maximum sequence length for this model (3076 > 1024). Running this sequence through the model will result in indexing errors\n",
      "Token indices sequence length is longer than the specified maximum sequence length for this model (3469 > 1024). Running this sequence through the model will result in indexing errors\n"
     ]
    },
    {
     "name": "stdout",
     "output_type": "stream",
     "text": [
      "126\n",
      "127\n"
     ]
    },
    {
     "name": "stderr",
     "output_type": "stream",
     "text": [
      "Token indices sequence length is longer than the specified maximum sequence length for this model (4853 > 1024). Running this sequence through the model will result in indexing errors\n",
      "Token indices sequence length is longer than the specified maximum sequence length for this model (3263 > 1024). Running this sequence through the model will result in indexing errors\n"
     ]
    },
    {
     "name": "stdout",
     "output_type": "stream",
     "text": [
      "128\n",
      "129\n"
     ]
    },
    {
     "name": "stderr",
     "output_type": "stream",
     "text": [
      "Token indices sequence length is longer than the specified maximum sequence length for this model (3052 > 1024). Running this sequence through the model will result in indexing errors\n",
      "Token indices sequence length is longer than the specified maximum sequence length for this model (3941 > 1024). Running this sequence through the model will result in indexing errors\n"
     ]
    },
    {
     "name": "stdout",
     "output_type": "stream",
     "text": [
      "130\n",
      "131\n"
     ]
    },
    {
     "name": "stderr",
     "output_type": "stream",
     "text": [
      "Token indices sequence length is longer than the specified maximum sequence length for this model (3744 > 1024). Running this sequence through the model will result in indexing errors\n"
     ]
    },
    {
     "name": "stdout",
     "output_type": "stream",
     "text": [
      "132\n"
     ]
    },
    {
     "name": "stderr",
     "output_type": "stream",
     "text": [
      "Token indices sequence length is longer than the specified maximum sequence length for this model (3506 > 1024). Running this sequence through the model will result in indexing errors\n",
      "Token indices sequence length is longer than the specified maximum sequence length for this model (2191 > 1024). Running this sequence through the model will result in indexing errors\n"
     ]
    },
    {
     "name": "stdout",
     "output_type": "stream",
     "text": [
      "133\n",
      "134\n"
     ]
    },
    {
     "name": "stderr",
     "output_type": "stream",
     "text": [
      "Token indices sequence length is longer than the specified maximum sequence length for this model (2031 > 1024). Running this sequence through the model will result in indexing errors\n",
      "Token indices sequence length is longer than the specified maximum sequence length for this model (4267 > 1024). Running this sequence through the model will result in indexing errors\n"
     ]
    },
    {
     "name": "stdout",
     "output_type": "stream",
     "text": [
      "135\n",
      "136\n"
     ]
    },
    {
     "name": "stderr",
     "output_type": "stream",
     "text": [
      "Token indices sequence length is longer than the specified maximum sequence length for this model (2010 > 1024). Running this sequence through the model will result in indexing errors\n",
      "Token indices sequence length is longer than the specified maximum sequence length for this model (6219 > 1024). Running this sequence through the model will result in indexing errors\n"
     ]
    },
    {
     "name": "stdout",
     "output_type": "stream",
     "text": [
      "137\n",
      "138\n"
     ]
    },
    {
     "name": "stderr",
     "output_type": "stream",
     "text": [
      "Token indices sequence length is longer than the specified maximum sequence length for this model (2717 > 1024). Running this sequence through the model will result in indexing errors\n",
      "Token indices sequence length is longer than the specified maximum sequence length for this model (4300 > 1024). Running this sequence through the model will result in indexing errors\n"
     ]
    },
    {
     "name": "stdout",
     "output_type": "stream",
     "text": [
      "139\n",
      "140\n"
     ]
    },
    {
     "name": "stderr",
     "output_type": "stream",
     "text": [
      "Token indices sequence length is longer than the specified maximum sequence length for this model (4339 > 1024). Running this sequence through the model will result in indexing errors\n",
      "Token indices sequence length is longer than the specified maximum sequence length for this model (3545 > 1024). Running this sequence through the model will result in indexing errors\n"
     ]
    },
    {
     "name": "stdout",
     "output_type": "stream",
     "text": [
      "141\n"
     ]
    },
    {
     "name": "stderr",
     "output_type": "stream",
     "text": [
      "Token indices sequence length is longer than the specified maximum sequence length for this model (2630 > 1024). Running this sequence through the model will result in indexing errors\n"
     ]
    },
    {
     "name": "stdout",
     "output_type": "stream",
     "text": [
      "142\n",
      "143\n"
     ]
    },
    {
     "name": "stderr",
     "output_type": "stream",
     "text": [
      "Token indices sequence length is longer than the specified maximum sequence length for this model (2757 > 1024). Running this sequence through the model will result in indexing errors\n",
      "Token indices sequence length is longer than the specified maximum sequence length for this model (5401 > 1024). Running this sequence through the model will result in indexing errors\n"
     ]
    },
    {
     "name": "stdout",
     "output_type": "stream",
     "text": [
      "144\n",
      "145\n"
     ]
    },
    {
     "name": "stderr",
     "output_type": "stream",
     "text": [
      "Token indices sequence length is longer than the specified maximum sequence length for this model (3121 > 1024). Running this sequence through the model will result in indexing errors\n",
      "Token indices sequence length is longer than the specified maximum sequence length for this model (2797 > 1024). Running this sequence through the model will result in indexing errors\n"
     ]
    },
    {
     "name": "stdout",
     "output_type": "stream",
     "text": [
      "146\n",
      "147\n"
     ]
    },
    {
     "name": "stderr",
     "output_type": "stream",
     "text": [
      "Token indices sequence length is longer than the specified maximum sequence length for this model (5815 > 1024). Running this sequence through the model will result in indexing errors\n",
      "Token indices sequence length is longer than the specified maximum sequence length for this model (4460 > 1024). Running this sequence through the model will result in indexing errors\n"
     ]
    },
    {
     "name": "stdout",
     "output_type": "stream",
     "text": [
      "148\n",
      "149\n"
     ]
    },
    {
     "name": "stderr",
     "output_type": "stream",
     "text": [
      "Token indices sequence length is longer than the specified maximum sequence length for this model (3729 > 1024). Running this sequence through the model will result in indexing errors\n",
      "Token indices sequence length is longer than the specified maximum sequence length for this model (2728 > 1024). Running this sequence through the model will result in indexing errors\n"
     ]
    },
    {
     "name": "stdout",
     "output_type": "stream",
     "text": [
      "150\n",
      "151\n"
     ]
    },
    {
     "name": "stderr",
     "output_type": "stream",
     "text": [
      "Token indices sequence length is longer than the specified maximum sequence length for this model (2323 > 1024). Running this sequence through the model will result in indexing errors\n",
      "Token indices sequence length is longer than the specified maximum sequence length for this model (4093 > 1024). Running this sequence through the model will result in indexing errors\n"
     ]
    },
    {
     "name": "stdout",
     "output_type": "stream",
     "text": [
      "152\n",
      "153\n"
     ]
    },
    {
     "name": "stderr",
     "output_type": "stream",
     "text": [
      "Token indices sequence length is longer than the specified maximum sequence length for this model (4937 > 1024). Running this sequence through the model will result in indexing errors\n",
      "Token indices sequence length is longer than the specified maximum sequence length for this model (3737 > 1024). Running this sequence through the model will result in indexing errors\n"
     ]
    },
    {
     "name": "stdout",
     "output_type": "stream",
     "text": [
      "154\n",
      "155\n"
     ]
    },
    {
     "name": "stderr",
     "output_type": "stream",
     "text": [
      "Token indices sequence length is longer than the specified maximum sequence length for this model (3279 > 1024). Running this sequence through the model will result in indexing errors\n",
      "Token indices sequence length is longer than the specified maximum sequence length for this model (2851 > 1024). Running this sequence through the model will result in indexing errors\n"
     ]
    },
    {
     "name": "stdout",
     "output_type": "stream",
     "text": [
      "156\n",
      "157\n"
     ]
    },
    {
     "name": "stderr",
     "output_type": "stream",
     "text": [
      "Token indices sequence length is longer than the specified maximum sequence length for this model (4621 > 1024). Running this sequence through the model will result in indexing errors\n",
      "Token indices sequence length is longer than the specified maximum sequence length for this model (2947 > 1024). Running this sequence through the model will result in indexing errors\n"
     ]
    },
    {
     "name": "stdout",
     "output_type": "stream",
     "text": [
      "158\n",
      "159\n"
     ]
    },
    {
     "name": "stderr",
     "output_type": "stream",
     "text": [
      "Token indices sequence length is longer than the specified maximum sequence length for this model (2420 > 1024). Running this sequence through the model will result in indexing errors\n",
      "Token indices sequence length is longer than the specified maximum sequence length for this model (4024 > 1024). Running this sequence through the model will result in indexing errors\n"
     ]
    },
    {
     "name": "stdout",
     "output_type": "stream",
     "text": [
      "160\n",
      "161\n"
     ]
    },
    {
     "name": "stderr",
     "output_type": "stream",
     "text": [
      "Token indices sequence length is longer than the specified maximum sequence length for this model (3335 > 1024). Running this sequence through the model will result in indexing errors\n",
      "Token indices sequence length is longer than the specified maximum sequence length for this model (3355 > 1024). Running this sequence through the model will result in indexing errors\n"
     ]
    },
    {
     "name": "stdout",
     "output_type": "stream",
     "text": [
      "162\n",
      "163\n"
     ]
    },
    {
     "name": "stderr",
     "output_type": "stream",
     "text": [
      "Token indices sequence length is longer than the specified maximum sequence length for this model (3117 > 1024). Running this sequence through the model will result in indexing errors\n",
      "Token indices sequence length is longer than the specified maximum sequence length for this model (3544 > 1024). Running this sequence through the model will result in indexing errors\n"
     ]
    },
    {
     "name": "stdout",
     "output_type": "stream",
     "text": [
      "164\n",
      "165\n"
     ]
    },
    {
     "name": "stderr",
     "output_type": "stream",
     "text": [
      "Token indices sequence length is longer than the specified maximum sequence length for this model (2651 > 1024). Running this sequence through the model will result in indexing errors\n",
      "Token indices sequence length is longer than the specified maximum sequence length for this model (3488 > 1024). Running this sequence through the model will result in indexing errors\n"
     ]
    },
    {
     "name": "stdout",
     "output_type": "stream",
     "text": [
      "166\n",
      "167\n"
     ]
    },
    {
     "name": "stderr",
     "output_type": "stream",
     "text": [
      "Token indices sequence length is longer than the specified maximum sequence length for this model (3301 > 1024). Running this sequence through the model will result in indexing errors\n",
      "Token indices sequence length is longer than the specified maximum sequence length for this model (3594 > 1024). Running this sequence through the model will result in indexing errors\n"
     ]
    },
    {
     "name": "stdout",
     "output_type": "stream",
     "text": [
      "168\n",
      "169\n"
     ]
    },
    {
     "name": "stderr",
     "output_type": "stream",
     "text": [
      "Token indices sequence length is longer than the specified maximum sequence length for this model (2608 > 1024). Running this sequence through the model will result in indexing errors\n",
      "Token indices sequence length is longer than the specified maximum sequence length for this model (2276 > 1024). Running this sequence through the model will result in indexing errors\n"
     ]
    },
    {
     "name": "stdout",
     "output_type": "stream",
     "text": [
      "170\n",
      "171\n"
     ]
    },
    {
     "name": "stderr",
     "output_type": "stream",
     "text": [
      "Token indices sequence length is longer than the specified maximum sequence length for this model (4474 > 1024). Running this sequence through the model will result in indexing errors\n",
      "Token indices sequence length is longer than the specified maximum sequence length for this model (1637 > 1024). Running this sequence through the model will result in indexing errors\n"
     ]
    },
    {
     "name": "stdout",
     "output_type": "stream",
     "text": [
      "172\n",
      "173\n"
     ]
    },
    {
     "name": "stderr",
     "output_type": "stream",
     "text": [
      "Token indices sequence length is longer than the specified maximum sequence length for this model (5582 > 1024). Running this sequence through the model will result in indexing errors\n",
      "Token indices sequence length is longer than the specified maximum sequence length for this model (1558 > 1024). Running this sequence through the model will result in indexing errors\n"
     ]
    },
    {
     "name": "stdout",
     "output_type": "stream",
     "text": [
      "174\n",
      "175\n"
     ]
    },
    {
     "name": "stderr",
     "output_type": "stream",
     "text": [
      "Token indices sequence length is longer than the specified maximum sequence length for this model (1840 > 1024). Running this sequence through the model will result in indexing errors\n",
      "Token indices sequence length is longer than the specified maximum sequence length for this model (4346 > 1024). Running this sequence through the model will result in indexing errors\n"
     ]
    },
    {
     "name": "stdout",
     "output_type": "stream",
     "text": [
      "176\n",
      "177\n"
     ]
    },
    {
     "name": "stderr",
     "output_type": "stream",
     "text": [
      "Token indices sequence length is longer than the specified maximum sequence length for this model (1265 > 1024). Running this sequence through the model will result in indexing errors\n",
      "Token indices sequence length is longer than the specified maximum sequence length for this model (4031 > 1024). Running this sequence through the model will result in indexing errors\n"
     ]
    },
    {
     "name": "stdout",
     "output_type": "stream",
     "text": [
      "178\n",
      "179\n"
     ]
    },
    {
     "name": "stderr",
     "output_type": "stream",
     "text": [
      "Token indices sequence length is longer than the specified maximum sequence length for this model (2308 > 1024). Running this sequence through the model will result in indexing errors\n",
      "Token indices sequence length is longer than the specified maximum sequence length for this model (3439 > 1024). Running this sequence through the model will result in indexing errors\n"
     ]
    },
    {
     "name": "stdout",
     "output_type": "stream",
     "text": [
      "180\n",
      "181\n"
     ]
    },
    {
     "name": "stderr",
     "output_type": "stream",
     "text": [
      "Token indices sequence length is longer than the specified maximum sequence length for this model (4642 > 1024). Running this sequence through the model will result in indexing errors\n",
      "Token indices sequence length is longer than the specified maximum sequence length for this model (2092 > 1024). Running this sequence through the model will result in indexing errors\n"
     ]
    },
    {
     "name": "stdout",
     "output_type": "stream",
     "text": [
      "182\n",
      "183\n"
     ]
    },
    {
     "name": "stderr",
     "output_type": "stream",
     "text": [
      "Token indices sequence length is longer than the specified maximum sequence length for this model (4530 > 1024). Running this sequence through the model will result in indexing errors\n",
      "Token indices sequence length is longer than the specified maximum sequence length for this model (3695 > 1024). Running this sequence through the model will result in indexing errors\n"
     ]
    },
    {
     "name": "stdout",
     "output_type": "stream",
     "text": [
      "184\n",
      "185\n"
     ]
    },
    {
     "name": "stderr",
     "output_type": "stream",
     "text": [
      "Token indices sequence length is longer than the specified maximum sequence length for this model (2814 > 1024). Running this sequence through the model will result in indexing errors\n",
      "Token indices sequence length is longer than the specified maximum sequence length for this model (3437 > 1024). Running this sequence through the model will result in indexing errors\n"
     ]
    },
    {
     "name": "stdout",
     "output_type": "stream",
     "text": [
      "186\n",
      "187\n"
     ]
    },
    {
     "name": "stderr",
     "output_type": "stream",
     "text": [
      "Token indices sequence length is longer than the specified maximum sequence length for this model (3921 > 1024). Running this sequence through the model will result in indexing errors\n"
     ]
    },
    {
     "name": "stdout",
     "output_type": "stream",
     "text": [
      "188\n"
     ]
    },
    {
     "name": "stderr",
     "output_type": "stream",
     "text": [
      "Token indices sequence length is longer than the specified maximum sequence length for this model (5279 > 1024). Running this sequence through the model will result in indexing errors\n",
      "Token indices sequence length is longer than the specified maximum sequence length for this model (3459 > 1024). Running this sequence through the model will result in indexing errors\n"
     ]
    },
    {
     "name": "stdout",
     "output_type": "stream",
     "text": [
      "189\n",
      "190\n"
     ]
    },
    {
     "name": "stderr",
     "output_type": "stream",
     "text": [
      "Token indices sequence length is longer than the specified maximum sequence length for this model (5452 > 1024). Running this sequence through the model will result in indexing errors\n",
      "Token indices sequence length is longer than the specified maximum sequence length for this model (4593 > 1024). Running this sequence through the model will result in indexing errors\n"
     ]
    },
    {
     "name": "stdout",
     "output_type": "stream",
     "text": [
      "191\n",
      "192\n"
     ]
    },
    {
     "name": "stderr",
     "output_type": "stream",
     "text": [
      "Token indices sequence length is longer than the specified maximum sequence length for this model (1379 > 1024). Running this sequence through the model will result in indexing errors\n",
      "Token indices sequence length is longer than the specified maximum sequence length for this model (2391 > 1024). Running this sequence through the model will result in indexing errors\n"
     ]
    },
    {
     "name": "stdout",
     "output_type": "stream",
     "text": [
      "193\n",
      "194\n"
     ]
    },
    {
     "name": "stderr",
     "output_type": "stream",
     "text": [
      "Token indices sequence length is longer than the specified maximum sequence length for this model (2836 > 1024). Running this sequence through the model will result in indexing errors\n",
      "Token indices sequence length is longer than the specified maximum sequence length for this model (3457 > 1024). Running this sequence through the model will result in indexing errors\n"
     ]
    },
    {
     "name": "stdout",
     "output_type": "stream",
     "text": [
      "195\n",
      "196\n"
     ]
    },
    {
     "name": "stderr",
     "output_type": "stream",
     "text": [
      "Token indices sequence length is longer than the specified maximum sequence length for this model (3960 > 1024). Running this sequence through the model will result in indexing errors\n",
      "Token indices sequence length is longer than the specified maximum sequence length for this model (4077 > 1024). Running this sequence through the model will result in indexing errors\n"
     ]
    },
    {
     "name": "stdout",
     "output_type": "stream",
     "text": [
      "197\n",
      "198\n"
     ]
    },
    {
     "name": "stderr",
     "output_type": "stream",
     "text": [
      "Token indices sequence length is longer than the specified maximum sequence length for this model (4037 > 1024). Running this sequence through the model will result in indexing errors\n",
      "Token indices sequence length is longer than the specified maximum sequence length for this model (5169 > 1024). Running this sequence through the model will result in indexing errors\n"
     ]
    },
    {
     "name": "stdout",
     "output_type": "stream",
     "text": [
      "199\n",
      "200\n"
     ]
    },
    {
     "name": "stderr",
     "output_type": "stream",
     "text": [
      "Token indices sequence length is longer than the specified maximum sequence length for this model (2773 > 1024). Running this sequence through the model will result in indexing errors\n",
      "Token indices sequence length is longer than the specified maximum sequence length for this model (2527 > 1024). Running this sequence through the model will result in indexing errors\n"
     ]
    },
    {
     "name": "stdout",
     "output_type": "stream",
     "text": [
      "201\n",
      "202\n"
     ]
    },
    {
     "name": "stderr",
     "output_type": "stream",
     "text": [
      "Token indices sequence length is longer than the specified maximum sequence length for this model (2677 > 1024). Running this sequence through the model will result in indexing errors\n",
      "Token indices sequence length is longer than the specified maximum sequence length for this model (5488 > 1024). Running this sequence through the model will result in indexing errors\n"
     ]
    },
    {
     "name": "stdout",
     "output_type": "stream",
     "text": [
      "203\n"
     ]
    },
    {
     "name": "stderr",
     "output_type": "stream",
     "text": [
      "Token indices sequence length is longer than the specified maximum sequence length for this model (5924 > 1024). Running this sequence through the model will result in indexing errors\n"
     ]
    },
    {
     "name": "stdout",
     "output_type": "stream",
     "text": [
      "204\n",
      "205\n"
     ]
    },
    {
     "name": "stderr",
     "output_type": "stream",
     "text": [
      "Token indices sequence length is longer than the specified maximum sequence length for this model (3604 > 1024). Running this sequence through the model will result in indexing errors\n",
      "Token indices sequence length is longer than the specified maximum sequence length for this model (3525 > 1024). Running this sequence through the model will result in indexing errors\n"
     ]
    },
    {
     "name": "stdout",
     "output_type": "stream",
     "text": [
      "206\n",
      "207\n"
     ]
    },
    {
     "name": "stderr",
     "output_type": "stream",
     "text": [
      "Token indices sequence length is longer than the specified maximum sequence length for this model (3961 > 1024). Running this sequence through the model will result in indexing errors\n"
     ]
    },
    {
     "name": "stdout",
     "output_type": "stream",
     "text": [
      "208\n"
     ]
    },
    {
     "name": "stderr",
     "output_type": "stream",
     "text": [
      "Token indices sequence length is longer than the specified maximum sequence length for this model (2191 > 1024). Running this sequence through the model will result in indexing errors\n",
      "Token indices sequence length is longer than the specified maximum sequence length for this model (2543 > 1024). Running this sequence through the model will result in indexing errors\n"
     ]
    },
    {
     "name": "stdout",
     "output_type": "stream",
     "text": [
      "209\n",
      "210\n"
     ]
    },
    {
     "name": "stderr",
     "output_type": "stream",
     "text": [
      "Token indices sequence length is longer than the specified maximum sequence length for this model (3736 > 1024). Running this sequence through the model will result in indexing errors\n",
      "Token indices sequence length is longer than the specified maximum sequence length for this model (3948 > 1024). Running this sequence through the model will result in indexing errors\n"
     ]
    },
    {
     "name": "stdout",
     "output_type": "stream",
     "text": [
      "211\n",
      "212\n"
     ]
    },
    {
     "name": "stderr",
     "output_type": "stream",
     "text": [
      "Token indices sequence length is longer than the specified maximum sequence length for this model (1121 > 1024). Running this sequence through the model will result in indexing errors\n",
      "Token indices sequence length is longer than the specified maximum sequence length for this model (4656 > 1024). Running this sequence through the model will result in indexing errors\n"
     ]
    },
    {
     "name": "stdout",
     "output_type": "stream",
     "text": [
      "213\n",
      "214\n"
     ]
    },
    {
     "name": "stderr",
     "output_type": "stream",
     "text": [
      "Token indices sequence length is longer than the specified maximum sequence length for this model (1884 > 1024). Running this sequence through the model will result in indexing errors\n"
     ]
    },
    {
     "name": "stdout",
     "output_type": "stream",
     "text": [
      "215\n"
     ]
    },
    {
     "name": "stderr",
     "output_type": "stream",
     "text": [
      "Token indices sequence length is longer than the specified maximum sequence length for this model (5443 > 1024). Running this sequence through the model will result in indexing errors\n",
      "Token indices sequence length is longer than the specified maximum sequence length for this model (1325 > 1024). Running this sequence through the model will result in indexing errors\n"
     ]
    },
    {
     "name": "stdout",
     "output_type": "stream",
     "text": [
      "216\n",
      "217\n"
     ]
    },
    {
     "name": "stderr",
     "output_type": "stream",
     "text": [
      "Token indices sequence length is longer than the specified maximum sequence length for this model (2292 > 1024). Running this sequence through the model will result in indexing errors\n",
      "Token indices sequence length is longer than the specified maximum sequence length for this model (3159 > 1024). Running this sequence through the model will result in indexing errors\n"
     ]
    },
    {
     "name": "stdout",
     "output_type": "stream",
     "text": [
      "218\n",
      "219\n"
     ]
    },
    {
     "name": "stderr",
     "output_type": "stream",
     "text": [
      "Token indices sequence length is longer than the specified maximum sequence length for this model (3717 > 1024). Running this sequence through the model will result in indexing errors\n",
      "Token indices sequence length is longer than the specified maximum sequence length for this model (2890 > 1024). Running this sequence through the model will result in indexing errors\n"
     ]
    },
    {
     "name": "stdout",
     "output_type": "stream",
     "text": [
      "220\n",
      "221\n"
     ]
    },
    {
     "name": "stderr",
     "output_type": "stream",
     "text": [
      "Token indices sequence length is longer than the specified maximum sequence length for this model (5249 > 1024). Running this sequence through the model will result in indexing errors\n",
      "Token indices sequence length is longer than the specified maximum sequence length for this model (3620 > 1024). Running this sequence through the model will result in indexing errors\n"
     ]
    },
    {
     "name": "stdout",
     "output_type": "stream",
     "text": [
      "222\n",
      "223\n"
     ]
    },
    {
     "name": "stderr",
     "output_type": "stream",
     "text": [
      "Token indices sequence length is longer than the specified maximum sequence length for this model (3442 > 1024). Running this sequence through the model will result in indexing errors\n",
      "Token indices sequence length is longer than the specified maximum sequence length for this model (2407 > 1024). Running this sequence through the model will result in indexing errors\n"
     ]
    },
    {
     "name": "stdout",
     "output_type": "stream",
     "text": [
      "224\n",
      "225\n"
     ]
    },
    {
     "name": "stderr",
     "output_type": "stream",
     "text": [
      "Token indices sequence length is longer than the specified maximum sequence length for this model (1933 > 1024). Running this sequence through the model will result in indexing errors\n",
      "Token indices sequence length is longer than the specified maximum sequence length for this model (4633 > 1024). Running this sequence through the model will result in indexing errors\n"
     ]
    },
    {
     "name": "stdout",
     "output_type": "stream",
     "text": [
      "226\n",
      "227\n"
     ]
    },
    {
     "name": "stderr",
     "output_type": "stream",
     "text": [
      "Token indices sequence length is longer than the specified maximum sequence length for this model (3091 > 1024). Running this sequence through the model will result in indexing errors\n",
      "Token indices sequence length is longer than the specified maximum sequence length for this model (2470 > 1024). Running this sequence through the model will result in indexing errors\n"
     ]
    },
    {
     "name": "stdout",
     "output_type": "stream",
     "text": [
      "228\n",
      "229\n"
     ]
    },
    {
     "name": "stderr",
     "output_type": "stream",
     "text": [
      "Token indices sequence length is longer than the specified maximum sequence length for this model (2706 > 1024). Running this sequence through the model will result in indexing errors\n",
      "Token indices sequence length is longer than the specified maximum sequence length for this model (2043 > 1024). Running this sequence through the model will result in indexing errors\n"
     ]
    },
    {
     "name": "stdout",
     "output_type": "stream",
     "text": [
      "230\n",
      "231\n"
     ]
    },
    {
     "name": "stderr",
     "output_type": "stream",
     "text": [
      "Token indices sequence length is longer than the specified maximum sequence length for this model (2173 > 1024). Running this sequence through the model will result in indexing errors\n",
      "Token indices sequence length is longer than the specified maximum sequence length for this model (3616 > 1024). Running this sequence through the model will result in indexing errors\n"
     ]
    },
    {
     "name": "stdout",
     "output_type": "stream",
     "text": [
      "232\n",
      "233\n"
     ]
    },
    {
     "name": "stderr",
     "output_type": "stream",
     "text": [
      "Token indices sequence length is longer than the specified maximum sequence length for this model (2954 > 1024). Running this sequence through the model will result in indexing errors\n",
      "Token indices sequence length is longer than the specified maximum sequence length for this model (2739 > 1024). Running this sequence through the model will result in indexing errors\n"
     ]
    },
    {
     "name": "stdout",
     "output_type": "stream",
     "text": [
      "234\n",
      "235\n"
     ]
    },
    {
     "name": "stderr",
     "output_type": "stream",
     "text": [
      "Token indices sequence length is longer than the specified maximum sequence length for this model (4707 > 1024). Running this sequence through the model will result in indexing errors\n",
      "Token indices sequence length is longer than the specified maximum sequence length for this model (4419 > 1024). Running this sequence through the model will result in indexing errors\n"
     ]
    },
    {
     "name": "stdout",
     "output_type": "stream",
     "text": [
      "236\n",
      "237\n"
     ]
    },
    {
     "name": "stderr",
     "output_type": "stream",
     "text": [
      "Token indices sequence length is longer than the specified maximum sequence length for this model (3373 > 1024). Running this sequence through the model will result in indexing errors\n",
      "Token indices sequence length is longer than the specified maximum sequence length for this model (3874 > 1024). Running this sequence through the model will result in indexing errors\n"
     ]
    },
    {
     "name": "stdout",
     "output_type": "stream",
     "text": [
      "238\n",
      "239\n"
     ]
    },
    {
     "name": "stderr",
     "output_type": "stream",
     "text": [
      "Token indices sequence length is longer than the specified maximum sequence length for this model (3329 > 1024). Running this sequence through the model will result in indexing errors\n",
      "Token indices sequence length is longer than the specified maximum sequence length for this model (2905 > 1024). Running this sequence through the model will result in indexing errors\n"
     ]
    },
    {
     "name": "stdout",
     "output_type": "stream",
     "text": [
      "240\n",
      "241\n"
     ]
    },
    {
     "name": "stderr",
     "output_type": "stream",
     "text": [
      "Token indices sequence length is longer than the specified maximum sequence length for this model (2102 > 1024). Running this sequence through the model will result in indexing errors\n"
     ]
    },
    {
     "name": "stdout",
     "output_type": "stream",
     "text": [
      "242\n"
     ]
    },
    {
     "name": "stderr",
     "output_type": "stream",
     "text": [
      "Token indices sequence length is longer than the specified maximum sequence length for this model (5256 > 1024). Running this sequence through the model will result in indexing errors\n",
      "Token indices sequence length is longer than the specified maximum sequence length for this model (4358 > 1024). Running this sequence through the model will result in indexing errors\n"
     ]
    },
    {
     "name": "stdout",
     "output_type": "stream",
     "text": [
      "243\n",
      "244\n"
     ]
    },
    {
     "name": "stderr",
     "output_type": "stream",
     "text": [
      "Token indices sequence length is longer than the specified maximum sequence length for this model (4530 > 1024). Running this sequence through the model will result in indexing errors\n",
      "Token indices sequence length is longer than the specified maximum sequence length for this model (4376 > 1024). Running this sequence through the model will result in indexing errors\n"
     ]
    },
    {
     "name": "stdout",
     "output_type": "stream",
     "text": [
      "245\n",
      "246\n"
     ]
    },
    {
     "name": "stderr",
     "output_type": "stream",
     "text": [
      "Token indices sequence length is longer than the specified maximum sequence length for this model (3607 > 1024). Running this sequence through the model will result in indexing errors\n"
     ]
    },
    {
     "name": "stdout",
     "output_type": "stream",
     "text": [
      "247\n"
     ]
    },
    {
     "name": "stderr",
     "output_type": "stream",
     "text": [
      "Token indices sequence length is longer than the specified maximum sequence length for this model (5479 > 1024). Running this sequence through the model will result in indexing errors\n",
      "Token indices sequence length is longer than the specified maximum sequence length for this model (2396 > 1024). Running this sequence through the model will result in indexing errors\n"
     ]
    },
    {
     "name": "stdout",
     "output_type": "stream",
     "text": [
      "248\n",
      "249\n"
     ]
    },
    {
     "name": "stderr",
     "output_type": "stream",
     "text": [
      "Token indices sequence length is longer than the specified maximum sequence length for this model (2562 > 1024). Running this sequence through the model will result in indexing errors\n",
      "Token indices sequence length is longer than the specified maximum sequence length for this model (3386 > 1024). Running this sequence through the model will result in indexing errors\n"
     ]
    },
    {
     "name": "stdout",
     "output_type": "stream",
     "text": [
      "250\n",
      "251\n"
     ]
    },
    {
     "name": "stderr",
     "output_type": "stream",
     "text": [
      "Token indices sequence length is longer than the specified maximum sequence length for this model (2070 > 1024). Running this sequence through the model will result in indexing errors\n",
      "Token indices sequence length is longer than the specified maximum sequence length for this model (3075 > 1024). Running this sequence through the model will result in indexing errors\n"
     ]
    },
    {
     "name": "stdout",
     "output_type": "stream",
     "text": [
      "252\n",
      "253\n"
     ]
    },
    {
     "name": "stderr",
     "output_type": "stream",
     "text": [
      "Token indices sequence length is longer than the specified maximum sequence length for this model (4915 > 1024). Running this sequence through the model will result in indexing errors\n",
      "Token indices sequence length is longer than the specified maximum sequence length for this model (3012 > 1024). Running this sequence through the model will result in indexing errors\n"
     ]
    },
    {
     "name": "stdout",
     "output_type": "stream",
     "text": [
      "254\n",
      "255\n"
     ]
    },
    {
     "name": "stderr",
     "output_type": "stream",
     "text": [
      "Token indices sequence length is longer than the specified maximum sequence length for this model (3426 > 1024). Running this sequence through the model will result in indexing errors\n",
      "Token indices sequence length is longer than the specified maximum sequence length for this model (4813 > 1024). Running this sequence through the model will result in indexing errors\n"
     ]
    },
    {
     "name": "stdout",
     "output_type": "stream",
     "text": [
      "256\n",
      "257\n"
     ]
    },
    {
     "name": "stderr",
     "output_type": "stream",
     "text": [
      "Token indices sequence length is longer than the specified maximum sequence length for this model (2153 > 1024). Running this sequence through the model will result in indexing errors\n",
      "Token indices sequence length is longer than the specified maximum sequence length for this model (2208 > 1024). Running this sequence through the model will result in indexing errors\n"
     ]
    },
    {
     "name": "stdout",
     "output_type": "stream",
     "text": [
      "258\n",
      "259\n"
     ]
    },
    {
     "name": "stderr",
     "output_type": "stream",
     "text": [
      "Token indices sequence length is longer than the specified maximum sequence length for this model (1951 > 1024). Running this sequence through the model will result in indexing errors\n",
      "Token indices sequence length is longer than the specified maximum sequence length for this model (3432 > 1024). Running this sequence through the model will result in indexing errors\n"
     ]
    },
    {
     "name": "stdout",
     "output_type": "stream",
     "text": [
      "260\n",
      "261\n"
     ]
    },
    {
     "name": "stderr",
     "output_type": "stream",
     "text": [
      "Token indices sequence length is longer than the specified maximum sequence length for this model (6739 > 1024). Running this sequence through the model will result in indexing errors\n",
      "Token indices sequence length is longer than the specified maximum sequence length for this model (3184 > 1024). Running this sequence through the model will result in indexing errors\n"
     ]
    },
    {
     "name": "stdout",
     "output_type": "stream",
     "text": [
      "262\n",
      "263\n"
     ]
    },
    {
     "name": "stderr",
     "output_type": "stream",
     "text": [
      "Token indices sequence length is longer than the specified maximum sequence length for this model (2415 > 1024). Running this sequence through the model will result in indexing errors\n",
      "Token indices sequence length is longer than the specified maximum sequence length for this model (3430 > 1024). Running this sequence through the model will result in indexing errors\n"
     ]
    },
    {
     "name": "stdout",
     "output_type": "stream",
     "text": [
      "264\n",
      "265\n"
     ]
    },
    {
     "name": "stderr",
     "output_type": "stream",
     "text": [
      "Token indices sequence length is longer than the specified maximum sequence length for this model (4576 > 1024). Running this sequence through the model will result in indexing errors\n",
      "Token indices sequence length is longer than the specified maximum sequence length for this model (3156 > 1024). Running this sequence through the model will result in indexing errors\n"
     ]
    },
    {
     "name": "stdout",
     "output_type": "stream",
     "text": [
      "266\n",
      "267\n"
     ]
    },
    {
     "name": "stderr",
     "output_type": "stream",
     "text": [
      "Token indices sequence length is longer than the specified maximum sequence length for this model (3306 > 1024). Running this sequence through the model will result in indexing errors\n",
      "Token indices sequence length is longer than the specified maximum sequence length for this model (3858 > 1024). Running this sequence through the model will result in indexing errors\n"
     ]
    },
    {
     "name": "stdout",
     "output_type": "stream",
     "text": [
      "268\n",
      "269\n"
     ]
    },
    {
     "name": "stderr",
     "output_type": "stream",
     "text": [
      "Token indices sequence length is longer than the specified maximum sequence length for this model (3117 > 1024). Running this sequence through the model will result in indexing errors\n",
      "Token indices sequence length is longer than the specified maximum sequence length for this model (3752 > 1024). Running this sequence through the model will result in indexing errors\n"
     ]
    },
    {
     "name": "stdout",
     "output_type": "stream",
     "text": [
      "270\n",
      "271\n"
     ]
    },
    {
     "name": "stderr",
     "output_type": "stream",
     "text": [
      "Token indices sequence length is longer than the specified maximum sequence length for this model (2899 > 1024). Running this sequence through the model will result in indexing errors\n",
      "Token indices sequence length is longer than the specified maximum sequence length for this model (3866 > 1024). Running this sequence through the model will result in indexing errors\n"
     ]
    },
    {
     "name": "stdout",
     "output_type": "stream",
     "text": [
      "272\n",
      "273\n"
     ]
    },
    {
     "name": "stderr",
     "output_type": "stream",
     "text": [
      "Token indices sequence length is longer than the specified maximum sequence length for this model (2726 > 1024). Running this sequence through the model will result in indexing errors\n",
      "Token indices sequence length is longer than the specified maximum sequence length for this model (3175 > 1024). Running this sequence through the model will result in indexing errors\n"
     ]
    },
    {
     "name": "stdout",
     "output_type": "stream",
     "text": [
      "274\n",
      "275\n"
     ]
    },
    {
     "name": "stderr",
     "output_type": "stream",
     "text": [
      "Token indices sequence length is longer than the specified maximum sequence length for this model (3906 > 1024). Running this sequence through the model will result in indexing errors\n",
      "Token indices sequence length is longer than the specified maximum sequence length for this model (3391 > 1024). Running this sequence through the model will result in indexing errors\n"
     ]
    },
    {
     "name": "stdout",
     "output_type": "stream",
     "text": [
      "276\n",
      "277\n"
     ]
    },
    {
     "name": "stderr",
     "output_type": "stream",
     "text": [
      "Token indices sequence length is longer than the specified maximum sequence length for this model (5054 > 1024). Running this sequence through the model will result in indexing errors\n",
      "Token indices sequence length is longer than the specified maximum sequence length for this model (5940 > 1024). Running this sequence through the model will result in indexing errors\n"
     ]
    },
    {
     "name": "stdout",
     "output_type": "stream",
     "text": [
      "278\n",
      "279\n"
     ]
    },
    {
     "name": "stderr",
     "output_type": "stream",
     "text": [
      "Token indices sequence length is longer than the specified maximum sequence length for this model (1944 > 1024). Running this sequence through the model will result in indexing errors\n",
      "Token indices sequence length is longer than the specified maximum sequence length for this model (1773 > 1024). Running this sequence through the model will result in indexing errors\n"
     ]
    },
    {
     "name": "stdout",
     "output_type": "stream",
     "text": [
      "280\n",
      "281\n"
     ]
    },
    {
     "name": "stderr",
     "output_type": "stream",
     "text": [
      "Token indices sequence length is longer than the specified maximum sequence length for this model (5111 > 1024). Running this sequence through the model will result in indexing errors\n",
      "Token indices sequence length is longer than the specified maximum sequence length for this model (4321 > 1024). Running this sequence through the model will result in indexing errors\n"
     ]
    },
    {
     "name": "stdout",
     "output_type": "stream",
     "text": [
      "282\n",
      "283\n"
     ]
    },
    {
     "name": "stderr",
     "output_type": "stream",
     "text": [
      "Token indices sequence length is longer than the specified maximum sequence length for this model (4595 > 1024). Running this sequence through the model will result in indexing errors\n",
      "Token indices sequence length is longer than the specified maximum sequence length for this model (4080 > 1024). Running this sequence through the model will result in indexing errors\n"
     ]
    },
    {
     "name": "stdout",
     "output_type": "stream",
     "text": [
      "284\n",
      "285\n"
     ]
    },
    {
     "name": "stderr",
     "output_type": "stream",
     "text": [
      "Token indices sequence length is longer than the specified maximum sequence length for this model (1987 > 1024). Running this sequence through the model will result in indexing errors\n",
      "Token indices sequence length is longer than the specified maximum sequence length for this model (4348 > 1024). Running this sequence through the model will result in indexing errors\n"
     ]
    },
    {
     "name": "stdout",
     "output_type": "stream",
     "text": [
      "286\n",
      "287\n"
     ]
    },
    {
     "name": "stderr",
     "output_type": "stream",
     "text": [
      "Token indices sequence length is longer than the specified maximum sequence length for this model (1935 > 1024). Running this sequence through the model will result in indexing errors\n",
      "Token indices sequence length is longer than the specified maximum sequence length for this model (3984 > 1024). Running this sequence through the model will result in indexing errors\n"
     ]
    },
    {
     "name": "stdout",
     "output_type": "stream",
     "text": [
      "288\n",
      "289\n"
     ]
    },
    {
     "name": "stderr",
     "output_type": "stream",
     "text": [
      "Token indices sequence length is longer than the specified maximum sequence length for this model (2321 > 1024). Running this sequence through the model will result in indexing errors\n",
      "Token indices sequence length is longer than the specified maximum sequence length for this model (3209 > 1024). Running this sequence through the model will result in indexing errors\n"
     ]
    },
    {
     "name": "stdout",
     "output_type": "stream",
     "text": [
      "290\n",
      "291\n"
     ]
    },
    {
     "name": "stderr",
     "output_type": "stream",
     "text": [
      "Token indices sequence length is longer than the specified maximum sequence length for this model (1635 > 1024). Running this sequence through the model will result in indexing errors\n"
     ]
    },
    {
     "name": "stdout",
     "output_type": "stream",
     "text": [
      "292\n"
     ]
    },
    {
     "name": "stderr",
     "output_type": "stream",
     "text": [
      "Token indices sequence length is longer than the specified maximum sequence length for this model (6441 > 1024). Running this sequence through the model will result in indexing errors\n",
      "Token indices sequence length is longer than the specified maximum sequence length for this model (4136 > 1024). Running this sequence through the model will result in indexing errors\n"
     ]
    },
    {
     "name": "stdout",
     "output_type": "stream",
     "text": [
      "293\n",
      "294\n"
     ]
    },
    {
     "name": "stderr",
     "output_type": "stream",
     "text": [
      "Token indices sequence length is longer than the specified maximum sequence length for this model (3581 > 1024). Running this sequence through the model will result in indexing errors\n"
     ]
    },
    {
     "name": "stdout",
     "output_type": "stream",
     "text": [
      "may cost 10.341800000000001 dollars\n",
      "CPU times: user 32.3 s, sys: 1.23 s, total: 33.6 s\n",
      "Wall time: 1min 1s\n"
     ]
    }
   ],
   "source": [
    "%%time\n",
    "\n",
    "## add category tags from a pool of 42 selections, estimate cost first\n",
    "with open('df_restaurants_Reno_shortlist,pkl','rb') as f:\n",
    "    df_currentpool_b = pickle.load(f)\n",
    "    \n",
    "estimate_tokens_list=[]\n",
    "business_ids=list(df_currentpool_b['business_id'])\n",
    "# loop over all the unique business ids:\n",
    "for ind in range(len(business_ids)):\n",
    "    bid = business_ids[ind]\n",
    "    print(ind)\n",
    "    # extract all the reviews for this business\n",
    "    reviews = df_Reno_reviews[df_Reno_reviews['business_id']==bid]\n",
    "    \n",
    "    # extract the top 20 reviews or all reviews for this business\n",
    "    relevant_reviews = list(reviews.sort_values(by='useful',ascending=False)[:min(10, len(reviews))]['text'])\n",
    "    \n",
    "    # get chatGPT prompt message for these reviews\n",
    "    _ = gpt.get_prompt_category_tags(relevant_reviews)\n",
    "    \n",
    "    # estimate total number of tokens\n",
    "    estimate_tokens = gpt.estimate_tokens(content_type = 'category tags')\n",
    "    estimate_tokens_list.append(estimate_tokens)\n",
    "\n",
    "cost_estimate = sum(estimate_tokens_list)/1000*0.01 #gpt-4-1106-preview\t$0.01 / 1K tokens. rough estimation.\n",
    "print('may cost ' + str(cost_estimate) + ' dollars')\n"
   ]
  },
  {
   "cell_type": "code",
   "execution_count": 11,
   "id": "818a2f13",
   "metadata": {
    "scrolled": true
   },
   "outputs": [
    {
     "name": "stdout",
     "output_type": "stream",
     "text": [
      "0/295\n",
      "1/295\n",
      "1  response = [\"American\", \"Bakery & Pastry\", \"Breakfast & Brunch\", \"Sandwiches & Wraps\", \"Casual Dining\"].\n",
      "\n",
      "\n",
      "2/295\n",
      "2  response = [\"Family Style\", \"Vegetarian\", \"African\", \"Casual Dining\", \"Gluten-Free & Health Food\"].\n",
      "\n",
      "\n",
      "3/295\n",
      "3  response = [\"Italian\", \"Family Style\", \"Fine Dining\", \"Wine Bar & Lounge\", \"Casual Dining\"].\n",
      "\n",
      "\n",
      "4/295\n",
      "4  response = [\"Fast Food\", \"Sandwiches & Wraps\", \"Casual Dining\", \"Family Style\", \"American\"].\n",
      "\n",
      "\n",
      "5/295\n",
      "5  response = [\"Bakery & Pastry\", \"Sweets & Desserts\", \"Casual Dining\", \"Family Style\", \"American\"].\n",
      "\n",
      "\n",
      "6/295\n",
      "6  response = [\"Steak house\", \"Italian\", \"Casual Dining\", \"Family Style\", \"Seafood\"].\n",
      "\n",
      "\n",
      "7/295\n",
      "7  response = [\"American\", \"Casual Dining\", \"Family Style\", \"Bar & Pub\", \"Grill & Steakhouse\"].\n",
      "\n",
      "\n",
      "8/295\n",
      "8  response = [\"Fast Food\", \"American\", \"Coffee & Tea\", \"Casual Dining\", \"Family Style\"].\n",
      "\n",
      "\n",
      "9/295\n",
      "9  response = [\"American\", \"Breakfast & Brunch\", \"Casual Dining\", \"Coffee & Tea\", \"Seafood\"].\n",
      "\n",
      "\n",
      "10/295\n",
      "10  response = [\"Bar & Pub\", \"American\", \"Casual Dining\", \"Brewery\", \"Gastropub\"].\n",
      "\n",
      "\n",
      "11/295\n",
      "11  response = [\"Korean\", \"Gluten-Free\", \"Vegetarian\", \"Casual Dining\", \"Comfort Food\"].\n",
      "\n",
      "\n",
      "12/295\n",
      "12  response = [\"Buffet\", \"American\", \"Breakfast & Brunch\", \"Mexican\", \"Seafood\"].\n",
      "\n",
      "\n",
      "13/295\n",
      "13  response = [\"Breakfast & Brunch\", \"Coffee & Tea\", \"Casual Dining\", \"American\", \"Bakery & Pastry\"].\n",
      "\n",
      "\n",
      "14/295\n",
      "14  response = [\"American\", \"Bar & Pub\", \"Pizza\", \"Nightlife\", \"Karaoke\"].\n",
      "\n",
      "\n",
      "15/295\n",
      "15  response = [\"American\", \"Fast Food\", \"Family Style\", \"BBQ & Grill\", \"Casual Dining\"].\n",
      "\n",
      "\n",
      "16/295\n",
      "16  response = [\"Chinese\", \"American\", \"Fast Food\", \"Casual Dining\", \"Breakfast & Brunch\"].\n",
      "\n",
      "\n",
      "17/295\n",
      "17  response = [\"Pizza\", \"Vegan\", \"American\", \"Bar & Pub\", \"Casual Dining\"].\n",
      "\n",
      "\n",
      "18/295\n",
      "18  response = [\"Italian\", \"Seafood\", \"Steak house\", \"Fine Dining\", \"Casual Dining\"].\n",
      "\n",
      "\n",
      "19/295\n",
      "19  response = [\"Chinese\", \"Taiwanese\", \"Casual Dining\", \"Street Food & Food Truck\", \"Family Style\"].\n",
      "\n",
      "\n",
      "20/295\n",
      "20  response = [\"Food Trucks\", \"Vegetarian\", \"Sandwiches & Wraps\", \"Asian Fusion\", \"American\"].\n",
      "\n",
      "\n",
      "21/295\n",
      "21  response = [\"Pizza\", \"Italian\", \"Casual Dining\", \"Family Style\", \"Sandwiches & Wraps\"].\n",
      "\n",
      "\n",
      "22/295\n",
      "22  response = [\"American\", \"Bar & Pub\", \"Casual Dining\", \"Bakery & Pastry\", \"Family Style\"].\n",
      "\n",
      "\n",
      "23/295\n",
      "23  response = [\"Vietnamese\", \"Japanese\", \"Asian Fusion\", \"Seafood\", \"Bar & Pub\"].\n",
      "\n",
      "\n",
      "24/295\n",
      "24  response = [\"Thai\", \"Cooking Schools\", \"Casual Dining\", \"Seafood\", \"Vegetarian\"].\n",
      "\n",
      "\n",
      "25/295\n",
      "25  response = [\"Mexican\", \"American\", \"Sandwiches & Wraps\", \"Salad\", \"Fusion\"].\n",
      "\n",
      "\n",
      "26/295\n",
      "26  response = [\"American\", \"Casual Dining\", \"Family Style\", \"Breakfast & Brunch\", \"Sandwiches & Wraps\"].\n",
      "\n",
      "\n",
      "27/295\n",
      "27  response = [\"Fine Dining\", \"Casual Dining\", \"American\", \"Seafood\", \"Wine Bar & Lounge\"].\n",
      "\n",
      "\n",
      "28/295\n",
      "28  response = [\"Breakfast & Brunch\", \"Coffee & Tea\", \"Bakery & Pastry\", \"American\", \"Casual Dining\"].\n",
      "\n",
      "\n",
      "29/295\n",
      "29  response = [\"Mexican\", \"Vegetarian\", \"Bar & Pub\", \"Gluten-Free & Health Food\", \"Casual Dining\"].\n",
      "\n",
      "\n",
      "30/295\n",
      "30  response = [\"Sweets & Desserts\", \"Family Style\", \"Casual Dining\", \"American\", \"Ice Cream & Frozen Yogurt\"].\n",
      "\n",
      "\n",
      "31/295\n",
      "31  response = [\"Mexican\", \"Casual Dining\", \"Family Style\", \"Fast Food\", \"Salsa Bar\"].\n",
      "\n",
      "\n",
      "32/295\n",
      "32  response = [\"Mediterranean\", \"Middle Eastern\", \"Vegetarian\", \"Fast Food\", \"Casual Dining\"].\n",
      "\n",
      "\n",
      "33/295\n",
      "33  response = [\"Mexican\", \"Fast Food\", \"Casual Dining\", \"Family Style\", \"American\"].\n",
      "\n",
      "\n",
      "34/295\n",
      "34  response = [\"American\", \"Desserts\", \"Bar & Pub\", \"Casual Dining\", \"Family Style\"].\n",
      "\n",
      "\n",
      "35/295\n",
      "35  response = [\"Chinese\", \"Casual Dining\", \"Family Style\", \"Ethnic Food\", \"Asian Fusion\"].\n",
      "\n",
      "\n",
      "36/295\n",
      "36  response = [\"Bar & Pub\", \"Sweets & Desserts\", \"Wine Bar & Lounge\", \"Casual Dining\", \"Nightlife\"].\n",
      "\n",
      "\n",
      "37/295\n",
      "37  response = [\"Casual Dining\", \"Family Style\", \"Wine Bar & Lounge\", \"Coffee & Tea\", \"Sweets & Desserts\"].\n",
      "\n",
      "\n",
      "38/295\n",
      "38  response = [\"Fast Food\", \"Sandwiches & Wraps\", \"Casual Dining\", \"Delivery Services\", \"Family Style\"].\n",
      "\n",
      "\n",
      "39/295\n",
      "39  response = [\"BBQ & Grill\", \"American\", \"Casual Dining\", \"Family Style\", \"Sandwiches & Wraps\"].\n",
      "\n",
      "\n",
      "40/295\n",
      "40  response = [\"Pizza\", \"Italian\", \"Casual Dining\", \"American\", \"Family Style\"].\n",
      "\n",
      "\n",
      "41/295\n",
      "41  response = [\"Pizza\", \"Breakfast & Brunch\", \"Sandwiches & Wraps\", \"Vegetarian\", \"Bar & Pub\"].\n",
      "\n",
      "\n",
      "42/295\n",
      "42  response = [\"Bar & Pub\", \"American\", \"BBQ & Grill\", \"Breakfast & Brunch\", \"Casual Dining\"].\n",
      "\n",
      "\n",
      "43/295\n",
      "43  response = [\"Fast Food\", \"Sandwiches & Wraps\", \"Casual Dining\", \"Family Style\", \"American\"].\n",
      "\n",
      "\n",
      "44/295\n",
      "44  response = [\"Chinese\", \"Asian Fusion\", \"Casual Dining\", \"Family Style\", \"Takeout\"]\n",
      "\n",
      "\n",
      "45/295\n",
      "45  response = [\"American\", \"Casual Dining\", \"Bakery & Pastry\", \"Sandwiches & Wraps\", \"Fast Food\"].\n",
      "\n",
      "\n",
      "46/295\n",
      "46  response = [\"Italian\", \"American\", \"Wine Bar & Lounge\", \"Breakfast & Brunch\", \"Casual Dining\"].\n",
      "\n",
      "\n",
      "47/295\n",
      "47  response = [\"Japanese\", \"Sushi Bars\", \"Seafood\", \"Casual Dining\", \"All You Can Eat\"].\n",
      "\n",
      "\n",
      "48/295\n",
      "48  response = [\"Vietnamese\", \"Chinese\", \"Family Style\", \"Street Food & Food Truck\", \"Casual Dining\"].\n",
      "\n",
      "\n",
      "49/295\n",
      "49  response = [\"Casual Dining\", \"Wine Bar & Lounge\", \"Italian\", \"Indian\", \"Live Music\"].\n",
      "\n",
      "\n",
      "50/295\n",
      "50  response = [\"American\", \"Breakfast & Brunch\", \"Casual Dining\", \"Steak house\", \"Family Style\"].\n",
      "\n",
      "\n",
      "51/295\n",
      "51  response = [\"Breakfast & Brunch\", \"Coffee & Tea\", \"Wine Bar & Lounge\", \"Casual Dining\", \"Sandwiches & Wraps\"].\n",
      "\n",
      "\n",
      "52/295\n",
      "52  response = [\"Buffet\", \"Casual Dining\", \"Family Style\", \"Steak house\", \"Seafood\"].\n",
      "\n",
      "\n",
      "53/295\n",
      "53  response = [\"Fast Food\", \"American\", \"Casual Dining\", \"Family Style\", \"Sandwiches & Wraps\"].\n",
      "\n",
      "\n",
      "54/295\n",
      "54  response = [\"Wine Bar & Lounge\", \"American\", \"Tapas/Small Plates\", \"Cocktail Bars\", \"Casual Dining\"].\n",
      "\n",
      "\n",
      "55/295\n",
      "55  response = [\"Mediterranean\", \"Fine Dining\", \"Seafood\", \"Steak house\", \"Sweets & Desserts\"].\n",
      "\n",
      "\n",
      "56/295\n",
      "56  response = [\"American\", \"Family Style\", \"Casual Dining\", \"Bakery & Pastry\", \"Sweets & Desserts\"].\n",
      "\n",
      "\n",
      "57/295\n",
      "57  response = [\"Japanese\", \"Sushi Bars\", \"Casual Dining\", \"Seafood\", \"Asian Fusion\"].\n",
      "\n",
      "\n",
      "58/295\n",
      "58  response = [\"Sweets & Desserts\", \"American\", \"Casual Dining\", \"Family Style\", \"Ice Cream & Frozen Yogurt\"].\n",
      "\n",
      "\n",
      "59/295\n",
      "59  response = [\"Thai\", \"Asian Fusion\", \"Street Food & Food Truck\", \"Casual Dining\", \"Dim Sum\"].\n",
      "\n",
      "\n",
      "60/295\n",
      "60  response = [\"Latin American\", \"Vegetarian\", \"Family Style\", \"Casual Dining\", \"Street Food & Food Truck\"].\n",
      "\n",
      "\n",
      "61/295\n",
      "61  response = [\"American\", \"Breakfast & Brunch\", \"Sandwiches & Wraps\", \"Coffee & Tea\", \"Family Style\"].\n",
      "\n",
      "\n",
      "62/295\n",
      "62  response = [\"American\", \"Bar & Pub\", \"Korean\", \"Pizza\", \"Casual Dining\"].\n",
      "\n",
      "\n",
      "63/295\n",
      "63  response = [\"American\", \"Bar & Pub\", \"Casual Dining\", \"Adult Entertainment\", \"Nightlife\"].\n",
      "\n",
      "\n",
      "64/295\n",
      "64  response = [\"Greek\", \"Mediterranean\", \"Casual Dining\", \"Fast Food\", \"Street Food & Food Truck\"].\n",
      "\n",
      "\n",
      "65/295\n",
      "65  response = [\"Pizza\", \"Bar & Pub\", \"Casual Dining\", \"American\", \"Fast Food\"].\n",
      "\n",
      "\n",
      "66/295\n",
      "66  response = [\"Mediterranean\", \"Greek\", \"Casual Dining\", \"Family Style\", \"Vegetarian\"].\n",
      "\n",
      "\n",
      "67/295\n",
      "67  response = [\"American\", \"Bar & Pub\", \"BBQ & Grill\", \"Steak house\", \"Casual Dining\"].\n",
      "\n",
      "\n",
      "68/295\n",
      "68  response = [\"American\", \"Seafood\", \"Steakhouse\", \"Bar & Pub\", \"Fine Dining\"].\n",
      "\n",
      "\n",
      "69/295\n",
      "69  response = [\"Family Style\", \"Casual Dining\", \"American\", \"Fast Food\", \"Casino\"].\n",
      "\n",
      "\n",
      "70/295\n",
      "70  response = [\"Coffee & Tea\", \"Sandwiches & Wraps\", \"Casual Dining\", \"Bakery & Pastry\", \"Vegetarian\"].\n",
      "\n",
      "\n",
      "71/295\n",
      "71  response = [\"Mexican\", \"Family Style\", \"Casual Dining\", \"Bar & Pub\", \"Seafood\"].\n",
      "\n",
      "\n",
      "72/295\n",
      "72  response = [\"French\", \"Fine Dining\", \"Casual Dining\", \"Wine Bar & Lounge\", \"Seafood\"].\n",
      "\n",
      "\n",
      "73/295\n",
      "73  response = [\"Sandwiches & Wraps\", \"Casual Dining\", \"Family Style\", \"Fast Food\", \"American\"].\n",
      "\n",
      "\n",
      "74/295\n",
      "74  response = [\"American\", \"Breakfast & Brunch\", \"Casual Dining\", \"Family Style\", \"Diner\"].\n",
      "\n",
      "\n",
      "75/295\n",
      "75  response = [\"Vegetarian\", \"Breakfast & Brunch\", \"Juice Bars & Smoothies\", \"Gluten-Free & Health Food\", \"Casual Dining\"].\n",
      "\n",
      "\n",
      "76/295\n",
      "76  response = [\"Italian\", \"Wine Bar & Lounge\", \"Fine Dining\", \"Seafood\", \"Casual Dining\"].\n",
      "\n",
      "\n",
      "77/295\n",
      "77  response = [\"American\", \"Bar & Pub\", \"Casual Dining\", \"Sandwiches & Wraps\", \"Nightlife\"].\n",
      "\n",
      "\n",
      "78/295\n",
      "78  response = [\"Asian Fusion\", \"Vegetarian\", \"Gluten-Free\", \"Breakfast & Brunch\", \"American\"].\n",
      "\n",
      "\n",
      "79/295\n",
      "79  response = [\"Bakery & Pastry\", \"Sandwiches & Wraps\", \"Coffee & Tea\", \"Breakfast & Brunch\", \"Casual Dining\"].\n",
      "\n",
      "\n",
      "80/295\n"
     ]
    },
    {
     "name": "stdout",
     "output_type": "stream",
     "text": [
      "80  response = [\"American\", \"Bar & Pub\", \"Casual Dining\", \"Burgers\", \"Nightlife\"].\n",
      "\n",
      "\n",
      "81/295\n",
      "81  response = [\"American\", \"Breakfast & Brunch\", \"Family Style\", \"Casual Dining\", \"Gluten-Free & Health Food\"].\n",
      "\n",
      "\n",
      "82/295\n",
      "82  response = [\"American\", \"Mexican\", \"Bar & Pub\", \"Casual Dining\", \"Seafood\"].\n",
      "\n",
      "\n",
      "83/295\n",
      "83  response = [\"Korean\", \"Gluten-Free\", \"Vegetarian\", \"American\", \"Mexican\"].\n",
      "\n",
      "\n",
      "84/295\n",
      "84  response = [\"Fast Food\", \"Italian\", \"Casual Dining\", \"American\", \"Family Style\"].\n",
      "\n",
      "\n",
      "85/295\n",
      "85  response = [\"Chinese\", \"Casual Dining\", \"Late Night\", \"Fast Food\", \"Americanized\"].\n",
      "\n",
      "\n",
      "86/295\n",
      "86  response = [\"Pizza\", \"American\", \"Fast Food\", \"Casual Dining\", \"Ice Cream & Frozen Yogurt\"].\n",
      "\n",
      "\n",
      "87/295\n",
      "87  response = [\"American\", \"Bar & Pub\", \"Sandwiches & Wraps\", \"Casual Dining\", \"Beer Selection\"].\n",
      "\n",
      "\n",
      "88/295\n",
      "88  response = [\"Sweets & Desserts\", \"French\", \"Bakery & Pastry\", \"Gluten-Free & Health Food\", \"Casual Dining\"].\n",
      "\n",
      "\n",
      "89/295\n",
      "89  response = [\"Sandwiches & Wraps\", \"Casual Dining\", \"Family Style\", \"Bakery & Pastry\", \"Gluten-Free & Health Food\"].\n",
      "\n",
      "\n",
      "90/295\n",
      "90  response = [\"Italian\", \"Pizza\", \"Gluten-Free & Health Food\", \"Casual Dining\", \"Fast Food\"].\n",
      "\n",
      "\n",
      "91/295\n",
      "91  Based on the reviews provided, the top 5 tags that best fit the restaurant are:\n",
      "\n",
      "response = [\"Breakfast & Brunch\", \"Coffee & Tea\", \"Sandwiches & Wraps\", \"Sweets & Desserts\", \"Casual Dining\"].\n",
      "\n",
      "\n",
      "92/295\n",
      "92  response = [\"American\", \"Fine Dining\", \"Casual Dining\", \"Family Style\", \"Fusion\"].\n",
      "\n",
      "\n",
      "93/295\n",
      "93  response = [\"Mexican\", \"Fast Food\", \"Casual Dining\", \"Breakfast & Brunch\", \"Family Style\"].\n",
      "\n",
      "\n",
      "94/295\n",
      "94  response = [\"Bar & Pub\", \"Spanish\", \"Casual Dining\", \"Wine Bar & Lounge\", \"Nightlife\"].\n",
      "\n",
      "\n",
      "95/295\n",
      "95  response = [\"Moroccan\", \"Mediterranean\", \"Fine Dining\", \"Casual Dining\", \"Event Planning & Services\"].\n",
      "\n",
      "\n",
      "96/295\n",
      "96  response = [\"American\", \"Bar & Pub\", \"Casual Dining\", \"Fast Food\", \"Seafood\"].\n",
      "\n",
      "\n",
      "97/295\n",
      "97  response = [\"American\", \"Fast Food\", \"Mediterranean\", \"Casual Dining\", \"Family Style\"].\n",
      "\n",
      "\n",
      "98/295\n",
      "98  response = [\"Buffet\", \"Casual Dining\", \"Family Style\", \"Sweets & Desserts\", \"Seafood\"].\n",
      "\n",
      "\n",
      "99/295\n",
      "99  response = [\"Mediterranean\", \"Middle Eastern\", \"Casual Dining\", \"Street Food & Food Truck\", \"Vegetarian\"].\n",
      "\n",
      "\n",
      "100/295\n",
      "100  response = [\"Steak house\", \"Fine Dining\", \"Casual Dining\", \"Family Style\", \"Buffet\"].\n",
      "\n",
      "\n",
      "101/295\n",
      "101  response = [\"Fast Food\", \"American\", \"Casual Dining\", \"Burgers\", \"Sandwiches & Wraps\"].\n",
      "\n",
      "\n",
      "102/295\n",
      "102  response = [\"Pizza\", \"Casual Dining\", \"American\", \"Bar & Pub\", \"Family Style\"].\n",
      "\n",
      "\n",
      "103/295\n",
      "103  response = [\"Mexican\", \"Fast Food\", \"Casual Dining\", \"Family Style\", \"American\"].\n",
      "\n",
      "\n",
      "104/295\n",
      "104  response = [\"Mexican\", \"Street Food & Food Truck\", \"Casual Dining\", \"Family Style\", \"Local Flavor\"].\n",
      "\n",
      "\n",
      "105/295\n",
      "105  response = [\"American\", \"Seafood\", \"Steak house\", \"Bar & Pub\", \"Fine Dining\"].\n",
      "\n",
      "\n",
      "106/295\n",
      "106  response = [\"American\", \"Breakfast & Brunch\", \"Sandwiches & Wraps\", \"Bar & Pub\", \"Casual Dining\"].\n",
      "\n",
      "\n",
      "107/295\n",
      "107  response = [\"Buffet\", \"Seafood\", \"Steakhouse\", \"American\", \"Casual Dining\"].\n",
      "\n",
      "\n",
      "108/295\n",
      "108  response = [\"Casual Dining\", \"American\", \"Buffet\", \"Bar & Pub\", \"Family Style\"].\n",
      "\n",
      "\n",
      "109/295\n",
      "109  response = [\"American\", \"French\", \"Fine Dining\", \"Casual Dining\", \"Wine Bar & Lounge\"].\n",
      "\n",
      "\n",
      "110/295\n",
      "110  response = [\"Breakfast & Brunch\", \"Coffee & Tea\", \"Bakery & Pastry\", \"Sandwiches & Wraps\", \"Sweets & Desserts\"].\n",
      "\n",
      "\n",
      "111/295\n",
      "111  response = [\"Seafood\", \"American\", \"Casual Dining\", \"Family Style\", \"Fine Dining\"].\n",
      "\n",
      "\n",
      "112/295\n",
      "112  response = [\"Sushi Bars\", \"Asian Fusion\", \"Japanese\", \"Casual Dining\", \"Seafood\"].\n",
      "\n",
      "\n",
      "113/295\n",
      "113  response = [\"Spanish\", \"Tapas Bars\", \"Casual Dining\", \"Wine Bar & Lounge\", \"Bar & Pub\"].\n",
      "\n",
      "\n",
      "114/295\n",
      "114  response = [\"French\", \"Fine Dining\", \"Wine Bar & Lounge\", \"Romantic\", \"Seafood\"].\n",
      "\n",
      "\n",
      "115/295\n",
      "115  response = [\"American\", \"Casual Dining\", \"Family Style\", \"Breakfast & Brunch\", \"Grill & Steakhouse\"].\n",
      "\n",
      "\n",
      "116/295\n",
      "116  response = [\"American\", \"Casual Dining\", \"Breakfast & Brunch\", \"Fine Dining\", \"Seafood\"].\n",
      "\n",
      "\n",
      "117/295\n",
      "117  response = [\"Breakfast & Brunch\", \"Bar & Pub\", \"Casual Dining\", \"American\", \"Fine Dining\"].\n",
      "\n",
      "\n",
      "118/295\n",
      "118  response = [\"Bakery & Pastry\", \"Breakfast & Brunch\", \"Sandwiches & Wraps\", \"Coffee & Tea\", \"American\"].\n",
      "\n",
      "\n",
      "119/295\n",
      "119  response = [\"American\", \"Breakfast & Brunch\", \"Family Style\", \"Casual Dining\", \"Diner\"].\n",
      "\n",
      "\n",
      "120/295\n",
      "120  response = [\"Vegetarian\", \"Salad\", \"Gluten-Free & Health Food\", \"Casual Dining\", \"Sandwiches & Wraps\"].\n",
      "\n",
      "\n",
      "121/295\n",
      "121  response = [\"American\", \"Casual Dining\", \"Vegetarian\", \"Fine Dining\", \"Seafood\"].\n",
      "\n",
      "\n",
      "122/295\n",
      "122  response = [\"American\", \"Casual Dining\", \"Coffee & Tea\", \"Bar & Pub\", \"Sandwiches & Wraps\"].\n",
      "\n",
      "\n",
      "123/295\n",
      "123  response = [\"Japanese\", \"Sushi Bars\", \"Casual Dining\", \"Seafood\", \"Sweets & Desserts\"].\n",
      "\n",
      "\n",
      "124/295\n",
      "124  response = [\"Breakfast & Brunch\", \"American\", \"Casual Dining\", \"Family Style\", \"Sandwiches & Wraps\"].\n",
      "\n",
      "\n",
      "125/295\n",
      "125  response = [\"Pizza\", \"American\", \"Casual Dining\", \"Sandwiches & Wraps\", \"Family Style\"].\n",
      "\n",
      "\n",
      "126/295\n",
      "126  response = [\"Buffet\", \"Casual Dining\", \"Italian\", \"Pizza\", \"Family Style\"].\n",
      "\n",
      "\n",
      "127/295\n",
      "127  response = [\"American\", \"Bar & Pub\", \"Brewery & Pastry\", \"Casual Dining\", \"Street Food & Food Truck\"].\n",
      "\n",
      "\n",
      "128/295\n",
      "128  response = [\"American\", \"Bar & Pub\", \"Casual Dining\", \"Sports Bars\", \"Nightlife\"].\n",
      "\n",
      "\n",
      "129/295\n",
      "129  response = [\"Bar & Pub\", \"American\", \"Casual Dining\", \"Pizza\", \"Sports Bar\"].\n",
      "\n",
      "\n",
      "130/295\n",
      "130  response = [\"American\", \"Steak house\", \"Seafood\", \"Wine Bar & Lounge\", \"Fine Dining\"].\n",
      "\n",
      "\n",
      "131/295\n",
      "131  response = [\"Mexican\", \"Casual Dining\", \"Street Food & Food Truck\", \"Family Style\", \"Latin American\"].\n",
      "\n",
      "\n",
      "132/295\n",
      "132  response = [\"Bar & Pub\", \"Pizza\", \"American\", \"Casual Dining\", \"Gluten-Free & Health Food\"].\n",
      "\n",
      "\n",
      "133/295\n",
      "133  response = [\"American\", \"Sandwiches & Wraps\", \"Bakery & Pastry\", \"Ice Cream & Frozen Yogurt\", \"Casual Dining\"].\n",
      "\n",
      "\n",
      "134/295\n",
      "134  response = [\"Bakery & Pastry\", \"Coffee & Tea\", \"Sandwiches & Wraps\", \"Breakfast & Brunch\", \"Casual Dining\"].\n",
      "\n",
      "\n",
      "135/295\n",
      "135  response = [\"Italian\", \"Casual Dining\", \"Fine Dining\", \"Family Style\", \"Breakfast & Brunch\"].\n",
      "\n",
      "\n",
      "136/295\n",
      "136  response = [\"Vietnamese\", \"Casual Dining\", \"Family Style\", \"Breakfast & Brunch\", \"Gluten-Free & Health Food\"].\n",
      "\n",
      "\n",
      "137/295\n",
      "137  response = [\"Spanish\", \"Basque\", \"Family Style\", \"Seafood\", \"Steak house\"].\n",
      "\n",
      "\n",
      "138/295\n",
      "138  response = [\"Mexican\", \"Family Style\", \"Casual Dining\", \"Seafood\", \"Grill & Steakhouse\"].\n",
      "\n",
      "\n",
      "139/295\n",
      "139  response = [\"Breakfast & Brunch\", \"Coffee & Tea\", \"Bars\", \"Wine Bar & Lounge\", \"Sandwiches & Wraps\"].\n",
      "\n",
      "\n",
      "140/295\n",
      "140  response = [\"Italian\", \"Gluten-Free\", \"Bar & Pub\", \"Seafood\", \"Fine Dining\"].\n",
      "\n",
      "\n",
      "141/295\n",
      "141  response = [\"American\", \"Casual Dining\", \"Family Style\", \"Bar & Pub\", \"Active Life\"].\n",
      "\n",
      "\n",
      "142/295\n",
      "142  response = [\"Italian\", \"Pizza\", \"American\", \"Casual Dining\", \"Bar & Pub\"].\n",
      "\n",
      "\n",
      "143/295\n",
      "143  response = [\"Breakfast & Brunch\", \"Coffee & Tea\", \"American\", \"Casual Dining\", \"Family Style\"].\n",
      "\n",
      "\n",
      "144/295\n",
      "144  Based on the reviews provided, the top 5 tags that best fit with the restaurant seem to be:\n",
      "\n",
      "response = [\"Casual Dining\", \"American\", \"Bar & Pub\", \"Breakfast & Brunch\", \"Family Style\"].\n",
      "\n",
      "\n",
      "145/295\n",
      "145  response = [\"Sandwiches & Wraps\", \"Breakfast & Brunch\", \"American\", \"Casual Dining\", \"Family Style\"].\n",
      "\n",
      "\n",
      "146/295\n",
      "146  response = [\"Sandwiches & Wraps\", \"Bar & Pub\", \"Street Food & Food Truck\", \"Casual Dining\", \"Caterers\"].\n",
      "\n",
      "\n",
      "147/295\n",
      "147  response = [\"Tapas & Small Plates\", \"Casual Dining\", \"Bar & Pub\", \"Fine Dining\", \"Vegetarian\"].\n",
      "\n",
      "\n",
      "148/295\n",
      "148  response = [\"American\", \"Casual Dining\", \"Bar & Pub\", \"Climbing\", \"Mediterranean\"].\n",
      "\n",
      "\n",
      "149/295\n",
      "149  response = [\"Mediterranean\", \"Greek\", \"Casual Dining\", \"Family Style\", \"Vegetarian\"].\n",
      "\n",
      "\n",
      "150/295\n",
      "150  response = [\"American\", \"Breakfast & Brunch\", \"Buffet\", \"Family Style\", \"Casual Dining\"].\n",
      "\n",
      "\n",
      "151/295\n",
      "151  response = [\"Fast Food\", \"American\", \"Family Style\", \"Casual Dining\", \"Chicken Wings\"].\n",
      "\n",
      "\n",
      "152/295\n",
      "152  response = [\"Mediterranean\", \"American\", \"Bar & Pub\", \"Casual Dining\", \"Breakfast & Brunch\"].\n",
      "\n",
      "\n",
      "153/295\n",
      "153  response = [\"Breakfast & Brunch\", \"American\", \"Family Style\", \"Casual Dining\", \"Sandwiches & Wraps\"].\n",
      "\n",
      "\n",
      "154/295\n",
      "154  response = [\"Mexican\", \"Latin American\", \"Seafood\", \"Bar & Pub\", \"Cocktail Bars\"].\n",
      "\n",
      "\n",
      "155/295\n",
      "155  response = [\"Coffee & Tea\", \"Bakery & Pastry\", \"Casual Dining\", \"Street Food & Food Truck\", \"Sweets & Desserts\"].\n",
      "\n",
      "\n",
      "156/295\n"
     ]
    },
    {
     "name": "stdout",
     "output_type": "stream",
     "text": [
      "156  response = [\"BBQ & Grill\", \"Casual Dining\", \"Family Style\", \"Steak house\", \"American\"].\n",
      "\n",
      "\n",
      "157/295\n",
      "157  response = [\"Casual Dining\", \"American\", \"Family Style\", \"Buffet\", \"Coffee & Tea\"].\n",
      "\n",
      "\n",
      "158/295\n",
      "158  response = [\"Italian\", \"Casual Dining\", \"Family Style\", \"Budget\", \"Pasta Shops\"].\n",
      "\n",
      "\n",
      "159/295\n",
      "159  response = [\"Sandwiches & Wraps\", \"Family Style\", \"Casual Dining\", \"American\", \"Fast Food\"].\n",
      "\n",
      "\n",
      "160/295\n",
      "160  response = [\"Japanese\", \"Ramen\", \"Casual Dining\", \"Seafood\", \"Family Style\"].\n",
      "\n",
      "\n",
      "161/295\n",
      "161  response = [\"Buffet\", \"Seafood\", \"Casual Dining\", \"Mexican\", \"Chinese\"].\n",
      "\n",
      "\n",
      "162/295\n",
      "162  response = [\"Mexican\", \"Casual Dining\", \"Family Style\", \"Street Food & Food Truck\", \"Vegetarian\"].\n",
      "\n",
      "\n",
      "163/295\n",
      "163  response = [\"Mexican\", \"Casual Dining\", \"Family Style\", \"Seafood\", \"Buffet\"].\n",
      "\n",
      "\n",
      "164/295\n",
      "164  response = [\"American\", \"Bakery & Pastry\", \"Family Style\", \"Casual Dining\", \"Sweets & Desserts\"].\n",
      "\n",
      "\n",
      "165/295\n",
      "165  response = [\"American\", \"Breakfast & Brunch\", \"Sandwiches & Wraps\", \"Bakery & Pastry\", \"Casual Dining\"].\n",
      "\n",
      "\n",
      "166/295\n",
      "166  response = [\"Breakfast & Brunch\", \"Coffee & Tea\", \"Sandwiches & Wraps\", \"Bakery & Pastry\", \"Family Style\"].\n",
      "\n",
      "\n",
      "167/295\n",
      "167  response = [\"Thai\", \"Gluten-Free & Health Food\", \"Vegetarian\", \"Casual Dining\", \"Bar & Pub\"].\n",
      "\n",
      "\n",
      "168/295\n",
      "168  response = [\"Mexican\", \"Vegetarian\", \"Street Food & Food Truck\", \"Casual Dining\", \"Sandwiches & Wraps\"].\n",
      "\n",
      "\n",
      "169/295\n",
      "169  response = [\"Casual Dining\", \"Cooking Schools\", \"Family Style\", \"Sandwiches & Wraps\", \"Sweets & Desserts\"].\n",
      "\n",
      "\n",
      "170/295\n",
      "170  response = [\"Fast Food\", \"Mexican\", \"Breakfast & Brunch\", \"Casual Dining\", \"Family Style\"].\n",
      "\n",
      "\n",
      "171/295\n",
      "171  response = [\"American\", \"Breakfast & Brunch\", \"Diners\", \"Comfort Food\", \"Family Style\"].\n",
      "\n",
      "\n",
      "172/295\n",
      "172  response = [\"Coffee & Tea\", \"Bakery & Pastry\", \"Casual Dining\", \"American\", \"Breakfast & Brunch\"].\n",
      "\n",
      "\n",
      "173/295\n",
      "173  response = [\"American\", \"Fine Dining\", \"Seafood\", \"Wine Bar & Lounge\", \"Casual Dining\"].\n",
      "\n",
      "\n",
      "174/295\n",
      "174  response = [\"Fast Food\", \"Sandwiches & Wraps\", \"Casual Dining\", \"Family Style\", \"Sweets & Desserts\"].\n",
      "\n",
      "\n",
      "175/295\n",
      "175  response = [\"Mexican\", \"Casual Dining\", \"Family Style\", \"Sandwiches & Wraps\", \"Vegetarian\"].\n",
      "\n",
      "\n",
      "176/295\n",
      "176  response = [\"Italian\", \"American\", \"Fine Dining\", \"Wine Bar & Lounge\", \"Family Style\"].\n",
      "\n",
      "\n",
      "177/295\n",
      "177  response = [\"Casual Dining\", \"American\", \"Breakfast & Brunch\", \"Vegetarian\", \"Coffee & Tea\"].\n",
      "\n",
      "\n",
      "178/295\n",
      "178  response = [\"Latin American\", \"Steak house\", \"Buffet\", \"Bar & Pub\", \"Casual Dining\"].\n",
      "\n",
      "\n",
      "179/295\n",
      "179  response = [\"Bar & Pub\", \"American\", \"Casual Dining\", \"Nightlife\", \"Dive Bar\"].\n",
      "\n",
      "\n",
      "180/295\n",
      "180  response = [\"Fast Food\", \"Family Style\", \"American\", \"Casual Dining\", \"Vegetarian\"].\n",
      "\n",
      "\n",
      "181/295\n",
      "181  response = [\"American\", \"Seafood\", \"Casual Dining\", \"Family Style\", \"Bar & Pub\"].\n",
      "\n",
      "\n",
      "182/295\n",
      "182  response = [\"Fast Food\", \"Chinese\", \"Casual Dining\", \"Family Style\", \"American\"].\n",
      "\n",
      "\n",
      "183/295\n",
      "183  response = [\"Indian\", \"Vegetarian\", \"Vegan\", \"Gluten-Free & Health Food\", \"Family Style\"].\n",
      "\n",
      "\n",
      "184/295\n",
      "184  response = [\"American\", \"Breakfast & Brunch\", \"Coffee & Tea\", \"Sandwiches & Wraps\", \"Wine Bar & Lounge\"].\n",
      "\n",
      "\n",
      "185/295\n",
      "185  response = [\"Italian\", \"Casual Dining\", \"Happy Hour\", \"Family Style\", \"Fine Dining\"].\n",
      "\n",
      "\n",
      "186/295\n",
      "186  response = [\"American\", \"Burgers\", \"Casual Dining\", \"Family Style\", \"Fast Food\"].\n",
      "\n",
      "\n",
      "187/295\n",
      "187  response = [\"Seafood\", \"Buffet\", \"Casual Dining\", \"American\", \"Asian Fusion\"].\n",
      "\n",
      "\n",
      "188/295\n",
      "188  response = [\"Japanese\", \"Casual Dining\", \"Fine Dining\", \"Vegetarian\", \"Sweets & Desserts\"].\n",
      "\n",
      "\n",
      "189/295\n",
      "189  response = [\"Bakery & Pastry\", \"Coffee & Tea\", \"Sweets & Desserts\", \"Sandwiches & Wraps\", \"Casual Dining\"].\n",
      "\n",
      "\n",
      "190/295\n",
      "190  response = [\"American\", \"Fine Dining\", \"Mexican\", \"Wine Bar & Lounge\", \"Seafood\"].\n",
      "\n",
      "\n",
      "191/295\n",
      "191  response = [\"American\", \"Sandwiches & Wraps\", \"Soup\", \"Salad\", \"Casual Dining\"].\n",
      "\n",
      "\n",
      "192/295\n",
      "192  response = [\"American\", \"Bar & Pub\", \"Casual Dining\", \"Family Style\", \"Nightlife\"].\n",
      "\n",
      "\n",
      "193/295\n",
      "193  response = [\"Fast Food\", \"American\", \"Family Style\", \"Breakfast & Brunch\", \"Casual Dining\"].\n",
      "\n",
      "\n",
      "194/295\n",
      "194  response = [\"American\", \"Fast Food\", \"Casual Dining\", \"Burgers\", \"Sandwiches & Wraps\"].\n",
      "\n",
      "\n",
      "195/295\n",
      "195  response = [\"Vegetarian\", \"Vegan\", \"Gluten-Free & Health Food\", \"Street Food & Food Truck\", \"Casual Dining\"].\n",
      "\n",
      "\n",
      "196/295\n",
      "196  response = [\"Italian\", \"Casual Dining\", \"Bar & Pub\", \"American\", \"Vegetarian\"].\n",
      "\n",
      "\n",
      "197/295\n",
      "197  response = [\"German\", \"Street Food & Food Truck\", \"Casual Dining\", \"Gluten-Free & Health Food\", \"Family Style\"].\n",
      "\n",
      "\n",
      "198/295\n",
      "198  response = [\"Hawaiian\", \"Japanese\", \"Seafood\", \"Casual Dining\", \"Sushi Bars\"].\n",
      "\n",
      "\n",
      "199/295\n",
      "199  response = [\"Vegetarian\", \"Fine Dining\", \"Casual Dining\", \"Seafood\", \"Fusion\"].\n",
      "\n",
      "\n",
      "200/295\n",
      "200  response = [\"Italian\", \"Bar & Pub\", \"American\", \"Pizza\", \"Casual Dining\"].\n",
      "\n",
      "\n",
      "201/295\n",
      "201  response = [\"American\", \"Casual Dining\", \"Family Style\", \"Sandwiches & Wraps\", \"Fast Food\"].\n",
      "\n",
      "\n",
      "202/295\n",
      "202  Based on the reviews provided, the top 5 tags that best fit this restaurant are:\n",
      "\n",
      "response = [\"Casual Dining\", \"Family Style\", \"Buffet\", \"Seafood\", \"American\"].\n",
      "\n",
      "\n",
      "203/295\n",
      "203  response = [\"Japanese\", \"Asian Fusion\", \"Grill & Steakhouse\", \"Casual Dining\", \"Sushi Bars\"].\n",
      "\n",
      "\n",
      "204/295\n",
      "204  response = [\"Steak house\", \"Fine Dining\", \"American\", \"Casual Dining\", \"Family Style\"].\n",
      "\n",
      "\n",
      "205/295\n",
      "205  response = [\"American\", \"Casual Dining\", \"Bar & Pub\", \"Breakfast & Brunch\", \"Happy Hour\"].\n",
      "\n",
      "\n",
      "206/295\n",
      "206  response = [\"Fast Food\", \"Mexican\", \"Breakfast & Brunch\", \"Burgers\", \"American\"].\n",
      "\n",
      "\n",
      "207/295\n",
      "207  response = [\"Bakery & Pastry\", \"Breakfast & Brunch\", \"Coffee & Tea\", \"Sandwiches & Wraps\", \"Casual Dining\"].\n",
      "\n",
      "\n",
      "208/295\n",
      "208  response = [\"Coffee & Tea\", \"Breakfast & Brunch\", \"Bakery & Pastry\", \"Casual Dining\", \"Family Style\"].\n",
      "\n",
      "\n",
      "209/295\n",
      "209  response = [\"Vietnamese\", \"Casual Dining\", \"Family Style\", \"Vegetarian\", \"Street Food & Food Truck\"].\n",
      "\n",
      "\n",
      "210/295\n",
      "210  response = [\"American\", \"Hawaiian\", \"Breakfast & Brunch\", \"Casual Dining\", \"Family Style\"].\n",
      "\n",
      "\n",
      "211/295\n",
      "211  response = [\"Wine Bar & Lounge\", \"Bar & Pub\", \"American\", \"Casual Dining\", \"Seafood\"].\n",
      "\n",
      "\n",
      "212/295\n",
      "212  response = [\"Sandwiches & Wraps\", \"Coffee & Tea\", \"Bakery & Pastry\", \"Casual Dining\", \"Family Style\"].\n",
      "\n",
      "\n",
      "213/295\n",
      "213  response = [\"Seafood\", \"Steak house\", \"Breakfast & Brunch\", \"Buffet\", \"Fine Dining\"].\n",
      "\n",
      "\n",
      "214/295\n",
      "214  response = [\"Greek\", \"Asian Fusion\", \"Vegetarian\", \"Sandwiches & Wraps\", \"Mediterranean\"].\n",
      "\n",
      "\n",
      "215/295\n",
      "215  response = [\"American\", \"French\", \"Breakfast & Brunch\", \"Casual Dining\", \"Family Style\"].\n",
      "\n",
      "\n",
      "216/295\n",
      "216  response = [\"Breakfast & Brunch\", \"Coffee & Tea\", \"Casual Dining\", \"American\", \"Sandwiches & Wraps\"].\n",
      "\n",
      "\n",
      "217/295\n",
      "217  response = [\"Casual Dining\", \"American\", \"Breakfast & Brunch\", \"Bar & Pub\", \"Live Entertainment\"]\n",
      "\n",
      "\n",
      "218/295\n",
      "218  response = [\"Thai\", \"Bar & Pub\", \"Casual Dining\", \"Family Style\", \"Sushi Bars\"].\n",
      "\n",
      "\n",
      "219/295\n",
      "219  response = [\"Breakfast & Brunch\", \"Coffee & Tea\", \"Vegetarian\", \"Sandwiches & Wraps\", \"Casual Dining\"].\n",
      "\n",
      "\n",
      "220/295\n",
      "220  response = [\"American\", \"Breakfast & Brunch\", \"Buffet\", \"Casual Dining\", \"Family Style\"].\n",
      "\n",
      "\n",
      "221/295\n",
      "221  response = [\"American\", \"Deli\", \"Bakery & Pastry\", \"Sandwiches & Wraps\", \"Coffee & Tea\"].\n",
      "\n",
      "\n",
      "222/295\n",
      "222  response = [\"Fast Food\", \"Pizza\", \"Sandwiches & Wraps\", \"Street Food & Food Truck\", \"American\"].\n",
      "\n",
      "\n",
      "223/295\n",
      "223  response = [\"American\", \"Breakfast & Brunch\", \"Casual Dining\", \"Bar & Pub\", \"Vegetarian\"].\n",
      "\n",
      "\n",
      "224/295\n",
      "224  response = [\"Italian\", \"Casual Dining\", \"Family Style\", \"Fine Dining\", \"Romantic\"].\n",
      "\n",
      "\n",
      "225/295\n",
      "225  response = [\"American\", \"Bar & Pub\", \"Casual Dining\", \"Nightlife\", \"Family Style\"].\n",
      "\n",
      "\n",
      "226/295\n",
      "226  response = [\"BBQ & Grill\", \"Mexican\", \"Bar & Pub\", \"American\", \"Casual Dining\"].\n",
      "\n",
      "\n",
      "227/295\n",
      "227  response = [\"American\", \"Breakfast & Brunch\", \"Casual Dining\", \"Family Style\", \"Vegetarian\"].\n",
      "\n",
      "\n",
      "228/295\n",
      "228  response = [\"Bar & Pub\", \"American\", \"Casual Dining\", \"Pizza\", \"Fast Food\"].\n",
      "\n",
      "\n",
      "229/295\n",
      "229  response = [\"American\", \"Vegetarian\", \"Casual Dining\", \"Organic\", \"Health Food\"].\n",
      "\n",
      "\n",
      "230/295\n",
      "230  response = [\"Street Food & Food Truck\", \"Sandwiches & Wraps\", \"American\", \"Casual Dining\", \"Family Style\"].\n",
      "\n",
      "\n",
      "231/295\n",
      "231  response = [\"Sandwiches & Wraps\", \"Coffee & Tea\", \"Breakfast & Brunch\", \"Bakery & Pastry\", \"American\"].\n",
      "\n",
      "\n",
      "232/295\n",
      "232  response = [\"Chinese\", \"Casual Dining\", \"Late Night\", \"Fast Food\", \"Food Court\"].\n",
      "\n",
      "\n",
      "233/295\n"
     ]
    },
    {
     "name": "stdout",
     "output_type": "stream",
     "text": [
      "233  response = [\"Coffee & Tea\", \"Bakery & Pastry\", \"Casual Dining\", \"Family Style\", \"Sweets & Desserts\"].\n",
      "\n",
      "\n",
      "234/295\n",
      "234  response = [\"Wine Bar & Lounge\", \"Tapas/Small Plates\", \"Burgers\", \"Casual Dining\", \"American\"].\n",
      "\n",
      "\n",
      "235/295\n",
      "235  response = [\"Vegetarian\", \"Breakfast & Brunch\", \"Coffee & Tea\", \"Casual Dining\", \"American\"].\n",
      "\n",
      "\n",
      "236/295\n",
      "236  response = [\"Seafood\", \"Casual Dining\", \"Family Style\", \"American\", \"Fine Dining\"].\n",
      "\n",
      "\n",
      "237/295\n",
      "237  response = [\"Sandwiches & Wraps\", \"American\", \"Family Style\", \"Casual Dining\", \"Bakery & Pastry\"].\n",
      "\n",
      "\n",
      "238/295\n",
      "238  response = [\"American\", \"Casual Dining\", \"Bar & Pub\", \"Happy Hour\", \"Fine Dining\"].\n",
      "\n",
      "\n",
      "239/295\n",
      "239  response = [\"American\", \"Asian Fusion\", \"Breakfast & Brunch\", \"Chinese\", \"Sandwiches & Wraps\"].\n",
      "\n",
      "\n",
      "240/295\n",
      "240  response = [\"American\", \"Bar & Pub\", \"Casual Dining\", \"Fast Food\", \"Nightlife\"].\n",
      "\n",
      "\n",
      "241/295\n",
      "241  response = [\"Street Food & Food Truck\", \"French\", \"Casual Dining\", \"Sandwiches & Wraps\", \"Latin American\"].\n",
      "\n",
      "\n",
      "242/295\n",
      "242  response = [\"Mexican\", \"Bar & Pub\", \"Casual Dining\", \"Vegetarian\", \"Breakfast & Brunch\"].\n",
      "\n",
      "\n",
      "243/295\n",
      "243  response = [\"Vietnamese\", \"Casual Dining\", \"Family Style\", \"Noodles\", \"Coffee & Tea\"].\n",
      "\n",
      "\n",
      "244/295\n",
      "244  Based on the reviews provided, the top 5 tags that best fit with the restaurant are:\n",
      "\n",
      "response = [\"BBQ & Grill\", \"Bar & Pub\", \"American\", \"Casual Dining\", \"Festival\"].\n",
      "\n",
      "\n",
      "245/295\n",
      "245  response = [\"American\", \"Bar & Pub\", \"Seafood\", \"Casual Dining\", \"Happy Hour & Lounge\"].\n",
      "\n",
      "\n",
      "246/295\n",
      "246  response = [\"Vietnamese\", \"Chinese\", \"Bars & Pubs\", \"Sweets & Desserts\", \"Vegetarian\"].\n",
      "\n",
      "\n",
      "247/295\n",
      "247  response = [\"Bar & Pub\", \"American\", \"Sandwiches & Wraps\", \"Casual Dining\", \"Family Style\"].\n",
      "\n",
      "\n",
      "248/295\n",
      "248  response = [\"Italian\", \"Pizza\", \"Casual Dining\", \"Family Style\", \"Vegetarian\"].\n",
      "\n",
      "\n",
      "249/295\n",
      "249  response = [\"Vegetarian\", \"Gluten-Free\", \"Fusion\", \"Mexican\", \"Casual Dining\"].\n",
      "\n",
      "\n",
      "250/295\n",
      "250  response = [\"American\", \"Chinese\", \"Mexican\", \"Italian\", \"Breakfast & Brunch\"].\n",
      "\n",
      "\n",
      "251/295\n",
      "251  response = [\"Coffee & Tea\", \"Casual Dining\", \"Family Style\", \"American\", \"Bakery & Pastry\"].\n",
      "\n",
      "\n",
      "252/295\n",
      "252  response = [\"Sushi Bars\", \"Vegetarian\", \"Japanese\", \"Seafood\", \"Casual Dining\"].\n",
      "\n",
      "\n",
      "253/295\n",
      "253  response = [\"Casual Dining\", \"Fine Dining\", \"American\", \"Seafood\", \"Bar & Pub\"].\n",
      "\n",
      "\n",
      "254/295\n",
      "254  response = [\"Vietnamese\", \"Chinese\", \"Asian Fusion\", \"Casual Dining\", \"Fast Food\"].\n",
      "\n",
      "\n",
      "255/295\n",
      "255  response = [\"Italian\", \"Vegetarian\", \"Pizza\", \"Casual Dining\", \"Vegan\"].\n",
      "\n",
      "\n",
      "256/295\n",
      "256  response = [\"Basque\", \"Family Style\", \"Casual Dining\", \"Bar & Pub\", \"Seafood\"].\n",
      "\n",
      "\n",
      "257/295\n",
      "257  response = [\"Pizza\", \"Bar & Pub\", \"Casual Dining\", \"Cocktail Bars\", \"American\"].\n",
      "\n",
      "\n",
      "258/295\n",
      "258  response = [\"Italian\", \"Casual Dining\", \"Fast Food\", \"Sandwiches & Wraps\", \"Mediterranean\"].\n",
      "\n",
      "\n",
      "259/295\n",
      "259  response = [\"Coffee & Tea\", \"Sandwiches & Wraps\", \"Breakfast & Brunch\", \"Casual Dining\", \"Bakery & Pastry\"].\n",
      "\n",
      "\n",
      "260/295\n",
      "260  response = [\"Mexican\", \"Fast Food\", \"American\", \"Breakfast & Brunch\", \"Casual Dining\"].\n",
      "\n",
      "\n",
      "261/295\n",
      "261  Based on the reviews, the top 5 tags that best fit with the restaurant are:\n",
      "\n",
      "response = [\"Casual Dining\", \"Italian\", \"Asian Fusion\", \"American\", \"Mexican\"].\n",
      "\n",
      "\n",
      "262/295\n",
      "262  response = [\"Asian Fusion\", \"American\", \"Casual Dining\", \"Family Style\", \"24-Hour Dining\"].\n",
      "\n",
      "\n",
      "263/295\n",
      "263  response = [\"Breakfast & Brunch\", \"Coffee & Tea\", \"Sandwiches & Wraps\", \"Casual Dining\", \"Family Style\"].\n",
      "\n",
      "\n",
      "264/295\n",
      "264  response = [\"BBQ & Grill\", \"American\", \"Casual Dining\", \"Street Food & Food Truck\", \"Family Style\"].\n",
      "\n",
      "\n",
      "265/295\n",
      "265  response = [\"Mexican\", \"Bar & Pub\", \"Casual Dining\", \"American\", \"Happy Hour Specials\"].\n",
      "\n",
      "\n",
      "266/295\n",
      "266  response = [\"Bakery & Pastry\", \"Breakfast & Brunch\", \"Coffee & Tea\", \"Sandwiches & Wraps\", \"Casual Dining\"].\n",
      "\n",
      "\n",
      "267/295\n",
      "267  response = [\"Sandwiches & Wraps\", \"Breakfast & Brunch\", \"Casual Dining\", \"Family Style\", \"Gluten-Free & Health Food\"].\n",
      "\n",
      "\n",
      "268/295\n",
      "268  response = [\"American\", \"Breakfast & Brunch\", \"Vegetarian\", \"Gluten-Free & Health Food\", \"Casual Dining\"].\n",
      "\n",
      "\n",
      "269/295\n",
      "269  response = [\"American\", \"Casual Dining\", \"Family Style\", \"Sandwiches & Wraps\", \"Wine Bar & Lounge\"].\n",
      "\n",
      "\n",
      "270/295\n",
      "270  response = [\"Bar & Pub\", \"Brewery & Pastry\", \"American\", \"Casual Dining\", \"Family Style\"].\n",
      "\n",
      "\n",
      "271/295\n",
      "271  response = [\"American\", \"Casual Dining\", \"Family Style\", \"Burgers\", \"Fast Food\"].\n",
      "\n",
      "\n",
      "272/295\n",
      "272  response = [\"German\", \"Bakery & Pastry\", \"Casual Dining\", \"Family Style\", \"Sandwiches & Wraps\"].\n",
      "\n",
      "\n",
      "273/295\n",
      "273  response = [\"Casual Dining\", \"Family Style\", \"Buffet\", \"Coffee & Tea\", \"Street Food & Food Truck\"].\n",
      "\n",
      "\n",
      "274/295\n",
      "274  response = [\"Mexican\", \"Bar & Pub\", \"Casual Dining\", \"Family Style\", \"Fast Food\"].\n",
      "\n",
      "\n",
      "275/295\n",
      "275  response = [\"Bar & Pub\", \"Pizza\", \"Sandwiches & Wraps\", \"Casual Dining\", \"American\"].\n",
      "\n",
      "\n",
      "276/295\n",
      "276  response = [\"American\", \"Steak house\", \"Bar & Pub\", \"Fine Dining\", \"Casual Dining\"].\n",
      "\n",
      "\n",
      "277/295\n",
      "277  response = [\"Steakhouse\", \"Fine Dining\", \"Family Style\", \"Casual Dining\", \"American\"].\n",
      "\n",
      "\n",
      "278/295\n",
      "278  response = [\"American\", \"Bar & Pub\", \"Sandwiches & Wraps\", \"Casual Dining\", \"Family Style\"].\n",
      "\n",
      "\n",
      "279/295\n",
      "279  response = [\"Pizza\", \"Gluten-Free & Health Food\", \"Fast Food\", \"Casual Dining\", \"Italian\"].\n",
      "\n",
      "\n",
      "280/295\n",
      "280  response = [\"Mexican\", \"Casual Dining\", \"Bar & Pub\", \"Family Style\", \"American\"].\n",
      "\n",
      "\n",
      "281/295\n",
      "281  response = [\"Italian\", \"Breakfast & Brunch\", \"Pizza\", \"Casual Dining\", \"American\"].\n",
      "\n",
      "\n",
      "282/295\n",
      "282  response = [\"American\", \"BBQ & Grill\", \"Breakfast & Brunch\", \"Casual Dining\", \"Family Style\"].\n",
      "\n",
      "\n",
      "283/295\n",
      "283  response = [\"American\", \"Diner\", \"Casual Dining\", \"Burgers\", \"Breakfast & Brunch\"].\n",
      "\n",
      "\n",
      "284/295\n",
      "284  response = [\"American\", \"Bar & Pub\", \"Casual Dining\", \"Family Style\", \"Sandwiches & Wraps\"].\n",
      "\n",
      "\n",
      "285/295\n",
      "285  response = [\"Fast Food\", \"Coffee & Tea\", \"Family Style\", \"Casual Dining\", \"Breakfast & Brunch\"].\n",
      "\n",
      "\n",
      "286/295\n",
      "286  response = [\"Japanese\", \"Sushi Bars\", \"Casual Dining\", \"Bar & Pub\", \"Seafood\"].\n",
      "\n",
      "\n",
      "287/295\n",
      "287  response = [\"Buffet\", \"Casual Dining\", \"Family Style\", \"Seafood\", \"Sweets & Desserts\"].\n",
      "\n",
      "\n",
      "288/295\n",
      "288  response = [\"American\", \"Casual Dining\", \"Bar & Pub\", \"Fine Dining\", \"Seafood\"].\n",
      "\n",
      "\n",
      "289/295\n",
      "289  response = [\"Coffee & Tea\", \"Breakfast & Brunch\", \"American\", \"Casual Dining\", \"Bakery & Pastry\"].\n",
      "\n",
      "\n",
      "290/295\n",
      "290  response = [\"Mexican\", \"Casual Dining\", \"Family Style\", \"Fast Food\", \"Bar & Pub\"].\n",
      "\n",
      "\n",
      "291/295\n",
      "291  response = [\"American\", \"Casual Dining\", \"Sandwiches & Wraps\", \"Salads\", \"Cafe & Tea\"].\n",
      "\n",
      "\n",
      "292/295\n",
      "292  response = [\"American\", \"Casual Dining\", \"Fine Dining\", \"Family Style\", \"Bar & Pub\"].\n",
      "\n",
      "\n",
      "293/295\n",
      "293  response = [\"American\", \"Breakfast & Brunch\", \"Casual Dining\", \"Family Style\", \"Grill & Steakhouse\"].\n",
      "\n",
      "\n",
      "294/295\n",
      "294  response = [\"Japanese\", \"Sushi Bars\", \"Casual Dining\", \"All You Can Eat\", \"Seafood\"].\n",
      "\n",
      "\n",
      "CPU times: user 5.85 s, sys: 332 ms, total: 6.18 s\n",
      "Wall time: 12min 54s\n"
     ]
    }
   ],
   "source": [
    "%%time\n",
    "#analyze all restaurants\n",
    "## add category tags from a pool of 42 selections, estimate cost first\n",
    "with open('df_restaurants_Reno_shortlist,pkl','rb') as f:\n",
    "    df_currentpool_b = pickle.load(f)\n",
    "    \n",
    "estimate_tokens_list=[]\n",
    "business_ids=list(df_currentpool_b['business_id'])\n",
    "\n",
    "estimate_tokens_list=[]\n",
    "# loop over all the unique business ids:\n",
    "for tag in range(295):\n",
    "# for tag in [0]:\n",
    "    print(str(tag)+'/295')\n",
    "    bid = business_ids[tag]\n",
    "    \n",
    "    # extract all the reviews for this business\n",
    "    categoreis = list(df_Reno_restaurants[df_Reno_restaurants['business_id']==bid]['categories'])\n",
    "    reviews = df_Reno_reviews[df_Reno_reviews['business_id']==bid]\n",
    "    \n",
    "    # extract the top 10 reviews or all reviews for this business\n",
    "    relevant_reviews = categoreis*10  + list(reviews.sort_values(by='useful',ascending=False)[:min(10, len(reviews))]['text'])\n",
    "    \n",
    "    # get chatGPT prompt message for these reviews\n",
    "    _ = gpt.get_prompt_category_tags(relevant_reviews)\n",
    "    \n",
    "    # estimate total number of tokens if the reult do not already exist\n",
    "    if os.path.exists('./restaurant_category_tags/res_'+bid+'.pkl') is False:\n",
    "        r = gpt.send(content_type = 'category tags')\n",
    "        print(str(tag)+'  '+r)\n",
    "        print('\\n')\n",
    "        result={}\n",
    "        result['business_id'] = bid\n",
    "        result['summary'] = r\n",
    "        with open('./restaurant_category_tags/res_'+bid+'.pkl','wb') as f:\n",
    "            pickle.dump(result, f)\n",
    "# 0/295\n",
    "# response = [\"Italian\", \"Casual Dining\", \"Family Style\", \"Wine Bar & Lounge\", \"American\"].\n",
    "\n",
    "\n",
    "# CPU times: user 29 ms, sys: 19 ms, total: 48 ms\n",
    "# Wall time: 1.96 s"
   ]
  },
  {
   "cell_type": "code",
   "execution_count": null,
   "id": "056337f8",
   "metadata": {},
   "outputs": [],
   "source": []
  }
 ],
 "metadata": {
  "kernelspec": {
   "display_name": "ds",
   "language": "python",
   "name": "ds"
  },
  "language_info": {
   "codemirror_mode": {
    "name": "ipython",
    "version": 3
   },
   "file_extension": ".py",
   "mimetype": "text/x-python",
   "name": "python",
   "nbconvert_exporter": "python",
   "pygments_lexer": "ipython3",
   "version": "3.10.11"
  }
 },
 "nbformat": 4,
 "nbformat_minor": 5
}
