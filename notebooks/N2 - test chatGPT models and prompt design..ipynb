{
 "cells": [
  {
   "cell_type": "code",
   "execution_count": 1,
   "id": "fc0c546f",
   "metadata": {},
   "outputs": [],
   "source": [
    "import json\n",
    "import matplotlib.pyplot as plt\n",
    "import cartopy.crs as ccrs\n",
    "import cartopy\n",
    "import numpy as np\n",
    "from sklearn.cluster import DBSCAN\n",
    "import pandas as pd\n",
    "import pandas as pd\n",
    "import numpy as np\n",
    "from sklearn.metrics.pairwise import haversine_distances\n",
    "from math import radians\n",
    "import pickle"
   ]
  },
  {
   "cell_type": "code",
   "execution_count": 2,
   "id": "b7eee4f4",
   "metadata": {},
   "outputs": [],
   "source": [
    "# saveout the restaurant and reviews for all restaurants in Reno\n",
    "with open('df_Reno_restaurants.pkl','rb') as f:\n",
    "    df_Reno_restaurants = pickle.load(f)\n",
    "with open('df_Reno_reviews.pkl','rb') as f:\n",
    "    df_Reno_reviews = pickle.load(f)"
   ]
  },
  {
   "cell_type": "code",
   "execution_count": 3,
   "id": "b31bd794",
   "metadata": {},
   "outputs": [],
   "source": [
    "import pandas as pd\n",
    "\n",
    "# Assuming df_restrns_geogroups is your DataFrame\n",
    "# df_restrns_geogroups = pd.DataFrame(...)\n",
    "\n",
    "# Sort the DataFrame in descending order of 'review number'\n",
    "sorted_df = df_Reno_restaurants.sort_values(by='review_count', ascending=False)\n",
    "\n",
    "# Display the sorted DataFrame\n",
    "sorted_df[['business_id','review_count']][:50]\n",
    "\n",
    "target_bid = 'J0joPXxmN-_9Lzafspqdbw'\n",
    "reviews_oneb = df_Reno_reviews[df_Reno_reviews['business_id'] == target_bid]\n",
    "df = reviews_oneb.sort_values(by='useful',ascending=False)\n",
    "df.head()\n",
    "df['review length'] = df['text'].apply(lambda x: len(x))\n",
    "review_lengths = list(df['review length'])\n",
    "review_useful = list(df['useful'])\n",
    "l=df[df['review_id']=='CRIVPQp5-oxsNFWaCIHSHQ']['text']\n",
    "\n",
    "target_bid = 'J0joPXxmN-_9Lzafspqdbw'\n",
    "def filter_reviews(reviews_df, target_bid, N=100):    \n",
    "    reviews = reviews_df[df_Reno_reviews['business_id'] == target_bid].sort_values(by='useful',ascending=False)\n",
    "    output = list(reviews[:N]['text'])\n",
    "    return output\n",
    "k=filter_reviews(df_Reno_reviews, target_bid, N=20)\n",
    "len(k)\n",
    "def flatten_reveiws(reviews_list):\n",
    "    reviews_paragraph = \"\"\"\n",
    "    All the reviews:\n",
    "    \n",
    "    \"\"\"\n",
    "    for r in reviews_list:\n",
    "        reviews_paragraph += r\n",
    "        reviews_paragraph += '\\n'\n",
    "    return reviews_paragraph\n",
    "o = flatten_reveiws(k[10:])\n"
   ]
  },
  {
   "cell_type": "code",
   "execution_count": 4,
   "id": "5e365f01",
   "metadata": {
    "scrolled": false
   },
   "outputs": [
    {
     "name": "stdout",
     "output_type": "stream",
     "text": [
      "\n",
      "    All the reviews:\n",
      "    \n",
      "    This place was pretty busy when I went for a Saturday brunch. Free parking was available at the adjacent parking structure. I like sitting at the counter because you get to witness the bustling and super efficient kitchen. I also like watching my meal being made. For those with purses and bags, there are hooks at the counter so you can hang them! \n",
      "\n",
      "As for the food! The orange juice is freshly squeezed so it was a must for me. It can be quite refreshing, especially after a night of drinking in Reno. I opted for the huevos rancheros and my boyfriend the Hawaiian Breakfast plate. \n",
      "\n",
      "We both thought that the Hawaiian Breakfast plate was okay. It came with Portuguese sausages (which I usually love but I found these to be a bit bland and salty), fried spam, eggs, and white rice. There was a lot of white rice. \n",
      "\n",
      "However, I enjoyed everything about my huevos rancheros. It came in a huge skillet with fried tortillas, eggs, hash browns, pinto beans, cole slaw, and a side of warmed tortillas. The ranchero sauce dousing my dish was flavorful and addicting! Best huevos rancheros I've ever had! The big portion meant I had leftovers to take home but to be honest, they didn't last very long. I immediately microwaved it and ate it a few hours later.\n",
      "\n",
      "I would definitely recommend stopping by for brunch here!\n",
      "-_- .... maybe I ordered the wrong thing, but I have to say this place wasn't \"out of this world amazingly, delicious,\" for me... sorry y'all- I'm sure their 4.5 Stars out of 1500+ for other reasons... \n",
      "\n",
      "(Unfortunately when we walked in, the place smelt like really bad B.O. per my husband, but I didn't smell it...except since he kept complaining about it, the smell started becoming apparent to me.) \n",
      "\n",
      "When we walked in, we were cheerfully greeted and seated right away. Shortly there after, our server came to take our drink and meal orders. With this said, the WAIT service is on point-they have an amazing wait service staff, where everyone is always smiling and down to help out. *Many Stars for that! \n",
      "\n",
      "For breakfast I tried the Sierra Omelette (peep my picture), this consisted of a spicy chicken filling similar to what you would find in enchiladas or even a chicken tamale. It was a tasty filling, except it didn't pair well with the omelette part-I ended up eating most of the spicy chicken filling and passing on the eggs. Also the huge plate consisted of, homemade pico salsa, hash browns, beans, a cold cabbage salad and a slice of cantaloupe. This dish was huge, big enough to share between 3 people. I feel bad because I barely ate 25% of it, so definitely expect leftovers from this dish. \n",
      "\n",
      "The hubs ordered the California Omelette, which was one of their specials today. His Omelette consisted of at least 4 eggs, bacon, cheese, avocado and sour cream. This too was huge, he normally eats 80%-100% of his meals and this morning he barely ate half. Expect HUGE portions here! Flavor wise, his Omelette was delicious, anything with bacon is always good! \n",
      "\n",
      "\n",
      "I really wanted to give more stars since the high rating of 4.5, but this place earns a solid, honest 3 Stars today. I might give this place another try the next time we drive thru Reno...\n",
      "When I first moved to Reno 9 years ago, everyone told me this is THE place to go. They were right. They were so unbelievably right. I usually skip or eat breakfast at home, but these days, on occasion, I like to alternate between Squeeze In and Peg's because I love both so much for different reasons.\n",
      "\n",
      "I go to breakfast places for things I can't make myself, so I tend to order really complex items with a lot of ingredients included. The Sierra Omelette has everything I want and need in a breakfast. It has spicy chicken, avocado, and plenty of salsa and potatoes. It comes in a huge skillet, which is great of course. I get to begin my day like \"Hey! a fun activity I wouldn't normally do! Eating from a pan!\" And then it is ON! I don't drink coffee, but I hear their coffee is really good. If a buddy is visiting Reno for the first time, I take them here. Location is great too because after eating, take a nice walk by the river. Another thing is one entree from here will usually last me two meals, so the value is incredible!\n",
      "You have to eat breakfast here if you're in Reno.  My first visit was a year ago with some locals who recommended it.  I loved it so much that when I was here recently with my fiance, I insisted that we eat here again.  He loved it, too.  Located downtown, this is a popular spot so get here as early as you can or expect to wait.  A true mom and pop establishment, there are now 4 locations in Reno still run by the family members.  The menu boasts, yes, egg dishes galore:  benedicts, omelettes, scrambles, skillet breakfasts, plus pancakes, biscuits and gravy, French Toast, Monte Cristos, and a whole section of Hawaiian breakfast options.  I found out afterwards that Food Network included their Loco Moco as one of the best (http://www.foodnetwork.com/restaurants/photos/best-loco-moco-hawaii).  We'll need to go back to try it!\n",
      "I've had the Tamale and Eggs as well as the Corned Beef Hash and Eggs.  Both dishes were delicious! The service is excellent, too. I wouldn't hesitate to recommend this as your next breakfast stop if you're in the area.\n",
      "5 STARS!!! \n",
      "\n",
      "Any place far from the tourist areas like Peg's willing to display the Yelp Badge is a mark of quality in my book! \n",
      "\n",
      "Forget about Michelin Stars! Forget about Zagat ratings! It's all about the ever elusive PLUOYS*!!! \n",
      "\n",
      "   * People Love Us On YELP Sticker = PLUOYS\n",
      "\n",
      "Great breakfast served here! I'll venture to say THE BEST BREAKFAST in RENO! I'd definitlely return! \n",
      "\n",
      "Service is fast and friendly!\n",
      "Prices are reasonable! \n",
      "Portions are Generous!!! \n",
      "\n",
      "Sunday at 845am there was no wait and parking was a breeze on the street. \n",
      "\n",
      "I had the Pancake Sandwich, which comes with 2 huge pancakes served with fresh butter, 2 eggs, and 2 pieces of bacon.  I also sampled the wifey's Eggs Benedict and my F.I.L.'s hash browns both which were excellent!\n",
      "\n",
      "Al fresco dining available.  Credit cards accepted. Leave American Express at home though... \n",
      "\n",
      "As we left I met one of the owners, who I assumed was Peg.  It turns out the gracious and smiling woman is Jody! \n",
      "\n",
      "When in RENO do as the Renoans! Eat at  PEG'S!!! \n",
      "\n",
      "Pix laters... \n",
      "see: http://jamesguanzon.xanga.com/photos/395d4253814262/\n",
      "A Washoe County employee told me to avoid the casinos for any meals and recommended this excellent breakfast place to me. He also told me, Peg's was voted best breakfast place in Reno. Something that is right up my alley!\n",
      "\n",
      "This diner is a lot bigger than some of the better breakfast joints back home with a maximum occupancy of close to 100. It is also located a block away from the Downtown County Courthouse and other law offices. An area where Judge Mills Lane built and made famous. One of the side streets is named after the honorary judge and boxing referee. \n",
      "\n",
      "Beforehand, I was told that this diner can be overly-crowded and expected to wait. Well, my co-worker was wrong and I was lucky that the diner was somewhat crowded, thus I was seated immediately at the counter table, where I was able to watch the cooks operating the grill in a military-style formation and chat with other regulars.\n",
      "\n",
      "This is a family-owned business and is operated by the father and daughter team of Freddy and Jody. I don't know Jody that well, but I already feel like a member of their family when she already read my mind and started me off with a fresh cup of coffee, which costs $2.00. There are daily specials posted right by the door, but I went straight to the menu and ordered the Country Fried-Steak with eggs. My $10.00 plate had a fat slice of Country Fried-steak battered nicely with eggs (any style), buttery toast, hashed-browns and a slice of cantalope. My co-worker was right and led in a right direction. That was one incredible meal to start my day. \n",
      "http://static.px.yelp.com/photo/5NKtNoilFFIaLy7qcBKGfw/l\n",
      "\n",
      "Despite being busy during the morning-hours, The two (Freddy and Jody) and I had a lengthy and friendly chat. Jody's son, who is also named Matt, also assisted my needs, works well with mom and grandfather. Freddy looks really good and athletic as a grandfather. He probably can kick my ass.\n",
      "\n",
      "I came here during a weekday, which is the best. I would imagine that this place would be pack on the weekends or any bigger Reno events. \n",
      "\n",
      "Credit Card is accepted for my meal. And with great breakfast and lunch meals, there are numerous awards posted on the door including a Yelp-Sticker...one of the few businesses in Reno with the famous red sticker.\n",
      "This is the story of the best breakfast of my life.\n",
      "\n",
      "So I woke up in Reno (Sparks, technically) hungry and with parents who needed to be schlepped off to the airport in a hurry. The casino hotel's breakfasting options looked slim in the disappointingly-watery-$15-eggs kind of way, not like egg white omelette slim. I was starting to punch IHOP into my Blackberry when I crossed my fingers and hit up Yelp in the desperate hope the Internet could find me fast fare finer than a Grand Slam. And so I found Peg's.\n",
      "\n",
      "We phoned ahead to put our name on the list (which saved us ~15 minutes) but still had to wait another 15 to get in and seated. But heavens me was it everything it was cracked up to be. Even the pots of diner coffee they sloshed into our mug was NOTABLY good. Since when have you had rocking diner coffee?\n",
      "\n",
      "Everything they brought out was fantastic - there were no chinks in the armor (toasted local sourdough, fresh-squeezed O.J.), but there were two things worth writing home about - nay raving, foaming at the mouth about: the waffles with bananas foster topping and the  Sierra Omelette.\n",
      "\n",
      "The waffles are the best I've ever had. With a perfectly balanced smoothly sweet foster and just-barely-underdone chewy waffles with a hint of vanilla they made all four of us at the table quiver. Seriously some amazing shit.\n",
      "\n",
      "The Sierra Omelette was served in a huge skillet pan with coleslaw (amazing!), salsa, beans, and browns. Mid-spicy, tangy, chewy, cool, warm, crunchy, gooey, meaty...all of the flavors blended together in the most amazing symphony of a breakfast dish I've ever had the pleasure of experiencing.\n",
      "\n",
      "The whole rest of the day I had a huge smile on my face -- I HAD AN AMAZING BREAKFAST! Even now, days later, I'm drooling a river just to remember this meal.\n",
      "\n",
      "This place is worth not just stopping in to, but making a road trip for. (The original meaning of a Michelin three-star rating!)\n",
      "\n",
      "GO.\n",
      "Peg's has this comfort diner vibe that you feel immediately once you walk through the door. Friendly greeting and was seated quickly. Our waitress was very nice and always had a smile on her face which is so refreshing to see these days. Looking at the menu, Man! So many items sounded good but I ended up getting Chef George Benedict. I love Eggs Benedict but I've always gotten it traditional. Chef George comes with chorizo patties topped with chipotle hollandaise sauce. Now, I'm not a fan of food that's TOO spicy where your lips are burning and you simply can't enjoy what you ate. But this had the right amount of kick to it. So delicious! Can't wait to try what other deliciousness they might have.\n",
      "Good classic diner breakfast.  The huevos rancheros had good flavor and the french toast as well.  Tried the Philly omelet special which was just okay.  Fast and friendly service, just what you want on a weekend for breakfast or brunch.\n",
      "Get ready to stuff your face. Why? Because Peg's serves up a glorious breakfast! In fact, it was the best meal I had during my few days in Reno.\n",
      "\n",
      "I dropped by on a Monday morning around 9am and was lucky to find plenty of seating available. I managed to dodge the insane crowds but I wouldn't mind waiting for the food at Peg's. It's delightfully satisfying comfort food. A no frills, hole-in-the-wall joint with a classic diner vibe, Peg's is amazing.\n",
      "\n",
      "I like to have the best of both worlds when it comes to the first meal of the day. Thus, I opted for the French toast (2 pieces) and hash browns. These quintessential and simple breakfast staples are what I use to gauge a restaurant's performance. Not to anyone's surprise, Peg's passed with flying colors! \n",
      "\n",
      "The French toast was basic, tried-and-true. There were no fancy toppings or ingredients--just thick slices of bread, soaked in a mixture of beaten eggs and milk, toasted in a frying pan, sprinkled with powdered sugar, and served with maple syrup (and a slice of pineapple!). The bread was crisp and toasty on the outside, yielding (but not mushy) within. So delicious and custardy, neither too wet and soggy nor too firm and eggy. Not to mention, this French toast had the perfect amount of sweet cinnamon goodness.\n",
      "\n",
      "Now onto the hash browns! They were crispy, crunchy, and golden brown. These shredded potatoes were fluffy on the inside and oh so savory. The French toast and hash browns are a combo sure to hit all your taste buds.\n",
      "\n",
      "My boyfriend ordered the crab cake Benedict with fresh fruits. It was decadent and flavorful! The dish features a tangy hollandaise sauce. Lusciously rich, lemony and smooth, this sauce didn't overwhelm the crab meat.  \n",
      "\n",
      "Add on the affordable prices, generous portions, and friendly staff and we have ourselves a glorious breakfast spot in Reno!\n",
      "\n"
     ]
    }
   ],
   "source": [
    "print(o)"
   ]
  },
  {
   "cell_type": "code",
   "execution_count": 1,
   "id": "87c3c59b",
   "metadata": {
    "collapsed": true
   },
   "outputs": [
    {
     "ename": "ModuleNotFoundError",
     "evalue": "No module named 'tastefusion.utils.gpt_agent'",
     "output_type": "error",
     "traceback": [
      "\u001b[0;31m---------------------------------------------------------------------------\u001b[0m",
      "\u001b[0;31mModuleNotFoundError\u001b[0m                       Traceback (most recent call last)",
      "Cell \u001b[0;32mIn[1], line 1\u001b[0m\n\u001b[0;32m----> 1\u001b[0m \u001b[38;5;28;01mfrom\u001b[39;00m \u001b[38;5;21;01mtastefusion\u001b[39;00m\u001b[38;5;21;01m.\u001b[39;00m\u001b[38;5;21;01mutils\u001b[39;00m\u001b[38;5;21;01m.\u001b[39;00m\u001b[38;5;21;01mgpt_agent\u001b[39;00m \u001b[38;5;28;01mimport\u001b[39;00m OpenAIAPI\n\u001b[1;32m      2\u001b[0m \u001b[38;5;28;01mimport\u001b[39;00m \u001b[38;5;21;01myaml\u001b[39;00m\n\u001b[1;32m      3\u001b[0m \u001b[38;5;66;03m# path = \"[deleted text]\"\u001b[39;00m\n\u001b[1;32m      4\u001b[0m \u001b[38;5;66;03m# with open(path, 'r') as f:\u001b[39;00m\n\u001b[1;32m      5\u001b[0m \u001b[38;5;66;03m#     configs = yaml.safe_load(f)\u001b[39;00m\n\u001b[1;32m      6\u001b[0m \u001b[38;5;66;03m# check OpenAIAPI class for details of how to configure the openai api using your own credentials.\u001b[39;00m\n",
      "\u001b[0;31mModuleNotFoundError\u001b[0m: No module named 'tastefusion.utils.gpt_agent'"
     ]
    }
   ],
   "source": [
    "from tastefusion.utils.gpt_agent import OpenAIAPI\n",
    "import yaml\n",
    "# path = \"[deleted text]\"\n",
    "# with open(path, 'r') as f:\n",
    "#     configs = yaml.safe_load(f)\n",
    "# check OpenAIAPI class for details of how to configure the openai api using your own credentials.\n",
    "\n",
    "a = OpenAIAPI(configs)\n",
    "_ = a.get_prompt_parsing_reviews(o)\n"
   ]
  },
  {
   "cell_type": "code",
   "execution_count": 9,
   "id": "94835af3",
   "metadata": {},
   "outputs": [
    {
     "name": "stdout",
     "output_type": "stream",
     "text": [
      "\n",
      "        I will give you a list of reviews of a restaurant, and please answer the following questions base don the reviews I give you:\n",
      "\n",
      "            1. tell me 2 things about this restaurant that people like about it the most.\n",
      "            2. good for breakfast/brunch? answer [yes] or [not mentioend]\n",
      "            3. good for lunch? answer [yes] or [not mentioend]\n",
      "            4. good for dinner? answer [yes] or [not mentioend]\n",
      "            5. Based on people's reviews, is it good for group of friends? answer [yes] or [not mentioend]\n",
      "            6. use 10 words to describe what categories of foods are offered at the restaurant that is not characterized by the previouse questions.\n",
      "            7. use 10 words to describe the taste categories of the foods offered att he restaurant.\n",
      "            8. give top 10 recommended foods.\n",
      "            9. top 2 not recommended foods.\n",
      "            10. use 3 words to describe the accomoations for food resstrictions. If not clearly indicated, say [not mentioned].\n",
      "    \n",
      "            Make sure your respinses are very clean and precise, put all items in brackets. Follow the format as shown below as an example:\n",
      "            \n",
      "1. [First thing], [second thing]\n",
      "2. [yes or not mentioned]\n",
      "3. [not mentioend]\n",
      "4. [not mentioend]\n",
      "5. [yes]\n",
      "6. [Category 1], [Category 2], [Category 3], [Category 4], [Category 5], [Category 6], \n",
      "   [Category 7], [Category 8], [Category 9], [Category 9]\n",
      "7. [Flavor 1], [Flavor 2], [Flavor 3], [Flavor 4], [Flavor 5], [Flavor 6], [Flavor 7], [Flavor 8], [Flavor 9], [Flavor 10]\n",
      "8. [dish 1], [menu item 2], [menu item 3], [menu item 4], [menu item 5], [menu item 6], [menu item 7], \n",
      "   [menu item 8], [menu item 9], [menu item 10] \n",
      "9. [not recommended item 1], [not recommended item 2]\n",
      "10. [Vegetarian], [other tag], [other tag]\n",
      "\n",
      "            Here are the reviews:\n",
      "\n",
      "        \n"
     ]
    }
   ],
   "source": [
    "# current prompt\n",
    "print(a.prompt_head_parse_reviews)"
   ]
  },
  {
   "cell_type": "code",
   "execution_count": 5,
   "id": "aa01fcd8",
   "metadata": {},
   "outputs": [],
   "source": [
    "# new\n",
    "from openai import OpenAI\n",
    "\n",
    "client = OpenAI(\n",
    "  api_key=configs['api_key'],  # this is also the default, it can be omitted\n",
    ")"
   ]
  },
  {
   "cell_type": "markdown",
   "id": "db3017c6",
   "metadata": {},
   "source": [
    "### Adjusting prompts, and try differnt models.\n",
    "Decided on the gpt-3.5-turbo-1106 model"
   ]
  },
  {
   "cell_type": "code",
   "execution_count": 42,
   "id": "33046dee",
   "metadata": {
    "collapsed": true
   },
   "outputs": [
    {
     "ename": "AttributeError",
     "evalue": "'tuple' object has no attribute 'choices'",
     "output_type": "error",
     "traceback": [
      "\u001b[0;31m---------------------------------------------------------------------------\u001b[0m",
      "\u001b[0;31mAttributeError\u001b[0m                            Traceback (most recent call last)",
      "Cell \u001b[0;32mIn[42], line 7\u001b[0m\n\u001b[1;32m      1\u001b[0m stream \u001b[38;5;241m=\u001b[39m client\u001b[38;5;241m.\u001b[39mchat\u001b[38;5;241m.\u001b[39mcompletions\u001b[38;5;241m.\u001b[39mcreate(\n\u001b[1;32m      2\u001b[0m     model\u001b[38;5;241m=\u001b[39m\u001b[38;5;124m\"\u001b[39m\u001b[38;5;124mgpt-3.5-turbo-1106\u001b[39m\u001b[38;5;124m\"\u001b[39m,\n\u001b[1;32m      3\u001b[0m     messages\u001b[38;5;241m=\u001b[39m[{\u001b[38;5;124m\"\u001b[39m\u001b[38;5;124mrole\u001b[39m\u001b[38;5;124m\"\u001b[39m: \u001b[38;5;124m\"\u001b[39m\u001b[38;5;124muser\u001b[39m\u001b[38;5;124m\"\u001b[39m, \u001b[38;5;124m\"\u001b[39m\u001b[38;5;124mcontent\u001b[39m\u001b[38;5;124m\"\u001b[39m: a\u001b[38;5;241m.\u001b[39mcurr_prompt_parsing_reviews}],\n\u001b[1;32m      4\u001b[0m     stream\u001b[38;5;241m=\u001b[39m\u001b[38;5;28;01mFalse\u001b[39;00m,\n\u001b[1;32m      5\u001b[0m )\n\u001b[1;32m      6\u001b[0m \u001b[38;5;28;01mfor\u001b[39;00m chunk \u001b[38;5;129;01min\u001b[39;00m stream:\n\u001b[0;32m----> 7\u001b[0m     \u001b[38;5;28;01mif\u001b[39;00m \u001b[43mchunk\u001b[49m\u001b[38;5;241;43m.\u001b[39;49m\u001b[43mchoices\u001b[49m[\u001b[38;5;241m0\u001b[39m]\u001b[38;5;241m.\u001b[39mdelta\u001b[38;5;241m.\u001b[39mcontent \u001b[38;5;129;01mis\u001b[39;00m \u001b[38;5;129;01mnot\u001b[39;00m \u001b[38;5;28;01mNone\u001b[39;00m:\n\u001b[1;32m      8\u001b[0m         \u001b[38;5;28mprint\u001b[39m(chunk\u001b[38;5;241m.\u001b[39mchoices[\u001b[38;5;241m0\u001b[39m]\u001b[38;5;241m.\u001b[39mdelta\u001b[38;5;241m.\u001b[39mcontent, end\u001b[38;5;241m=\u001b[39m\u001b[38;5;124m\"\u001b[39m\u001b[38;5;124m\"\u001b[39m)\n",
      "\u001b[0;31mAttributeError\u001b[0m: 'tuple' object has no attribute 'choices'"
     ]
    }
   ],
   "source": [
    "\n",
    "stream = client.chat.completions.create(\n",
    "    model=\"gpt-3.5-turbo-1106\",\n",
    "    messages=[{\"role\": \"user\", \"content\": a.curr_prompt_parsing_reviews}],\n",
    "    stream=False,\n",
    ")\n",
    "for chunk in stream:\n",
    "    if chunk.choices[0].delta.content is not None:\n",
    "        print(chunk.choices[0].delta.content, end=\"\")"
   ]
  },
  {
   "cell_type": "code",
   "execution_count": 61,
   "id": "644b8a06",
   "metadata": {},
   "outputs": [],
   "source": [
    "text = stream.choices[0].message.content\n"
   ]
  },
  {
   "cell_type": "code",
   "execution_count": 62,
   "id": "e3a4b8e4",
   "metadata": {},
   "outputs": [
    {
     "name": "stdout",
     "output_type": "stream",
     "text": [
      "1. People like the bustling and super efficient kitchen and the freshly squeezed orange juice the most.\n",
      "2. [not mentioned]\n",
      "3. [yes]\n",
      "4. [not mentioned]\n",
      "5. [yes]\n",
      "6. Skillet breakfasts, oatmeal, fresh OJ, corned beef hash, benedicts, pancakes, biscuits and gravy, French toast, Monte Cristos, hash browns\n",
      "7. Homey, cozy, classic, hearty, comfort, spicy, tangy, rich, flavorful, satisfying\n",
      "8. Sierra Omelette, Hawaiian Breakfast Plate, Pancake Sandwich, Chef George Benedict, crab cake Benedict, huevos rancheros, corned beef hash and eggs, Monte Cristo, waffles with bananas foster, French toast\n",
      "9. Fried spam, Philly omelet special\n",
      "10. [Not mentioned]\n"
     ]
    }
   ],
   "source": [
    "print(text)"
   ]
  },
  {
   "cell_type": "code",
   "execution_count": 27,
   "id": "1891ba12",
   "metadata": {},
   "outputs": [
    {
     "name": "stdout",
     "output_type": "stream",
     "text": [
      "1. Emphasis on quality and value, big portions\n",
      "2. [yes]\n",
      "3. [yes]\n",
      "4. [yes]\n",
      "5. [yes]\n",
      "6. Omelettes, benedicts, scrambles, skillet breakfasts, pancakes, biscuits and gravy, French toast, Monte Cristos, Loco Moco\n",
      "7. Spicy, tangy, sweet, flavorful, fresh, crispy, crunchy, rich, lemony, smooth\n",
      "8. Sierra Omelette, Huevos Rancheros, Hawaiian Breakfast plate, French Toast, Hash Browns, Crab Cake Benedict, Pancake Sandwich, Eggs Benedict, Ham and Cheese Omelette, Chef George Benedict\n",
      "9. Hawaiian Breakfast plate, Philly Omelet\n",
      "10. [not mentioned]"
     ]
    }
   ],
   "source": [
    "\n",
    "stream = client.chat.completions.create(\n",
    "    model=\"gpt-3.5-turbo-1106\",\n",
    "    messages=[{\"role\": \"user\", \"content\": a.curr_prompt_parsing_reviews}],\n",
    "    stream=True,\n",
    ")\n",
    "for chunk in stream:\n",
    "    if chunk.choices[0].delta.content is not None:\n",
    "        print(chunk.choices[0].delta.content, end=\"\")"
   ]
  },
  {
   "cell_type": "code",
   "execution_count": 28,
   "id": "b9f7fddf",
   "metadata": {},
   "outputs": [
    {
     "name": "stdout",
     "output_type": "stream",
     "text": [
      "1. [Efficient service], [Generous portions]\n",
      "2. [yes]\n",
      "3. [not mentioned]\n",
      "4. [not mentioned]\n",
      "5. [yes]\n",
      "6. [Hawaiian], [Mexican], [Omelettes], [Pancakes], [French Toast], [Skillet breakfasts], [Egg dishes], [Hash browns], [Biscuits and gravy], [Monte Cristos]\n",
      "7. [Fresh], [Savory], [Spicy], [Sweet], [Flavorful], [Addicting], [Bland], [Hearty], [Comforting], [Decadent]\n",
      "8. [Huevos Rancheros], [Sierra Omelette], [California Omelette], [Loco Moco], [Tamale and Eggs], [Corned Beef Hash and Eggs], [Pancake Sandwich], [Eggs Benedict], [Chef George Benedict], [Crab Cake Benedict]\n",
      "9. [Portuguese sausages], [Philly omelet special]\n",
      "10. [not mentioned]"
     ]
    }
   ],
   "source": [
    "\n",
    "stream = client.chat.completions.create(\n",
    "    model=\"gpt-4-1106-preview\",\n",
    "    messages=[{\"role\": \"user\", \"content\": a.curr_prompt_parsing_reviews}],\n",
    "    stream=True,\n",
    ")\n",
    "for chunk in stream:\n",
    "    if chunk.choices[0].delta.content is not None:\n",
    "        print(chunk.choices[0].delta.content, end=\"\")"
   ]
  },
  {
   "cell_type": "code",
   "execution_count": 8,
   "id": "2f34ffe4",
   "metadata": {},
   "outputs": [
    {
     "name": "stdout",
     "output_type": "stream",
     "text": [
      "1. [Efficient kitchen], [Friendly service]\n",
      "2. [yes]\n",
      "3. [not mentioned]\n",
      "4. [not mentioned]\n",
      "5. [not mentioned]\n",
      "6. [Huevos Rancheros], [Hawaiian Breakfast], [Sierra Omelette], [California Omelette], [Pancake Sandwich], [Eggs Benedict], [French Toast], [Hash Browns], [Country Fried Steak], [Corned Beef Hash]\n",
      "7. [Freshly squeezed orange juice], [Flavorful sauce], [Spicy], [Large portions], [Sweet], [Salty], [Rich], [Crispy], [Savory], [Decadent]\n",
      "8. [Huevos Rancheros], [Hawaiian Breakfast], [Sierra Omelette], [California Omelette], [Pancake Sandwich], [Eggs Benedict], [French Toast], [Hash Browns], [Country Fried Steak], [Corned Beef Hash]\n",
      "9. [Portuguese sausages], [Spicy chicken filling in Sierra Omelette]\n",
      "10. [not mentioned]"
     ]
    }
   ],
   "source": [
    "stream = client.chat.completions.create(\n",
    "    model=\"gpt-4-0613\",\n",
    "    messages=[{\"role\": \"user\", \"content\": a.curr_prompt_parsing_reviews}],\n",
    "    stream=True,\n",
    ")\n",
    "for chunk in stream:\n",
    "    if chunk.choices[0].delta.content is not None:\n",
    "        print(chunk.choices[0].delta.content, end=\"\")"
   ]
  },
  {
   "cell_type": "code",
   "execution_count": 7,
   "id": "26e9876a",
   "metadata": {},
   "outputs": [
    {
     "name": "stdout",
     "output_type": "stream",
     "text": [
      "1. The things people like most about this restaurant are watching the bustling and efficient kitchen and the freshly squeezed orange juice.\n",
      "2. [yes]\n",
      "3. [not mentioned]\n",
      "4. [not mentioned]\n",
      "5. [yes]\n",
      "6. Egg dishes, benedicts, omelettes, scrambles, skillet breakfasts, pancakes, biscuits and gravy, French Toast, Monte Cristos, Hawaiian breakfast options\n",
      "7. Spicy, complex, tangy, rich, savory, flavorful, traditional, lusciously rich, lemony, smooth\n",
      "8. Huevos Rancheros, Hawaiian Breakfast Plate, Sierra Omelette, Pancake Sandwich, Eggs Benedict, Loco Moco, Tamale and Eggs, Corned Beef Hash and Eggs, French Toast, Crab Cake Benedict\n",
      "9. California Omelette, Philly Omelet Special\n",
      "10. [not mentioned]"
     ]
    }
   ],
   "source": [
    "stream = client.chat.completions.create(\n",
    "    model=\"gpt-3.5-turbo-1106\",\n",
    "    messages=[{\"role\": \"user\", \"content\": a.curr_prompt_parsing_reviews}],\n",
    "    stream=True,\n",
    ")\n",
    "for chunk in stream:\n",
    "    if chunk.choices[0].delta.content is not None:\n",
    "        print(chunk.choices[0].delta.content, end=\"\")"
   ]
  },
  {
   "cell_type": "code",
   "execution_count": 6,
   "id": "df4da701",
   "metadata": {},
   "outputs": [
    {
     "name": "stdout",
     "output_type": "stream",
     "text": [
      "1. [Efficient service], [Generous food portion]\n",
      "2. [yes]\n",
      "3. [not mentioned]\n",
      "4. [not mentioned]\n",
      "5. [not mentioned]\n",
      "6. [American diner], [Mexican], [Hawaiian], [Fresh fruits], [French toasts], [Egg omelettes], [Bacon], [Hash browns], [Corned Beef Hash], [Crab cakes]\n",
      "7. [Flavorful], [Spicy], [Refreshing], [Sweet], [Crunchy], [Smooth], [Crispy], [Custardy], [Savory], [Tangy]\n",
      "8. [Huevos rancheros], [Hawaiian Breakfast plate], [Sierra Omelette], [California Omelette], [Tamale and Eggs], [Corned Beef Hash and Eggs], [Pancake Sandwich], [Country Fried-steak with eggs], [Waffles with bananas foster topping], [Chef George Benedict]\n",
      "9. [Portuguese sausages], [Philly omelet special]\n",
      "10. [not mentioned]"
     ]
    }
   ],
   "source": [
    "stream = client.chat.completions.create(\n",
    "    model=\"gpt-4-0613\",\n",
    "    messages=[{\"role\": \"user\", \"content\": a.curr_prompt_parsing_reviews}],\n",
    "    stream=True,\n",
    ")\n",
    "for chunk in stream:\n",
    "    if chunk.choices[0].delta.content is not None:\n",
    "        print(chunk.choices[0].delta.content, end=\"\")"
   ]
  },
  {
   "cell_type": "code",
   "execution_count": 6,
   "id": "9496c319",
   "metadata": {},
   "outputs": [
    {
     "name": "stdout",
     "output_type": "stream",
     "text": [
      "1. [Efficiency and friendliness of the service], [large portion sizes], [tasty food], [atmosphere of the diner]\n",
      "2. [yes]\n",
      "3. [not mentioned]\n",
      "4. [not mentioned]\n",
      "5. [not mentioned]\n",
      "6. [Breakfast], [Brunch], [American], [Mexican], [Tex-Mex], [Classic Diner], [Omelettes], [Eggs Benedict], [Hash Browns], [French Toast]\n",
      "7. [Flavorful], [Savory], [Sweet], [Crispy], [Custardy], [Refreshing], [Satisfying], [Comfort Food], [Rich], [Lemon]\n",
      "8. [Huevos Rancheros], [Pancake Sandwich], [Sierra Omelette], [Waffles with Bananas Foster Topping], [Chef George Benedict], [French Toast], [Hash Browns], [Crab Cake Benedict], [Loco Moco], [Corned Beef Hash and Eggs]\n",
      "9. [Hawaiian Breakfast plate], [Philly Omelette special]\n",
      "10. [not mentioned]"
     ]
    }
   ],
   "source": [
    "stream = client.chat.completions.create(\n",
    "    model=\"gpt-4-0613\",\n",
    "    messages=[{\"role\": \"user\", \"content\": a.curr_prompt_parsing_reviews}],\n",
    "    stream=True,\n",
    ")\n",
    "for chunk in stream:\n",
    "    if chunk.choices[0].delta.content is not None:\n",
    "        print(chunk.choices[0].delta.content, end=\"\")"
   ]
  },
  {
   "cell_type": "code",
   "execution_count": 20,
   "id": "e80e14d7",
   "metadata": {},
   "outputs": [
    {
     "name": "stdout",
     "output_type": "stream",
     "text": [
      "1. People like the atmosphere and efficiency of the kitchen at the restaurant. \n",
      "2. Not mentioned\n",
      "3. Not mentioned\n",
      "4. Not mentioned\n",
      "5. Yes\n",
      "6. Omelettes, scrambles, skillet breakfasts, pancakes, biscuits and gravy, French Toast, Monte Cristos, Hawaiian breakfast options\n",
      "7. Spicy, flavorful, tangy, chewy, cool, warm, crunchy, gooey, meaty\n",
      "8. Sierra Omelette, Hawaiian Breakfast plate, Huevos Rancheros, Pancake Sandwich, Eggs Benedict, Corned Beef Hash and Eggs, Tamale and Eggs, California Omelette, Waffles with bananas foster topping, Chef George Benedict\n",
      "9. California Omelette, Hawaiian Breakfast plate\n",
      "10. Not mentioned"
     ]
    }
   ],
   "source": [
    "\n",
    "stream = client.chat.completions.create(\n",
    "    model=\"gpt-3.5-turbo\",\n",
    "    messages=[{\"role\": \"user\", \"content\": a.curr_prompt_parsing_reviews}],\n",
    "    stream=True,\n",
    ")\n",
    "for chunk in stream:\n",
    "    if chunk.choices[0].delta.content is not None:\n",
    "        print(chunk.choices[0].delta.content, end=\"\")"
   ]
  },
  {
   "cell_type": "code",
   "execution_count": 21,
   "id": "5aa8be55",
   "metadata": {},
   "outputs": [
    {
     "name": "stdout",
     "output_type": "stream",
     "text": [
      "1. People like: the freshly squeezed orange juice and the friendly, fast service\n",
      "2. [yes]\n",
      "3. [not mentioned]\n",
      "4. [not mentioned]\n",
      "5. [not mentioned]\n",
      "6. Huevos rancheros, Hawaiian Breakfast, Sierra Omelette, California Omelette, Pancake Sandwich, Tamale and Eggs, Corned Beef Hash and Eggs, Loco Moco, Chef George Benedict, French toast\n",
      "7. Spicy, Tasty, Savory, Tangy, Flavorful, Decadent, Refreshing, Delightful, Luscious, Delicious\n",
      "8. Huevos rancheros, Sierra Omelette, French toast, Pancake Sandwich, Tamale and Eggs, Corned Beef Hash and Eggs, Loco Moco, Chef George Benedict, Crab Cake Benedict, Orange juice\n",
      "9. Portuguese sausages, Eggs Benedict\n",
      "10. [not mentioned]"
     ]
    }
   ],
   "source": [
    "stream = client.chat.completions.create(\n",
    "    model=\"gpt-3.5-turbo-1106\",\n",
    "    messages=[{\"role\": \"user\", \"content\": a.curr_prompt_parsing_reviews}],\n",
    "    stream=True,\n",
    ")\n",
    "for chunk in stream:\n",
    "    if chunk.choices[0].delta.content is not None:\n",
    "        print(chunk.choices[0].delta.content, end=\"\")"
   ]
  },
  {
   "cell_type": "code",
   "execution_count": 6,
   "id": "af5deaa1",
   "metadata": {},
   "outputs": [
    {
     "name": "stdout",
     "output_type": "stream",
     "text": [
      "1. Efficiency and friendliness of the service, large portion sizes, quality of the coffee, interesting menu options\n",
      "2. [yes]\n",
      "3. [not mentioned]\n",
      "4. [not mentioned]\n",
      "5. [not mentioned]\n",
      "6. Mexican, Hawaiian, American, Breakfast, Brunch, Eggs, Pancakes, French Toast, Benedict, Hash Browns\n",
      "7. Flavorful, Hearty, Fresh, Balanced, Cinnamon, Custardy, Crispy, Decadent, Lemony, Savory\n",
      "8. Huevos Rancheros, Hawaiian Breakfast Plate, Sierra Omelette, Pancake Sandwich, Waffle with Bananas Foster Topping, Chef George Benedict, French Toast, Hash Browns, Crab Cake Benedict, Tamale and Eggs\n",
      "9. Philly Omelette Special, Country Fried-Steak with eggs\n",
      "10. [not mentioned]"
     ]
    }
   ],
   "source": [
    "stream = client.chat.completions.create(\n",
    "    model=\"gpt-4-0613\",\n",
    "    messages=[{\"role\": \"user\", \"content\": a.curr_prompt_parsing_reviews}],\n",
    "    stream=True,\n",
    ")\n",
    "for chunk in stream:\n",
    "    if chunk.choices[0].delta.content is not None:\n",
    "        print(chunk.choices[0].delta.content, end=\"\")"
   ]
  },
  {
   "cell_type": "code",
   "execution_count": 10,
   "id": "0d17b044",
   "metadata": {},
   "outputs": [
    {
     "name": "stdout",
     "output_type": "stream",
     "text": [
      "1. Mexican, Hawaiian, American, Diner, Breakfast\n",
      "2. Flavorful, Savory, Fresh, Spicy, Sweet\n",
      "3. Huevos Rancheros, Sierra Omelette, Pancake Sandwich, Waffle with Bananas Foster Topping, Chef George Benedict\n",
      "4. Hawaiian Breakfast plate, Philly Omelette special \n",
      "5. Efficiency and friendliness of the service, the portion sizes\n",
      "6. [Yes]\n",
      "7. [Yes]\n",
      "8. [Not mentioned]\n",
      "9. [Not mentioned]\n",
      "10. [Not mentioned]"
     ]
    }
   ],
   "source": [
    "stream = client.chat.completions.create(\n",
    "    model=\"gpt-4-0613\",\n",
    "    messages=[{\"role\": \"user\", \"content\": a.curr_prompt_parsing_reviews}],\n",
    "    stream=True,\n",
    ")\n",
    "for chunk in stream:\n",
    "    if chunk.choices[0].delta.content is not None:\n",
    "        print(chunk.choices[0].delta.content, end=\"\")"
   ]
  },
  {
   "cell_type": "code",
   "execution_count": 6,
   "id": "b462f2e2",
   "metadata": {},
   "outputs": [
    {
     "name": "stdout",
     "output_type": "stream",
     "text": [
      "1. Efficiency and friendliness of the service, the generous portion sizes.\n",
      "2. [Yes]\n",
      "3. [Not mentioned]\n",
      "4. [Not mentioned]\n",
      "5. [Yes]\n",
      "6. Mexican, Hawaiian, American, Diner, Breakfast\n",
      "7. Flavorful, Savory, Fresh, Spicy, Sweet\n",
      "8. Huevos Rancheros, Sierra Omelette, Pancake Sandwich, Waffle with Bananas Foster Topping, Chef George Benedict\n",
      "9. Hawaiian Breakfast plate, Philly Omelette special \n",
      "10. [Not mentioned]"
     ]
    }
   ],
   "source": [
    "stream = client.chat.completions.create(\n",
    "    model=\"gpt-4-0613\",\n",
    "    messages=[{\"role\": \"user\", \"content\": a.curr_prompt_parsing_reviews}],\n",
    "    stream=True,\n",
    ")\n",
    "for chunk in stream:\n",
    "    if chunk.choices[0].delta.content is not None:\n",
    "        print(chunk.choices[0].delta.content, end=\"\")"
   ]
  },
  {
   "cell_type": "code",
   "execution_count": 8,
   "id": "2364aae4",
   "metadata": {},
   "outputs": [
    {
     "name": "stdout",
     "output_type": "stream",
     "text": [
      "1. Efficiency and friendliness of the service, the portion sizes, fresh and flavorful food, and the busy yet comforting atmosphere.\n",
      "2. [yes]\n",
      "3. [not mentioned]\n",
      "4. [not mentioned]\n",
      "5. [yes]\n",
      "6. American, Mexican, Hawaiian, Eggs, Pancakes, Spicy chicken, Waffles, Toast, Crab cakes, Omelettes\n",
      "7. Savory, Flavorful, Sweet, Spicy, Fresh, Chewy, Smooth, Tangy, Custardy, Crunchy\n",
      "8. Huevos Rancheros, Sierra Omelette, Pancake Sandwich, Waffle with Bananas Foster topping, French Toast, Hash Browns, Crab Cake Benedict, Eggs Benedict, Country Fried-Steak with Eggs, Tamale and Eggs\n",
      "9. Hawaiian Breakfast Plate, Philly Omelette Special \n",
      "10. [not mentioned]"
     ]
    }
   ],
   "source": [
    "stream = client.chat.completions.create(\n",
    "    model=\"gpt-4-0613\",\n",
    "    messages=[{\"role\": \"user\", \"content\": a.curr_prompt_parsing_reviews}],\n",
    "    stream=True,\n",
    ")\n",
    "for chunk in stream:\n",
    "    if chunk.choices[0].delta.content is not None:\n",
    "        print(chunk.choices[0].delta.content, end=\"\")"
   ]
  },
  {
   "cell_type": "code",
   "execution_count": 22,
   "id": "d438e690",
   "metadata": {
    "collapsed": true
   },
   "outputs": [
    {
     "ename": "AttributeError",
     "evalue": "'tuple' object has no attribute 'choices'",
     "output_type": "error",
     "traceback": [
      "\u001b[0;31m---------------------------------------------------------------------------\u001b[0m",
      "\u001b[0;31mAttributeError\u001b[0m                            Traceback (most recent call last)",
      "Cell \u001b[0;32mIn[22], line 7\u001b[0m\n\u001b[1;32m      1\u001b[0m stream \u001b[38;5;241m=\u001b[39m client\u001b[38;5;241m.\u001b[39mchat\u001b[38;5;241m.\u001b[39mcompletions\u001b[38;5;241m.\u001b[39mcreate(\n\u001b[1;32m      2\u001b[0m     model\u001b[38;5;241m=\u001b[39m\u001b[38;5;124m\"\u001b[39m\u001b[38;5;124mgpt-3.5-turbo-1106\u001b[39m\u001b[38;5;124m\"\u001b[39m,\n\u001b[1;32m      3\u001b[0m     messages\u001b[38;5;241m=\u001b[39m[{\u001b[38;5;124m\"\u001b[39m\u001b[38;5;124mrole\u001b[39m\u001b[38;5;124m\"\u001b[39m: \u001b[38;5;124m\"\u001b[39m\u001b[38;5;124muser\u001b[39m\u001b[38;5;124m\"\u001b[39m, \u001b[38;5;124m\"\u001b[39m\u001b[38;5;124mcontent\u001b[39m\u001b[38;5;124m\"\u001b[39m: a\u001b[38;5;241m.\u001b[39mcurr_prompt_parsing_reviews}],\n\u001b[1;32m      4\u001b[0m     stream\u001b[38;5;241m=\u001b[39m\u001b[38;5;28;01mFalse\u001b[39;00m,\n\u001b[1;32m      5\u001b[0m )\n\u001b[1;32m      6\u001b[0m \u001b[38;5;28;01mfor\u001b[39;00m chunk \u001b[38;5;129;01min\u001b[39;00m stream:\n\u001b[0;32m----> 7\u001b[0m     \u001b[38;5;28;01mif\u001b[39;00m \u001b[43mchunk\u001b[49m\u001b[38;5;241;43m.\u001b[39;49m\u001b[43mchoices\u001b[49m[\u001b[38;5;241m0\u001b[39m]\u001b[38;5;241m.\u001b[39mdelta\u001b[38;5;241m.\u001b[39mcontent \u001b[38;5;129;01mis\u001b[39;00m \u001b[38;5;129;01mnot\u001b[39;00m \u001b[38;5;28;01mNone\u001b[39;00m:\n\u001b[1;32m      8\u001b[0m         \u001b[38;5;28mprint\u001b[39m(chunk\u001b[38;5;241m.\u001b[39mchoices[\u001b[38;5;241m0\u001b[39m]\u001b[38;5;241m.\u001b[39mdelta\u001b[38;5;241m.\u001b[39mcontent, end\u001b[38;5;241m=\u001b[39m\u001b[38;5;124m\"\u001b[39m\u001b[38;5;124m\"\u001b[39m)\n",
      "\u001b[0;31mAttributeError\u001b[0m: 'tuple' object has no attribute 'choices'"
     ]
    }
   ],
   "source": [
    "stream = client.chat.completions.create(\n",
    "    model=\"gpt-3.5-turbo-1106\",\n",
    "    messages=[{\"role\": \"user\", \"content\": a.curr_prompt_parsing_reviews}],\n",
    "    stream=False,\n",
    ")\n",
    "for chunk in stream:\n",
    "    if chunk.choices[0].delta.content is not None:\n",
    "        print(chunk.choices[0].delta.content, end=\"\")"
   ]
  },
  {
   "cell_type": "code",
   "execution_count": 24,
   "id": "63c68e62",
   "metadata": {},
   "outputs": [
    {
     "data": {
      "text/plain": [
       "openai.types.chat.chat_completion.ChatCompletion"
      ]
     },
     "execution_count": 24,
     "metadata": {},
     "output_type": "execute_result"
    }
   ],
   "source": [
    "type(stream)"
   ]
  },
  {
   "cell_type": "code",
   "execution_count": null,
   "id": "bec00808",
   "metadata": {},
   "outputs": [],
   "source": []
  }
 ],
 "metadata": {
  "kernelspec": {
   "display_name": "ds",
   "language": "python",
   "name": "ds"
  },
  "language_info": {
   "codemirror_mode": {
    "name": "ipython",
    "version": 3
   },
   "file_extension": ".py",
   "mimetype": "text/x-python",
   "name": "python",
   "nbconvert_exporter": "python",
   "pygments_lexer": "ipython3",
   "version": "3.10.11"
  }
 },
 "nbformat": 4,
 "nbformat_minor": 5
}
